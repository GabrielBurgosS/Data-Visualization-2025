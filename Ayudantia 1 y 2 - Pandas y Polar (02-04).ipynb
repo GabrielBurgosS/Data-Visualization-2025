{
 "cells": [
  {
   "cell_type": "markdown",
   "metadata": {},
   "source": [
    "# __Welcome to the Data Visualization Workshops!__"
   ]
  },
  {
   "cell_type": "markdown",
   "metadata": {},
   "source": [
    "__Ayudante__: Gabriel Burgos S."
   ]
  },
  {
   "cell_type": "markdown",
   "metadata": {},
   "source": [
    "## __I. Introducción al Trabajo en los Workshops__"
   ]
  },
  {
   "cell_type": "markdown",
   "metadata": {},
   "source": [
    "### __1.1. Data Visualization y Data Analysis__"
   ]
  },
  {
   "cell_type": "markdown",
   "metadata": {},
   "source": [
    "1. __Importancia del manejo de Datos.__"
   ]
  },
  {
   "cell_type": "markdown",
   "metadata": {},
   "source": [
    "2. __En qué ocupamos datos?__\n",
    "- Optimización de procesos\n",
    "- Análisis de mercado\n",
    "- Control de calidad\n",
    "- Etc."
   ]
  },
  {
   "cell_type": "markdown",
   "metadata": {},
   "source": [
    "### __1.2. Python__"
   ]
  },
  {
   "cell_type": "markdown",
   "metadata": {},
   "source": [
    "Durante los workshop deberemos trabajar con _Python_ y algunas bibliotecas."
   ]
  },
  {
   "cell_type": "markdown",
   "metadata": {},
   "source": [
    "#### i- Qué es Python?\n",
    "- Lenguaje de programación de alto nivel y orientado a objetos.\n",
    "- Destacado por su simpleza.\n",
    "- De código abierto extensible en C y C++.\n",
    "- Se suele utilizar en aplicaciones de _Machine Learning_, _Ciencia de Datos_, ___Análisis de datos___, entre otros.\n"
   ]
  },
  {
   "cell_type": "code",
   "execution_count": null,
   "metadata": {},
   "outputs": [],
   "source": [
    "print('Hola Mundo!')"
   ]
  },
  {
   "cell_type": "code",
   "execution_count": null,
   "metadata": {},
   "outputs": [],
   "source": [
    "n = int(input())\n",
    "for i in range(n):\n",
    "    print('Lamamadelamama',end='')"
   ]
  },
  {
   "cell_type": "markdown",
   "metadata": {},
   "source": [
    "#### ii- Por qué Python?\n",
    "- De muy simple uso.\n",
    "- Las bibliotecas para manejo de datos permiten mucha más cantidad de datos de manera rápida y automatizada.\n",
    "- Utilizaremos '_jupyter notebooks_' los cuales son una manera intuitiva de revisar los códigos.\n"
   ]
  },
  {
   "cell_type": "markdown",
   "metadata": {},
   "source": [
    "#### iii- Instalación:\n",
    "Utilizar Python se puede lograr de diversas maneras, pero yo recomiendo dos:\n",
    "1. [Visual Studio Code](https://code.visualstudio.com/) con extensiones de _Python_.\n",
    "2. [Anaconda Navigator](https://www.anaconda.com/).\n",
    "\n",
    "En este curso utilizaremos principalmente archivos `.ipynb`, por lo que lo importante es trabajar con _jupyter_.\n",
    "\n",
    "- Bibliotecas:\n",
    "\t- [Pandas](https://pandas.pydata.org/)\n",
    "\t- [Polars](https://pola.rs/)\n",
    "\t- [Glob](https://docs.python.org/3/library/glob.html)\n",
    "\t- [Matplotlib](https://matplotlib.org/)\n",
    "\t- [Plotly](https://plotly.com/python/)"
   ]
  },
  {
   "cell_type": "markdown",
   "metadata": {},
   "source": [
    "iv. Material Recomendado:\n",
    "- Revisar el Starter Pack que les subiré:\n",
    "\t- Conceptos de Python básico y avanzado.\n",
    "\t- Guía completa de métodos de Pandas.\n",
    "- Documentación Oficial:\n",
    "\t- [El Tutorial de Python Oficial](https://docs.python.org/es/3.13/tutorial/index.html)\n",
    "\t- [Pandas User Guide](https://pandas.pydata.org/docs/user_guide/index.html)\n",
    "\t- [Polars User Guide](https://docs.pola.rs/)\n",
    "- Tutoriales Recomendados:\n",
    "\t- [Tutorial de Youtube sobre Python Básico](https://www.youtube.com/watch?v=D2cwvpJSBX4).\n",
    "\t- [Pandas en 10 minutos](https://www.youtube.com/watch?v=iGFdh6_FePU)"
   ]
  },
  {
   "cell_type": "markdown",
   "metadata": {},
   "source": [
    "### v. Repaso breve de pandas"
   ]
  },
  {
   "cell_type": "code",
   "execution_count": 15,
   "metadata": {},
   "outputs": [
    {
     "data": {
      "text/html": [
       "<div>\n",
       "<style scoped>\n",
       "    .dataframe tbody tr th:only-of-type {\n",
       "        vertical-align: middle;\n",
       "    }\n",
       "\n",
       "    .dataframe tbody tr th {\n",
       "        vertical-align: top;\n",
       "    }\n",
       "\n",
       "    .dataframe thead th {\n",
       "        text-align: right;\n",
       "    }\n",
       "</style>\n",
       "<table border=\"1\" class=\"dataframe\">\n",
       "  <thead>\n",
       "    <tr style=\"text-align: right;\">\n",
       "      <th></th>\n",
       "      <th>col1</th>\n",
       "      <th>col2</th>\n",
       "    </tr>\n",
       "  </thead>\n",
       "  <tbody>\n",
       "    <tr>\n",
       "      <th>0</th>\n",
       "      <td>1</td>\n",
       "      <td>4</td>\n",
       "    </tr>\n",
       "    <tr>\n",
       "      <th>1</th>\n",
       "      <td>2</td>\n",
       "      <td>5</td>\n",
       "    </tr>\n",
       "    <tr>\n",
       "      <th>2</th>\n",
       "      <td>3</td>\n",
       "      <td>6</td>\n",
       "    </tr>\n",
       "  </tbody>\n",
       "</table>\n",
       "</div>"
      ],
      "text/plain": [
       "   col1  col2\n",
       "0     1     4\n",
       "1     2     5\n",
       "2     3     6"
      ]
     },
     "execution_count": 15,
     "metadata": {},
     "output_type": "execute_result"
    }
   ],
   "source": [
    "import pandas as pd\n",
    "\n",
    "df = pd.DataFrame({\n",
    "\t'col1': [1, 2, 3],\n",
    "\t'col2': [4, 5, 6]})\n",
    "df"
   ]
  },
  {
   "cell_type": "code",
   "execution_count": null,
   "metadata": {},
   "outputs": [],
   "source": [
    "df.head(2)"
   ]
  },
  {
   "cell_type": "code",
   "execution_count": 8,
   "metadata": {},
   "outputs": [
    {
     "data": {
      "text/html": [
       "<div>\n",
       "<style scoped>\n",
       "    .dataframe tbody tr th:only-of-type {\n",
       "        vertical-align: middle;\n",
       "    }\n",
       "\n",
       "    .dataframe tbody tr th {\n",
       "        vertical-align: top;\n",
       "    }\n",
       "\n",
       "    .dataframe thead th {\n",
       "        text-align: right;\n",
       "    }\n",
       "</style>\n",
       "<table border=\"1\" class=\"dataframe\">\n",
       "  <thead>\n",
       "    <tr style=\"text-align: right;\">\n",
       "      <th></th>\n",
       "      <th>col1</th>\n",
       "      <th>col2</th>\n",
       "    </tr>\n",
       "  </thead>\n",
       "  <tbody>\n",
       "    <tr>\n",
       "      <th>1</th>\n",
       "      <td>2</td>\n",
       "      <td>5</td>\n",
       "    </tr>\n",
       "    <tr>\n",
       "      <th>2</th>\n",
       "      <td>3</td>\n",
       "      <td>6</td>\n",
       "    </tr>\n",
       "  </tbody>\n",
       "</table>\n",
       "</div>"
      ],
      "text/plain": [
       "   col1  col2\n",
       "1     2     5\n",
       "2     3     6"
      ]
     },
     "execution_count": 8,
     "metadata": {},
     "output_type": "execute_result"
    }
   ],
   "source": [
    "df.tail(2)"
   ]
  },
  {
   "cell_type": "code",
   "execution_count": 10,
   "metadata": {},
   "outputs": [
    {
     "data": {
      "text/plain": [
       "0    4\n",
       "1    5\n",
       "2    6\n",
       "Name: col2, dtype: int64"
      ]
     },
     "execution_count": 10,
     "metadata": {},
     "output_type": "execute_result"
    }
   ],
   "source": [
    "df['col2']"
   ]
  },
  {
   "cell_type": "code",
   "execution_count": 11,
   "metadata": {},
   "outputs": [
    {
     "name": "stdout",
     "output_type": "stream",
     "text": [
      "<class 'pandas.core.frame.DataFrame'>\n",
      "RangeIndex: 3 entries, 0 to 2\n",
      "Data columns (total 2 columns):\n",
      " #   Column  Non-Null Count  Dtype\n",
      "---  ------  --------------  -----\n",
      " 0   col1    3 non-null      int64\n",
      " 1   col2    3 non-null      int64\n",
      "dtypes: int64(2)\n",
      "memory usage: 180.0 bytes\n"
     ]
    }
   ],
   "source": [
    "df.info()"
   ]
  },
  {
   "cell_type": "code",
   "execution_count": 12,
   "metadata": {},
   "outputs": [
    {
     "data": {
      "text/html": [
       "<div>\n",
       "<style scoped>\n",
       "    .dataframe tbody tr th:only-of-type {\n",
       "        vertical-align: middle;\n",
       "    }\n",
       "\n",
       "    .dataframe tbody tr th {\n",
       "        vertical-align: top;\n",
       "    }\n",
       "\n",
       "    .dataframe thead th {\n",
       "        text-align: right;\n",
       "    }\n",
       "</style>\n",
       "<table border=\"1\" class=\"dataframe\">\n",
       "  <thead>\n",
       "    <tr style=\"text-align: right;\">\n",
       "      <th></th>\n",
       "      <th>col1</th>\n",
       "      <th>col2</th>\n",
       "    </tr>\n",
       "  </thead>\n",
       "  <tbody>\n",
       "    <tr>\n",
       "      <th>count</th>\n",
       "      <td>3.0</td>\n",
       "      <td>3.0</td>\n",
       "    </tr>\n",
       "    <tr>\n",
       "      <th>mean</th>\n",
       "      <td>2.0</td>\n",
       "      <td>5.0</td>\n",
       "    </tr>\n",
       "    <tr>\n",
       "      <th>std</th>\n",
       "      <td>1.0</td>\n",
       "      <td>1.0</td>\n",
       "    </tr>\n",
       "    <tr>\n",
       "      <th>min</th>\n",
       "      <td>1.0</td>\n",
       "      <td>4.0</td>\n",
       "    </tr>\n",
       "    <tr>\n",
       "      <th>25%</th>\n",
       "      <td>1.5</td>\n",
       "      <td>4.5</td>\n",
       "    </tr>\n",
       "    <tr>\n",
       "      <th>50%</th>\n",
       "      <td>2.0</td>\n",
       "      <td>5.0</td>\n",
       "    </tr>\n",
       "    <tr>\n",
       "      <th>75%</th>\n",
       "      <td>2.5</td>\n",
       "      <td>5.5</td>\n",
       "    </tr>\n",
       "    <tr>\n",
       "      <th>max</th>\n",
       "      <td>3.0</td>\n",
       "      <td>6.0</td>\n",
       "    </tr>\n",
       "  </tbody>\n",
       "</table>\n",
       "</div>"
      ],
      "text/plain": [
       "       col1  col2\n",
       "count   3.0   3.0\n",
       "mean    2.0   5.0\n",
       "std     1.0   1.0\n",
       "min     1.0   4.0\n",
       "25%     1.5   4.5\n",
       "50%     2.0   5.0\n",
       "75%     2.5   5.5\n",
       "max     3.0   6.0"
      ]
     },
     "execution_count": 12,
     "metadata": {},
     "output_type": "execute_result"
    }
   ],
   "source": [
    "df.describe()"
   ]
  },
  {
   "cell_type": "code",
   "execution_count": 14,
   "metadata": {},
   "outputs": [
    {
     "data": {
      "text/plain": [
       "(3, 2)"
      ]
     },
     "execution_count": 14,
     "metadata": {},
     "output_type": "execute_result"
    }
   ],
   "source": [
    "df.shape"
   ]
  },
  {
   "cell_type": "code",
   "execution_count": null,
   "metadata": {},
   "outputs": [
    {
     "data": {
      "text/html": [
       "<div>\n",
       "<style scoped>\n",
       "    .dataframe tbody tr th:only-of-type {\n",
       "        vertical-align: middle;\n",
       "    }\n",
       "\n",
       "    .dataframe tbody tr th {\n",
       "        vertical-align: top;\n",
       "    }\n",
       "\n",
       "    .dataframe thead th {\n",
       "        text-align: right;\n",
       "    }\n",
       "</style>\n",
       "<table border=\"1\" class=\"dataframe\">\n",
       "  <thead>\n",
       "    <tr style=\"text-align: right;\">\n",
       "      <th></th>\n",
       "      <th>col1</th>\n",
       "      <th>col2</th>\n",
       "    </tr>\n",
       "  </thead>\n",
       "  <tbody>\n",
       "    <tr>\n",
       "      <th>0</th>\n",
       "      <td>1</td>\n",
       "      <td>4</td>\n",
       "    </tr>\n",
       "    <tr>\n",
       "      <th>1</th>\n",
       "      <td>2</td>\n",
       "      <td>5</td>\n",
       "    </tr>\n",
       "  </tbody>\n",
       "</table>\n",
       "</div>"
      ],
      "text/plain": [
       "   col1  col2\n",
       "0     1     4\n",
       "1     2     5"
      ]
     },
     "execution_count": 17,
     "metadata": {},
     "output_type": "execute_result"
    }
   ],
   "source": [
    "# Filtros\n",
    "filtro_menor_a_2 = df['col1'] < 3\n",
    "df[filtro_menor_a_2]"
   ]
  },
  {
   "cell_type": "code",
   "execution_count": 19,
   "metadata": {},
   "outputs": [],
   "source": [
    "df_filtrado = df[ df['col1'] < 3 ]"
   ]
  },
  {
   "cell_type": "code",
   "execution_count": 21,
   "metadata": {},
   "outputs": [
    {
     "data": {
      "text/html": [
       "<div>\n",
       "<style scoped>\n",
       "    .dataframe tbody tr th:only-of-type {\n",
       "        vertical-align: middle;\n",
       "    }\n",
       "\n",
       "    .dataframe tbody tr th {\n",
       "        vertical-align: top;\n",
       "    }\n",
       "\n",
       "    .dataframe thead th {\n",
       "        text-align: right;\n",
       "    }\n",
       "</style>\n",
       "<table border=\"1\" class=\"dataframe\">\n",
       "  <thead>\n",
       "    <tr style=\"text-align: right;\">\n",
       "      <th></th>\n",
       "      <th>nombre</th>\n",
       "      <th>edad</th>\n",
       "    </tr>\n",
       "  </thead>\n",
       "  <tbody>\n",
       "    <tr>\n",
       "      <th>0</th>\n",
       "      <td>Juan</td>\n",
       "      <td>20</td>\n",
       "    </tr>\n",
       "    <tr>\n",
       "      <th>1</th>\n",
       "      <td>Pedro</td>\n",
       "      <td>25</td>\n",
       "    </tr>\n",
       "    <tr>\n",
       "      <th>2</th>\n",
       "      <td>Maria</td>\n",
       "      <td>30</td>\n",
       "    </tr>\n",
       "  </tbody>\n",
       "</table>\n",
       "</div>"
      ],
      "text/plain": [
       "  nombre  edad\n",
       "0   Juan    20\n",
       "1  Pedro    25\n",
       "2  Maria    30"
      ]
     },
     "execution_count": 21,
     "metadata": {},
     "output_type": "execute_result"
    }
   ],
   "source": [
    "df2 = pd.DataFrame({\n",
    "\t'nombre':['Juan', 'Pedro', 'Maria'],\n",
    "\t'edad':[20, 25, 30]\n",
    "})\n",
    "df2"
   ]
  },
  {
   "cell_type": "code",
   "execution_count": 24,
   "metadata": {},
   "outputs": [
    {
     "data": {
      "text/html": [
       "<div>\n",
       "<style scoped>\n",
       "    .dataframe tbody tr th:only-of-type {\n",
       "        vertical-align: middle;\n",
       "    }\n",
       "\n",
       "    .dataframe tbody tr th {\n",
       "        vertical-align: top;\n",
       "    }\n",
       "\n",
       "    .dataframe thead th {\n",
       "        text-align: right;\n",
       "    }\n",
       "</style>\n",
       "<table border=\"1\" class=\"dataframe\">\n",
       "  <thead>\n",
       "    <tr style=\"text-align: right;\">\n",
       "      <th></th>\n",
       "      <th>nombre</th>\n",
       "      <th>edad</th>\n",
       "    </tr>\n",
       "  </thead>\n",
       "  <tbody>\n",
       "    <tr>\n",
       "      <th>0</th>\n",
       "      <td>Juan</td>\n",
       "      <td>20</td>\n",
       "    </tr>\n",
       "  </tbody>\n",
       "</table>\n",
       "</div>"
      ],
      "text/plain": [
       "  nombre  edad\n",
       "0   Juan    20"
      ]
     },
     "execution_count": 24,
     "metadata": {},
     "output_type": "execute_result"
    }
   ],
   "source": [
    "lista = ['Juan','Teresa']\n",
    "filtro_nombre = df2['nombre'].isin( lista )\n",
    "\n",
    "df2[filtro_nombre]"
   ]
  },
  {
   "cell_type": "code",
   "execution_count": 32,
   "metadata": {},
   "outputs": [
    {
     "data": {
      "text/plain": [
       "array([1, 2, 3])"
      ]
     },
     "execution_count": 32,
     "metadata": {},
     "output_type": "execute_result"
    }
   ],
   "source": [
    "# operaciones\n",
    "df['col1'].sum()\n",
    "df['col1'].mean()\n",
    "df['col1'].count()\n",
    "df['col1'].max()\n",
    "df['col1'].unique()"
   ]
  },
  {
   "cell_type": "code",
   "execution_count": 34,
   "metadata": {},
   "outputs": [
    {
     "data": {
      "text/html": [
       "<div>\n",
       "<style scoped>\n",
       "    .dataframe tbody tr th:only-of-type {\n",
       "        vertical-align: middle;\n",
       "    }\n",
       "\n",
       "    .dataframe tbody tr th {\n",
       "        vertical-align: top;\n",
       "    }\n",
       "\n",
       "    .dataframe thead th {\n",
       "        text-align: right;\n",
       "    }\n",
       "</style>\n",
       "<table border=\"1\" class=\"dataframe\">\n",
       "  <thead>\n",
       "    <tr style=\"text-align: right;\">\n",
       "      <th></th>\n",
       "      <th>nombre</th>\n",
       "      <th>gender</th>\n",
       "      <th>edad</th>\n",
       "    </tr>\n",
       "  </thead>\n",
       "  <tbody>\n",
       "    <tr>\n",
       "      <th>0</th>\n",
       "      <td>Juan</td>\n",
       "      <td>M</td>\n",
       "      <td>20</td>\n",
       "    </tr>\n",
       "    <tr>\n",
       "      <th>1</th>\n",
       "      <td>Pedro</td>\n",
       "      <td>M</td>\n",
       "      <td>25</td>\n",
       "    </tr>\n",
       "    <tr>\n",
       "      <th>2</th>\n",
       "      <td>Maria</td>\n",
       "      <td>F</td>\n",
       "      <td>30</td>\n",
       "    </tr>\n",
       "    <tr>\n",
       "      <th>3</th>\n",
       "      <td>Teresa</td>\n",
       "      <td>F</td>\n",
       "      <td>45</td>\n",
       "    </tr>\n",
       "  </tbody>\n",
       "</table>\n",
       "</div>"
      ],
      "text/plain": [
       "   nombre gender  edad\n",
       "0    Juan      M    20\n",
       "1   Pedro      M    25\n",
       "2   Maria      F    30\n",
       "3  Teresa      F    45"
      ]
     },
     "execution_count": 34,
     "metadata": {},
     "output_type": "execute_result"
    }
   ],
   "source": [
    "#agregaciones\n",
    "\n",
    "df3 = pd.DataFrame({\n",
    "\t'nombre':['Juan', 'Pedro', 'Maria', 'Teresa'],\n",
    "    'gender':['M', 'M', 'F','F'],\n",
    "\t'edad':[20, 25, 30,45]\n",
    "})\n",
    "df3"
   ]
  },
  {
   "cell_type": "code",
   "execution_count": 39,
   "metadata": {},
   "outputs": [
    {
     "data": {
      "text/html": [
       "<div>\n",
       "<style scoped>\n",
       "    .dataframe tbody tr th:only-of-type {\n",
       "        vertical-align: middle;\n",
       "    }\n",
       "\n",
       "    .dataframe tbody tr th {\n",
       "        vertical-align: top;\n",
       "    }\n",
       "\n",
       "    .dataframe thead th {\n",
       "        text-align: right;\n",
       "    }\n",
       "</style>\n",
       "<table border=\"1\" class=\"dataframe\">\n",
       "  <thead>\n",
       "    <tr style=\"text-align: right;\">\n",
       "      <th></th>\n",
       "      <th>edad</th>\n",
       "    </tr>\n",
       "    <tr>\n",
       "      <th>gender</th>\n",
       "      <th></th>\n",
       "    </tr>\n",
       "  </thead>\n",
       "  <tbody>\n",
       "    <tr>\n",
       "      <th>F</th>\n",
       "      <td>45</td>\n",
       "    </tr>\n",
       "  </tbody>\n",
       "</table>\n",
       "</div>"
      ],
      "text/plain": [
       "        edad\n",
       "gender      \n",
       "F         45"
      ]
     },
     "execution_count": 39,
     "metadata": {},
     "output_type": "execute_result"
    }
   ],
   "source": [
    "df3.groupby('gender').agg({'edad':'max'}).head(1)"
   ]
  },
  {
   "cell_type": "markdown",
   "metadata": {},
   "source": [
    "## II- Resolución de Workshop 1"
   ]
  },
  {
   "cell_type": "markdown",
   "metadata": {},
   "source": [
    "Egresos hospitalarios por comuna de residencia. Conjunto de datos: https://deis.minsal.cl/#datosabiertos"
   ]
  },
  {
   "cell_type": "code",
   "execution_count": 3,
   "metadata": {},
   "outputs": [
    {
     "data": {
      "text/plain": [
       "<module 'polars.dataframe' from 'c:\\\\Users\\\\gabri\\\\OneDrive\\\\Python-projects\\\\Clases\\\\Data Visualization\\\\.venv\\\\Lib\\\\site-packages\\\\polars\\\\dataframe\\\\__init__.py'>"
      ]
     },
     "execution_count": 3,
     "metadata": {},
     "output_type": "execute_result"
    }
   ],
   "source": [
    "# CODIGO DE REVISION DE INSTALACION\n",
    "import pandas as pd\n",
    "import polars as pl\n",
    "\n",
    "pd.DataFrame()\n",
    "pl.dataframe"
   ]
  },
  {
   "cell_type": "markdown",
   "metadata": {},
   "source": [
    "##### **1. Descargue los egresos hospitalarios para el año 2020 y abra el archivo usando Pandas y Polars. ¿Qué diferencia a ambas bibliotecas?**"
   ]
  },
  {
   "cell_type": "code",
   "execution_count": null,
   "metadata": {},
   "outputs": [],
   "source": [
    "#pip install pandas polars"
   ]
  },
  {
   "cell_type": "code",
   "execution_count": 4,
   "metadata": {},
   "outputs": [],
   "source": [
    "filepath = 'data/egresos hospitalarios/EGRESOS_2020/EGRE_DATOS_ABIERTOS_2020.csv'"
   ]
  },
  {
   "cell_type": "markdown",
   "metadata": {},
   "source": [
    "__Pandas:__"
   ]
  },
  {
   "cell_type": "code",
   "execution_count": null,
   "metadata": {},
   "outputs": [],
   "source": [
    "import pandas as pd"
   ]
  },
  {
   "cell_type": "code",
   "execution_count": 15,
   "metadata": {},
   "outputs": [
    {
     "name": "stderr",
     "output_type": "stream",
     "text": [
      "C:\\Users\\gabri\\AppData\\Local\\Temp\\ipykernel_24696\\2342160634.py:1: DtypeWarning: Columns (0,1,2,3,4,8,10) have mixed types. Specify dtype option on import or set low_memory=False.\n",
      "  df = pd.read_csv(filepath,\n"
     ]
    }
   ],
   "source": [
    "df = pd.read_csv(filepath,\n",
    "            encoding='latin-1',\n",
    "\t\t\tsep=';',\n",
    "            na_values='*'\n",
    "            )"
   ]
  },
  {
   "cell_type": "code",
   "execution_count": 16,
   "metadata": {},
   "outputs": [
    {
     "data": {
      "text/html": [
       "<div>\n",
       "<style scoped>\n",
       "    .dataframe tbody tr th:only-of-type {\n",
       "        vertical-align: middle;\n",
       "    }\n",
       "\n",
       "    .dataframe tbody tr th {\n",
       "        vertical-align: top;\n",
       "    }\n",
       "\n",
       "    .dataframe thead th {\n",
       "        text-align: right;\n",
       "    }\n",
       "</style>\n",
       "<table border=\"1\" class=\"dataframe\">\n",
       "  <thead>\n",
       "    <tr style=\"text-align: right;\">\n",
       "      <th></th>\n",
       "      <th>PERTENENCIA_ESTABLECIMIENTO_SALUD</th>\n",
       "      <th>SEXO</th>\n",
       "      <th>GRUPO_EDAD</th>\n",
       "      <th>ETNIA</th>\n",
       "      <th>GLOSA_PAIS_ORIGEN</th>\n",
       "      <th>COMUNA_RESIDENCIA</th>\n",
       "      <th>GLOSA_COMUNA_RESIDENCIA</th>\n",
       "      <th>REGION_RESIDENCIA</th>\n",
       "      <th>GLOSA_REGION_RESIDENCIA</th>\n",
       "      <th>PREVISION</th>\n",
       "      <th>GLOSA_PREVISION</th>\n",
       "      <th>ANO_EGRESO</th>\n",
       "      <th>DIAG1</th>\n",
       "      <th>DIAG2</th>\n",
       "      <th>DIAS_ESTADA</th>\n",
       "      <th>CONDICION_EGRESO</th>\n",
       "      <th>INTERV_Q</th>\n",
       "      <th>PROCED</th>\n",
       "    </tr>\n",
       "  </thead>\n",
       "  <tbody>\n",
       "    <tr>\n",
       "      <th>0</th>\n",
       "      <td>No Pertenecientes al Sistema Nacional de Servi...</td>\n",
       "      <td>HOMBRE</td>\n",
       "      <td>1 a 9</td>\n",
       "      <td>No se identifica con alguna etnia</td>\n",
       "      <td>Chileno</td>\n",
       "      <td>1101</td>\n",
       "      <td>Iquique</td>\n",
       "      <td>1.0</td>\n",
       "      <td>De Tarapacá</td>\n",
       "      <td>1.0</td>\n",
       "      <td>FONASA</td>\n",
       "      <td>2020.0</td>\n",
       "      <td>Q531</td>\n",
       "      <td>NaN</td>\n",
       "      <td>1</td>\n",
       "      <td>1</td>\n",
       "      <td>1</td>\n",
       "      <td>2</td>\n",
       "    </tr>\n",
       "    <tr>\n",
       "      <th>1</th>\n",
       "      <td>No Pertenecientes al Sistema Nacional de Servi...</td>\n",
       "      <td>HOMBRE</td>\n",
       "      <td>1 a 9</td>\n",
       "      <td>No se identifica con alguna etnia</td>\n",
       "      <td>Chileno</td>\n",
       "      <td>1101</td>\n",
       "      <td>Iquique</td>\n",
       "      <td>1.0</td>\n",
       "      <td>De Tarapacá</td>\n",
       "      <td>1.0</td>\n",
       "      <td>FONASA</td>\n",
       "      <td>2020.0</td>\n",
       "      <td>Q173</td>\n",
       "      <td>NaN</td>\n",
       "      <td>1</td>\n",
       "      <td>1</td>\n",
       "      <td>1</td>\n",
       "      <td>2</td>\n",
       "    </tr>\n",
       "    <tr>\n",
       "      <th>2</th>\n",
       "      <td>No Pertenecientes al Sistema Nacional de Servi...</td>\n",
       "      <td>HOMBRE</td>\n",
       "      <td>1 a 9</td>\n",
       "      <td>No se identifica con alguna etnia</td>\n",
       "      <td>Chileno</td>\n",
       "      <td>1101</td>\n",
       "      <td>Iquique</td>\n",
       "      <td>1.0</td>\n",
       "      <td>De Tarapacá</td>\n",
       "      <td>1.0</td>\n",
       "      <td>FONASA</td>\n",
       "      <td>2020.0</td>\n",
       "      <td>Z412</td>\n",
       "      <td>NaN</td>\n",
       "      <td>1</td>\n",
       "      <td>1</td>\n",
       "      <td>1</td>\n",
       "      <td>2</td>\n",
       "    </tr>\n",
       "    <tr>\n",
       "      <th>3</th>\n",
       "      <td>No Pertenecientes al Sistema Nacional de Servi...</td>\n",
       "      <td>HOMBRE</td>\n",
       "      <td>1 a 9</td>\n",
       "      <td>No se identifica con alguna etnia</td>\n",
       "      <td>Chileno</td>\n",
       "      <td>1107</td>\n",
       "      <td>Alto Hospicio</td>\n",
       "      <td>1.0</td>\n",
       "      <td>De Tarapacá</td>\n",
       "      <td>1.0</td>\n",
       "      <td>FONASA</td>\n",
       "      <td>2020.0</td>\n",
       "      <td>N47X</td>\n",
       "      <td>NaN</td>\n",
       "      <td>1</td>\n",
       "      <td>1</td>\n",
       "      <td>1</td>\n",
       "      <td>2</td>\n",
       "    </tr>\n",
       "    <tr>\n",
       "      <th>4</th>\n",
       "      <td>No Pertenecientes al Sistema Nacional de Servi...</td>\n",
       "      <td>HOMBRE</td>\n",
       "      <td>1 a 9</td>\n",
       "      <td>No se identifica con alguna etnia</td>\n",
       "      <td>Chileno</td>\n",
       "      <td>1101</td>\n",
       "      <td>Iquique</td>\n",
       "      <td>1.0</td>\n",
       "      <td>De Tarapacá</td>\n",
       "      <td>1.0</td>\n",
       "      <td>FONASA</td>\n",
       "      <td>2020.0</td>\n",
       "      <td>N47X</td>\n",
       "      <td>NaN</td>\n",
       "      <td>1</td>\n",
       "      <td>1</td>\n",
       "      <td>1</td>\n",
       "      <td>2</td>\n",
       "    </tr>\n",
       "    <tr>\n",
       "      <th>...</th>\n",
       "      <td>...</td>\n",
       "      <td>...</td>\n",
       "      <td>...</td>\n",
       "      <td>...</td>\n",
       "      <td>...</td>\n",
       "      <td>...</td>\n",
       "      <td>...</td>\n",
       "      <td>...</td>\n",
       "      <td>...</td>\n",
       "      <td>...</td>\n",
       "      <td>...</td>\n",
       "      <td>...</td>\n",
       "      <td>...</td>\n",
       "      <td>...</td>\n",
       "      <td>...</td>\n",
       "      <td>...</td>\n",
       "      <td>...</td>\n",
       "      <td>...</td>\n",
       "    </tr>\n",
       "    <tr>\n",
       "      <th>1330472</th>\n",
       "      <td>NaN</td>\n",
       "      <td>NaN</td>\n",
       "      <td>NaN</td>\n",
       "      <td>NaN</td>\n",
       "      <td>NaN</td>\n",
       "      <td>88888</td>\n",
       "      <td>Extranjero</td>\n",
       "      <td>NaN</td>\n",
       "      <td>NaN</td>\n",
       "      <td>NaN</td>\n",
       "      <td>NaN</td>\n",
       "      <td>NaN</td>\n",
       "      <td>O809</td>\n",
       "      <td>NaN</td>\n",
       "      <td>3</td>\n",
       "      <td>1</td>\n",
       "      <td>2</td>\n",
       "      <td>2</td>\n",
       "    </tr>\n",
       "    <tr>\n",
       "      <th>1330473</th>\n",
       "      <td>NaN</td>\n",
       "      <td>NaN</td>\n",
       "      <td>NaN</td>\n",
       "      <td>NaN</td>\n",
       "      <td>NaN</td>\n",
       "      <td>88888</td>\n",
       "      <td>Extranjero</td>\n",
       "      <td>NaN</td>\n",
       "      <td>NaN</td>\n",
       "      <td>NaN</td>\n",
       "      <td>NaN</td>\n",
       "      <td>NaN</td>\n",
       "      <td>O809</td>\n",
       "      <td>NaN</td>\n",
       "      <td>2</td>\n",
       "      <td>1</td>\n",
       "      <td>2</td>\n",
       "      <td>1</td>\n",
       "    </tr>\n",
       "    <tr>\n",
       "      <th>1330474</th>\n",
       "      <td>NaN</td>\n",
       "      <td>NaN</td>\n",
       "      <td>NaN</td>\n",
       "      <td>NaN</td>\n",
       "      <td>NaN</td>\n",
       "      <td>11101</td>\n",
       "      <td>Coihaique</td>\n",
       "      <td>NaN</td>\n",
       "      <td>NaN</td>\n",
       "      <td>NaN</td>\n",
       "      <td>NaN</td>\n",
       "      <td>NaN</td>\n",
       "      <td>G560</td>\n",
       "      <td>NaN</td>\n",
       "      <td>1</td>\n",
       "      <td>1</td>\n",
       "      <td>1</td>\n",
       "      <td>2</td>\n",
       "    </tr>\n",
       "    <tr>\n",
       "      <th>1330475</th>\n",
       "      <td>NaN</td>\n",
       "      <td>NaN</td>\n",
       "      <td>NaN</td>\n",
       "      <td>NaN</td>\n",
       "      <td>NaN</td>\n",
       "      <td>8112</td>\n",
       "      <td>Hualpén</td>\n",
       "      <td>NaN</td>\n",
       "      <td>NaN</td>\n",
       "      <td>NaN</td>\n",
       "      <td>NaN</td>\n",
       "      <td>NaN</td>\n",
       "      <td>P599</td>\n",
       "      <td>NaN</td>\n",
       "      <td>1</td>\n",
       "      <td>1</td>\n",
       "      <td>2</td>\n",
       "      <td>2</td>\n",
       "    </tr>\n",
       "    <tr>\n",
       "      <th>1330476</th>\n",
       "      <td>NaN</td>\n",
       "      <td>NaN</td>\n",
       "      <td>NaN</td>\n",
       "      <td>NaN</td>\n",
       "      <td>NaN</td>\n",
       "      <td>7301</td>\n",
       "      <td>Curicó</td>\n",
       "      <td>NaN</td>\n",
       "      <td>NaN</td>\n",
       "      <td>NaN</td>\n",
       "      <td>NaN</td>\n",
       "      <td>NaN</td>\n",
       "      <td>U071</td>\n",
       "      <td>NaN</td>\n",
       "      <td>7</td>\n",
       "      <td>1</td>\n",
       "      <td>2</td>\n",
       "      <td>2</td>\n",
       "    </tr>\n",
       "  </tbody>\n",
       "</table>\n",
       "<p>1330477 rows × 18 columns</p>\n",
       "</div>"
      ],
      "text/plain": [
       "                         PERTENENCIA_ESTABLECIMIENTO_SALUD    SEXO GRUPO_EDAD  \\\n",
       "0        No Pertenecientes al Sistema Nacional de Servi...  HOMBRE      1 a 9   \n",
       "1        No Pertenecientes al Sistema Nacional de Servi...  HOMBRE      1 a 9   \n",
       "2        No Pertenecientes al Sistema Nacional de Servi...  HOMBRE      1 a 9   \n",
       "3        No Pertenecientes al Sistema Nacional de Servi...  HOMBRE      1 a 9   \n",
       "4        No Pertenecientes al Sistema Nacional de Servi...  HOMBRE      1 a 9   \n",
       "...                                                    ...     ...        ...   \n",
       "1330472                                                NaN     NaN        NaN   \n",
       "1330473                                                NaN     NaN        NaN   \n",
       "1330474                                                NaN     NaN        NaN   \n",
       "1330475                                                NaN     NaN        NaN   \n",
       "1330476                                                NaN     NaN        NaN   \n",
       "\n",
       "                                     ETNIA GLOSA_PAIS_ORIGEN  \\\n",
       "0        No se identifica con alguna etnia           Chileno   \n",
       "1        No se identifica con alguna etnia           Chileno   \n",
       "2        No se identifica con alguna etnia           Chileno   \n",
       "3        No se identifica con alguna etnia           Chileno   \n",
       "4        No se identifica con alguna etnia           Chileno   \n",
       "...                                    ...               ...   \n",
       "1330472                                NaN               NaN   \n",
       "1330473                                NaN               NaN   \n",
       "1330474                                NaN               NaN   \n",
       "1330475                                NaN               NaN   \n",
       "1330476                                NaN               NaN   \n",
       "\n",
       "         COMUNA_RESIDENCIA GLOSA_COMUNA_RESIDENCIA  REGION_RESIDENCIA  \\\n",
       "0                     1101                 Iquique                1.0   \n",
       "1                     1101                 Iquique                1.0   \n",
       "2                     1101                 Iquique                1.0   \n",
       "3                     1107           Alto Hospicio                1.0   \n",
       "4                     1101                 Iquique                1.0   \n",
       "...                    ...                     ...                ...   \n",
       "1330472              88888              Extranjero                NaN   \n",
       "1330473              88888              Extranjero                NaN   \n",
       "1330474              11101               Coihaique                NaN   \n",
       "1330475               8112                 Hualpén                NaN   \n",
       "1330476               7301                  Curicó                NaN   \n",
       "\n",
       "        GLOSA_REGION_RESIDENCIA  PREVISION GLOSA_PREVISION  ANO_EGRESO DIAG1  \\\n",
       "0                   De Tarapacá        1.0          FONASA      2020.0  Q531   \n",
       "1                   De Tarapacá        1.0          FONASA      2020.0  Q173   \n",
       "2                   De Tarapacá        1.0          FONASA      2020.0  Z412   \n",
       "3                   De Tarapacá        1.0          FONASA      2020.0  N47X   \n",
       "4                   De Tarapacá        1.0          FONASA      2020.0  N47X   \n",
       "...                         ...        ...             ...         ...   ...   \n",
       "1330472                     NaN        NaN             NaN         NaN  O809   \n",
       "1330473                     NaN        NaN             NaN         NaN  O809   \n",
       "1330474                     NaN        NaN             NaN         NaN  G560   \n",
       "1330475                     NaN        NaN             NaN         NaN  P599   \n",
       "1330476                     NaN        NaN             NaN         NaN  U071   \n",
       "\n",
       "        DIAG2  DIAS_ESTADA  CONDICION_EGRESO  INTERV_Q  PROCED  \n",
       "0         NaN            1                 1         1       2  \n",
       "1         NaN            1                 1         1       2  \n",
       "2         NaN            1                 1         1       2  \n",
       "3         NaN            1                 1         1       2  \n",
       "4         NaN            1                 1         1       2  \n",
       "...       ...          ...               ...       ...     ...  \n",
       "1330472   NaN            3                 1         2       2  \n",
       "1330473   NaN            2                 1         2       1  \n",
       "1330474   NaN            1                 1         1       2  \n",
       "1330475   NaN            1                 1         2       2  \n",
       "1330476   NaN            7                 1         2       2  \n",
       "\n",
       "[1330477 rows x 18 columns]"
      ]
     },
     "execution_count": 16,
     "metadata": {},
     "output_type": "execute_result"
    }
   ],
   "source": [
    "df"
   ]
  },
  {
   "cell_type": "markdown",
   "metadata": {},
   "source": [
    "__Polars:__"
   ]
  },
  {
   "cell_type": "code",
   "execution_count": 12,
   "metadata": {},
   "outputs": [],
   "source": [
    "import polars as pl"
   ]
  },
  {
   "cell_type": "code",
   "execution_count": 14,
   "metadata": {},
   "outputs": [
    {
     "data": {
      "text/html": [
       "<div><style>\n",
       ".dataframe > thead > tr,\n",
       ".dataframe > tbody > tr {\n",
       "  text-align: right;\n",
       "  white-space: pre-wrap;\n",
       "}\n",
       "</style>\n",
       "<small>shape: (1_330_477, 18)</small><table border=\"1\" class=\"dataframe\"><thead><tr><th>PERTENENCIA_ESTABLECIMIENTO_SALUD</th><th>SEXO</th><th>GRUPO_EDAD</th><th>ETNIA</th><th>GLOSA_PAIS_ORIGEN</th><th>COMUNA_RESIDENCIA</th><th>GLOSA_COMUNA_RESIDENCIA</th><th>REGION_RESIDENCIA</th><th>GLOSA_REGION_RESIDENCIA</th><th>PREVISION</th><th>GLOSA_PREVISION</th><th>ANO_EGRESO</th><th>DIAG1</th><th>DIAG2</th><th>DIAS_ESTADA</th><th>CONDICION_EGRESO</th><th>INTERV_Q</th><th>PROCED</th></tr><tr><td>str</td><td>str</td><td>str</td><td>str</td><td>str</td><td>i64</td><td>str</td><td>i64</td><td>str</td><td>i64</td><td>str</td><td>i64</td><td>str</td><td>str</td><td>i64</td><td>i64</td><td>i64</td><td>i64</td></tr></thead><tbody><tr><td>&quot;No Pertenecientes al Sistema N…</td><td>&quot;HOMBRE&quot;</td><td>&quot;1 a 9&quot;</td><td>&quot;No se identifica con alguna et…</td><td>&quot;Chileno&quot;</td><td>1101</td><td>&quot;Iquique&quot;</td><td>1</td><td>&quot;De Tarapacá&quot;</td><td>1</td><td>&quot;FONASA&quot;</td><td>2020</td><td>&quot;Q531&quot;</td><td>null</td><td>1</td><td>1</td><td>1</td><td>2</td></tr><tr><td>&quot;No Pertenecientes al Sistema N…</td><td>&quot;HOMBRE&quot;</td><td>&quot;1 a 9&quot;</td><td>&quot;No se identifica con alguna et…</td><td>&quot;Chileno&quot;</td><td>1101</td><td>&quot;Iquique&quot;</td><td>1</td><td>&quot;De Tarapacá&quot;</td><td>1</td><td>&quot;FONASA&quot;</td><td>2020</td><td>&quot;Q173&quot;</td><td>null</td><td>1</td><td>1</td><td>1</td><td>2</td></tr><tr><td>&quot;No Pertenecientes al Sistema N…</td><td>&quot;HOMBRE&quot;</td><td>&quot;1 a 9&quot;</td><td>&quot;No se identifica con alguna et…</td><td>&quot;Chileno&quot;</td><td>1101</td><td>&quot;Iquique&quot;</td><td>1</td><td>&quot;De Tarapacá&quot;</td><td>1</td><td>&quot;FONASA&quot;</td><td>2020</td><td>&quot;Z412&quot;</td><td>null</td><td>1</td><td>1</td><td>1</td><td>2</td></tr><tr><td>&quot;No Pertenecientes al Sistema N…</td><td>&quot;HOMBRE&quot;</td><td>&quot;1 a 9&quot;</td><td>&quot;No se identifica con alguna et…</td><td>&quot;Chileno&quot;</td><td>1107</td><td>&quot;Alto Hospicio&quot;</td><td>1</td><td>&quot;De Tarapacá&quot;</td><td>1</td><td>&quot;FONASA&quot;</td><td>2020</td><td>&quot;N47X&quot;</td><td>null</td><td>1</td><td>1</td><td>1</td><td>2</td></tr><tr><td>&quot;No Pertenecientes al Sistema N…</td><td>&quot;HOMBRE&quot;</td><td>&quot;1 a 9&quot;</td><td>&quot;No se identifica con alguna et…</td><td>&quot;Chileno&quot;</td><td>1101</td><td>&quot;Iquique&quot;</td><td>1</td><td>&quot;De Tarapacá&quot;</td><td>1</td><td>&quot;FONASA&quot;</td><td>2020</td><td>&quot;N47X&quot;</td><td>null</td><td>1</td><td>1</td><td>1</td><td>2</td></tr><tr><td>&hellip;</td><td>&hellip;</td><td>&hellip;</td><td>&hellip;</td><td>&hellip;</td><td>&hellip;</td><td>&hellip;</td><td>&hellip;</td><td>&hellip;</td><td>&hellip;</td><td>&hellip;</td><td>&hellip;</td><td>&hellip;</td><td>&hellip;</td><td>&hellip;</td><td>&hellip;</td><td>&hellip;</td><td>&hellip;</td></tr><tr><td>null</td><td>null</td><td>null</td><td>null</td><td>null</td><td>88888</td><td>&quot;Extranjero&quot;</td><td>null</td><td>null</td><td>null</td><td>null</td><td>null</td><td>&quot;O809&quot;</td><td>null</td><td>3</td><td>1</td><td>2</td><td>2</td></tr><tr><td>null</td><td>null</td><td>null</td><td>null</td><td>null</td><td>88888</td><td>&quot;Extranjero&quot;</td><td>null</td><td>null</td><td>null</td><td>null</td><td>null</td><td>&quot;O809&quot;</td><td>null</td><td>2</td><td>1</td><td>2</td><td>1</td></tr><tr><td>null</td><td>null</td><td>null</td><td>null</td><td>null</td><td>11101</td><td>&quot;Coihaique&quot;</td><td>null</td><td>null</td><td>null</td><td>null</td><td>null</td><td>&quot;G560&quot;</td><td>null</td><td>1</td><td>1</td><td>1</td><td>2</td></tr><tr><td>null</td><td>null</td><td>null</td><td>null</td><td>null</td><td>8112</td><td>&quot;Hualpén&quot;</td><td>null</td><td>null</td><td>null</td><td>null</td><td>null</td><td>&quot;P599&quot;</td><td>null</td><td>1</td><td>1</td><td>2</td><td>2</td></tr><tr><td>null</td><td>null</td><td>null</td><td>null</td><td>null</td><td>7301</td><td>&quot;Curicó&quot;</td><td>null</td><td>null</td><td>null</td><td>null</td><td>null</td><td>&quot;U071&quot;</td><td>null</td><td>7</td><td>1</td><td>2</td><td>2</td></tr></tbody></table></div>"
      ],
      "text/plain": [
       "shape: (1_330_477, 18)\n",
       "┌─────────────┬────────┬────────────┬────────────┬───┬────────────┬────────────┬──────────┬────────┐\n",
       "│ PERTENENCIA ┆ SEXO   ┆ GRUPO_EDAD ┆ ETNIA      ┆ … ┆ DIAS_ESTAD ┆ CONDICION_ ┆ INTERV_Q ┆ PROCED │\n",
       "│ _ESTABLECIM ┆ ---    ┆ ---        ┆ ---        ┆   ┆ A          ┆ EGRESO     ┆ ---      ┆ ---    │\n",
       "│ IENTO_SA…   ┆ str    ┆ str        ┆ str        ┆   ┆ ---        ┆ ---        ┆ i64      ┆ i64    │\n",
       "│ ---         ┆        ┆            ┆            ┆   ┆ i64        ┆ i64        ┆          ┆        │\n",
       "│ str         ┆        ┆            ┆            ┆   ┆            ┆            ┆          ┆        │\n",
       "╞═════════════╪════════╪════════════╪════════════╪═══╪════════════╪════════════╪══════════╪════════╡\n",
       "│ No Pertenec ┆ HOMBRE ┆ 1 a 9      ┆ No se      ┆ … ┆ 1          ┆ 1          ┆ 1        ┆ 2      │\n",
       "│ ientes al   ┆        ┆            ┆ identifica ┆   ┆            ┆            ┆          ┆        │\n",
       "│ Sistema N…  ┆        ┆            ┆ con alguna ┆   ┆            ┆            ┆          ┆        │\n",
       "│             ┆        ┆            ┆ et…        ┆   ┆            ┆            ┆          ┆        │\n",
       "│ No Pertenec ┆ HOMBRE ┆ 1 a 9      ┆ No se      ┆ … ┆ 1          ┆ 1          ┆ 1        ┆ 2      │\n",
       "│ ientes al   ┆        ┆            ┆ identifica ┆   ┆            ┆            ┆          ┆        │\n",
       "│ Sistema N…  ┆        ┆            ┆ con alguna ┆   ┆            ┆            ┆          ┆        │\n",
       "│             ┆        ┆            ┆ et…        ┆   ┆            ┆            ┆          ┆        │\n",
       "│ No Pertenec ┆ HOMBRE ┆ 1 a 9      ┆ No se      ┆ … ┆ 1          ┆ 1          ┆ 1        ┆ 2      │\n",
       "│ ientes al   ┆        ┆            ┆ identifica ┆   ┆            ┆            ┆          ┆        │\n",
       "│ Sistema N…  ┆        ┆            ┆ con alguna ┆   ┆            ┆            ┆          ┆        │\n",
       "│             ┆        ┆            ┆ et…        ┆   ┆            ┆            ┆          ┆        │\n",
       "│ No Pertenec ┆ HOMBRE ┆ 1 a 9      ┆ No se      ┆ … ┆ 1          ┆ 1          ┆ 1        ┆ 2      │\n",
       "│ ientes al   ┆        ┆            ┆ identifica ┆   ┆            ┆            ┆          ┆        │\n",
       "│ Sistema N…  ┆        ┆            ┆ con alguna ┆   ┆            ┆            ┆          ┆        │\n",
       "│             ┆        ┆            ┆ et…        ┆   ┆            ┆            ┆          ┆        │\n",
       "│ No Pertenec ┆ HOMBRE ┆ 1 a 9      ┆ No se      ┆ … ┆ 1          ┆ 1          ┆ 1        ┆ 2      │\n",
       "│ ientes al   ┆        ┆            ┆ identifica ┆   ┆            ┆            ┆          ┆        │\n",
       "│ Sistema N…  ┆        ┆            ┆ con alguna ┆   ┆            ┆            ┆          ┆        │\n",
       "│             ┆        ┆            ┆ et…        ┆   ┆            ┆            ┆          ┆        │\n",
       "│ …           ┆ …      ┆ …          ┆ …          ┆ … ┆ …          ┆ …          ┆ …        ┆ …      │\n",
       "│ null        ┆ null   ┆ null       ┆ null       ┆ … ┆ 3          ┆ 1          ┆ 2        ┆ 2      │\n",
       "│ null        ┆ null   ┆ null       ┆ null       ┆ … ┆ 2          ┆ 1          ┆ 2        ┆ 1      │\n",
       "│ null        ┆ null   ┆ null       ┆ null       ┆ … ┆ 1          ┆ 1          ┆ 1        ┆ 2      │\n",
       "│ null        ┆ null   ┆ null       ┆ null       ┆ … ┆ 1          ┆ 1          ┆ 2        ┆ 2      │\n",
       "│ null        ┆ null   ┆ null       ┆ null       ┆ … ┆ 7          ┆ 1          ┆ 2        ┆ 2      │\n",
       "└─────────────┴────────┴────────────┴────────────┴───┴────────────┴────────────┴──────────┴────────┘"
      ]
     },
     "execution_count": 14,
     "metadata": {},
     "output_type": "execute_result"
    }
   ],
   "source": [
    "pl.read_csv(filepath,\n",
    "\t\t\tencoding='latin-1',\n",
    "\t\t\tseparator=';',\n",
    "\t\t\tnull_values='*',\n",
    "\t\t\t)"
   ]
  },
  {
   "cell_type": "markdown",
   "metadata": {},
   "source": [
    "##### **2. Descargue los egresos hospitalarios del año 2001 al 2020 y cree un único DataFrame usando Pandas. Pista: Use la biblioteca glob . Use este conjunto de datos para todos los análisis solicitados.**"
   ]
  },
  {
   "cell_type": "code",
   "execution_count": 40,
   "metadata": {},
   "outputs": [],
   "source": [
    "from glob import glob # Biblioteca para buscar archivos"
   ]
  },
  {
   "cell_type": "code",
   "execution_count": 41,
   "metadata": {},
   "outputs": [
    {
     "data": {
      "text/plain": [
       "['data/egresos hospitalarios\\\\EGRESOS_2001\\\\EGRE_DATOS_ABIERTOS_2001.csv',\n",
       " 'data/egresos hospitalarios\\\\EGRESOS_2002\\\\EGRE_DATOS_ABIERTOS_2002.csv',\n",
       " 'data/egresos hospitalarios\\\\EGRESOS_2003\\\\EGRE_DATOS_ABIERTOS_2003.csv',\n",
       " 'data/egresos hospitalarios\\\\EGRESOS_2004\\\\EGRE_DATOS_ABIERTOS_2004.csv',\n",
       " 'data/egresos hospitalarios\\\\EGRESOS_2005\\\\EGRE_DATOS_ABIERTOS_2005.csv',\n",
       " 'data/egresos hospitalarios\\\\EGRESOS_2006\\\\EGRE_DATOS_ABIERTOS_2006.csv',\n",
       " 'data/egresos hospitalarios\\\\EGRESOS_2007\\\\EGRE_DATOS_ABIERTOS_2007.csv',\n",
       " 'data/egresos hospitalarios\\\\EGRESOS_2008\\\\EGRE_DATOS_ABIERTOS_2008.csv',\n",
       " 'data/egresos hospitalarios\\\\EGRESOS_2009\\\\EGRE_DATOS_ABIERTOS_2009.csv',\n",
       " 'data/egresos hospitalarios\\\\EGRESOS_2010\\\\EGRE_DATOS_ABIERTOS_2010.csv',\n",
       " 'data/egresos hospitalarios\\\\EGRESOS_2011\\\\EGRE_DATOS_ABIERTOS_2011.csv',\n",
       " 'data/egresos hospitalarios\\\\EGRESOS_2012\\\\EGRE_DATOS_ABIERTOS_2012.csv',\n",
       " 'data/egresos hospitalarios\\\\EGRESOS_2013\\\\EGRE_DATOS_ABIERTOS_2013.csv',\n",
       " 'data/egresos hospitalarios\\\\EGRESOS_2014\\\\EGRE_DATOS_ABIERTOS_2014.csv',\n",
       " 'data/egresos hospitalarios\\\\EGRESOS_2015\\\\EGRE_DATOS_ABIERTOS_2015.csv',\n",
       " 'data/egresos hospitalarios\\\\EGRESOS_2016\\\\EGRE_DATOS_ABIERTOS_2016.csv',\n",
       " 'data/egresos hospitalarios\\\\EGRESOS_2017\\\\EGRE_DATOS_ABIERTOS_2017.csv',\n",
       " 'data/egresos hospitalarios\\\\EGRESOS_2018\\\\EGRE_DATOS_ABIERTOS_2018.csv',\n",
       " 'data/egresos hospitalarios\\\\EGRESOS_2019\\\\EGRE_DATOS_ABIERTOS_2019.csv',\n",
       " 'data/egresos hospitalarios\\\\EGRESOS_2020\\\\EGRE_DATOS_ABIERTOS_2020.csv']"
      ]
     },
     "execution_count": 41,
     "metadata": {},
     "output_type": "execute_result"
    }
   ],
   "source": [
    "csv_list = glob('data/egresos hospitalarios/*/*.csv')\n",
    "csv_list"
   ]
  },
  {
   "cell_type": "code",
   "execution_count": 42,
   "metadata": {},
   "outputs": [],
   "source": [
    "def read_csv_custom_pd(csv):\n",
    "    return pd.read_csv(csv,\n",
    "                         sep=';',\n",
    "                         encoding='latin-1',\n",
    "                         na_values='*',\n",
    "                         )\n",
    "\n",
    "def read_csv_custom_pl(csv):\n",
    "    return pl.read_csv(csv,\n",
    "\t\t\t\t\t\tencoding='latin-1',\n",
    "\t\t\t\t\t\tseparator=';',\n",
    "\t\t\t\t\t\tnull_values=['*','NULL'],\n",
    "                        schema_overrides={'PROCED':pl.Int64}\n",
    "\t\t\t\t\t\t)"
   ]
  },
  {
   "cell_type": "code",
   "execution_count": 43,
   "metadata": {},
   "outputs": [
    {
     "name": "stdout",
     "output_type": "stream",
     "text": [
      "Comenzando lectura...\n",
      "Leyendo EGRE_DATOS_ABIERTOS_2020.csv -  0% ( 1/20)\n"
     ]
    },
    {
     "name": "stderr",
     "output_type": "stream",
     "text": [
      "C:\\Users\\gabri\\AppData\\Local\\Temp\\ipykernel_3508\\4151414386.py:2: DtypeWarning: Columns (0,1,2,3,4,8,10) have mixed types. Specify dtype option on import or set low_memory=False.\n",
      "  return pd.read_csv(csv,\n"
     ]
    },
    {
     "name": "stdout",
     "output_type": "stream",
     "text": [
      "Leyendo EGRE_DATOS_ABIERTOS_2019.csv -  5% ( 2/20)\n"
     ]
    },
    {
     "name": "stderr",
     "output_type": "stream",
     "text": [
      "C:\\Users\\gabri\\AppData\\Local\\Temp\\ipykernel_3508\\4151414386.py:2: DtypeWarning: Columns (0,1,2,3,4,8,10) have mixed types. Specify dtype option on import or set low_memory=False.\n",
      "  return pd.read_csv(csv,\n"
     ]
    },
    {
     "name": "stdout",
     "output_type": "stream",
     "text": [
      "Leyendo EGRE_DATOS_ABIERTOS_2018.csv - 10% ( 3/20)\n"
     ]
    },
    {
     "name": "stderr",
     "output_type": "stream",
     "text": [
      "C:\\Users\\gabri\\AppData\\Local\\Temp\\ipykernel_3508\\4151414386.py:2: DtypeWarning: Columns (0,1,2,3,4,8,10) have mixed types. Specify dtype option on import or set low_memory=False.\n",
      "  return pd.read_csv(csv,\n"
     ]
    },
    {
     "name": "stdout",
     "output_type": "stream",
     "text": [
      "Leyendo EGRE_DATOS_ABIERTOS_2017.csv - 15% ( 4/20)\n"
     ]
    },
    {
     "name": "stderr",
     "output_type": "stream",
     "text": [
      "C:\\Users\\gabri\\AppData\\Local\\Temp\\ipykernel_3508\\4151414386.py:2: DtypeWarning: Columns (0,1,2,3,4,8,10) have mixed types. Specify dtype option on import or set low_memory=False.\n",
      "  return pd.read_csv(csv,\n"
     ]
    },
    {
     "name": "stdout",
     "output_type": "stream",
     "text": [
      "Leyendo EGRE_DATOS_ABIERTOS_2016.csv - 20% ( 5/20)\n"
     ]
    },
    {
     "name": "stderr",
     "output_type": "stream",
     "text": [
      "C:\\Users\\gabri\\AppData\\Local\\Temp\\ipykernel_3508\\4151414386.py:2: DtypeWarning: Columns (0,1,2,3,4,8,10) have mixed types. Specify dtype option on import or set low_memory=False.\n",
      "  return pd.read_csv(csv,\n"
     ]
    },
    {
     "name": "stdout",
     "output_type": "stream",
     "text": [
      "Lectura finalizada con éxito!\n"
     ]
    },
    {
     "data": {
      "text/html": [
       "<div>\n",
       "<style scoped>\n",
       "    .dataframe tbody tr th:only-of-type {\n",
       "        vertical-align: middle;\n",
       "    }\n",
       "\n",
       "    .dataframe tbody tr th {\n",
       "        vertical-align: top;\n",
       "    }\n",
       "\n",
       "    .dataframe thead th {\n",
       "        text-align: right;\n",
       "    }\n",
       "</style>\n",
       "<table border=\"1\" class=\"dataframe\">\n",
       "  <thead>\n",
       "    <tr style=\"text-align: right;\">\n",
       "      <th></th>\n",
       "      <th>PERTENENCIA_ESTABLECIMIENTO_SALUD</th>\n",
       "      <th>SEXO</th>\n",
       "      <th>GRUPO_EDAD</th>\n",
       "      <th>ETNIA</th>\n",
       "      <th>GLOSA_PAIS_ORIGEN</th>\n",
       "      <th>COMUNA_RESIDENCIA</th>\n",
       "      <th>GLOSA_COMUNA_RESIDENCIA</th>\n",
       "      <th>REGION_RESIDENCIA</th>\n",
       "      <th>GLOSA_REGION_RESIDENCIA</th>\n",
       "      <th>PREVISION</th>\n",
       "      <th>GLOSA_PREVISION</th>\n",
       "      <th>ANO_EGRESO</th>\n",
       "      <th>DIAG1</th>\n",
       "      <th>DIAG2</th>\n",
       "      <th>DIAS_ESTADA</th>\n",
       "      <th>CONDICION_EGRESO</th>\n",
       "      <th>INTERV_Q</th>\n",
       "      <th>PROCED</th>\n",
       "      <th>PERTENENCIA_ESTABLECIMIENTO_SALU</th>\n",
       "    </tr>\n",
       "  </thead>\n",
       "  <tbody>\n",
       "    <tr>\n",
       "      <th>0</th>\n",
       "      <td>No Pertenecientes al Sistema Nacional de Servi...</td>\n",
       "      <td>HOMBRE</td>\n",
       "      <td>1 a 9</td>\n",
       "      <td>No se identifica con alguna etnia</td>\n",
       "      <td>Chileno</td>\n",
       "      <td>1101.0</td>\n",
       "      <td>Iquique</td>\n",
       "      <td>1.0</td>\n",
       "      <td>De Tarapacá</td>\n",
       "      <td>1.0</td>\n",
       "      <td>FONASA</td>\n",
       "      <td>2020.0</td>\n",
       "      <td>Q531</td>\n",
       "      <td>NaN</td>\n",
       "      <td>1</td>\n",
       "      <td>1</td>\n",
       "      <td>1</td>\n",
       "      <td>2.0</td>\n",
       "      <td>NaN</td>\n",
       "    </tr>\n",
       "    <tr>\n",
       "      <th>1</th>\n",
       "      <td>No Pertenecientes al Sistema Nacional de Servi...</td>\n",
       "      <td>HOMBRE</td>\n",
       "      <td>1 a 9</td>\n",
       "      <td>No se identifica con alguna etnia</td>\n",
       "      <td>Chileno</td>\n",
       "      <td>1101.0</td>\n",
       "      <td>Iquique</td>\n",
       "      <td>1.0</td>\n",
       "      <td>De Tarapacá</td>\n",
       "      <td>1.0</td>\n",
       "      <td>FONASA</td>\n",
       "      <td>2020.0</td>\n",
       "      <td>Q173</td>\n",
       "      <td>NaN</td>\n",
       "      <td>1</td>\n",
       "      <td>1</td>\n",
       "      <td>1</td>\n",
       "      <td>2.0</td>\n",
       "      <td>NaN</td>\n",
       "    </tr>\n",
       "    <tr>\n",
       "      <th>2</th>\n",
       "      <td>No Pertenecientes al Sistema Nacional de Servi...</td>\n",
       "      <td>HOMBRE</td>\n",
       "      <td>1 a 9</td>\n",
       "      <td>No se identifica con alguna etnia</td>\n",
       "      <td>Chileno</td>\n",
       "      <td>1101.0</td>\n",
       "      <td>Iquique</td>\n",
       "      <td>1.0</td>\n",
       "      <td>De Tarapacá</td>\n",
       "      <td>1.0</td>\n",
       "      <td>FONASA</td>\n",
       "      <td>2020.0</td>\n",
       "      <td>Z412</td>\n",
       "      <td>NaN</td>\n",
       "      <td>1</td>\n",
       "      <td>1</td>\n",
       "      <td>1</td>\n",
       "      <td>2.0</td>\n",
       "      <td>NaN</td>\n",
       "    </tr>\n",
       "    <tr>\n",
       "      <th>3</th>\n",
       "      <td>No Pertenecientes al Sistema Nacional de Servi...</td>\n",
       "      <td>HOMBRE</td>\n",
       "      <td>1 a 9</td>\n",
       "      <td>No se identifica con alguna etnia</td>\n",
       "      <td>Chileno</td>\n",
       "      <td>1107.0</td>\n",
       "      <td>Alto Hospicio</td>\n",
       "      <td>1.0</td>\n",
       "      <td>De Tarapacá</td>\n",
       "      <td>1.0</td>\n",
       "      <td>FONASA</td>\n",
       "      <td>2020.0</td>\n",
       "      <td>N47X</td>\n",
       "      <td>NaN</td>\n",
       "      <td>1</td>\n",
       "      <td>1</td>\n",
       "      <td>1</td>\n",
       "      <td>2.0</td>\n",
       "      <td>NaN</td>\n",
       "    </tr>\n",
       "    <tr>\n",
       "      <th>4</th>\n",
       "      <td>No Pertenecientes al Sistema Nacional de Servi...</td>\n",
       "      <td>HOMBRE</td>\n",
       "      <td>1 a 9</td>\n",
       "      <td>No se identifica con alguna etnia</td>\n",
       "      <td>Chileno</td>\n",
       "      <td>1101.0</td>\n",
       "      <td>Iquique</td>\n",
       "      <td>1.0</td>\n",
       "      <td>De Tarapacá</td>\n",
       "      <td>1.0</td>\n",
       "      <td>FONASA</td>\n",
       "      <td>2020.0</td>\n",
       "      <td>N47X</td>\n",
       "      <td>NaN</td>\n",
       "      <td>1</td>\n",
       "      <td>1</td>\n",
       "      <td>1</td>\n",
       "      <td>2.0</td>\n",
       "      <td>NaN</td>\n",
       "    </tr>\n",
       "    <tr>\n",
       "      <th>...</th>\n",
       "      <td>...</td>\n",
       "      <td>...</td>\n",
       "      <td>...</td>\n",
       "      <td>...</td>\n",
       "      <td>...</td>\n",
       "      <td>...</td>\n",
       "      <td>...</td>\n",
       "      <td>...</td>\n",
       "      <td>...</td>\n",
       "      <td>...</td>\n",
       "      <td>...</td>\n",
       "      <td>...</td>\n",
       "      <td>...</td>\n",
       "      <td>...</td>\n",
       "      <td>...</td>\n",
       "      <td>...</td>\n",
       "      <td>...</td>\n",
       "      <td>...</td>\n",
       "      <td>...</td>\n",
       "    </tr>\n",
       "    <tr>\n",
       "      <th>1637260</th>\n",
       "      <td>NaN</td>\n",
       "      <td>NaN</td>\n",
       "      <td>NaN</td>\n",
       "      <td>NaN</td>\n",
       "      <td>NaN</td>\n",
       "      <td>88888.0</td>\n",
       "      <td>Extranjero</td>\n",
       "      <td>NaN</td>\n",
       "      <td>NaN</td>\n",
       "      <td>NaN</td>\n",
       "      <td>NaN</td>\n",
       "      <td>NaN</td>\n",
       "      <td>S670</td>\n",
       "      <td>W230</td>\n",
       "      <td>8</td>\n",
       "      <td>1</td>\n",
       "      <td>1</td>\n",
       "      <td>NaN</td>\n",
       "      <td>NaN</td>\n",
       "    </tr>\n",
       "    <tr>\n",
       "      <th>1637261</th>\n",
       "      <td>NaN</td>\n",
       "      <td>NaN</td>\n",
       "      <td>NaN</td>\n",
       "      <td>NaN</td>\n",
       "      <td>NaN</td>\n",
       "      <td>99999.0</td>\n",
       "      <td>Ignorada</td>\n",
       "      <td>NaN</td>\n",
       "      <td>NaN</td>\n",
       "      <td>NaN</td>\n",
       "      <td>NaN</td>\n",
       "      <td>NaN</td>\n",
       "      <td>Z411</td>\n",
       "      <td>NaN</td>\n",
       "      <td>2</td>\n",
       "      <td>1</td>\n",
       "      <td>1</td>\n",
       "      <td>NaN</td>\n",
       "      <td>NaN</td>\n",
       "    </tr>\n",
       "    <tr>\n",
       "      <th>1637262</th>\n",
       "      <td>NaN</td>\n",
       "      <td>NaN</td>\n",
       "      <td>NaN</td>\n",
       "      <td>NaN</td>\n",
       "      <td>NaN</td>\n",
       "      <td>1101.0</td>\n",
       "      <td>Iquique</td>\n",
       "      <td>NaN</td>\n",
       "      <td>NaN</td>\n",
       "      <td>NaN</td>\n",
       "      <td>NaN</td>\n",
       "      <td>NaN</td>\n",
       "      <td>O681</td>\n",
       "      <td>NaN</td>\n",
       "      <td>2</td>\n",
       "      <td>1</td>\n",
       "      <td>2</td>\n",
       "      <td>NaN</td>\n",
       "      <td>NaN</td>\n",
       "    </tr>\n",
       "    <tr>\n",
       "      <th>1637263</th>\n",
       "      <td>NaN</td>\n",
       "      <td>NaN</td>\n",
       "      <td>NaN</td>\n",
       "      <td>NaN</td>\n",
       "      <td>NaN</td>\n",
       "      <td>13120.0</td>\n",
       "      <td>Ñuñoa</td>\n",
       "      <td>NaN</td>\n",
       "      <td>NaN</td>\n",
       "      <td>NaN</td>\n",
       "      <td>NaN</td>\n",
       "      <td>NaN</td>\n",
       "      <td>O820</td>\n",
       "      <td>NaN</td>\n",
       "      <td>2</td>\n",
       "      <td>1</td>\n",
       "      <td>1</td>\n",
       "      <td>NaN</td>\n",
       "      <td>NaN</td>\n",
       "    </tr>\n",
       "    <tr>\n",
       "      <th>1637264</th>\n",
       "      <td>NaN</td>\n",
       "      <td>NaN</td>\n",
       "      <td>NaN</td>\n",
       "      <td>NaN</td>\n",
       "      <td>NaN</td>\n",
       "      <td>2201.0</td>\n",
       "      <td>Calama</td>\n",
       "      <td>NaN</td>\n",
       "      <td>NaN</td>\n",
       "      <td>NaN</td>\n",
       "      <td>NaN</td>\n",
       "      <td>NaN</td>\n",
       "      <td>L500</td>\n",
       "      <td>NaN</td>\n",
       "      <td>1</td>\n",
       "      <td>1</td>\n",
       "      <td>2</td>\n",
       "      <td>NaN</td>\n",
       "      <td>NaN</td>\n",
       "    </tr>\n",
       "  </tbody>\n",
       "</table>\n",
       "<p>7941674 rows × 19 columns</p>\n",
       "</div>"
      ],
      "text/plain": [
       "                         PERTENENCIA_ESTABLECIMIENTO_SALUD    SEXO GRUPO_EDAD  \\\n",
       "0        No Pertenecientes al Sistema Nacional de Servi...  HOMBRE      1 a 9   \n",
       "1        No Pertenecientes al Sistema Nacional de Servi...  HOMBRE      1 a 9   \n",
       "2        No Pertenecientes al Sistema Nacional de Servi...  HOMBRE      1 a 9   \n",
       "3        No Pertenecientes al Sistema Nacional de Servi...  HOMBRE      1 a 9   \n",
       "4        No Pertenecientes al Sistema Nacional de Servi...  HOMBRE      1 a 9   \n",
       "...                                                    ...     ...        ...   \n",
       "1637260                                                NaN     NaN        NaN   \n",
       "1637261                                                NaN     NaN        NaN   \n",
       "1637262                                                NaN     NaN        NaN   \n",
       "1637263                                                NaN     NaN        NaN   \n",
       "1637264                                                NaN     NaN        NaN   \n",
       "\n",
       "                                     ETNIA GLOSA_PAIS_ORIGEN  \\\n",
       "0        No se identifica con alguna etnia           Chileno   \n",
       "1        No se identifica con alguna etnia           Chileno   \n",
       "2        No se identifica con alguna etnia           Chileno   \n",
       "3        No se identifica con alguna etnia           Chileno   \n",
       "4        No se identifica con alguna etnia           Chileno   \n",
       "...                                    ...               ...   \n",
       "1637260                                NaN               NaN   \n",
       "1637261                                NaN               NaN   \n",
       "1637262                                NaN               NaN   \n",
       "1637263                                NaN               NaN   \n",
       "1637264                                NaN               NaN   \n",
       "\n",
       "         COMUNA_RESIDENCIA GLOSA_COMUNA_RESIDENCIA  REGION_RESIDENCIA  \\\n",
       "0                   1101.0                 Iquique                1.0   \n",
       "1                   1101.0                 Iquique                1.0   \n",
       "2                   1101.0                 Iquique                1.0   \n",
       "3                   1107.0           Alto Hospicio                1.0   \n",
       "4                   1101.0                 Iquique                1.0   \n",
       "...                    ...                     ...                ...   \n",
       "1637260            88888.0              Extranjero                NaN   \n",
       "1637261            99999.0                Ignorada                NaN   \n",
       "1637262             1101.0                 Iquique                NaN   \n",
       "1637263            13120.0                   Ñuñoa                NaN   \n",
       "1637264             2201.0                  Calama                NaN   \n",
       "\n",
       "        GLOSA_REGION_RESIDENCIA  PREVISION GLOSA_PREVISION  ANO_EGRESO DIAG1  \\\n",
       "0                   De Tarapacá        1.0          FONASA      2020.0  Q531   \n",
       "1                   De Tarapacá        1.0          FONASA      2020.0  Q173   \n",
       "2                   De Tarapacá        1.0          FONASA      2020.0  Z412   \n",
       "3                   De Tarapacá        1.0          FONASA      2020.0  N47X   \n",
       "4                   De Tarapacá        1.0          FONASA      2020.0  N47X   \n",
       "...                         ...        ...             ...         ...   ...   \n",
       "1637260                     NaN        NaN             NaN         NaN  S670   \n",
       "1637261                     NaN        NaN             NaN         NaN  Z411   \n",
       "1637262                     NaN        NaN             NaN         NaN  O681   \n",
       "1637263                     NaN        NaN             NaN         NaN  O820   \n",
       "1637264                     NaN        NaN             NaN         NaN  L500   \n",
       "\n",
       "        DIAG2  DIAS_ESTADA  CONDICION_EGRESO  INTERV_Q  PROCED  \\\n",
       "0         NaN            1                 1         1     2.0   \n",
       "1         NaN            1                 1         1     2.0   \n",
       "2         NaN            1                 1         1     2.0   \n",
       "3         NaN            1                 1         1     2.0   \n",
       "4         NaN            1                 1         1     2.0   \n",
       "...       ...          ...               ...       ...     ...   \n",
       "1637260  W230            8                 1         1     NaN   \n",
       "1637261   NaN            2                 1         1     NaN   \n",
       "1637262   NaN            2                 1         2     NaN   \n",
       "1637263   NaN            2                 1         1     NaN   \n",
       "1637264   NaN            1                 1         2     NaN   \n",
       "\n",
       "        PERTENENCIA_ESTABLECIMIENTO_SALU  \n",
       "0                                    NaN  \n",
       "1                                    NaN  \n",
       "2                                    NaN  \n",
       "3                                    NaN  \n",
       "4                                    NaN  \n",
       "...                                  ...  \n",
       "1637260                              NaN  \n",
       "1637261                              NaN  \n",
       "1637262                              NaN  \n",
       "1637263                              NaN  \n",
       "1637264                              NaN  \n",
       "\n",
       "[7941674 rows x 19 columns]"
      ]
     },
     "execution_count": 43,
     "metadata": {},
     "output_type": "execute_result"
    }
   ],
   "source": [
    "# PANDAS\n",
    "import pandas as pd\n",
    "\n",
    "total = len(csv_list) # para contador\n",
    "\n",
    "print('Comenzando lectura...') #\n",
    "\n",
    "print(f'Leyendo {csv_list[-1].split('\\\\')[-1]} - {0/total:3.0%} ({1:2}/{total})') #\n",
    "df = read_csv_custom_pd(csv_list[-1])\n",
    "\n",
    "for i,csv in enumerate(csv_list[-2::-1], start=2):\n",
    "    print(f'Leyendo {csv.split('\\\\')[-1]} - {(i-1)/total:3.0%} ({i:2}/{total})') #\n",
    "    sub_df = read_csv_custom_pd(csv)\n",
    "    df = pd.concat([df, sub_df])\n",
    "    if i == 5: # NO PESCAR: porque yo corte la lectura\n",
    "        break\n",
    "    \n",
    "print('Lectura finalizada con éxito!') #\n",
    "df\n",
    "\n",
    "# Duracion: 4m 46s"
   ]
  },
  {
   "cell_type": "code",
   "execution_count": null,
   "metadata": {},
   "outputs": [],
   "source": [
    "# Correcion ESTABELCIMIENTO DE SALUD\n",
    "\n",
    "# Rellenar valores nulos en 'Nombre' con los valores de 'Nombr'\n",
    "df['PERTENENCIA_ESTABLECIMIENTO_SALUD'] = df['PERTENENCIA_ESTABLECIMIENTO_SALUD'].fillna(df['PERTENENCIA_ESTABLECIMIENTO_SALU'])\n",
    "\n",
    "# Eliminar la columna 'Nombr' si ya no la necesitas\n",
    "df.drop(columns=['PERTENENCIA_ESTABLECIMIENTO_SALU'], inplace=True)\n",
    "\n",
    "# Verificar el resultado\n",
    "df.head()"
   ]
  },
  {
   "cell_type": "code",
   "execution_count": null,
   "metadata": {},
   "outputs": [],
   "source": [
    "# POLARS\n",
    "total = len(csv_list) # para contador\n",
    "\n",
    "print('Comenzando lectura...')\n",
    "\n",
    "print(f'Leyendo {csv_list[0].split('\\\\')[-1]} - {0/total:3.0%} ({1:2}/{total})')\n",
    "df = read_csv_custom_pl(csv_list[0])\n",
    "\n",
    "for i,csv in enumerate(csv_list[1:], start=2):\n",
    "    print(f'Leyendo {csv.split('\\\\')[-1]} - {(i-1)/total:3.0%} ({i:2}/{total})')\n",
    "    sub_df = read_csv_custom_pl(csv)\n",
    "    df = pl.concat([df, sub_df], how='vertical_relaxed')\n",
    "    \n",
    "print('Lectura finalizada con éxito!')\n",
    "df\n",
    "\n",
    "# Duracion: aprox. 40s (NUNCA ME FUNCIONOO)"
   ]
  },
  {
   "cell_type": "markdown",
   "metadata": {},
   "source": [
    "##### **3. Determine el total de ﬁlas y columnas.**"
   ]
  },
  {
   "cell_type": "code",
   "execution_count": 8,
   "metadata": {},
   "outputs": [
    {
     "data": {
      "text/plain": [
       "(7941674, 18)"
      ]
     },
     "execution_count": 8,
     "metadata": {},
     "output_type": "execute_result"
    }
   ],
   "source": [
    "df.shape"
   ]
  },
  {
   "cell_type": "code",
   "execution_count": 9,
   "metadata": {},
   "outputs": [
    {
     "name": "stdout",
     "output_type": "stream",
     "text": [
      "El dataset contiene 7,941,674 entradas (filas) y 18 variables (columnas).\n"
     ]
    }
   ],
   "source": [
    "print(f'El dataset contiene {df.shape[0]:,} entradas (filas) y {df.shape[1]} variables (columnas).')"
   ]
  },
  {
   "cell_type": "markdown",
   "metadata": {},
   "source": [
    "##### **4. Determine el total de ﬁlas, según sexo biológico.**"
   ]
  },
  {
   "cell_type": "code",
   "execution_count": 11,
   "metadata": {},
   "outputs": [
    {
     "data": {
      "text/plain": [
       "SEXO\n",
       "MUJER     4573118\n",
       "HOMBRE    3170080\n",
       "Name: count, dtype: int64"
      ]
     },
     "execution_count": 11,
     "metadata": {},
     "output_type": "execute_result"
    }
   ],
   "source": [
    "df['SEXO'].value_counts()"
   ]
  },
  {
   "cell_type": "code",
   "execution_count": 12,
   "metadata": {},
   "outputs": [
    {
     "name": "stdout",
     "output_type": "stream",
     "text": [
      "Hay 4,573,118 mujeres y 3,170,080 hombres.\n"
     ]
    }
   ],
   "source": [
    "print(f'Hay {df['SEXO'].value_counts()['MUJER']:,} mujeres y {df['SEXO'].value_counts()['HOMBRE']:,} hombres.')"
   ]
  },
  {
   "cell_type": "markdown",
   "metadata": {},
   "source": [
    "##### **5. Determine la patología que es más frecuente en el conjunto de datos.**"
   ]
  },
  {
   "cell_type": "code",
   "execution_count": 16,
   "metadata": {},
   "outputs": [
    {
     "data": {
      "text/plain": [
       "DIAG1\n",
       "O800    218667\n",
       "O809    154276\n",
       "O829    153988\n",
       "K802    136835\n",
       "O820    136272\n",
       "Name: count, dtype: int64"
      ]
     },
     "execution_count": 16,
     "metadata": {},
     "output_type": "execute_result"
    }
   ],
   "source": [
    "df['DIAG1'].value_counts().sort_values(ascending=False).head()"
   ]
  },
  {
   "cell_type": "code",
   "execution_count": 17,
   "metadata": {},
   "outputs": [
    {
     "name": "stdout",
     "output_type": "stream",
     "text": [
      "El diagnóstico más frecuente es O800 con 218,667 casos.\n"
     ]
    }
   ],
   "source": [
    "serie = df['DIAG1'].value_counts().sort_values(ascending=False)\n",
    "\n",
    "print(f'El diagnóstico más frecuente es {serie.index[0]} con {serie.iloc[0]:,} casos.')"
   ]
  },
  {
   "cell_type": "markdown",
   "metadata": {},
   "source": [
    "##### **6. Filtre únicamente los registros correspondientes a la comuna de Concepción.**"
   ]
  },
  {
   "cell_type": "code",
   "execution_count": 18,
   "metadata": {},
   "outputs": [
    {
     "data": {
      "text/plain": [
       "array(['Aisén', 'Algarrobo', 'Alhué', 'Alto Biobío', 'Alto Hospicio',\n",
       "       'Alto del Carmen', 'Ancud', 'Andacollo', 'Angol', 'Antofagasta',\n",
       "       'Antuco', 'Antártica', 'Arauco', 'Arica', 'Buin', 'Bulnes',\n",
       "       'Cabildo', 'Cabo de Hornos', 'Cabrero', 'Calama', 'Calbuco',\n",
       "       'Caldera', 'Calera', 'Calera de Tango', 'Calle Larga', 'Camarones',\n",
       "       'Camiña', 'Canela', 'Carahue', 'Cartagena', 'Casablanca', 'Castro',\n",
       "       'Catemu', 'Cauquenes', 'Cañete', 'Cerrillos', 'Cerro Navia',\n",
       "       'Chaitén', 'Chanco', 'Chañaral', 'Chiguayante', 'Chile Chico',\n",
       "       'Chillán', 'Chillán Viejo', 'Chimbarongo', 'Cholchol', 'Chonchi',\n",
       "       'Chépica', 'Cisnes', 'Cobquecura', 'Cochamó', 'Cochrane',\n",
       "       'Codegua', 'Coelemu', 'Coihaique', 'Coihueco', 'Coinco', 'Colbún',\n",
       "       'Colchane', 'Colina', 'Collipulli', 'Coltauco', 'Combarbalá',\n",
       "       'Concepción', 'Conchalí', 'Concón', 'Constitución', 'Contulmo',\n",
       "       'Copiapó', 'Coquimbo', 'Coronel', 'Corral', 'Cunco', 'Curacautín',\n",
       "       'Curacaví', 'Curaco de Vélez', 'Curanilahue', 'Curarrehue',\n",
       "       'Curepto', 'Curicó', 'Dalcahue', 'Diego de Almagro', 'Doñihue',\n",
       "       'El Bosque', 'El Carmen', 'El Monte', 'El Quisco', 'El Tabo',\n",
       "       'Empedrado', 'Ercilla', 'Estación Central', 'Extranjero',\n",
       "       'Florida', 'Freire', 'Freirina', 'Fresia', 'Frutillar',\n",
       "       'Futaleufú', 'Futrono', 'Galvarino', 'General Lagos', 'Gorbea',\n",
       "       'Graneros', 'Guaitecas', 'Hijuelas', 'Hualaihué', 'Hualañé',\n",
       "       'Hualpén', 'Hualqui', 'Huara', 'Huasco', 'Huechuraba', 'Ignorada',\n",
       "       'Illapel', 'Independencia', 'Iquique', 'Isla de Maipo',\n",
       "       'Isla\\xa0\\xa0de Pascua', 'Juan Fernández', 'La Cisterna',\n",
       "       'La Cruz', 'La Estrella', 'La Florida', 'La Granja', 'La Higuera',\n",
       "       'La Ligua', 'La Pintana', 'La Reina', 'La Serena', 'La Unión',\n",
       "       'Lago Ranco', 'Lago Verde', 'Laguna Blanca', 'Laja', 'Lampa',\n",
       "       'Lanco', 'Las Cabras', 'Las Condes', 'Lautaro', 'Lebu', 'Licantén',\n",
       "       'Limache', 'Linares', 'Litueche', 'Llaillay', 'Llanquihue',\n",
       "       'Lo Barnechea', 'Lo Espejo', 'Lo Prado', 'Lolol', 'Loncoche',\n",
       "       'Longaví', 'Lonquimay', 'Los Andes', 'Los Lagos', 'Los Muermos',\n",
       "       'Los Sauces', 'Los Vilos', 'Los Álamos', 'Los Ángeles', 'Lota',\n",
       "       'Lumaco', 'Machalí', 'Macul', 'Maipú', 'Malloa', 'Marchihue',\n",
       "       'Mariquina', 'María Elena', 'María Pinto', 'Maule', 'Maullín',\n",
       "       'Mejillones', 'Melipeuco', 'Melipilla', 'Molina', 'Monte Patria',\n",
       "       'Mostazal', 'Mulchén', 'Máfil', 'Nacimiento', 'Nancagua',\n",
       "       'Natales', 'Navidad', 'Negrete', 'Ninhue', 'Nogales',\n",
       "       'Nueva Imperial', \"O'Higgins\", 'Olivar', 'Ollagüe', 'Olmué',\n",
       "       'Osorno', 'Ovalle', 'Padre Hurtado', 'Padre Las Casas', 'Paiguano',\n",
       "       'Paillaco', 'Paine', 'Palena', 'Palmilla', 'Panguipulli',\n",
       "       'Panquehue', 'Papudo', 'Paredones', 'Parral',\n",
       "       'Pedro\\xa0Aguirre Cerda', 'Pelarco', 'Pelluhue', 'Pemuco',\n",
       "       'Pencahue', 'Penco', 'Peralillo', 'Perquenco', 'Petorca', 'Peumo',\n",
       "       'Peñaflor', 'Peñalolén', 'Pica', 'Pichidegua', 'Pichilemu',\n",
       "       'Pinto', 'Pirque', 'Pitrufquén', 'Placilla', 'Portezuelo',\n",
       "       'Porvenir', 'Pozo Almonte', 'Primavera', 'Providencia',\n",
       "       'Puchuncaví', 'Pucón', 'Pudahuel', 'Puente Alto', 'Puerto Montt',\n",
       "       'Puerto Octay', 'Puerto Varas', 'Pumanque', 'Punitaqui',\n",
       "       'Punta Arenas', 'Puqueldón', 'Purranque', 'Purén', 'Putaendo',\n",
       "       'Putre', 'Puyehue', 'Queilén', 'Quellón', 'Quemchi', 'Quilaco',\n",
       "       'Quilicura', 'Quilleco', 'Quillota', 'Quillón', 'Quilpué',\n",
       "       'Quinchao', 'Quinta Normal', 'Quinta de Tilcoco', 'Quintero',\n",
       "       'Quirihue', 'Rancagua', 'Rauco', 'Recoleta', 'Renaico', 'Renca',\n",
       "       'Rengo', 'Requínoa', 'Retiro', 'Rinconada', 'Romeral', 'Ránquil',\n",
       "       'Río Bueno', 'Río Claro', 'Río Hurtado', 'Río Ibáñez', 'Río Negro',\n",
       "       'Río Verde', 'Saavedra', 'Sagrada Familia', 'Salamanca',\n",
       "       'San Antonio', 'San Bernardo', 'San Carlos', 'San Clemente',\n",
       "       'San Esteban', 'San Fabián', 'San Felipe', 'San Fernando',\n",
       "       'San Gregorio', 'San Ignacio', 'San Javier', 'San Joaquín',\n",
       "       'San José de Maipo', 'San Juan de la Costa', 'San Miguel',\n",
       "       'San Nicolás', 'San Pablo', 'San Pedro', 'San Pedro de Atacama',\n",
       "       'San Pedro de la Paz', 'San Rafael', 'San Ramón', 'San Rosendo',\n",
       "       'San Vicente', 'Santa Bárbara', 'Santa Cruz', 'Santa Juana',\n",
       "       'Santa María', 'Santiago', 'Santo Domingo', 'Sierra Gorda',\n",
       "       'Talagante', 'Talca', 'Talcahuano', 'Taltal', 'Temuco', 'Teno',\n",
       "       'Teodoro Schmidt', 'Tierra Amarilla', 'Tiltil', 'Timaukel',\n",
       "       'Tirúa', 'Tocopilla', 'Toltén', 'Tomé', 'Torres del Paine',\n",
       "       'Tortel', 'Traiguén', 'Treguaco', 'Tucapel', 'Valdivia',\n",
       "       'Vallenar', 'Valparaíso', 'Vichuquén', 'Victoria', 'Vicuña',\n",
       "       'Vilcún', 'Villa Alegre', 'Villa Alemana', 'Villarrica',\n",
       "       'Vitacura', 'Viña del Mar', 'Yerbas Buenas', 'Yumbel', 'Yungay',\n",
       "       'Zapallar', 'Ñiquén', 'Ñuñoa'], dtype=object)"
      ]
     },
     "execution_count": 18,
     "metadata": {},
     "output_type": "execute_result"
    }
   ],
   "source": [
    "comunas = df['GLOSA_COMUNA_RESIDENCIA'].dropna().unique()\n",
    "comunas.sort()\n",
    "comunas"
   ]
  },
  {
   "cell_type": "code",
   "execution_count": 19,
   "metadata": {},
   "outputs": [
    {
     "data": {
      "text/html": [
       "<div>\n",
       "<style scoped>\n",
       "    .dataframe tbody tr th:only-of-type {\n",
       "        vertical-align: middle;\n",
       "    }\n",
       "\n",
       "    .dataframe tbody tr th {\n",
       "        vertical-align: top;\n",
       "    }\n",
       "\n",
       "    .dataframe thead th {\n",
       "        text-align: right;\n",
       "    }\n",
       "</style>\n",
       "<table border=\"1\" class=\"dataframe\">\n",
       "  <thead>\n",
       "    <tr style=\"text-align: right;\">\n",
       "      <th></th>\n",
       "      <th>PERTENENCIA_ESTABLECIMIENTO_SALUD</th>\n",
       "      <th>SEXO</th>\n",
       "      <th>GRUPO_EDAD</th>\n",
       "      <th>ETNIA</th>\n",
       "      <th>GLOSA_PAIS_ORIGEN</th>\n",
       "      <th>COMUNA_RESIDENCIA</th>\n",
       "      <th>GLOSA_COMUNA_RESIDENCIA</th>\n",
       "      <th>REGION_RESIDENCIA</th>\n",
       "      <th>GLOSA_REGION_RESIDENCIA</th>\n",
       "      <th>PREVISION</th>\n",
       "      <th>GLOSA_PREVISION</th>\n",
       "      <th>ANO_EGRESO</th>\n",
       "      <th>DIAG1</th>\n",
       "      <th>DIAG2</th>\n",
       "      <th>DIAS_ESTADA</th>\n",
       "      <th>CONDICION_EGRESO</th>\n",
       "      <th>INTERV_Q</th>\n",
       "      <th>PROCED</th>\n",
       "    </tr>\n",
       "  </thead>\n",
       "  <tbody>\n",
       "    <tr>\n",
       "      <th>14338</th>\n",
       "      <td>No Pertenecientes al Sistema Nacional de Servi...</td>\n",
       "      <td>HOMBRE</td>\n",
       "      <td>1 a 9</td>\n",
       "      <td>No se identifica con alguna etnia</td>\n",
       "      <td>Chileno</td>\n",
       "      <td>8101.0</td>\n",
       "      <td>Concepción</td>\n",
       "      <td>8.0</td>\n",
       "      <td>Del Bíobío</td>\n",
       "      <td>1.0</td>\n",
       "      <td>FONASA</td>\n",
       "      <td>2020.0</td>\n",
       "      <td>G800</td>\n",
       "      <td>NaN</td>\n",
       "      <td>111</td>\n",
       "      <td>1</td>\n",
       "      <td>2</td>\n",
       "      <td>2.0</td>\n",
       "    </tr>\n",
       "    <tr>\n",
       "      <th>14339</th>\n",
       "      <td>No Pertenecientes al Sistema Nacional de Servi...</td>\n",
       "      <td>HOMBRE</td>\n",
       "      <td>1 a 9</td>\n",
       "      <td>No se identifica con alguna etnia</td>\n",
       "      <td>Chileno</td>\n",
       "      <td>8101.0</td>\n",
       "      <td>Concepción</td>\n",
       "      <td>8.0</td>\n",
       "      <td>Del Bíobío</td>\n",
       "      <td>1.0</td>\n",
       "      <td>FONASA</td>\n",
       "      <td>2020.0</td>\n",
       "      <td>N289</td>\n",
       "      <td>NaN</td>\n",
       "      <td>5</td>\n",
       "      <td>1</td>\n",
       "      <td>1</td>\n",
       "      <td>2.0</td>\n",
       "    </tr>\n",
       "    <tr>\n",
       "      <th>14343</th>\n",
       "      <td>No Pertenecientes al Sistema Nacional de Servi...</td>\n",
       "      <td>HOMBRE</td>\n",
       "      <td>1 a 9</td>\n",
       "      <td>No se identifica con alguna etnia</td>\n",
       "      <td>Chileno</td>\n",
       "      <td>8101.0</td>\n",
       "      <td>Concepción</td>\n",
       "      <td>8.0</td>\n",
       "      <td>Del Bíobío</td>\n",
       "      <td>1.0</td>\n",
       "      <td>FONASA</td>\n",
       "      <td>2020.0</td>\n",
       "      <td>K409</td>\n",
       "      <td>NaN</td>\n",
       "      <td>1</td>\n",
       "      <td>1</td>\n",
       "      <td>1</td>\n",
       "      <td>2.0</td>\n",
       "    </tr>\n",
       "    <tr>\n",
       "      <th>14349</th>\n",
       "      <td>No Pertenecientes al Sistema Nacional de Servi...</td>\n",
       "      <td>HOMBRE</td>\n",
       "      <td>1 a 9</td>\n",
       "      <td>No se identifica con alguna etnia</td>\n",
       "      <td>Chileno</td>\n",
       "      <td>8101.0</td>\n",
       "      <td>Concepción</td>\n",
       "      <td>8.0</td>\n",
       "      <td>Del Bíobío</td>\n",
       "      <td>1.0</td>\n",
       "      <td>FONASA</td>\n",
       "      <td>2020.0</td>\n",
       "      <td>Q539</td>\n",
       "      <td>NaN</td>\n",
       "      <td>1</td>\n",
       "      <td>1</td>\n",
       "      <td>1</td>\n",
       "      <td>2.0</td>\n",
       "    </tr>\n",
       "    <tr>\n",
       "      <th>14354</th>\n",
       "      <td>No Pertenecientes al Sistema Nacional de Servi...</td>\n",
       "      <td>HOMBRE</td>\n",
       "      <td>1 a 9</td>\n",
       "      <td>No se identifica con alguna etnia</td>\n",
       "      <td>Chileno</td>\n",
       "      <td>8101.0</td>\n",
       "      <td>Concepción</td>\n",
       "      <td>8.0</td>\n",
       "      <td>Del Bíobío</td>\n",
       "      <td>1.0</td>\n",
       "      <td>FONASA</td>\n",
       "      <td>2020.0</td>\n",
       "      <td>N47X</td>\n",
       "      <td>NaN</td>\n",
       "      <td>1</td>\n",
       "      <td>1</td>\n",
       "      <td>1</td>\n",
       "      <td>2.0</td>\n",
       "    </tr>\n",
       "    <tr>\n",
       "      <th>...</th>\n",
       "      <td>...</td>\n",
       "      <td>...</td>\n",
       "      <td>...</td>\n",
       "      <td>...</td>\n",
       "      <td>...</td>\n",
       "      <td>...</td>\n",
       "      <td>...</td>\n",
       "      <td>...</td>\n",
       "      <td>...</td>\n",
       "      <td>...</td>\n",
       "      <td>...</td>\n",
       "      <td>...</td>\n",
       "      <td>...</td>\n",
       "      <td>...</td>\n",
       "      <td>...</td>\n",
       "      <td>...</td>\n",
       "      <td>...</td>\n",
       "      <td>...</td>\n",
       "    </tr>\n",
       "    <tr>\n",
       "      <th>1637152</th>\n",
       "      <td>NaN</td>\n",
       "      <td>NaN</td>\n",
       "      <td>NaN</td>\n",
       "      <td>NaN</td>\n",
       "      <td>NaN</td>\n",
       "      <td>8101.0</td>\n",
       "      <td>Concepción</td>\n",
       "      <td>NaN</td>\n",
       "      <td>NaN</td>\n",
       "      <td>NaN</td>\n",
       "      <td>NaN</td>\n",
       "      <td>NaN</td>\n",
       "      <td>Q234</td>\n",
       "      <td>NaN</td>\n",
       "      <td>6</td>\n",
       "      <td>1</td>\n",
       "      <td>1</td>\n",
       "      <td>NaN</td>\n",
       "    </tr>\n",
       "    <tr>\n",
       "      <th>1637173</th>\n",
       "      <td>NaN</td>\n",
       "      <td>NaN</td>\n",
       "      <td>NaN</td>\n",
       "      <td>NaN</td>\n",
       "      <td>NaN</td>\n",
       "      <td>8101.0</td>\n",
       "      <td>Concepción</td>\n",
       "      <td>NaN</td>\n",
       "      <td>NaN</td>\n",
       "      <td>NaN</td>\n",
       "      <td>NaN</td>\n",
       "      <td>NaN</td>\n",
       "      <td>I269</td>\n",
       "      <td>NaN</td>\n",
       "      <td>16</td>\n",
       "      <td>1</td>\n",
       "      <td>2</td>\n",
       "      <td>NaN</td>\n",
       "    </tr>\n",
       "    <tr>\n",
       "      <th>1637196</th>\n",
       "      <td>NaN</td>\n",
       "      <td>NaN</td>\n",
       "      <td>NaN</td>\n",
       "      <td>NaN</td>\n",
       "      <td>NaN</td>\n",
       "      <td>8101.0</td>\n",
       "      <td>Concepción</td>\n",
       "      <td>NaN</td>\n",
       "      <td>NaN</td>\n",
       "      <td>NaN</td>\n",
       "      <td>NaN</td>\n",
       "      <td>NaN</td>\n",
       "      <td>N819</td>\n",
       "      <td>NaN</td>\n",
       "      <td>3</td>\n",
       "      <td>1</td>\n",
       "      <td>1</td>\n",
       "      <td>NaN</td>\n",
       "    </tr>\n",
       "    <tr>\n",
       "      <th>1637242</th>\n",
       "      <td>NaN</td>\n",
       "      <td>NaN</td>\n",
       "      <td>NaN</td>\n",
       "      <td>NaN</td>\n",
       "      <td>NaN</td>\n",
       "      <td>8101.0</td>\n",
       "      <td>Concepción</td>\n",
       "      <td>NaN</td>\n",
       "      <td>NaN</td>\n",
       "      <td>NaN</td>\n",
       "      <td>NaN</td>\n",
       "      <td>NaN</td>\n",
       "      <td>P073</td>\n",
       "      <td>NaN</td>\n",
       "      <td>7</td>\n",
       "      <td>1</td>\n",
       "      <td>2</td>\n",
       "      <td>NaN</td>\n",
       "    </tr>\n",
       "    <tr>\n",
       "      <th>1637244</th>\n",
       "      <td>NaN</td>\n",
       "      <td>NaN</td>\n",
       "      <td>NaN</td>\n",
       "      <td>NaN</td>\n",
       "      <td>NaN</td>\n",
       "      <td>8101.0</td>\n",
       "      <td>Concepción</td>\n",
       "      <td>NaN</td>\n",
       "      <td>NaN</td>\n",
       "      <td>NaN</td>\n",
       "      <td>NaN</td>\n",
       "      <td>NaN</td>\n",
       "      <td>P034</td>\n",
       "      <td>NaN</td>\n",
       "      <td>3</td>\n",
       "      <td>1</td>\n",
       "      <td>2</td>\n",
       "      <td>NaN</td>\n",
       "    </tr>\n",
       "  </tbody>\n",
       "</table>\n",
       "<p>117610 rows × 18 columns</p>\n",
       "</div>"
      ],
      "text/plain": [
       "                         PERTENENCIA_ESTABLECIMIENTO_SALUD    SEXO GRUPO_EDAD  \\\n",
       "14338    No Pertenecientes al Sistema Nacional de Servi...  HOMBRE      1 a 9   \n",
       "14339    No Pertenecientes al Sistema Nacional de Servi...  HOMBRE      1 a 9   \n",
       "14343    No Pertenecientes al Sistema Nacional de Servi...  HOMBRE      1 a 9   \n",
       "14349    No Pertenecientes al Sistema Nacional de Servi...  HOMBRE      1 a 9   \n",
       "14354    No Pertenecientes al Sistema Nacional de Servi...  HOMBRE      1 a 9   \n",
       "...                                                    ...     ...        ...   \n",
       "1637152                                                NaN     NaN        NaN   \n",
       "1637173                                                NaN     NaN        NaN   \n",
       "1637196                                                NaN     NaN        NaN   \n",
       "1637242                                                NaN     NaN        NaN   \n",
       "1637244                                                NaN     NaN        NaN   \n",
       "\n",
       "                                     ETNIA GLOSA_PAIS_ORIGEN  \\\n",
       "14338    No se identifica con alguna etnia           Chileno   \n",
       "14339    No se identifica con alguna etnia           Chileno   \n",
       "14343    No se identifica con alguna etnia           Chileno   \n",
       "14349    No se identifica con alguna etnia           Chileno   \n",
       "14354    No se identifica con alguna etnia           Chileno   \n",
       "...                                    ...               ...   \n",
       "1637152                                NaN               NaN   \n",
       "1637173                                NaN               NaN   \n",
       "1637196                                NaN               NaN   \n",
       "1637242                                NaN               NaN   \n",
       "1637244                                NaN               NaN   \n",
       "\n",
       "         COMUNA_RESIDENCIA GLOSA_COMUNA_RESIDENCIA  REGION_RESIDENCIA  \\\n",
       "14338               8101.0              Concepción                8.0   \n",
       "14339               8101.0              Concepción                8.0   \n",
       "14343               8101.0              Concepción                8.0   \n",
       "14349               8101.0              Concepción                8.0   \n",
       "14354               8101.0              Concepción                8.0   \n",
       "...                    ...                     ...                ...   \n",
       "1637152             8101.0              Concepción                NaN   \n",
       "1637173             8101.0              Concepción                NaN   \n",
       "1637196             8101.0              Concepción                NaN   \n",
       "1637242             8101.0              Concepción                NaN   \n",
       "1637244             8101.0              Concepción                NaN   \n",
       "\n",
       "        GLOSA_REGION_RESIDENCIA  PREVISION GLOSA_PREVISION  ANO_EGRESO DIAG1  \\\n",
       "14338                Del Bíobío        1.0          FONASA      2020.0  G800   \n",
       "14339                Del Bíobío        1.0          FONASA      2020.0  N289   \n",
       "14343                Del Bíobío        1.0          FONASA      2020.0  K409   \n",
       "14349                Del Bíobío        1.0          FONASA      2020.0  Q539   \n",
       "14354                Del Bíobío        1.0          FONASA      2020.0  N47X   \n",
       "...                         ...        ...             ...         ...   ...   \n",
       "1637152                     NaN        NaN             NaN         NaN  Q234   \n",
       "1637173                     NaN        NaN             NaN         NaN  I269   \n",
       "1637196                     NaN        NaN             NaN         NaN  N819   \n",
       "1637242                     NaN        NaN             NaN         NaN  P073   \n",
       "1637244                     NaN        NaN             NaN         NaN  P034   \n",
       "\n",
       "        DIAG2  DIAS_ESTADA  CONDICION_EGRESO  INTERV_Q  PROCED  \n",
       "14338     NaN          111                 1         2     2.0  \n",
       "14339     NaN            5                 1         1     2.0  \n",
       "14343     NaN            1                 1         1     2.0  \n",
       "14349     NaN            1                 1         1     2.0  \n",
       "14354     NaN            1                 1         1     2.0  \n",
       "...       ...          ...               ...       ...     ...  \n",
       "1637152   NaN            6                 1         1     NaN  \n",
       "1637173   NaN           16                 1         2     NaN  \n",
       "1637196   NaN            3                 1         1     NaN  \n",
       "1637242   NaN            7                 1         2     NaN  \n",
       "1637244   NaN            3                 1         2     NaN  \n",
       "\n",
       "[117610 rows x 18 columns]"
      ]
     },
     "execution_count": 19,
     "metadata": {},
     "output_type": "execute_result"
    }
   ],
   "source": [
    "filtro_concepción = df['GLOSA_COMUNA_RESIDENCIA'] == 'Concepción'\n",
    "df[filtro_concepción]"
   ]
  },
  {
   "cell_type": "markdown",
   "metadata": {},
   "source": [
    "##### **7. Calcule el total de ﬁlas correspondientes a las comunas de Cañete, Los Ángeles y Chillán.**"
   ]
  },
  {
   "cell_type": "code",
   "execution_count": 52,
   "metadata": {},
   "outputs": [
    {
     "data": {
      "text/plain": [
       "213825"
      ]
     },
     "execution_count": 52,
     "metadata": {},
     "output_type": "execute_result"
    }
   ],
   "source": [
    "df['GLOSA_COMUNA_RESIDENCIA'].unique()\n",
    "lista_comunas = ['Cañete', 'Los Ángeles', 'Chillán']\n",
    "filtro_comunas = df['GLOSA_COMUNA_RESIDENCIA'].isin(lista_comunas)\n",
    "\n",
    "len(df[filtro_comunas])"
   ]
  },
  {
   "cell_type": "code",
   "execution_count": 53,
   "metadata": {},
   "outputs": [
    {
     "data": {
      "text/html": [
       "<div>\n",
       "<style scoped>\n",
       "    .dataframe tbody tr th:only-of-type {\n",
       "        vertical-align: middle;\n",
       "    }\n",
       "\n",
       "    .dataframe tbody tr th {\n",
       "        vertical-align: top;\n",
       "    }\n",
       "\n",
       "    .dataframe thead th {\n",
       "        text-align: right;\n",
       "    }\n",
       "</style>\n",
       "<table border=\"1\" class=\"dataframe\">\n",
       "  <thead>\n",
       "    <tr style=\"text-align: right;\">\n",
       "      <th></th>\n",
       "      <th>SEXO</th>\n",
       "    </tr>\n",
       "    <tr>\n",
       "      <th>GLOSA_COMUNA_RESIDENCIA</th>\n",
       "      <th></th>\n",
       "    </tr>\n",
       "  </thead>\n",
       "  <tbody>\n",
       "    <tr>\n",
       "      <th>Cañete</th>\n",
       "      <td>23833</td>\n",
       "    </tr>\n",
       "    <tr>\n",
       "      <th>Chillán</th>\n",
       "      <td>83446</td>\n",
       "    </tr>\n",
       "    <tr>\n",
       "      <th>Los Ángeles</th>\n",
       "      <td>102524</td>\n",
       "    </tr>\n",
       "  </tbody>\n",
       "</table>\n",
       "</div>"
      ],
      "text/plain": [
       "                           SEXO\n",
       "GLOSA_COMUNA_RESIDENCIA        \n",
       "Cañete                    23833\n",
       "Chillán                   83446\n",
       "Los Ángeles              102524"
      ]
     },
     "execution_count": 53,
     "metadata": {},
     "output_type": "execute_result"
    }
   ],
   "source": [
    "df[filtro_comunas].groupby('GLOSA_COMUNA_RESIDENCIA').agg({'SEXO':'count'})"
   ]
  },
  {
   "cell_type": "markdown",
   "metadata": {},
   "source": [
    "###### Solución"
   ]
  },
  {
   "cell_type": "code",
   "execution_count": null,
   "metadata": {},
   "outputs": [
    {
     "data": {
      "text/html": [
       "<div><style>\n",
       ".dataframe > thead > tr,\n",
       ".dataframe > tbody > tr {\n",
       "  text-align: right;\n",
       "  white-space: pre-wrap;\n",
       "}\n",
       "</style>\n",
       "<small>shape: (0, 0)</small><table border=\"1\" class=\"dataframe\"><thead><tr></tr><tr></tr></thead><tbody></tbody></table></div>"
      ],
      "text/plain": [
       "shape: (0, 0)\n",
       "┌┐\n",
       "╞╡\n",
       "└┘"
      ]
     },
     "execution_count": 21,
     "metadata": {},
     "output_type": "execute_result"
    }
   ],
   "source": [
    "import polars as pl\n",
    "a = pl.DataFrame()\n",
    "a"
   ]
  },
  {
   "cell_type": "code",
   "execution_count": null,
   "metadata": {},
   "outputs": [],
   "source": [
    "filtro_comunas = df['GLOSA_COMUNA_RESIDENCIA'].isin(['Cañete', 'Los Ángeles', 'Chillán'])\n",
    "df[filtro_comunas]"
   ]
  },
  {
   "cell_type": "code",
   "execution_count": null,
   "metadata": {},
   "outputs": [],
   "source": [
    "len(df[df['GLOSA_COMUNA_RESIDENCIA'].isin(['Cañete', 'Los Ángeles', 'Chillán'])])"
   ]
  },
  {
   "cell_type": "code",
   "execution_count": null,
   "metadata": {},
   "outputs": [],
   "source": [
    "print('Hay', len(df[df['GLOSA_COMUNA_RESIDENCIA'].isin(['Cañete', 'Los Ángeles', 'Chillán'])]), 'casos en las comunas de Cañete, Los Ángeles y Chillán.')"
   ]
  },
  {
   "cell_type": "markdown",
   "metadata": {},
   "source": [
    "##### **8. Calcule el total de ﬁlas correspondientes a las comunas de Santa Juana, Maipú, Puente Alto y Pudahuel, en los años de egresos 2021 y 2022.**"
   ]
  },
  {
   "cell_type": "code",
   "execution_count": null,
   "metadata": {},
   "outputs": [],
   "source": []
  },
  {
   "cell_type": "markdown",
   "metadata": {},
   "source": [
    "###### Solución"
   ]
  },
  {
   "cell_type": "code",
   "execution_count": null,
   "metadata": {},
   "outputs": [],
   "source": [
    "filtro_comuna = df['GLOSA_COMUNA_RESIDENCIA'].isin(['Santa Juana', 'Puente Alto', 'Maipú', 'Pudahuel'])\n",
    "filtro_fecha = df['ANO_EGRESO']<=2019\n",
    "filtro_fecha2 = df['ANO_EGRESO']>=2018\n",
    "\n",
    "df_filtrado = df[filtro_comuna &\n",
    "\t\t\t\t filtro_fecha &\n",
    "\t\t\t\t filtro_fecha2\n",
    "    \t\t\t]\n",
    "\n",
    "df_filtrado"
   ]
  },
  {
   "cell_type": "code",
   "execution_count": null,
   "metadata": {},
   "outputs": [],
   "source": [
    "len(df_filtrado)"
   ]
  },
  {
   "cell_type": "markdown",
   "metadata": {},
   "source": [
    "##### **9. Filtre los registros correspondientes a años de egreso pares. Evite deﬁnir año a año en el ﬁltro .**"
   ]
  },
  {
   "cell_type": "code",
   "execution_count": null,
   "metadata": {},
   "outputs": [
    {
     "data": {
      "text/plain": [
       "['data/egresos hospitalarios\\\\EGRESOS_2001\\\\EGRE_DATOS_ABIERTOS_2001.csv',\n",
       " 'data/egresos hospitalarios\\\\EGRESOS_2002\\\\EGRE_DATOS_ABIERTOS_2002.csv',\n",
       " 'data/egresos hospitalarios\\\\EGRESOS_2003\\\\EGRE_DATOS_ABIERTOS_2003.csv',\n",
       " 'data/egresos hospitalarios\\\\EGRESOS_2004\\\\EGRE_DATOS_ABIERTOS_2004.csv',\n",
       " 'data/egresos hospitalarios\\\\EGRESOS_2005\\\\EGRE_DATOS_ABIERTOS_2005.csv',\n",
       " 'data/egresos hospitalarios\\\\EGRESOS_2006\\\\EGRE_DATOS_ABIERTOS_2006.csv',\n",
       " 'data/egresos hospitalarios\\\\EGRESOS_2007\\\\EGRE_DATOS_ABIERTOS_2007.csv',\n",
       " 'data/egresos hospitalarios\\\\EGRESOS_2008\\\\EGRE_DATOS_ABIERTOS_2008.csv',\n",
       " 'data/egresos hospitalarios\\\\EGRESOS_2009\\\\EGRE_DATOS_ABIERTOS_2009.csv',\n",
       " 'data/egresos hospitalarios\\\\EGRESOS_2010\\\\EGRE_DATOS_ABIERTOS_2010.csv',\n",
       " 'data/egresos hospitalarios\\\\EGRESOS_2011\\\\EGRE_DATOS_ABIERTOS_2011.csv',\n",
       " 'data/egresos hospitalarios\\\\EGRESOS_2012\\\\EGRE_DATOS_ABIERTOS_2012.csv',\n",
       " 'data/egresos hospitalarios\\\\EGRESOS_2013\\\\EGRE_DATOS_ABIERTOS_2013.csv',\n",
       " 'data/egresos hospitalarios\\\\EGRESOS_2014\\\\EGRE_DATOS_ABIERTOS_2014.csv',\n",
       " 'data/egresos hospitalarios\\\\EGRESOS_2015\\\\EGRE_DATOS_ABIERTOS_2015.csv',\n",
       " 'data/egresos hospitalarios\\\\EGRESOS_2016\\\\EGRE_DATOS_ABIERTOS_2016.csv',\n",
       " 'data/egresos hospitalarios\\\\EGRESOS_2017\\\\EGRE_DATOS_ABIERTOS_2017.csv',\n",
       " 'data/egresos hospitalarios\\\\EGRESOS_2018\\\\EGRE_DATOS_ABIERTOS_2018.csv',\n",
       " 'data/egresos hospitalarios\\\\EGRESOS_2019\\\\EGRE_DATOS_ABIERTOS_2019.csv',\n",
       " 'data/egresos hospitalarios\\\\EGRESOS_2020\\\\EGRE_DATOS_ABIERTOS_2020.csv']"
      ]
     },
     "execution_count": 54,
     "metadata": {},
     "output_type": "execute_result"
    }
   ],
   "source": [
    "# NOTA SOBRE GLOB\n",
    "from glob import glob # Biblioteca para buscar archivos\n",
    "\n",
    "glob('data/egresos hospitalarios/*/*.csv')"
   ]
  },
  {
   "cell_type": "markdown",
   "metadata": {},
   "source": [
    "###### Solución"
   ]
  },
  {
   "cell_type": "code",
   "execution_count": 55,
   "metadata": {},
   "outputs": [
    {
     "data": {
      "text/html": [
       "<div>\n",
       "<style scoped>\n",
       "    .dataframe tbody tr th:only-of-type {\n",
       "        vertical-align: middle;\n",
       "    }\n",
       "\n",
       "    .dataframe tbody tr th {\n",
       "        vertical-align: top;\n",
       "    }\n",
       "\n",
       "    .dataframe thead th {\n",
       "        text-align: right;\n",
       "    }\n",
       "</style>\n",
       "<table border=\"1\" class=\"dataframe\">\n",
       "  <thead>\n",
       "    <tr style=\"text-align: right;\">\n",
       "      <th></th>\n",
       "      <th>PERTENENCIA_ESTABLECIMIENTO_SALUD</th>\n",
       "      <th>SEXO</th>\n",
       "      <th>GRUPO_EDAD</th>\n",
       "      <th>ETNIA</th>\n",
       "      <th>GLOSA_PAIS_ORIGEN</th>\n",
       "      <th>COMUNA_RESIDENCIA</th>\n",
       "      <th>GLOSA_COMUNA_RESIDENCIA</th>\n",
       "      <th>REGION_RESIDENCIA</th>\n",
       "      <th>GLOSA_REGION_RESIDENCIA</th>\n",
       "      <th>PREVISION</th>\n",
       "      <th>GLOSA_PREVISION</th>\n",
       "      <th>ANO_EGRESO</th>\n",
       "      <th>DIAG1</th>\n",
       "      <th>DIAG2</th>\n",
       "      <th>DIAS_ESTADA</th>\n",
       "      <th>CONDICION_EGRESO</th>\n",
       "      <th>INTERV_Q</th>\n",
       "      <th>PROCED</th>\n",
       "      <th>PERTENENCIA_ESTABLECIMIENTO_SALU</th>\n",
       "    </tr>\n",
       "  </thead>\n",
       "  <tbody>\n",
       "    <tr>\n",
       "      <th>0</th>\n",
       "      <td>No Pertenecientes al Sistema Nacional de Servi...</td>\n",
       "      <td>HOMBRE</td>\n",
       "      <td>1 a 9</td>\n",
       "      <td>No se identifica con alguna etnia</td>\n",
       "      <td>Chileno</td>\n",
       "      <td>1101.0</td>\n",
       "      <td>Iquique</td>\n",
       "      <td>1.0</td>\n",
       "      <td>De Tarapacá</td>\n",
       "      <td>1.0</td>\n",
       "      <td>FONASA</td>\n",
       "      <td>2020.0</td>\n",
       "      <td>Q531</td>\n",
       "      <td>NaN</td>\n",
       "      <td>1</td>\n",
       "      <td>1</td>\n",
       "      <td>1</td>\n",
       "      <td>2.0</td>\n",
       "      <td>NaN</td>\n",
       "    </tr>\n",
       "    <tr>\n",
       "      <th>1</th>\n",
       "      <td>No Pertenecientes al Sistema Nacional de Servi...</td>\n",
       "      <td>HOMBRE</td>\n",
       "      <td>1 a 9</td>\n",
       "      <td>No se identifica con alguna etnia</td>\n",
       "      <td>Chileno</td>\n",
       "      <td>1101.0</td>\n",
       "      <td>Iquique</td>\n",
       "      <td>1.0</td>\n",
       "      <td>De Tarapacá</td>\n",
       "      <td>1.0</td>\n",
       "      <td>FONASA</td>\n",
       "      <td>2020.0</td>\n",
       "      <td>Q173</td>\n",
       "      <td>NaN</td>\n",
       "      <td>1</td>\n",
       "      <td>1</td>\n",
       "      <td>1</td>\n",
       "      <td>2.0</td>\n",
       "      <td>NaN</td>\n",
       "    </tr>\n",
       "    <tr>\n",
       "      <th>2</th>\n",
       "      <td>No Pertenecientes al Sistema Nacional de Servi...</td>\n",
       "      <td>HOMBRE</td>\n",
       "      <td>1 a 9</td>\n",
       "      <td>No se identifica con alguna etnia</td>\n",
       "      <td>Chileno</td>\n",
       "      <td>1101.0</td>\n",
       "      <td>Iquique</td>\n",
       "      <td>1.0</td>\n",
       "      <td>De Tarapacá</td>\n",
       "      <td>1.0</td>\n",
       "      <td>FONASA</td>\n",
       "      <td>2020.0</td>\n",
       "      <td>Z412</td>\n",
       "      <td>NaN</td>\n",
       "      <td>1</td>\n",
       "      <td>1</td>\n",
       "      <td>1</td>\n",
       "      <td>2.0</td>\n",
       "      <td>NaN</td>\n",
       "    </tr>\n",
       "    <tr>\n",
       "      <th>3</th>\n",
       "      <td>No Pertenecientes al Sistema Nacional de Servi...</td>\n",
       "      <td>HOMBRE</td>\n",
       "      <td>1 a 9</td>\n",
       "      <td>No se identifica con alguna etnia</td>\n",
       "      <td>Chileno</td>\n",
       "      <td>1107.0</td>\n",
       "      <td>Alto Hospicio</td>\n",
       "      <td>1.0</td>\n",
       "      <td>De Tarapacá</td>\n",
       "      <td>1.0</td>\n",
       "      <td>FONASA</td>\n",
       "      <td>2020.0</td>\n",
       "      <td>N47X</td>\n",
       "      <td>NaN</td>\n",
       "      <td>1</td>\n",
       "      <td>1</td>\n",
       "      <td>1</td>\n",
       "      <td>2.0</td>\n",
       "      <td>NaN</td>\n",
       "    </tr>\n",
       "    <tr>\n",
       "      <th>4</th>\n",
       "      <td>No Pertenecientes al Sistema Nacional de Servi...</td>\n",
       "      <td>HOMBRE</td>\n",
       "      <td>1 a 9</td>\n",
       "      <td>No se identifica con alguna etnia</td>\n",
       "      <td>Chileno</td>\n",
       "      <td>1101.0</td>\n",
       "      <td>Iquique</td>\n",
       "      <td>1.0</td>\n",
       "      <td>De Tarapacá</td>\n",
       "      <td>1.0</td>\n",
       "      <td>FONASA</td>\n",
       "      <td>2020.0</td>\n",
       "      <td>N47X</td>\n",
       "      <td>NaN</td>\n",
       "      <td>1</td>\n",
       "      <td>1</td>\n",
       "      <td>1</td>\n",
       "      <td>2.0</td>\n",
       "      <td>NaN</td>\n",
       "    </tr>\n",
       "    <tr>\n",
       "      <th>...</th>\n",
       "      <td>...</td>\n",
       "      <td>...</td>\n",
       "      <td>...</td>\n",
       "      <td>...</td>\n",
       "      <td>...</td>\n",
       "      <td>...</td>\n",
       "      <td>...</td>\n",
       "      <td>...</td>\n",
       "      <td>...</td>\n",
       "      <td>...</td>\n",
       "      <td>...</td>\n",
       "      <td>...</td>\n",
       "      <td>...</td>\n",
       "      <td>...</td>\n",
       "      <td>...</td>\n",
       "      <td>...</td>\n",
       "      <td>...</td>\n",
       "      <td>...</td>\n",
       "      <td>...</td>\n",
       "    </tr>\n",
       "    <tr>\n",
       "      <th>1604451</th>\n",
       "      <td>No Pertenecientes al Sistema Nacional de Servi...</td>\n",
       "      <td>MUJER</td>\n",
       "      <td>menor de un año</td>\n",
       "      <td>Si se identifica con alguna etnia</td>\n",
       "      <td>Chileno</td>\n",
       "      <td>13114.0</td>\n",
       "      <td>Las Condes</td>\n",
       "      <td>13.0</td>\n",
       "      <td>Metropolitana de Santiago</td>\n",
       "      <td>99.0</td>\n",
       "      <td>DESCONOCIDO</td>\n",
       "      <td>2016.0</td>\n",
       "      <td>K429</td>\n",
       "      <td>NaN</td>\n",
       "      <td>1</td>\n",
       "      <td>1</td>\n",
       "      <td>1</td>\n",
       "      <td>NaN</td>\n",
       "      <td>NaN</td>\n",
       "    </tr>\n",
       "    <tr>\n",
       "      <th>1604452</th>\n",
       "      <td>No Pertenecientes al Sistema Nacional de Servi...</td>\n",
       "      <td>MUJER</td>\n",
       "      <td>menor de un año</td>\n",
       "      <td>Si se identifica con alguna etnia</td>\n",
       "      <td>Chileno</td>\n",
       "      <td>13122.0</td>\n",
       "      <td>Peñalolén</td>\n",
       "      <td>13.0</td>\n",
       "      <td>Metropolitana de Santiago</td>\n",
       "      <td>99.0</td>\n",
       "      <td>DESCONOCIDO</td>\n",
       "      <td>2016.0</td>\n",
       "      <td>P072</td>\n",
       "      <td>NaN</td>\n",
       "      <td>59</td>\n",
       "      <td>2</td>\n",
       "      <td>1</td>\n",
       "      <td>NaN</td>\n",
       "      <td>NaN</td>\n",
       "    </tr>\n",
       "    <tr>\n",
       "      <th>1604453</th>\n",
       "      <td>Pertenecientes al Sistema Nacional de Servicio...</td>\n",
       "      <td>MUJER</td>\n",
       "      <td>menor de un año</td>\n",
       "      <td>Si se identifica con alguna etnia</td>\n",
       "      <td>extranjero</td>\n",
       "      <td>2104.0</td>\n",
       "      <td>Taltal</td>\n",
       "      <td>2.0</td>\n",
       "      <td>De Antofagasta</td>\n",
       "      <td>96.0</td>\n",
       "      <td>NINGUNA</td>\n",
       "      <td>2016.0</td>\n",
       "      <td>Z601</td>\n",
       "      <td>NaN</td>\n",
       "      <td>9</td>\n",
       "      <td>1</td>\n",
       "      <td>2</td>\n",
       "      <td>NaN</td>\n",
       "      <td>NaN</td>\n",
       "    </tr>\n",
       "    <tr>\n",
       "      <th>1604454</th>\n",
       "      <td>Pertenecientes al Sistema Nacional de Servicio...</td>\n",
       "      <td>MUJER</td>\n",
       "      <td>menor de un año</td>\n",
       "      <td>Si se identifica con alguna etnia</td>\n",
       "      <td>extranjero</td>\n",
       "      <td>2101.0</td>\n",
       "      <td>Antofagasta</td>\n",
       "      <td>2.0</td>\n",
       "      <td>De Antofagasta</td>\n",
       "      <td>96.0</td>\n",
       "      <td>NINGUNA</td>\n",
       "      <td>2016.0</td>\n",
       "      <td>S069</td>\n",
       "      <td>V496</td>\n",
       "      <td>22</td>\n",
       "      <td>1</td>\n",
       "      <td>2</td>\n",
       "      <td>NaN</td>\n",
       "      <td>NaN</td>\n",
       "    </tr>\n",
       "    <tr>\n",
       "      <th>1604455</th>\n",
       "      <td>Pertenecientes al Sistema Nacional de Servicio...</td>\n",
       "      <td>MUJER</td>\n",
       "      <td>menor de un año</td>\n",
       "      <td>Si se identifica con alguna etnia</td>\n",
       "      <td>extranjero</td>\n",
       "      <td>2101.0</td>\n",
       "      <td>Antofagasta</td>\n",
       "      <td>2.0</td>\n",
       "      <td>De Antofagasta</td>\n",
       "      <td>96.0</td>\n",
       "      <td>NINGUNA</td>\n",
       "      <td>2016.0</td>\n",
       "      <td>R568</td>\n",
       "      <td>NaN</td>\n",
       "      <td>2</td>\n",
       "      <td>1</td>\n",
       "      <td>2</td>\n",
       "      <td>NaN</td>\n",
       "      <td>NaN</td>\n",
       "    </tr>\n",
       "  </tbody>\n",
       "</table>\n",
       "<p>4517841 rows × 19 columns</p>\n",
       "</div>"
      ],
      "text/plain": [
       "                         PERTENENCIA_ESTABLECIMIENTO_SALUD    SEXO  \\\n",
       "0        No Pertenecientes al Sistema Nacional de Servi...  HOMBRE   \n",
       "1        No Pertenecientes al Sistema Nacional de Servi...  HOMBRE   \n",
       "2        No Pertenecientes al Sistema Nacional de Servi...  HOMBRE   \n",
       "3        No Pertenecientes al Sistema Nacional de Servi...  HOMBRE   \n",
       "4        No Pertenecientes al Sistema Nacional de Servi...  HOMBRE   \n",
       "...                                                    ...     ...   \n",
       "1604451  No Pertenecientes al Sistema Nacional de Servi...   MUJER   \n",
       "1604452  No Pertenecientes al Sistema Nacional de Servi...   MUJER   \n",
       "1604453  Pertenecientes al Sistema Nacional de Servicio...   MUJER   \n",
       "1604454  Pertenecientes al Sistema Nacional de Servicio...   MUJER   \n",
       "1604455  Pertenecientes al Sistema Nacional de Servicio...   MUJER   \n",
       "\n",
       "              GRUPO_EDAD                              ETNIA GLOSA_PAIS_ORIGEN  \\\n",
       "0                  1 a 9  No se identifica con alguna etnia           Chileno   \n",
       "1                  1 a 9  No se identifica con alguna etnia           Chileno   \n",
       "2                  1 a 9  No se identifica con alguna etnia           Chileno   \n",
       "3                  1 a 9  No se identifica con alguna etnia           Chileno   \n",
       "4                  1 a 9  No se identifica con alguna etnia           Chileno   \n",
       "...                  ...                                ...               ...   \n",
       "1604451  menor de un año  Si se identifica con alguna etnia           Chileno   \n",
       "1604452  menor de un año  Si se identifica con alguna etnia           Chileno   \n",
       "1604453  menor de un año  Si se identifica con alguna etnia        extranjero   \n",
       "1604454  menor de un año  Si se identifica con alguna etnia        extranjero   \n",
       "1604455  menor de un año  Si se identifica con alguna etnia        extranjero   \n",
       "\n",
       "         COMUNA_RESIDENCIA GLOSA_COMUNA_RESIDENCIA  REGION_RESIDENCIA  \\\n",
       "0                   1101.0                 Iquique                1.0   \n",
       "1                   1101.0                 Iquique                1.0   \n",
       "2                   1101.0                 Iquique                1.0   \n",
       "3                   1107.0           Alto Hospicio                1.0   \n",
       "4                   1101.0                 Iquique                1.0   \n",
       "...                    ...                     ...                ...   \n",
       "1604451            13114.0              Las Condes               13.0   \n",
       "1604452            13122.0               Peñalolén               13.0   \n",
       "1604453             2104.0                  Taltal                2.0   \n",
       "1604454             2101.0             Antofagasta                2.0   \n",
       "1604455             2101.0             Antofagasta                2.0   \n",
       "\n",
       "           GLOSA_REGION_RESIDENCIA  PREVISION GLOSA_PREVISION  ANO_EGRESO  \\\n",
       "0                      De Tarapacá        1.0          FONASA      2020.0   \n",
       "1                      De Tarapacá        1.0          FONASA      2020.0   \n",
       "2                      De Tarapacá        1.0          FONASA      2020.0   \n",
       "3                      De Tarapacá        1.0          FONASA      2020.0   \n",
       "4                      De Tarapacá        1.0          FONASA      2020.0   \n",
       "...                            ...        ...             ...         ...   \n",
       "1604451  Metropolitana de Santiago       99.0     DESCONOCIDO      2016.0   \n",
       "1604452  Metropolitana de Santiago       99.0     DESCONOCIDO      2016.0   \n",
       "1604453             De Antofagasta       96.0         NINGUNA      2016.0   \n",
       "1604454             De Antofagasta       96.0         NINGUNA      2016.0   \n",
       "1604455             De Antofagasta       96.0         NINGUNA      2016.0   \n",
       "\n",
       "        DIAG1 DIAG2  DIAS_ESTADA  CONDICION_EGRESO  INTERV_Q  PROCED  \\\n",
       "0        Q531   NaN            1                 1         1     2.0   \n",
       "1        Q173   NaN            1                 1         1     2.0   \n",
       "2        Z412   NaN            1                 1         1     2.0   \n",
       "3        N47X   NaN            1                 1         1     2.0   \n",
       "4        N47X   NaN            1                 1         1     2.0   \n",
       "...       ...   ...          ...               ...       ...     ...   \n",
       "1604451  K429   NaN            1                 1         1     NaN   \n",
       "1604452  P072   NaN           59                 2         1     NaN   \n",
       "1604453  Z601   NaN            9                 1         2     NaN   \n",
       "1604454  S069  V496           22                 1         2     NaN   \n",
       "1604455  R568   NaN            2                 1         2     NaN   \n",
       "\n",
       "        PERTENENCIA_ESTABLECIMIENTO_SALU  \n",
       "0                                    NaN  \n",
       "1                                    NaN  \n",
       "2                                    NaN  \n",
       "3                                    NaN  \n",
       "4                                    NaN  \n",
       "...                                  ...  \n",
       "1604451                              NaN  \n",
       "1604452                              NaN  \n",
       "1604453                              NaN  \n",
       "1604454                              NaN  \n",
       "1604455                              NaN  \n",
       "\n",
       "[4517841 rows x 19 columns]"
      ]
     },
     "execution_count": 55,
     "metadata": {},
     "output_type": "execute_result"
    }
   ],
   "source": [
    "filtro_año_par = df['ANO_EGRESO'] % 2 == 0\n",
    "\n",
    "df[filtro_año_par]"
   ]
  },
  {
   "cell_type": "markdown",
   "metadata": {},
   "source": [
    "##### **10. Estime el porcentaje de egresos hospitalarios que se identiﬁca con una etnia en la región de Tarapacá, y compare dicho porcentaje con el correspondiente a la región de Los Ríos.**"
   ]
  },
  {
   "cell_type": "code",
   "execution_count": null,
   "metadata": {},
   "outputs": [],
   "source": []
  },
  {
   "cell_type": "markdown",
   "metadata": {},
   "source": [
    "###### Solución"
   ]
  },
  {
   "cell_type": "code",
   "execution_count": null,
   "metadata": {},
   "outputs": [],
   "source": [
    "df['GLOSA_REGION_RESIDENCIA'].unique()"
   ]
  },
  {
   "cell_type": "code",
   "execution_count": null,
   "metadata": {},
   "outputs": [],
   "source": [
    "df['ETNIA'].unique()"
   ]
  },
  {
   "cell_type": "code",
   "execution_count": null,
   "metadata": {},
   "outputs": [],
   "source": [
    "filtro_tarapaca = df['GLOSA_REGION_RESIDENCIA'] == 'De Tarapacá'\n",
    "filtro_losrios = df['GLOSA_REGION_RESIDENCIA'] == 'De Los Ríos'\n",
    "filtro_etnia = df['ETNIA'] == 'Si se identifica con alguna etnia'\n",
    "\n",
    "df_T = df[filtro_tarapaca]\n",
    "df_LR = df[filtro_losrios]\n",
    "df_T_et = df[filtro_tarapaca & filtro_etnia]\n",
    "df_LR_et = df[filtro_losrios & filtro_etnia]"
   ]
  },
  {
   "cell_type": "code",
   "execution_count": null,
   "metadata": {},
   "outputs": [],
   "source": [
    "total_tarapaca = len(df_T)\n",
    "total_losrios = len(df_LR)\n",
    "etnias_tarapaca = len(df_T_et)\n",
    "etnias_losrios = len(df_LR_et)\n",
    "\n",
    "print(f'La proporción de personas identificadas por etnias en Tarapacá es de {etnias_tarapaca/total_tarapaca:.3%} y de {etnias_losrios/total_losrios:.3%} en Los Ríos')"
   ]
  },
  {
   "cell_type": "markdown",
   "metadata": {},
   "source": [
    "##### **11. ¿Cuál es la patología con mayor cantidad de egresos hospitalarios en la comuna de Concepción en 2022? ¿Fue la misma patología que en 2001?**"
   ]
  },
  {
   "cell_type": "markdown",
   "metadata": {},
   "source": [
    "###### Solución"
   ]
  },
  {
   "cell_type": "code",
   "execution_count": 57,
   "metadata": {},
   "outputs": [],
   "source": [
    "filtro_conce = df['GLOSA_COMUNA_RESIDENCIA'] == 'Concepción'\n",
    "filtro_2022 = df['ANO_EGRESO'] == 2020 # Reemplazo a 2022\n",
    "filtro_2001 = df['ANO_EGRESO'] == 2016 # Reemplazo a 2001"
   ]
  },
  {
   "cell_type": "code",
   "execution_count": 62,
   "metadata": {},
   "outputs": [],
   "source": [
    "df_conce_2022 = df[filtro_conce & filtro_2022]\n",
    "r2022 = df_conce_2022['DIAG1'].value_counts().sort_values(ascending=False).head(1)"
   ]
  },
  {
   "cell_type": "code",
   "execution_count": 63,
   "metadata": {},
   "outputs": [],
   "source": [
    "df_conce_2001 = df[filtro_conce & filtro_2001]\n",
    "r_2001 = df_conce_2001['DIAG1'].value_counts().sort_values(ascending=False).head(1)"
   ]
  },
  {
   "cell_type": "code",
   "execution_count": 73,
   "metadata": {},
   "outputs": [
    {
     "name": "stdout",
     "output_type": "stream",
     "text": [
      "En el año 2020 el diagnostico con mas casos es O800 y en 2019 es de O820\n"
     ]
    }
   ],
   "source": [
    "print(f'En el año 2020 el diagnostico con mas casos es {r2022.index[0]} y en 2019 es de {r_2001.index[0]}')"
   ]
  },
  {
   "cell_type": "markdown",
   "metadata": {},
   "source": [
    "##### **12. Calcule los días de estancia hospitalaria promedio, según diagnóstico.**"
   ]
  },
  {
   "cell_type": "code",
   "execution_count": null,
   "metadata": {},
   "outputs": [],
   "source": []
  },
  {
   "cell_type": "markdown",
   "metadata": {},
   "source": [
    "###### Solución"
   ]
  },
  {
   "cell_type": "code",
   "execution_count": 90,
   "metadata": {},
   "outputs": [
    {
     "data": {
      "text/html": [
       "<div>\n",
       "<style scoped>\n",
       "    .dataframe tbody tr th:only-of-type {\n",
       "        vertical-align: middle;\n",
       "    }\n",
       "\n",
       "    .dataframe tbody tr th {\n",
       "        vertical-align: top;\n",
       "    }\n",
       "\n",
       "    .dataframe thead th {\n",
       "        text-align: right;\n",
       "    }\n",
       "</style>\n",
       "<table border=\"1\" class=\"dataframe\">\n",
       "  <thead>\n",
       "    <tr style=\"text-align: right;\">\n",
       "      <th></th>\n",
       "      <th>DIAS_ESTADA</th>\n",
       "    </tr>\n",
       "    <tr>\n",
       "      <th>DIAG1</th>\n",
       "      <th></th>\n",
       "    </tr>\n",
       "  </thead>\n",
       "  <tbody>\n",
       "    <tr>\n",
       "      <th>A000</th>\n",
       "      <td>2.250000</td>\n",
       "    </tr>\n",
       "    <tr>\n",
       "      <th>A009</th>\n",
       "      <td>10.200000</td>\n",
       "    </tr>\n",
       "    <tr>\n",
       "      <th>A010</th>\n",
       "      <td>8.393013</td>\n",
       "    </tr>\n",
       "    <tr>\n",
       "      <th>A011</th>\n",
       "      <td>6.600000</td>\n",
       "    </tr>\n",
       "    <tr>\n",
       "      <th>A012</th>\n",
       "      <td>4.000000</td>\n",
       "    </tr>\n",
       "    <tr>\n",
       "      <th>...</th>\n",
       "      <td>...</td>\n",
       "    </tr>\n",
       "    <tr>\n",
       "      <th>k433</th>\n",
       "      <td>5.326087</td>\n",
       "    </tr>\n",
       "    <tr>\n",
       "      <th>k434</th>\n",
       "      <td>3.900000</td>\n",
       "    </tr>\n",
       "    <tr>\n",
       "      <th>k435</th>\n",
       "      <td>4.812500</td>\n",
       "    </tr>\n",
       "    <tr>\n",
       "      <th>k436</th>\n",
       "      <td>4.869565</td>\n",
       "    </tr>\n",
       "    <tr>\n",
       "      <th>k437</th>\n",
       "      <td>3.666667</td>\n",
       "    </tr>\n",
       "  </tbody>\n",
       "</table>\n",
       "<p>8330 rows × 1 columns</p>\n",
       "</div>"
      ],
      "text/plain": [
       "       DIAS_ESTADA\n",
       "DIAG1             \n",
       "A000      2.250000\n",
       "A009     10.200000\n",
       "A010      8.393013\n",
       "A011      6.600000\n",
       "A012      4.000000\n",
       "...            ...\n",
       "k433      5.326087\n",
       "k434      3.900000\n",
       "k435      4.812500\n",
       "k436      4.869565\n",
       "k437      3.666667\n",
       "\n",
       "[8330 rows x 1 columns]"
      ]
     },
     "execution_count": 90,
     "metadata": {},
     "output_type": "execute_result"
    }
   ],
   "source": [
    "df_final = df.groupby('DIAG1').agg({'DIAS_ESTADA':'mean'})\n",
    "df_final"
   ]
  },
  {
   "cell_type": "markdown",
   "metadata": {},
   "source": [
    "##### **13. ¿Qué porcentaje de los egresos hospitalarios presenta condición de egreso del paciente como fallecido?**"
   ]
  },
  {
   "cell_type": "markdown",
   "metadata": {},
   "source": [
    "###### Solución"
   ]
  },
  {
   "cell_type": "code",
   "execution_count": 75,
   "metadata": {},
   "outputs": [
    {
     "data": {
      "text/plain": [
       "CONDICION_EGRESO\n",
       "1    7758613\n",
       "2     183061\n",
       "Name: count, dtype: int64"
      ]
     },
     "execution_count": 75,
     "metadata": {},
     "output_type": "execute_result"
    }
   ],
   "source": [
    "df['CONDICION_EGRESO'].value_counts()"
   ]
  },
  {
   "cell_type": "code",
   "execution_count": 78,
   "metadata": {},
   "outputs": [
    {
     "name": "stdout",
     "output_type": "stream",
     "text": [
      "El porcentaje de fallecidos es de 2.305%\n"
     ]
    }
   ],
   "source": [
    "filtro_fallecidos = df['CONDICION_EGRESO'] == 2\n",
    "\n",
    "cantidad_fallecidos = len(df[filtro_fallecidos])\n",
    "total = len(df)\n",
    "\n",
    "print(f'El porcentaje de fallecidos es de {cantidad_fallecidos/total:.3%}')"
   ]
  },
  {
   "cell_type": "markdown",
   "metadata": {},
   "source": [
    "##### **14. Compare las 10 patologías más frecuentes según el país de origen del paciente.**"
   ]
  },
  {
   "cell_type": "code",
   "execution_count": null,
   "metadata": {},
   "outputs": [],
   "source": []
  },
  {
   "cell_type": "markdown",
   "metadata": {},
   "source": [
    "###### Solución"
   ]
  },
  {
   "cell_type": "code",
   "execution_count": null,
   "metadata": {},
   "outputs": [],
   "source": [
    "df['GLOSA_PAIS_ORIGEN'].unique()"
   ]
  },
  {
   "cell_type": "code",
   "execution_count": null,
   "metadata": {},
   "outputs": [],
   "source": [
    "filtro_chileno = df['GLOSA_PAIS_ORIGEN'] == 'Chileno'\n",
    "filtro_extranjero = df['GLOSA_PAIS_ORIGEN'] == 'extranjero'\n",
    "\n",
    "top_diagnostico_chileno = df[filtro_chileno]['DIAG1'].value_counts().sort_values(ascending=False).head(10)\n",
    "top_diagnostico_extranjero = df[filtro_extranjero]['DIAG1'].value_counts().sort_values(ascending=False).head(10)\n",
    "\n",
    "datos = {'top chileno': top_diagnostico_chileno.index,'cantidad ch': top_diagnostico_chileno.values,'top extranjero': top_diagnostico_extranjero.index, 'cantidad ext':top_diagnostico_extranjero.values}\n",
    "\n",
    "tabla_comparativa = pd.DataFrame(datos,index=[i for i in range(1,11)])\n",
    "tabla_comparativa"
   ]
  },
  {
   "cell_type": "markdown",
   "metadata": {},
   "source": [
    "##### **15. Estime la principal patología de cada comuna. ¿Identiﬁca algún patrón geográﬁco?**"
   ]
  },
  {
   "cell_type": "markdown",
   "metadata": {},
   "source": [
    "###### Solución"
   ]
  },
  {
   "cell_type": "code",
   "execution_count": 101,
   "metadata": {},
   "outputs": [
    {
     "data": {
      "text/html": [
       "<div>\n",
       "<style scoped>\n",
       "    .dataframe tbody tr th:only-of-type {\n",
       "        vertical-align: middle;\n",
       "    }\n",
       "\n",
       "    .dataframe tbody tr th {\n",
       "        vertical-align: top;\n",
       "    }\n",
       "\n",
       "    .dataframe thead th {\n",
       "        text-align: right;\n",
       "    }\n",
       "</style>\n",
       "<table border=\"1\" class=\"dataframe\">\n",
       "  <thead>\n",
       "    <tr style=\"text-align: right;\">\n",
       "      <th></th>\n",
       "      <th>SEXO</th>\n",
       "    </tr>\n",
       "    <tr>\n",
       "      <th>GLOSA_COMUNA_RESIDENCIA</th>\n",
       "      <th></th>\n",
       "    </tr>\n",
       "  </thead>\n",
       "  <tbody>\n",
       "    <tr>\n",
       "      <th>Aisén</th>\n",
       "      <td>14972</td>\n",
       "    </tr>\n",
       "    <tr>\n",
       "      <th>Algarrobo</th>\n",
       "      <td>5961</td>\n",
       "    </tr>\n",
       "    <tr>\n",
       "      <th>Alhué</th>\n",
       "      <td>1652</td>\n",
       "    </tr>\n",
       "    <tr>\n",
       "      <th>Alto Biobío</th>\n",
       "      <td>2550</td>\n",
       "    </tr>\n",
       "    <tr>\n",
       "      <th>Alto Hospicio</th>\n",
       "      <td>35575</td>\n",
       "    </tr>\n",
       "    <tr>\n",
       "      <th>...</th>\n",
       "      <td>...</td>\n",
       "    </tr>\n",
       "    <tr>\n",
       "      <th>Yumbel</th>\n",
       "      <td>10930</td>\n",
       "    </tr>\n",
       "    <tr>\n",
       "      <th>Yungay</th>\n",
       "      <td>10620</td>\n",
       "    </tr>\n",
       "    <tr>\n",
       "      <th>Zapallar</th>\n",
       "      <td>2480</td>\n",
       "    </tr>\n",
       "    <tr>\n",
       "      <th>Ñiquén</th>\n",
       "      <td>4260</td>\n",
       "    </tr>\n",
       "    <tr>\n",
       "      <th>Ñuñoa</th>\n",
       "      <td>102858</td>\n",
       "    </tr>\n",
       "  </tbody>\n",
       "</table>\n",
       "<p>348 rows × 1 columns</p>\n",
       "</div>"
      ],
      "text/plain": [
       "                           SEXO\n",
       "GLOSA_COMUNA_RESIDENCIA        \n",
       "Aisén                     14972\n",
       "Algarrobo                  5961\n",
       "Alhué                      1652\n",
       "Alto Biobío                2550\n",
       "Alto Hospicio             35575\n",
       "...                         ...\n",
       "Yumbel                    10930\n",
       "Yungay                    10620\n",
       "Zapallar                   2480\n",
       "Ñiquén                     4260\n",
       "Ñuñoa                    102858\n",
       "\n",
       "[348 rows x 1 columns]"
      ]
     },
     "execution_count": 101,
     "metadata": {},
     "output_type": "execute_result"
    }
   ],
   "source": [
    "df.groupby('GLOSA_COMUNA_RESIDENCIA').agg({'SEXO':'count'})"
   ]
  },
  {
   "cell_type": "markdown",
   "metadata": {},
   "source": [
    "##### **16. Calcule el total de egresos hospitalarios por año.**"
   ]
  },
  {
   "cell_type": "code",
   "execution_count": null,
   "metadata": {},
   "outputs": [],
   "source": []
  },
  {
   "cell_type": "markdown",
   "metadata": {},
   "source": [
    "###### Solución"
   ]
  },
  {
   "cell_type": "code",
   "execution_count": null,
   "metadata": {},
   "outputs": [],
   "source": [
    "df['ANO_EGRESO'].value_counts()"
   ]
  },
  {
   "cell_type": "markdown",
   "metadata": {},
   "source": [
    "##### **17. Calcule el total de egresos hospitalarios por año para la región de Biobío.**"
   ]
  },
  {
   "cell_type": "code",
   "execution_count": 102,
   "metadata": {},
   "outputs": [
    {
     "data": {
      "text/plain": [
       "array(['De Tarapacá', 'De Antofagasta', 'De Atacama', 'De Coquimbo',\n",
       "       'De Valparaíso', \"Del Libertador B. O'Higgins\", 'Del Maule',\n",
       "       'Del Bíobío', 'De La Araucanía', 'De Los Lagos',\n",
       "       'De Aisén del Gral. C. Ibáñez del Campo',\n",
       "       'De Magallanes y de La Antártica Chilena',\n",
       "       'Metropolitana de Santiago', 'De Los Ríos',\n",
       "       'De Arica y Parinacota', 'De Ñuble', nan], dtype=object)"
      ]
     },
     "execution_count": 102,
     "metadata": {},
     "output_type": "execute_result"
    }
   ],
   "source": [
    "df['GLOSA_REGION_RESIDENCIA'].unique()"
   ]
  },
  {
   "cell_type": "markdown",
   "metadata": {},
   "source": [
    "###### Solución"
   ]
  },
  {
   "cell_type": "code",
   "execution_count": 103,
   "metadata": {},
   "outputs": [
    {
     "data": {
      "text/plain": [
       "ANO_EGRESO\n",
       "2019.0    169483\n",
       "2018.0    168663\n",
       "2017.0    166560\n",
       "2016.0    164297\n",
       "2020.0    128547\n",
       "Name: count, dtype: int64"
      ]
     },
     "execution_count": 103,
     "metadata": {},
     "output_type": "execute_result"
    }
   ],
   "source": [
    "filtro_biobio = df['GLOSA_REGION_RESIDENCIA'] == 'Del Bíobío'\n",
    "\n",
    "df[filtro_biobio]['ANO_EGRESO'].value_counts()"
   ]
  },
  {
   "cell_type": "markdown",
   "metadata": {},
   "source": [
    "##### **18. ¿Cuáles son los porcentajes de egresos según previsión de salud?**"
   ]
  },
  {
   "cell_type": "code",
   "execution_count": null,
   "metadata": {},
   "outputs": [],
   "source": []
  },
  {
   "cell_type": "markdown",
   "metadata": {},
   "source": [
    "##### **19. Sin incluir comunas de la región metropolitana, ¿cuáles son las comunas con mayor mediana de días de estada hospitalaria?**"
   ]
  },
  {
   "cell_type": "code",
   "execution_count": 108,
   "metadata": {},
   "outputs": [
    {
     "data": {
      "text/html": [
       "<div>\n",
       "<style scoped>\n",
       "    .dataframe tbody tr th:only-of-type {\n",
       "        vertical-align: middle;\n",
       "    }\n",
       "\n",
       "    .dataframe tbody tr th {\n",
       "        vertical-align: top;\n",
       "    }\n",
       "\n",
       "    .dataframe thead th {\n",
       "        text-align: right;\n",
       "    }\n",
       "</style>\n",
       "<table border=\"1\" class=\"dataframe\">\n",
       "  <thead>\n",
       "    <tr style=\"text-align: right;\">\n",
       "      <th></th>\n",
       "      <th>DIAS_ESTADA</th>\n",
       "    </tr>\n",
       "    <tr>\n",
       "      <th>GLOSA_COMUNA_RESIDENCIA</th>\n",
       "      <th></th>\n",
       "    </tr>\n",
       "  </thead>\n",
       "  <tbody>\n",
       "    <tr>\n",
       "      <th>General Lagos</th>\n",
       "      <td>6.0</td>\n",
       "    </tr>\n",
       "    <tr>\n",
       "      <th>Tiltil</th>\n",
       "      <td>5.5</td>\n",
       "    </tr>\n",
       "    <tr>\n",
       "      <th>Ercilla</th>\n",
       "      <td>4.0</td>\n",
       "    </tr>\n",
       "  </tbody>\n",
       "</table>\n",
       "</div>"
      ],
      "text/plain": [
       "                         DIAS_ESTADA\n",
       "GLOSA_COMUNA_RESIDENCIA             \n",
       "General Lagos                    6.0\n",
       "Tiltil                           5.5\n",
       "Ercilla                          4.0"
      ]
     },
     "execution_count": 108,
     "metadata": {},
     "output_type": "execute_result"
    }
   ],
   "source": [
    "filtro_no_metropolitana = df['GLOSA_REGION_RESIDENCIA'] != 'Metropolitana de Santiago'\n",
    "df_no_metropolitana = df[filtro_no_metropolitana]\n",
    "df_mediana = df_no_metropolitana.groupby('GLOSA_COMUNA_RESIDENCIA').agg({'DIAS_ESTADA':'median'})\n",
    "df_mediana = df_mediana.sort_values('DIAS_ESTADA', ascending=False)\n",
    "df_mediana.head(3)"
   ]
  },
  {
   "cell_type": "markdown",
   "metadata": {},
   "source": [
    "##### **20. Calcule el total de patologías según grupo de edad y sexo biológico.**"
   ]
  },
  {
   "cell_type": "code",
   "execution_count": null,
   "metadata": {},
   "outputs": [],
   "source": []
  },
  {
   "cell_type": "markdown",
   "metadata": {},
   "source": [
    "##### **21. Guarde los datos obtenidos en la pregunta 12 en un nuevo archivo llamado “egresos.xlsx”. No olvides usar reset_index() .**"
   ]
  },
  {
   "cell_type": "code",
   "execution_count": 96,
   "metadata": {},
   "outputs": [],
   "source": [
    "df_final = df_final.reset_index(drop=True)\n",
    "df_final.to_csv('egresos.csv', index=False)"
   ]
  }
 ],
 "metadata": {
  "kernelspec": {
   "display_name": ".venv",
   "language": "python",
   "name": "python3"
  },
  "language_info": {
   "codemirror_mode": {
    "name": "ipython",
    "version": 3
   },
   "file_extension": ".py",
   "mimetype": "text/x-python",
   "name": "python",
   "nbconvert_exporter": "python",
   "pygments_lexer": "ipython3",
   "version": "3.13.2"
  }
 },
 "nbformat": 4,
 "nbformat_minor": 2
}
