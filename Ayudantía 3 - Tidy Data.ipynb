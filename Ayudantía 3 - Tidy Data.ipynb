{
 "cells": [
  {
   "cell_type": "markdown",
   "id": "6c1019b9",
   "metadata": {},
   "source": [
    "# __Ayudantía 3 - Tidy Data__"
   ]
  },
  {
   "cell_type": "code",
   "execution_count": 1,
   "id": "02f8cb33",
   "metadata": {},
   "outputs": [],
   "source": [
    "import pandas as pd"
   ]
  },
  {
   "cell_type": "markdown",
   "id": "173b088e",
   "metadata": {},
   "source": [
    "## __📝 Apuntes Importantes__"
   ]
  },
  {
   "cell_type": "markdown",
   "id": "31bee2ad",
   "metadata": {},
   "source": [
    "__(Extraídos desde el _starter pack_)__"
   ]
  },
  {
   "cell_type": "markdown",
   "id": "47df562b",
   "metadata": {},
   "source": [
    "### __1) Lectura de XLSXs__\n",
    "_(3-Resumen Pandas; Cap 1.3 (B))_"
   ]
  },
  {
   "cell_type": "code",
   "execution_count": null,
   "id": "67d26306",
   "metadata": {},
   "outputs": [],
   "source": [
    "# Leer un archivo Excel\n",
    "df = pd.read_excel('output.xlsx', index_col='Unnamed: 0', sheet_name=0)\n",
    "df"
   ]
  },
  {
   "cell_type": "markdown",
   "id": "91079825",
   "metadata": {},
   "source": [
    "- Parámetros de utilidad: \n",
    "    - ```sep=;``` : Para cambiar el separador (muy útil para algunos csv en español)\n",
    "    - ```index_col='col1'``` : Indicar si existe una columna indice (por defecto se crea una)\n",
    "    - ```header=2``` : Indicar la fila donde están los títulos (por defecto es la primera / se puede agregar None para indicar que no tiene)\n",
    "    - ```usecols=[col1, col2, ...]``` : Especificar columnas de entrada (en caso de excel puede utilizarse según las columnas de excel, por ejemplo 'A:D')\n",
    "    - ```nrows=1000``` : Especificar cantidad de filas de entrada\n",
    "    - ```sheet_name='hoja1'``` : Especifica la hoja a leerse (Puede indicarse por nombre, por índice o una lista d ehojas)\n",
    "    - ```skiprows=2``` : Indica una cantidad de filas para saltar (Si es que no contienen info útil)"
   ]
  },
  {
   "cell_type": "markdown",
   "id": "15eff14f",
   "metadata": {},
   "source": [
    "### __2) Uniendo DataFrames__\n",
    "_(3-Resumen Pandas; Cap 4)_"
   ]
  },
  {
   "cell_type": "markdown",
   "id": "9aa0312a",
   "metadata": {},
   "source": [
    "#### __2.1- Concatenación__"
   ]
  },
  {
   "cell_type": "markdown",
   "id": "cd6ccada",
   "metadata": {},
   "source": [
    "La concatenación refiere a la acción de insertar los datos bruzcamente sobre, bajo o al lado de una tabla desde otra."
   ]
  },
  {
   "cell_type": "code",
   "execution_count": 6,
   "id": "038979e2",
   "metadata": {},
   "outputs": [
    {
     "data": {
      "text/html": [
       "<div>\n",
       "<style scoped>\n",
       "    .dataframe tbody tr th:only-of-type {\n",
       "        vertical-align: middle;\n",
       "    }\n",
       "\n",
       "    .dataframe tbody tr th {\n",
       "        vertical-align: top;\n",
       "    }\n",
       "\n",
       "    .dataframe thead th {\n",
       "        text-align: right;\n",
       "    }\n",
       "</style>\n",
       "<table border=\"1\" class=\"dataframe\">\n",
       "  <thead>\n",
       "    <tr style=\"text-align: right;\">\n",
       "      <th></th>\n",
       "      <th>Nombre</th>\n",
       "      <th>Ingreso</th>\n",
       "    </tr>\n",
       "  </thead>\n",
       "  <tbody>\n",
       "    <tr>\n",
       "      <th>0</th>\n",
       "      <td>Alonso</td>\n",
       "      <td>1200</td>\n",
       "    </tr>\n",
       "    <tr>\n",
       "      <th>1</th>\n",
       "      <td>Esteban</td>\n",
       "      <td>300</td>\n",
       "    </tr>\n",
       "    <tr>\n",
       "      <th>2</th>\n",
       "      <td>Pablo</td>\n",
       "      <td>1500</td>\n",
       "    </tr>\n",
       "    <tr>\n",
       "      <th>3</th>\n",
       "      <td>Rodrigo</td>\n",
       "      <td>600</td>\n",
       "    </tr>\n",
       "  </tbody>\n",
       "</table>\n",
       "</div>"
      ],
      "text/plain": [
       "    Nombre  Ingreso\n",
       "0   Alonso     1200\n",
       "1  Esteban      300\n",
       "2    Pablo     1500\n",
       "3  Rodrigo      600"
      ]
     },
     "execution_count": 6,
     "metadata": {},
     "output_type": "execute_result"
    }
   ],
   "source": [
    "# data de ejemplo 1\n",
    "df1 = pd.DataFrame({'Nombre':['Alonso','Esteban','Pablo','Rodrigo'],'Ingreso':[1200,300,1500,600]})\n",
    "df1"
   ]
  },
  {
   "cell_type": "code",
   "execution_count": 7,
   "id": "24c199ac",
   "metadata": {},
   "outputs": [
    {
     "data": {
      "text/html": [
       "<div>\n",
       "<style scoped>\n",
       "    .dataframe tbody tr th:only-of-type {\n",
       "        vertical-align: middle;\n",
       "    }\n",
       "\n",
       "    .dataframe tbody tr th {\n",
       "        vertical-align: top;\n",
       "    }\n",
       "\n",
       "    .dataframe thead th {\n",
       "        text-align: right;\n",
       "    }\n",
       "</style>\n",
       "<table border=\"1\" class=\"dataframe\">\n",
       "  <thead>\n",
       "    <tr style=\"text-align: right;\">\n",
       "      <th></th>\n",
       "      <th>Nombre</th>\n",
       "      <th>Ciudad</th>\n",
       "    </tr>\n",
       "  </thead>\n",
       "  <tbody>\n",
       "    <tr>\n",
       "      <th>0</th>\n",
       "      <td>Alonso</td>\n",
       "      <td>San Pedro</td>\n",
       "    </tr>\n",
       "    <tr>\n",
       "      <th>1</th>\n",
       "      <td>Esteban</td>\n",
       "      <td>Concepción</td>\n",
       "    </tr>\n",
       "    <tr>\n",
       "      <th>2</th>\n",
       "      <td>Pablo</td>\n",
       "      <td>Concepción</td>\n",
       "    </tr>\n",
       "    <tr>\n",
       "      <th>3</th>\n",
       "      <td>Rodrigo</td>\n",
       "      <td>Talcahuano</td>\n",
       "    </tr>\n",
       "    <tr>\n",
       "      <th>4</th>\n",
       "      <td>Patricio</td>\n",
       "      <td>San Pedro</td>\n",
       "    </tr>\n",
       "  </tbody>\n",
       "</table>\n",
       "</div>"
      ],
      "text/plain": [
       "     Nombre      Ciudad\n",
       "0    Alonso   San Pedro\n",
       "1   Esteban  Concepción\n",
       "2     Pablo  Concepción\n",
       "3   Rodrigo  Talcahuano\n",
       "4  Patricio   San Pedro"
      ]
     },
     "execution_count": 7,
     "metadata": {},
     "output_type": "execute_result"
    }
   ],
   "source": [
    "# data de ejemplo 2\n",
    "df2 = pd.DataFrame({'Nombre':['Alonso','Esteban','Pablo','Rodrigo','Patricio'],'Ciudad':['San Pedro','Concepción','Concepción','Talcahuano','San Pedro']})\n",
    "df2"
   ]
  },
  {
   "cell_type": "code",
   "execution_count": 8,
   "id": "f06d2f14",
   "metadata": {},
   "outputs": [
    {
     "data": {
      "text/html": [
       "<div>\n",
       "<style scoped>\n",
       "    .dataframe tbody tr th:only-of-type {\n",
       "        vertical-align: middle;\n",
       "    }\n",
       "\n",
       "    .dataframe tbody tr th {\n",
       "        vertical-align: top;\n",
       "    }\n",
       "\n",
       "    .dataframe thead th {\n",
       "        text-align: right;\n",
       "    }\n",
       "</style>\n",
       "<table border=\"1\" class=\"dataframe\">\n",
       "  <thead>\n",
       "    <tr style=\"text-align: right;\">\n",
       "      <th></th>\n",
       "      <th>Nombre</th>\n",
       "      <th>Ingreso</th>\n",
       "      <th>Ciudad</th>\n",
       "    </tr>\n",
       "  </thead>\n",
       "  <tbody>\n",
       "    <tr>\n",
       "      <th>0</th>\n",
       "      <td>Alonso</td>\n",
       "      <td>1200.0</td>\n",
       "      <td>NaN</td>\n",
       "    </tr>\n",
       "    <tr>\n",
       "      <th>1</th>\n",
       "      <td>Esteban</td>\n",
       "      <td>300.0</td>\n",
       "      <td>NaN</td>\n",
       "    </tr>\n",
       "    <tr>\n",
       "      <th>2</th>\n",
       "      <td>Pablo</td>\n",
       "      <td>1500.0</td>\n",
       "      <td>NaN</td>\n",
       "    </tr>\n",
       "    <tr>\n",
       "      <th>3</th>\n",
       "      <td>Rodrigo</td>\n",
       "      <td>600.0</td>\n",
       "      <td>NaN</td>\n",
       "    </tr>\n",
       "    <tr>\n",
       "      <th>0</th>\n",
       "      <td>Alonso</td>\n",
       "      <td>NaN</td>\n",
       "      <td>San Pedro</td>\n",
       "    </tr>\n",
       "    <tr>\n",
       "      <th>1</th>\n",
       "      <td>Esteban</td>\n",
       "      <td>NaN</td>\n",
       "      <td>Concepción</td>\n",
       "    </tr>\n",
       "    <tr>\n",
       "      <th>2</th>\n",
       "      <td>Pablo</td>\n",
       "      <td>NaN</td>\n",
       "      <td>Concepción</td>\n",
       "    </tr>\n",
       "    <tr>\n",
       "      <th>3</th>\n",
       "      <td>Rodrigo</td>\n",
       "      <td>NaN</td>\n",
       "      <td>Talcahuano</td>\n",
       "    </tr>\n",
       "    <tr>\n",
       "      <th>4</th>\n",
       "      <td>Patricio</td>\n",
       "      <td>NaN</td>\n",
       "      <td>San Pedro</td>\n",
       "    </tr>\n",
       "  </tbody>\n",
       "</table>\n",
       "</div>"
      ],
      "text/plain": [
       "     Nombre  Ingreso      Ciudad\n",
       "0    Alonso   1200.0         NaN\n",
       "1   Esteban    300.0         NaN\n",
       "2     Pablo   1500.0         NaN\n",
       "3   Rodrigo    600.0         NaN\n",
       "0    Alonso      NaN   San Pedro\n",
       "1   Esteban      NaN  Concepción\n",
       "2     Pablo      NaN  Concepción\n",
       "3   Rodrigo      NaN  Talcahuano\n",
       "4  Patricio      NaN   San Pedro"
      ]
     },
     "execution_count": 8,
     "metadata": {},
     "output_type": "execute_result"
    }
   ],
   "source": [
    "pd.concat([df1, df2]) # pone uno sobbajore el otro y no agrega datos si la columna no existe"
   ]
  },
  {
   "cell_type": "code",
   "execution_count": 9,
   "id": "03e6266a",
   "metadata": {},
   "outputs": [
    {
     "data": {
      "text/html": [
       "<div>\n",
       "<style scoped>\n",
       "    .dataframe tbody tr th:only-of-type {\n",
       "        vertical-align: middle;\n",
       "    }\n",
       "\n",
       "    .dataframe tbody tr th {\n",
       "        vertical-align: top;\n",
       "    }\n",
       "\n",
       "    .dataframe thead th {\n",
       "        text-align: right;\n",
       "    }\n",
       "</style>\n",
       "<table border=\"1\" class=\"dataframe\">\n",
       "  <thead>\n",
       "    <tr style=\"text-align: right;\">\n",
       "      <th></th>\n",
       "      <th>Nombre</th>\n",
       "      <th>Ingreso</th>\n",
       "      <th>Nombre</th>\n",
       "      <th>Ciudad</th>\n",
       "    </tr>\n",
       "  </thead>\n",
       "  <tbody>\n",
       "    <tr>\n",
       "      <th>0</th>\n",
       "      <td>Alonso</td>\n",
       "      <td>1200.0</td>\n",
       "      <td>Alonso</td>\n",
       "      <td>San Pedro</td>\n",
       "    </tr>\n",
       "    <tr>\n",
       "      <th>1</th>\n",
       "      <td>Esteban</td>\n",
       "      <td>300.0</td>\n",
       "      <td>Esteban</td>\n",
       "      <td>Concepción</td>\n",
       "    </tr>\n",
       "    <tr>\n",
       "      <th>2</th>\n",
       "      <td>Pablo</td>\n",
       "      <td>1500.0</td>\n",
       "      <td>Pablo</td>\n",
       "      <td>Concepción</td>\n",
       "    </tr>\n",
       "    <tr>\n",
       "      <th>3</th>\n",
       "      <td>Rodrigo</td>\n",
       "      <td>600.0</td>\n",
       "      <td>Rodrigo</td>\n",
       "      <td>Talcahuano</td>\n",
       "    </tr>\n",
       "    <tr>\n",
       "      <th>4</th>\n",
       "      <td>NaN</td>\n",
       "      <td>NaN</td>\n",
       "      <td>Patricio</td>\n",
       "      <td>San Pedro</td>\n",
       "    </tr>\n",
       "  </tbody>\n",
       "</table>\n",
       "</div>"
      ],
      "text/plain": [
       "    Nombre  Ingreso    Nombre      Ciudad\n",
       "0   Alonso   1200.0    Alonso   San Pedro\n",
       "1  Esteban    300.0   Esteban  Concepción\n",
       "2    Pablo   1500.0     Pablo  Concepción\n",
       "3  Rodrigo    600.0   Rodrigo  Talcahuano\n",
       "4      NaN      NaN  Patricio   San Pedro"
      ]
     },
     "execution_count": 9,
     "metadata": {},
     "output_type": "execute_result"
    }
   ],
   "source": [
    "pd.concat([df1, df2], axis=1) # Al cambiar el eje, agrega de manera bruzca una tabla al lado de la otra"
   ]
  },
  {
   "cell_type": "markdown",
   "id": "b326f2d2",
   "metadata": {},
   "source": [
    "#### __2.2- Fusión__"
   ]
  },
  {
   "cell_type": "markdown",
   "id": "1c4509d4",
   "metadata": {},
   "source": [
    "El `merge` es una fusión compleja y más intelgente que une las tablas a partir de cierta(s) columna(s) en común y por algún método de unión."
   ]
  },
  {
   "cell_type": "code",
   "execution_count": 10,
   "id": "c4b48567",
   "metadata": {},
   "outputs": [
    {
     "data": {
      "text/html": [
       "<div>\n",
       "<style scoped>\n",
       "    .dataframe tbody tr th:only-of-type {\n",
       "        vertical-align: middle;\n",
       "    }\n",
       "\n",
       "    .dataframe tbody tr th {\n",
       "        vertical-align: top;\n",
       "    }\n",
       "\n",
       "    .dataframe thead th {\n",
       "        text-align: right;\n",
       "    }\n",
       "</style>\n",
       "<table border=\"1\" class=\"dataframe\">\n",
       "  <thead>\n",
       "    <tr style=\"text-align: right;\">\n",
       "      <th></th>\n",
       "      <th>Nombre</th>\n",
       "      <th>Ingreso</th>\n",
       "      <th>Ciudad</th>\n",
       "    </tr>\n",
       "  </thead>\n",
       "  <tbody>\n",
       "    <tr>\n",
       "      <th>0</th>\n",
       "      <td>Alonso</td>\n",
       "      <td>1200</td>\n",
       "      <td>San Pedro</td>\n",
       "    </tr>\n",
       "    <tr>\n",
       "      <th>1</th>\n",
       "      <td>Esteban</td>\n",
       "      <td>300</td>\n",
       "      <td>Concepción</td>\n",
       "    </tr>\n",
       "    <tr>\n",
       "      <th>2</th>\n",
       "      <td>Pablo</td>\n",
       "      <td>1500</td>\n",
       "      <td>Concepción</td>\n",
       "    </tr>\n",
       "    <tr>\n",
       "      <th>3</th>\n",
       "      <td>Rodrigo</td>\n",
       "      <td>600</td>\n",
       "      <td>Talcahuano</td>\n",
       "    </tr>\n",
       "  </tbody>\n",
       "</table>\n",
       "</div>"
      ],
      "text/plain": [
       "    Nombre  Ingreso      Ciudad\n",
       "0   Alonso     1200   San Pedro\n",
       "1  Esteban      300  Concepción\n",
       "2    Pablo     1500  Concepción\n",
       "3  Rodrigo      600  Talcahuano"
      ]
     },
     "execution_count": 10,
     "metadata": {},
     "output_type": "execute_result"
    }
   ],
   "source": [
    "# Unir DataFrames por una columna\n",
    "df_merged = pd.merge(df1, df2, on='Nombre', how='inner') # tiene parametros: on='columna' y how='inner' | 'outer' | 'left' | 'right' | 'cross'\n",
    "df_merged # Los une en un mismo dataframe"
   ]
  },
  {
   "cell_type": "markdown",
   "id": "6316cfd4",
   "metadata": {},
   "source": [
    "### __3) Tidy Data__\n",
    "_(3-Resumen Pandas; Cap 5)_"
   ]
  },
  {
   "cell_type": "markdown",
   "id": "5d3e931f",
   "metadata": {},
   "source": [
    "En este formato, los datos siguen tres principios clave:\n",
    "1. **Cada variable se almacena en una columna**: Cada atributo o característica de los datos es una columna diferente. Por ejemplo, si estás trabajando con un conjunto de datos sobre ventas, podrías tener columnas como \"Producto\", \"Fecha\", \"Cantidad\", \"Precio\", etc.\n",
    "2. **Cada observación está en una fila**: Cada fila representa una única observación o entrada. Por ejemplo, una fila podría representar una transacción o una venta específica de un producto en un día determinado.\n",
    "3. **Cada tipo de unidad de observación tiene su propio archivo o tabla**: Si tienes múltiples tipos de datos relacionados (como datos de clientes y datos de ventas), cada tipo de entidad se almacena en su propio conjunto de datos. Por ejemplo, podrías tener una tabla para clientes y otra para ventas."
   ]
  },
  {
   "cell_type": "markdown",
   "id": "efad11f6",
   "metadata": {},
   "source": [
    "Veamos un ejemplo:"
   ]
  },
  {
   "cell_type": "code",
   "execution_count": 2,
   "id": "3856ccaf",
   "metadata": {},
   "outputs": [
    {
     "data": {
      "text/html": [
       "<div>\n",
       "<style scoped>\n",
       "    .dataframe tbody tr th:only-of-type {\n",
       "        vertical-align: middle;\n",
       "    }\n",
       "\n",
       "    .dataframe tbody tr th {\n",
       "        vertical-align: top;\n",
       "    }\n",
       "\n",
       "    .dataframe thead th {\n",
       "        text-align: right;\n",
       "    }\n",
       "</style>\n",
       "<table border=\"1\" class=\"dataframe\">\n",
       "  <thead>\n",
       "    <tr style=\"text-align: right;\">\n",
       "      <th></th>\n",
       "      <th>Estudiante</th>\n",
       "      <th>Matemáticas_2021</th>\n",
       "      <th>Historia_2021</th>\n",
       "      <th>Ciencias_2021</th>\n",
       "      <th>Matemáticas_2022</th>\n",
       "      <th>Historia_2022</th>\n",
       "      <th>Ciencias_2022</th>\n",
       "    </tr>\n",
       "  </thead>\n",
       "  <tbody>\n",
       "    <tr>\n",
       "      <th>0</th>\n",
       "      <td>Ana</td>\n",
       "      <td>85</td>\n",
       "      <td>88</td>\n",
       "      <td>90</td>\n",
       "      <td>89</td>\n",
       "      <td>90</td>\n",
       "      <td>92</td>\n",
       "    </tr>\n",
       "    <tr>\n",
       "      <th>1</th>\n",
       "      <td>Luis</td>\n",
       "      <td>78</td>\n",
       "      <td>74</td>\n",
       "      <td>80</td>\n",
       "      <td>82</td>\n",
       "      <td>77</td>\n",
       "      <td>84</td>\n",
       "    </tr>\n",
       "    <tr>\n",
       "      <th>2</th>\n",
       "      <td>María</td>\n",
       "      <td>92</td>\n",
       "      <td>85</td>\n",
       "      <td>88</td>\n",
       "      <td>95</td>\n",
       "      <td>91</td>\n",
       "      <td>94</td>\n",
       "    </tr>\n",
       "  </tbody>\n",
       "</table>\n",
       "</div>"
      ],
      "text/plain": [
       "  Estudiante  Matemáticas_2021  Historia_2021  Ciencias_2021  \\\n",
       "0        Ana                85             88             90   \n",
       "1       Luis                78             74             80   \n",
       "2      María                92             85             88   \n",
       "\n",
       "   Matemáticas_2022  Historia_2022  Ciencias_2022  \n",
       "0                89             90             92  \n",
       "1                82             77             84  \n",
       "2                95             91             94  "
      ]
     },
     "execution_count": 2,
     "metadata": {},
     "output_type": "execute_result"
    }
   ],
   "source": [
    "data = {\n",
    "    'Estudiante': ['Ana', 'Luis', 'María'],\n",
    "    'Matemáticas_2021': [85, 78, 92],\n",
    "    'Historia_2021': [88, 74, 85],\n",
    "    'Ciencias_2021': [90, 80, 88],\n",
    "    'Matemáticas_2022': [89, 82, 95],\n",
    "    'Historia_2022': [90, 77, 91],\n",
    "    'Ciencias_2022': [92, 84, 94],\n",
    "}\n",
    "\n",
    "df_no_tidy = pd.DataFrame(data)\n",
    "df_no_tidy"
   ]
  },
  {
   "cell_type": "markdown",
   "id": "07ad63ed",
   "metadata": {},
   "source": [
    "- Estos datos no cumplen con las condiciones de un formato tidy, por lo que para un mejor manejo deberá ser modificada la tabla."
   ]
  },
  {
   "cell_type": "markdown",
   "id": "2dac83d3",
   "metadata": {},
   "source": [
    "### __5.1- Función Melt__"
   ]
  },
  {
   "cell_type": "markdown",
   "id": "73e7e04b",
   "metadata": {},
   "source": [
    "La función `melt` permite traspasar una tabla de formato desordenado a uno _tidy_ de manera sencilla indicando cuáles son la variable de observación, como se llamará la nueva variable y qué valor se medirá."
   ]
  },
  {
   "cell_type": "code",
   "execution_count": 3,
   "id": "62b8c0d4",
   "metadata": {},
   "outputs": [
    {
     "data": {
      "text/html": [
       "<div>\n",
       "<style scoped>\n",
       "    .dataframe tbody tr th:only-of-type {\n",
       "        vertical-align: middle;\n",
       "    }\n",
       "\n",
       "    .dataframe tbody tr th {\n",
       "        vertical-align: top;\n",
       "    }\n",
       "\n",
       "    .dataframe thead th {\n",
       "        text-align: right;\n",
       "    }\n",
       "</style>\n",
       "<table border=\"1\" class=\"dataframe\">\n",
       "  <thead>\n",
       "    <tr style=\"text-align: right;\">\n",
       "      <th></th>\n",
       "      <th>Estudiante</th>\n",
       "      <th>Asignatura</th>\n",
       "      <th>nota</th>\n",
       "    </tr>\n",
       "  </thead>\n",
       "  <tbody>\n",
       "    <tr>\n",
       "      <th>0</th>\n",
       "      <td>Ana</td>\n",
       "      <td>Matemáticas_2021</td>\n",
       "      <td>85</td>\n",
       "    </tr>\n",
       "    <tr>\n",
       "      <th>1</th>\n",
       "      <td>Luis</td>\n",
       "      <td>Matemáticas_2021</td>\n",
       "      <td>78</td>\n",
       "    </tr>\n",
       "    <tr>\n",
       "      <th>2</th>\n",
       "      <td>María</td>\n",
       "      <td>Matemáticas_2021</td>\n",
       "      <td>92</td>\n",
       "    </tr>\n",
       "    <tr>\n",
       "      <th>3</th>\n",
       "      <td>Ana</td>\n",
       "      <td>Historia_2021</td>\n",
       "      <td>88</td>\n",
       "    </tr>\n",
       "    <tr>\n",
       "      <th>4</th>\n",
       "      <td>Luis</td>\n",
       "      <td>Historia_2021</td>\n",
       "      <td>74</td>\n",
       "    </tr>\n",
       "    <tr>\n",
       "      <th>5</th>\n",
       "      <td>María</td>\n",
       "      <td>Historia_2021</td>\n",
       "      <td>85</td>\n",
       "    </tr>\n",
       "    <tr>\n",
       "      <th>6</th>\n",
       "      <td>Ana</td>\n",
       "      <td>Ciencias_2021</td>\n",
       "      <td>90</td>\n",
       "    </tr>\n",
       "    <tr>\n",
       "      <th>7</th>\n",
       "      <td>Luis</td>\n",
       "      <td>Ciencias_2021</td>\n",
       "      <td>80</td>\n",
       "    </tr>\n",
       "    <tr>\n",
       "      <th>8</th>\n",
       "      <td>María</td>\n",
       "      <td>Ciencias_2021</td>\n",
       "      <td>88</td>\n",
       "    </tr>\n",
       "    <tr>\n",
       "      <th>9</th>\n",
       "      <td>Ana</td>\n",
       "      <td>Matemáticas_2022</td>\n",
       "      <td>89</td>\n",
       "    </tr>\n",
       "    <tr>\n",
       "      <th>10</th>\n",
       "      <td>Luis</td>\n",
       "      <td>Matemáticas_2022</td>\n",
       "      <td>82</td>\n",
       "    </tr>\n",
       "    <tr>\n",
       "      <th>11</th>\n",
       "      <td>María</td>\n",
       "      <td>Matemáticas_2022</td>\n",
       "      <td>95</td>\n",
       "    </tr>\n",
       "    <tr>\n",
       "      <th>12</th>\n",
       "      <td>Ana</td>\n",
       "      <td>Historia_2022</td>\n",
       "      <td>90</td>\n",
       "    </tr>\n",
       "    <tr>\n",
       "      <th>13</th>\n",
       "      <td>Luis</td>\n",
       "      <td>Historia_2022</td>\n",
       "      <td>77</td>\n",
       "    </tr>\n",
       "    <tr>\n",
       "      <th>14</th>\n",
       "      <td>María</td>\n",
       "      <td>Historia_2022</td>\n",
       "      <td>91</td>\n",
       "    </tr>\n",
       "    <tr>\n",
       "      <th>15</th>\n",
       "      <td>Ana</td>\n",
       "      <td>Ciencias_2022</td>\n",
       "      <td>92</td>\n",
       "    </tr>\n",
       "    <tr>\n",
       "      <th>16</th>\n",
       "      <td>Luis</td>\n",
       "      <td>Ciencias_2022</td>\n",
       "      <td>84</td>\n",
       "    </tr>\n",
       "    <tr>\n",
       "      <th>17</th>\n",
       "      <td>María</td>\n",
       "      <td>Ciencias_2022</td>\n",
       "      <td>94</td>\n",
       "    </tr>\n",
       "  </tbody>\n",
       "</table>\n",
       "</div>"
      ],
      "text/plain": [
       "   Estudiante        Asignatura  nota\n",
       "0         Ana  Matemáticas_2021    85\n",
       "1        Luis  Matemáticas_2021    78\n",
       "2       María  Matemáticas_2021    92\n",
       "3         Ana     Historia_2021    88\n",
       "4        Luis     Historia_2021    74\n",
       "5       María     Historia_2021    85\n",
       "6         Ana     Ciencias_2021    90\n",
       "7        Luis     Ciencias_2021    80\n",
       "8       María     Ciencias_2021    88\n",
       "9         Ana  Matemáticas_2022    89\n",
       "10       Luis  Matemáticas_2022    82\n",
       "11      María  Matemáticas_2022    95\n",
       "12        Ana     Historia_2022    90\n",
       "13       Luis     Historia_2022    77\n",
       "14      María     Historia_2022    91\n",
       "15        Ana     Ciencias_2022    92\n",
       "16       Luis     Ciencias_2022    84\n",
       "17      María     Ciencias_2022    94"
      ]
     },
     "execution_count": 3,
     "metadata": {},
     "output_type": "execute_result"
    }
   ],
   "source": [
    "# Reordenandolo: MELT\n",
    "df_tidy = df_no_tidy.melt(id_vars=['Estudiante'], var_name='Asignatura', value_name='nota')\n",
    "df_tidy"
   ]
  },
  {
   "cell_type": "code",
   "execution_count": 4,
   "id": "1e7eda2f",
   "metadata": {},
   "outputs": [
    {
     "data": {
      "text/html": [
       "<div>\n",
       "<style scoped>\n",
       "    .dataframe tbody tr th:only-of-type {\n",
       "        vertical-align: middle;\n",
       "    }\n",
       "\n",
       "    .dataframe tbody tr th {\n",
       "        vertical-align: top;\n",
       "    }\n",
       "\n",
       "    .dataframe thead th {\n",
       "        text-align: right;\n",
       "    }\n",
       "</style>\n",
       "<table border=\"1\" class=\"dataframe\">\n",
       "  <thead>\n",
       "    <tr style=\"text-align: right;\">\n",
       "      <th></th>\n",
       "      <th>Estudiante</th>\n",
       "      <th>Año</th>\n",
       "      <th>Asignatura</th>\n",
       "      <th>Nota</th>\n",
       "    </tr>\n",
       "  </thead>\n",
       "  <tbody>\n",
       "    <tr>\n",
       "      <th>0</th>\n",
       "      <td>Ana</td>\n",
       "      <td>2021</td>\n",
       "      <td>Matemáticas</td>\n",
       "      <td>85</td>\n",
       "    </tr>\n",
       "    <tr>\n",
       "      <th>1</th>\n",
       "      <td>Luis</td>\n",
       "      <td>2021</td>\n",
       "      <td>Matemáticas</td>\n",
       "      <td>78</td>\n",
       "    </tr>\n",
       "    <tr>\n",
       "      <th>2</th>\n",
       "      <td>María</td>\n",
       "      <td>2021</td>\n",
       "      <td>Matemáticas</td>\n",
       "      <td>92</td>\n",
       "    </tr>\n",
       "    <tr>\n",
       "      <th>3</th>\n",
       "      <td>Ana</td>\n",
       "      <td>2021</td>\n",
       "      <td>Historia</td>\n",
       "      <td>88</td>\n",
       "    </tr>\n",
       "    <tr>\n",
       "      <th>4</th>\n",
       "      <td>Luis</td>\n",
       "      <td>2021</td>\n",
       "      <td>Historia</td>\n",
       "      <td>74</td>\n",
       "    </tr>\n",
       "    <tr>\n",
       "      <th>5</th>\n",
       "      <td>María</td>\n",
       "      <td>2021</td>\n",
       "      <td>Historia</td>\n",
       "      <td>85</td>\n",
       "    </tr>\n",
       "    <tr>\n",
       "      <th>6</th>\n",
       "      <td>Ana</td>\n",
       "      <td>2021</td>\n",
       "      <td>Ciencias</td>\n",
       "      <td>90</td>\n",
       "    </tr>\n",
       "    <tr>\n",
       "      <th>7</th>\n",
       "      <td>Luis</td>\n",
       "      <td>2021</td>\n",
       "      <td>Ciencias</td>\n",
       "      <td>80</td>\n",
       "    </tr>\n",
       "    <tr>\n",
       "      <th>8</th>\n",
       "      <td>María</td>\n",
       "      <td>2021</td>\n",
       "      <td>Ciencias</td>\n",
       "      <td>88</td>\n",
       "    </tr>\n",
       "    <tr>\n",
       "      <th>9</th>\n",
       "      <td>Ana</td>\n",
       "      <td>2022</td>\n",
       "      <td>Matemáticas</td>\n",
       "      <td>89</td>\n",
       "    </tr>\n",
       "    <tr>\n",
       "      <th>10</th>\n",
       "      <td>Luis</td>\n",
       "      <td>2022</td>\n",
       "      <td>Matemáticas</td>\n",
       "      <td>82</td>\n",
       "    </tr>\n",
       "    <tr>\n",
       "      <th>11</th>\n",
       "      <td>María</td>\n",
       "      <td>2022</td>\n",
       "      <td>Matemáticas</td>\n",
       "      <td>95</td>\n",
       "    </tr>\n",
       "    <tr>\n",
       "      <th>12</th>\n",
       "      <td>Ana</td>\n",
       "      <td>2022</td>\n",
       "      <td>Historia</td>\n",
       "      <td>90</td>\n",
       "    </tr>\n",
       "    <tr>\n",
       "      <th>13</th>\n",
       "      <td>Luis</td>\n",
       "      <td>2022</td>\n",
       "      <td>Historia</td>\n",
       "      <td>77</td>\n",
       "    </tr>\n",
       "    <tr>\n",
       "      <th>14</th>\n",
       "      <td>María</td>\n",
       "      <td>2022</td>\n",
       "      <td>Historia</td>\n",
       "      <td>91</td>\n",
       "    </tr>\n",
       "    <tr>\n",
       "      <th>15</th>\n",
       "      <td>Ana</td>\n",
       "      <td>2022</td>\n",
       "      <td>Ciencias</td>\n",
       "      <td>92</td>\n",
       "    </tr>\n",
       "    <tr>\n",
       "      <th>16</th>\n",
       "      <td>Luis</td>\n",
       "      <td>2022</td>\n",
       "      <td>Ciencias</td>\n",
       "      <td>84</td>\n",
       "    </tr>\n",
       "    <tr>\n",
       "      <th>17</th>\n",
       "      <td>María</td>\n",
       "      <td>2022</td>\n",
       "      <td>Ciencias</td>\n",
       "      <td>94</td>\n",
       "    </tr>\n",
       "  </tbody>\n",
       "</table>\n",
       "</div>"
      ],
      "text/plain": [
       "   Estudiante   Año   Asignatura  Nota\n",
       "0         Ana  2021  Matemáticas    85\n",
       "1        Luis  2021  Matemáticas    78\n",
       "2       María  2021  Matemáticas    92\n",
       "3         Ana  2021     Historia    88\n",
       "4        Luis  2021     Historia    74\n",
       "5       María  2021     Historia    85\n",
       "6         Ana  2021     Ciencias    90\n",
       "7        Luis  2021     Ciencias    80\n",
       "8       María  2021     Ciencias    88\n",
       "9         Ana  2022  Matemáticas    89\n",
       "10       Luis  2022  Matemáticas    82\n",
       "11      María  2022  Matemáticas    95\n",
       "12        Ana  2022     Historia    90\n",
       "13       Luis  2022     Historia    77\n",
       "14      María  2022     Historia    91\n",
       "15        Ana  2022     Ciencias    92\n",
       "16       Luis  2022     Ciencias    84\n",
       "17      María  2022     Ciencias    94"
      ]
     },
     "execution_count": 4,
     "metadata": {},
     "output_type": "execute_result"
    }
   ],
   "source": [
    "# más bonito \n",
    "df_tidy2 = df_tidy.copy()\n",
    "df_tidy2[['Asignatura', 'Año']] = df_tidy['Asignatura'].str.split('_', expand=True) # parametro expand permite dividirse en columnas\n",
    "df_tidy2 = df_tidy2[['Estudiante','Año','Asignatura','nota']] # Nuevo órden\n",
    "df_tidy2 = df_tidy2.rename(columns={'nota': 'Nota'}) # Nuevo nombre\n",
    "df_tidy2"
   ]
  },
  {
   "cell_type": "markdown",
   "id": "bd2f8711",
   "metadata": {},
   "source": [
    "### __5.2- Función Pivot__"
   ]
  },
  {
   "cell_type": "markdown",
   "id": "99c33809",
   "metadata": {},
   "source": [
    "Función contraria al `melt`."
   ]
  },
  {
   "cell_type": "code",
   "execution_count": 5,
   "id": "5eb2a62b",
   "metadata": {},
   "outputs": [
    {
     "data": {
      "text/html": [
       "<div>\n",
       "<style scoped>\n",
       "    .dataframe tbody tr th:only-of-type {\n",
       "        vertical-align: middle;\n",
       "    }\n",
       "\n",
       "    .dataframe tbody tr th {\n",
       "        vertical-align: top;\n",
       "    }\n",
       "\n",
       "    .dataframe thead th {\n",
       "        text-align: right;\n",
       "    }\n",
       "</style>\n",
       "<table border=\"1\" class=\"dataframe\">\n",
       "  <thead>\n",
       "    <tr style=\"text-align: right;\">\n",
       "      <th>Asignatura</th>\n",
       "      <th>Estudiante</th>\n",
       "      <th>Ciencias_2021</th>\n",
       "      <th>Ciencias_2022</th>\n",
       "      <th>Historia_2021</th>\n",
       "      <th>Historia_2022</th>\n",
       "      <th>Matemáticas_2021</th>\n",
       "      <th>Matemáticas_2022</th>\n",
       "    </tr>\n",
       "  </thead>\n",
       "  <tbody>\n",
       "    <tr>\n",
       "      <th>0</th>\n",
       "      <td>Ana</td>\n",
       "      <td>90</td>\n",
       "      <td>92</td>\n",
       "      <td>88</td>\n",
       "      <td>90</td>\n",
       "      <td>85</td>\n",
       "      <td>89</td>\n",
       "    </tr>\n",
       "    <tr>\n",
       "      <th>1</th>\n",
       "      <td>Luis</td>\n",
       "      <td>80</td>\n",
       "      <td>84</td>\n",
       "      <td>74</td>\n",
       "      <td>77</td>\n",
       "      <td>78</td>\n",
       "      <td>82</td>\n",
       "    </tr>\n",
       "    <tr>\n",
       "      <th>2</th>\n",
       "      <td>María</td>\n",
       "      <td>88</td>\n",
       "      <td>94</td>\n",
       "      <td>85</td>\n",
       "      <td>91</td>\n",
       "      <td>92</td>\n",
       "      <td>95</td>\n",
       "    </tr>\n",
       "  </tbody>\n",
       "</table>\n",
       "</div>"
      ],
      "text/plain": [
       "Asignatura Estudiante  Ciencias_2021  Ciencias_2022  Historia_2021  \\\n",
       "0                 Ana             90             92             88   \n",
       "1                Luis             80             84             74   \n",
       "2               María             88             94             85   \n",
       "\n",
       "Asignatura  Historia_2022  Matemáticas_2021  Matemáticas_2022  \n",
       "0                      90                85                89  \n",
       "1                      77                78                82  \n",
       "2                      91                92                95  "
      ]
     },
     "execution_count": 5,
     "metadata": {},
     "output_type": "execute_result"
    }
   ],
   "source": [
    "# Proceso contrario: PIVOT\n",
    "df_no_tidy = df_tidy.pivot(index='Estudiante',columns=['Asignatura'],values='nota').reset_index()\n",
    "df_no_tidy"
   ]
  },
  {
   "cell_type": "markdown",
   "id": "02346394",
   "metadata": {},
   "source": [
    "## __Workshop 2__:"
   ]
  },
  {
   "cell_type": "markdown",
   "id": "02184309",
   "metadata": {},
   "source": [
    "### Estadísticas reportadas por el Banco Mundial por país\n",
    "- **PIB Per Cápita**: [https://data.worldbank.org/indicator/NY.GDP.PCAP.CD](https://data.worldbank.org/indicator/NY.GDP.PCAP.CD)\n",
    "- **Población**: [https://data.worldbank.org/indicator/SP.POP.TOTL](https://data.worldbank.org/indicator/SP.POP.TOTL)\n",
    "- **Índice de Gini**: [https://data.worldbank.org/indicator/SI.POV.GINI](https://data.worldbank.org/indicator/SI.POV.GINI)"
   ]
  },
  {
   "cell_type": "markdown",
   "id": "599a6869",
   "metadata": {},
   "source": [
    "### Actividades"
   ]
  },
  {
   "cell_type": "markdown",
   "id": "7834bd0c",
   "metadata": {},
   "source": [
    "1. Descargue los archivos generados por el Banco Mundial en formato Excel. Luego, abra los archivos usando `read_excel()` y especificando que la primera fila corresponda a la que contenga el nombre de las variables. Use el parámetro `header`."
   ]
  },
  {
   "cell_type": "code",
   "execution_count": null,
   "id": "302feec7",
   "metadata": {},
   "outputs": [],
   "source": [
    "# Tu código aquí"
   ]
  },
  {
   "cell_type": "markdown",
   "id": "39c0b6f6",
   "metadata": {},
   "source": [
    "2. Convierta a formato *tidy* cada conjunto de datos. Realice esta labor por separado."
   ]
  },
  {
   "cell_type": "code",
   "execution_count": null,
   "id": "1d38e88c",
   "metadata": {},
   "outputs": [],
   "source": [
    "# Tu código aquí"
   ]
  },
  {
   "cell_type": "markdown",
   "id": "e4f58468",
   "metadata": {},
   "source": [
    "3. Calcule la media y mediana de población anualmente."
   ]
  },
  {
   "cell_type": "code",
   "execution_count": null,
   "id": "70166305",
   "metadata": {},
   "outputs": [],
   "source": [
    "# Tu código aquí"
   ]
  },
  {
   "cell_type": "markdown",
   "id": "958e2acf",
   "metadata": {},
   "source": [
    "4. ¿Cómo se obtiene el país con mayor población?"
   ]
  },
  {
   "cell_type": "code",
   "execution_count": null,
   "id": "28ad7e9d",
   "metadata": {},
   "outputs": [],
   "source": [
    "# Tu código aquí"
   ]
  },
  {
   "cell_type": "markdown",
   "id": "1674de65",
   "metadata": {},
   "source": [
    "5. ¿Cómo se obtiene el país con menor desigualdad?"
   ]
  },
  {
   "cell_type": "code",
   "execution_count": null,
   "id": "ca0f8e36",
   "metadata": {},
   "outputs": [],
   "source": [
    "# Tu código aquí"
   ]
  },
  {
   "cell_type": "markdown",
   "id": "d2c6b3a2",
   "metadata": {},
   "source": [
    "6. Calcule el promedio (media móvil) de PIB Per Cápita por país de los últimos 5 años."
   ]
  },
  {
   "cell_type": "code",
   "execution_count": null,
   "id": "8711fca1",
   "metadata": {},
   "outputs": [],
   "source": [
    "# Tu código aquí"
   ]
  },
  {
   "cell_type": "markdown",
   "id": "05614952",
   "metadata": {},
   "source": [
    "7. Concatene ambos conjuntos de datos en un único DataFrame. Use `.concat()`."
   ]
  },
  {
   "cell_type": "code",
   "execution_count": null,
   "id": "a706d112",
   "metadata": {},
   "outputs": [],
   "source": [
    "# Tu código aquí"
   ]
  },
  {
   "cell_type": "markdown",
   "id": "52c0d8d2",
   "metadata": {},
   "source": [
    "8. Combine ambos conjuntos de datos en un único DataFrame. Use `.merge()`."
   ]
  },
  {
   "cell_type": "code",
   "execution_count": null,
   "id": "4cc105b8",
   "metadata": {},
   "outputs": [],
   "source": [
    "# Tu código aquí"
   ]
  },
  {
   "cell_type": "markdown",
   "id": "adf12d5a",
   "metadata": {},
   "source": [
    "9. Luego de realizar los ejercicios anteriores, ¿Cuáles son las ventajas y desventajas de usar `concat` y `merge`?"
   ]
  },
  {
   "cell_type": "code",
   "execution_count": null,
   "id": "9bef105a",
   "metadata": {},
   "outputs": [],
   "source": [
    "# Tu código aquí"
   ]
  },
  {
   "cell_type": "markdown",
   "id": "87c4c86d",
   "metadata": {},
   "source": [
    "10. Calcule los países que tuvieron mayor variación en su índice de Gini."
   ]
  },
  {
   "cell_type": "code",
   "execution_count": null,
   "id": "efeca5d1",
   "metadata": {},
   "outputs": [],
   "source": [
    "# Tu código aquí"
   ]
  },
  {
   "cell_type": "markdown",
   "id": "73de7491",
   "metadata": {},
   "source": [
    "11. A partir del PIB Per Cápita y la Población, obtenga una nueva columna para medir el PIB."
   ]
  },
  {
   "cell_type": "code",
   "execution_count": null,
   "id": "da69b218",
   "metadata": {},
   "outputs": [],
   "source": [
    "# Tu código aquí"
   ]
  },
  {
   "cell_type": "markdown",
   "id": "c8b71893",
   "metadata": {},
   "source": [
    "12. Calcule la tasa de crecimiento poblacional anual por país como una nueva columna de datos."
   ]
  },
  {
   "cell_type": "code",
   "execution_count": null,
   "id": "3db6f7e1",
   "metadata": {},
   "outputs": [],
   "source": [
    "# Tu código aquí"
   ]
  },
  {
   "cell_type": "markdown",
   "id": "7090249a",
   "metadata": {},
   "source": [
    "13. ¿Cuál es la tasa de crecimiento poblacional anual para Chile y Argentina?"
   ]
  },
  {
   "cell_type": "code",
   "execution_count": null,
   "id": "9062fda7",
   "metadata": {},
   "outputs": [],
   "source": [
    "# Tu código aquí"
   ]
  },
  {
   "cell_type": "markdown",
   "id": "5fdf0249",
   "metadata": {},
   "source": [
    "14. Al año 2000, determine cuáles son los 10 países con mayor PIB Per Cápita y los 10 con mayor población. ¿Son los mismos países al 2020?"
   ]
  },
  {
   "cell_type": "code",
   "execution_count": null,
   "id": "76004df2",
   "metadata": {},
   "outputs": [],
   "source": [
    "# Tu código aquí"
   ]
  },
  {
   "cell_type": "markdown",
   "id": "578b4939",
   "metadata": {},
   "source": [
    "15. Al año 2020, ¿Cuáles son los países con mayor nivel de desigualdad, y que, al mismo tiempo, tengan una población menor a 40 millones de habitantes?"
   ]
  },
  {
   "cell_type": "code",
   "execution_count": null,
   "id": "eac0c640",
   "metadata": {},
   "outputs": [],
   "source": [
    "# Tu código aquí"
   ]
  },
  {
   "cell_type": "markdown",
   "id": "f9825466",
   "metadata": {},
   "source": []
  }
 ],
 "metadata": {
  "kernelspec": {
   "display_name": ".venv",
   "language": "python",
   "name": "python3"
  },
  "language_info": {
   "codemirror_mode": {
    "name": "ipython",
    "version": 3
   },
   "file_extension": ".py",
   "mimetype": "text/x-python",
   "name": "python",
   "nbconvert_exporter": "python",
   "pygments_lexer": "ipython3",
   "version": "3.13.2"
  }
 },
 "nbformat": 4,
 "nbformat_minor": 5
}
