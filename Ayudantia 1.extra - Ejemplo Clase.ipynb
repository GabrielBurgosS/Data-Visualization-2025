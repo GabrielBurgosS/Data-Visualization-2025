{
 "cells": [
  {
   "cell_type": "markdown",
   "metadata": {},
   "source": [
    "# Ejemplo de clase"
   ]
  },
  {
   "cell_type": "code",
   "execution_count": null,
   "metadata": {},
   "outputs": [],
   "source": [
    "# Por hacer\n",
    "habilidad_bajo  = 7\n",
    "habilidad_media = 5\n",
    "habilidad_alta  = 3"
   ]
  },
  {
   "cell_type": "markdown",
   "metadata": {},
   "source": [
    "## Magia"
   ]
  },
  {
   "cell_type": "code",
   "execution_count": null,
   "metadata": {},
   "outputs": [],
   "source": [
    "import pandas as pd\n",
    "import matplotlib.pyplot as plt\n",
    "import plotly.express as px"
   ]
  },
  {
   "cell_type": "code",
   "execution_count": null,
   "metadata": {},
   "outputs": [],
   "source": [
    "# Primera aproximación: Proporciones\n",
    "\n",
    "# Etiquetas y valores\n",
    "labels = ['Bajo', 'Medio', 'Alto']\n",
    "sizes = [habilidad_bajo, habilidad_media, habilidad_alta]\n",
    "colors = ['red', 'orange', 'green']\n",
    "\n",
    "# Crear gráfico de torta\n",
    "plt.figure(figsize=(6, 6))\n",
    "plt.pie(sizes, labels=labels, autopct='%1.1f%%', colors=colors, startangle=140, wedgeprops={'edgecolor': 'white'})\n",
    "\n",
    "# Título\n",
    "plt.title(\"Distribución del Nivel de Habilidad\")\n",
    "\n",
    "# Mostrar gráfico\n",
    "plt.show()"
   ]
  },
  {
   "cell_type": "code",
   "execution_count": null,
   "metadata": {},
   "outputs": [],
   "source": [
    "# Segunda aproximación: Participación\n",
    "\n",
    "asistencia = 20\n",
    "participacion = habilidad_bajo + habilidad_media + habilidad_alta\n",
    "\n",
    "# Etiquetas y valores\n",
    "labels = ['No participan', 'Participan']\n",
    "sizes = [asistencia - participacion, participacion]\n",
    "colors = ['red', 'green']\n",
    "\n",
    "# Crear gráfico de torta\n",
    "plt.figure(figsize=(3, 3))\n",
    "plt.bar(height=sizes, x=labels)\n",
    "\n",
    "# Título\n",
    "plt.title(\"Participación\")\n",
    "\n",
    "# Mostrar gráfico\n",
    "plt.show()"
   ]
  },
  {
   "cell_type": "code",
   "execution_count": null,
   "metadata": {},
   "outputs": [],
   "source": [
    "# Tercera aproximación: Asistencia\n",
    "\n",
    "n_alumnos = 38\n",
    "# Etiquetas y valores\n",
    "labels = ['Ausente', 'Presente']\n",
    "sizes = [n_alumnos - asistencia, asistencia]\n",
    "\n",
    "# Crear gráfico de torta\n",
    "plt.figure(figsize=(3, 3))\n",
    "plt.bar(height=sizes, x=labels)\n",
    "\n",
    "# Título\n",
    "plt.title(\"Asistencia\")\n",
    "\n",
    "# Mostrar gráfico\n",
    "plt.show()"
   ]
  },
  {
   "cell_type": "code",
   "execution_count": null,
   "metadata": {},
   "outputs": [],
   "source": [
    "# Proporción integrada\n",
    "\n",
    "# Etiquetas y valores\n",
    "desconocido = (n_alumnos - asistencia) + (asistencia - participacion)\n",
    "\n",
    "labels = ['Bajo', 'Medio', 'Alto', 'Desconocido']\n",
    "sizes = [habilidad_bajo, habilidad_media, habilidad_alta, desconocido]\n",
    "colors = ['red', 'orange', 'green', 'gray']\n",
    "\n",
    "# Crear gráfico de torta\n",
    "plt.figure(figsize=(6, 6))\n",
    "plt.pie(sizes, labels=labels, autopct='%1.1f%%', colors=colors, startangle=35, wedgeprops={'edgecolor': 'white'})\n",
    "\n",
    "# Título\n",
    "plt.title(\"Distribución del Nivel de Habilidad\")\n",
    "\n",
    "# Mostrar gráfico\n",
    "plt.show()"
   ]
  },
  {
   "cell_type": "code",
   "execution_count": null,
   "metadata": {},
   "outputs": [],
   "source": [
    "# Caracterización completa\n",
    "\n",
    "data = {\n",
    "    \"Alumno\": [f\"Alumno {i+1}\" for i in range(n_alumnos)],\n",
    "    \"Asistencia\": ['Asistente']*asistencia + ['Inasistente']*(n_alumnos - asistencia),\n",
    "    \"Participación\": ['Participa']*participacion + ['No Participa']*(n_alumnos - participacion),\n",
    "    \"Nivel de Habilidad\": ['bajo']*habilidad_bajo + ['medio']*habilidad_media + ['alto']*habilidad_alta + [None]*(n_alumnos - participacion),\n",
    "}\n",
    "\n",
    "df = pd.DataFrame(data)\n",
    "\n",
    "# Contar categorías para el Treemap\n",
    "df_treemap = df.groupby([\"Asistencia\", \"Participación\", \"Nivel de Habilidad\"], dropna=False).size().reset_index(name=\"Cantidad\")\n",
    "\n",
    "# Crear Treemap con Plotly Express\n",
    "fig = px.treemap(\n",
    "    df_treemap,\n",
    "    path=[\"Asistencia\", \"Participación\", \"Nivel de Habilidad\"],\n",
    "    values=\"Cantidad\",\n",
    "    title=\"Caracterización de Alumnos WS1 DV 2025\",\n",
    "    color='Participación',\n",
    "    color_continuous_scale=\"viridis\"\n",
    ")\n",
    "\n",
    "fig.show()"
   ]
  }
 ],
 "metadata": {
  "language_info": {
   "name": "python"
  }
 },
 "nbformat": 4,
 "nbformat_minor": 2
}
