{
 "cells": [
  {
   "cell_type": "markdown",
   "id": "ad76aa09",
   "metadata": {},
   "source": [
    "# **Ayudantía 6 - Visualización Complejas**\n",
    "## Data Visualization\n",
    "**Ayudante:** Gabriel Burgos  \n",
    "**Fecha:** Abril 2025  \n",
    " _Universidad de Concepción_\n",
    "\n",
    "---\n",
    "__Este workshop se enfoca en la creación de visualizaciones relevantes utilizando datos de precipitaciones en Chile.__"
   ]
  },
  {
   "cell_type": "markdown",
   "id": "2e9f1650",
   "metadata": {},
   "source": [
    "# 💻 Workshop 5\n",
    "\n",
    "## Data Visualization\n",
    "\n",
    "[Fuente: Banco Central - IMACEC](https://www.bcentral.cl/web/banco-central/areas/estadisticas/imacec)"
   ]
  },
  {
   "cell_type": "markdown",
   "id": "254f5653",
   "metadata": {},
   "source": [
    "---"
   ]
  },
  {
   "cell_type": "markdown",
   "id": "790f57d2",
   "metadata": {},
   "source": [
    "##### 1. Grafique la evolución mensual del IMACEC total y compárelo con el IMACEC no minero."
   ]
  },
  {
   "cell_type": "code",
   "execution_count": null,
   "id": "4f7f5006",
   "metadata": {},
   "outputs": [],
   "source": [
    "# Tu código aquí"
   ]
  },
  {
   "cell_type": "markdown",
   "id": "4143d1cc",
   "metadata": {},
   "source": [
    "###### Solución de la pregunta 1"
   ]
  },
  {
   "cell_type": "code",
   "execution_count": 127,
   "id": "6bd75845",
   "metadata": {},
   "outputs": [
    {
     "data": {
      "text/html": [
       "<div>\n",
       "<style scoped>\n",
       "    .dataframe tbody tr th:only-of-type {\n",
       "        vertical-align: middle;\n",
       "    }\n",
       "\n",
       "    .dataframe tbody tr th {\n",
       "        vertical-align: top;\n",
       "    }\n",
       "\n",
       "    .dataframe thead th {\n",
       "        text-align: right;\n",
       "    }\n",
       "</style>\n",
       "<table border=\"1\" class=\"dataframe\">\n",
       "  <thead>\n",
       "    <tr style=\"text-align: right;\">\n",
       "      <th></th>\n",
       "      <th>periodo</th>\n",
       "      <th>mineria</th>\n",
       "      <th>industria</th>\n",
       "      <th>resto de bienes</th>\n",
       "      <th>total produccion de bienes</th>\n",
       "      <th>comercio</th>\n",
       "      <th>servicios</th>\n",
       "      <th>total imacec a costo</th>\n",
       "      <th>impuestos a los produ</th>\n",
       "      <th>total imacec</th>\n",
       "      <th>imacec no minero</th>\n",
       "    </tr>\n",
       "  </thead>\n",
       "  <tbody>\n",
       "    <tr>\n",
       "      <th>0</th>\n",
       "      <td>2018-01-01</td>\n",
       "      <td>96.544383</td>\n",
       "      <td>99.659868</td>\n",
       "      <td>113.911467</td>\n",
       "      <td>104.802668</td>\n",
       "      <td>103.572177</td>\n",
       "      <td>90.811778</td>\n",
       "      <td>97.127609</td>\n",
       "      <td>92.246718</td>\n",
       "      <td>96.638285</td>\n",
       "      <td>96.647744</td>\n",
       "    </tr>\n",
       "    <tr>\n",
       "      <th>1</th>\n",
       "      <td>2018-02-01</td>\n",
       "      <td>92.004524</td>\n",
       "      <td>93.536219</td>\n",
       "      <td>123.006377</td>\n",
       "      <td>105.577274</td>\n",
       "      <td>91.074985</td>\n",
       "      <td>85.034673</td>\n",
       "      <td>92.967564</td>\n",
       "      <td>91.191314</td>\n",
       "      <td>92.789489</td>\n",
       "      <td>92.868564</td>\n",
       "    </tr>\n",
       "    <tr>\n",
       "      <th>2</th>\n",
       "      <td>2018-03-01</td>\n",
       "      <td>100.009399</td>\n",
       "      <td>105.249636</td>\n",
       "      <td>124.885767</td>\n",
       "      <td>112.064054</td>\n",
       "      <td>103.144904</td>\n",
       "      <td>101.562300</td>\n",
       "      <td>105.458791</td>\n",
       "      <td>103.186103</td>\n",
       "      <td>105.230947</td>\n",
       "      <td>105.756946</td>\n",
       "    </tr>\n",
       "    <tr>\n",
       "      <th>3</th>\n",
       "      <td>2018-04-01</td>\n",
       "      <td>91.025631</td>\n",
       "      <td>105.716717</td>\n",
       "      <td>108.275297</td>\n",
       "      <td>102.592350</td>\n",
       "      <td>102.842542</td>\n",
       "      <td>102.391344</td>\n",
       "      <td>102.510368</td>\n",
       "      <td>96.960566</td>\n",
       "      <td>101.953983</td>\n",
       "      <td>103.054863</td>\n",
       "    </tr>\n",
       "    <tr>\n",
       "      <th>4</th>\n",
       "      <td>2018-05-01</td>\n",
       "      <td>100.207610</td>\n",
       "      <td>105.383899</td>\n",
       "      <td>94.575453</td>\n",
       "      <td>99.324228</td>\n",
       "      <td>103.752615</td>\n",
       "      <td>103.168474</td>\n",
       "      <td>101.864986</td>\n",
       "      <td>100.458493</td>\n",
       "      <td>101.723981</td>\n",
       "      <td>101.876734</td>\n",
       "    </tr>\n",
       "    <tr>\n",
       "      <th>...</th>\n",
       "      <td>...</td>\n",
       "      <td>...</td>\n",
       "      <td>...</td>\n",
       "      <td>...</td>\n",
       "      <td>...</td>\n",
       "      <td>...</td>\n",
       "      <td>...</td>\n",
       "      <td>...</td>\n",
       "      <td>...</td>\n",
       "      <td>...</td>\n",
       "      <td>...</td>\n",
       "    </tr>\n",
       "    <tr>\n",
       "      <th>83</th>\n",
       "      <td>2024-12-01</td>\n",
       "      <td>108.418667</td>\n",
       "      <td>115.805875</td>\n",
       "      <td>154.010453</td>\n",
       "      <td>126.073334</td>\n",
       "      <td>146.429244</td>\n",
       "      <td>122.053193</td>\n",
       "      <td>126.271106</td>\n",
       "      <td>126.046950</td>\n",
       "      <td>126.264046</td>\n",
       "      <td>129.087876</td>\n",
       "    </tr>\n",
       "    <tr>\n",
       "      <th>84</th>\n",
       "      <td>2025-01-01</td>\n",
       "      <td>84.576177</td>\n",
       "      <td>112.006172</td>\n",
       "      <td>121.737843</td>\n",
       "      <td>104.706148</td>\n",
       "      <td>140.775390</td>\n",
       "      <td>111.248547</td>\n",
       "      <td>111.583086</td>\n",
       "      <td>105.704263</td>\n",
       "      <td>110.994504</td>\n",
       "      <td>115.199725</td>\n",
       "    </tr>\n",
       "    <tr>\n",
       "      <th>85</th>\n",
       "      <td>2025-02-01</td>\n",
       "      <td>75.558851</td>\n",
       "      <td>104.813526</td>\n",
       "      <td>124.182367</td>\n",
       "      <td>100.308134</td>\n",
       "      <td>123.202179</td>\n",
       "      <td>104.356716</td>\n",
       "      <td>104.762168</td>\n",
       "      <td>99.612460</td>\n",
       "      <td>104.247666</td>\n",
       "      <td>108.847910</td>\n",
       "    </tr>\n",
       "    <tr>\n",
       "      <th>86</th>\n",
       "      <td>2025-03-01</td>\n",
       "      <td>89.729307</td>\n",
       "      <td>115.197621</td>\n",
       "      <td>127.716284</td>\n",
       "      <td>109.645557</td>\n",
       "      <td>132.985923</td>\n",
       "      <td>125.136822</td>\n",
       "      <td>119.862898</td>\n",
       "      <td>114.358242</td>\n",
       "      <td>119.314147</td>\n",
       "      <td>124.033694</td>\n",
       "    </tr>\n",
       "    <tr>\n",
       "      <th>87</th>\n",
       "      <td>2025-04-01</td>\n",
       "      <td>86.090201</td>\n",
       "      <td>109.820351</td>\n",
       "      <td>109.808210</td>\n",
       "      <td>100.430739</td>\n",
       "      <td>123.037336</td>\n",
       "      <td>124.515266</td>\n",
       "      <td>114.814174</td>\n",
       "      <td>105.973775</td>\n",
       "      <td>113.920917</td>\n",
       "      <td>118.357167</td>\n",
       "    </tr>\n",
       "  </tbody>\n",
       "</table>\n",
       "<p>88 rows × 11 columns</p>\n",
       "</div>"
      ],
      "text/plain": [
       "      periodo     mineria   industria  resto de bienes  \\\n",
       "0  2018-01-01   96.544383   99.659868       113.911467   \n",
       "1  2018-02-01   92.004524   93.536219       123.006377   \n",
       "2  2018-03-01  100.009399  105.249636       124.885767   \n",
       "3  2018-04-01   91.025631  105.716717       108.275297   \n",
       "4  2018-05-01  100.207610  105.383899        94.575453   \n",
       "..        ...         ...         ...              ...   \n",
       "83 2024-12-01  108.418667  115.805875       154.010453   \n",
       "84 2025-01-01   84.576177  112.006172       121.737843   \n",
       "85 2025-02-01   75.558851  104.813526       124.182367   \n",
       "86 2025-03-01   89.729307  115.197621       127.716284   \n",
       "87 2025-04-01   86.090201  109.820351       109.808210   \n",
       "\n",
       "    total produccion de bienes    comercio   servicios  total imacec a costo  \\\n",
       "0                   104.802668  103.572177   90.811778             97.127609   \n",
       "1                   105.577274   91.074985   85.034673             92.967564   \n",
       "2                   112.064054  103.144904  101.562300            105.458791   \n",
       "3                   102.592350  102.842542  102.391344            102.510368   \n",
       "4                    99.324228  103.752615  103.168474            101.864986   \n",
       "..                         ...         ...         ...                   ...   \n",
       "83                  126.073334  146.429244  122.053193            126.271106   \n",
       "84                  104.706148  140.775390  111.248547            111.583086   \n",
       "85                  100.308134  123.202179  104.356716            104.762168   \n",
       "86                  109.645557  132.985923  125.136822            119.862898   \n",
       "87                  100.430739  123.037336  124.515266            114.814174   \n",
       "\n",
       "    impuestos a los produ  total imacec  imacec no minero  \n",
       "0               92.246718     96.638285         96.647744  \n",
       "1               91.191314     92.789489         92.868564  \n",
       "2              103.186103    105.230947        105.756946  \n",
       "3               96.960566    101.953983        103.054863  \n",
       "4              100.458493    101.723981        101.876734  \n",
       "..                    ...           ...               ...  \n",
       "83             126.046950    126.264046        129.087876  \n",
       "84             105.704263    110.994504        115.199725  \n",
       "85              99.612460    104.247666        108.847910  \n",
       "86             114.358242    119.314147        124.033694  \n",
       "87             105.973775    113.920917        118.357167  \n",
       "\n",
       "[88 rows x 11 columns]"
      ]
     },
     "execution_count": 127,
     "metadata": {},
     "output_type": "execute_result"
    }
   ],
   "source": [
    "# Lectura\n",
    "import pandas as pd\n",
    "from unidecode import unidecode # Para neutralizar tildes\n",
    "\n",
    "df = pd.read_excel('data/ws5/IMACEC.xlsx', \n",
    "                   header=7, # Para comenzar en la tabla real\n",
    "                   skipfooter=11, # Para no leer las ultimas filas\n",
    "                   skiprows=[15]) # Para saltarse la linea de separación\n",
    "\n",
    "# Corrigiendo nombres de Columnas\n",
    "## Función de corrección\n",
    "def corregir_nombre(nombre:str):\n",
    "    nombre = unidecode(nombre) # Neutraliza tildes\n",
    "    nombre = nombre.lower() # A minúsculas\n",
    "    nombre = nombre[:-4] if '(' in nombre else nombre # Quita ()\n",
    "    return nombre\n",
    "## Aplicando sobre columnas y sobreescribiendo\n",
    "df.columns = [corregir_nombre(col) for col in df.columns]\n",
    "## Corrigiendo imacec no minero\n",
    "df = df.rename(columns={'imacecnominero':'imacec no minero'})\n",
    "\n",
    "# Separando tablas\n",
    "df_anual = df[:7] # totales anuales\n",
    "df = df[7:].reset_index(drop=True)\n",
    "# Rellenando años faltantes\n",
    "df['periodo'] = df['periodo'].ffill() # Rellena años\n",
    "# Mapeando meses\n",
    "meses = {'ene':'01', \n",
    "         'feb':'02', \n",
    "         'mar':'03', \n",
    "         'abr':'04', \n",
    "         'may':'05', \n",
    "         'jun':'06', \n",
    "         'jul':'07', \n",
    "         'ago':'08', \n",
    "         'sep':'09',\n",
    "         'oct':'10', \n",
    "         'nov':'11', \n",
    "         'dic':'12',\n",
    "         }\n",
    "df['unnamed: 1'] = df['unnamed: 1'].map(meses)\n",
    "# Corrigiendo columna periodo\n",
    "df['periodo'] = df['periodo'].astype(int).astype(str) + '-' + df['unnamed: 1'] # Union\n",
    "df['periodo'] = pd.to_datetime(df['periodo'], format='%Y-%m') # Pasar a fecha\n",
    "df.drop(columns=['unnamed: 1'], inplace=True) # Borrando columna de meses anterior\n",
    "df"
   ]
  },
  {
   "cell_type": "code",
   "execution_count": 151,
   "id": "d0a6e624",
   "metadata": {},
   "outputs": [
    {
     "data": {
      "image/png": "[encoded data removed]",
      "text/plain": [
       "<Figure size 1200x400 with 1 Axes>"
      ]
     },
     "metadata": {},
     "output_type": "display_data"
    }
   ],
   "source": [
    "# Solución de pregunta 1\n",
    "import matplotlib.pyplot as plt\n",
    "import seaborn as sns\n",
    "\n",
    "sns.set_theme('notebook')\n",
    "sns.set_palette(palette='muted')\n",
    "\n",
    "# FIGURA\n",
    "\n",
    "## Lienzo\n",
    "plt.figure(figsize=(12,4))\n",
    "## Gráficos de Linea\n",
    "### Total imacec\n",
    "sns.lineplot(data=df, \n",
    "             x='periodo', \n",
    "             y='total imacec', \n",
    "             label='Total IMACEC',\n",
    "             )\n",
    "### Imacec no minero\n",
    "sns.lineplot(data=df, \n",
    "             x='periodo', \n",
    "             y='imacec no minero', \n",
    "             label='IMACEC No Minero') # No Miner\n",
    "# Mostrar\n",
    "plt.title('IMACEC total y no minero entre 2018 y 2025')\n",
    "plt.xlabel('Año')\n",
    "plt.ylabel('IMACEC')\n",
    "plt.show()"
   ]
  },
  {
   "cell_type": "markdown",
   "id": "e10ed7bb",
   "metadata": {},
   "source": [
    "##### 2. Compare en un gráfico de barras el IMACEC del año 2023 y 2024 para todas las industrias."
   ]
  },
  {
   "cell_type": "code",
   "execution_count": 124,
   "id": "4371be8a",
   "metadata": {},
   "outputs": [
    {
     "data": {
      "text/plain": [
       "Index(['periodo', 'mineria', 'industria', 'resto de bienes',\n",
       "       'total produccion de bienes', 'comercio', 'servicios',\n",
       "       'total imacec a costo', 'impuestos a los produ', 'total imacec',\n",
       "       'imacec no minero'],\n",
       "      dtype='object')"
      ]
     },
     "execution_count": 124,
     "metadata": {},
     "output_type": "execute_result"
    }
   ],
   "source": [
    "# Tu código aquí\n",
    "df.columns"
   ]
  },
  {
   "cell_type": "markdown",
   "id": "05ddd11d",
   "metadata": {},
   "source": [
    "###### Solución de la pregunta 2"
   ]
  },
  {
   "cell_type": "code",
   "execution_count": 143,
   "id": "4f10e271",
   "metadata": {},
   "outputs": [
    {
     "data": {
      "text/html": [
       "<div>\n",
       "<style scoped>\n",
       "    .dataframe tbody tr th:only-of-type {\n",
       "        vertical-align: middle;\n",
       "    }\n",
       "\n",
       "    .dataframe tbody tr th {\n",
       "        vertical-align: top;\n",
       "    }\n",
       "\n",
       "    .dataframe thead th {\n",
       "        text-align: right;\n",
       "    }\n",
       "</style>\n",
       "<table border=\"1\" class=\"dataframe\">\n",
       "  <thead>\n",
       "    <tr style=\"text-align: right;\">\n",
       "      <th></th>\n",
       "      <th>periodo</th>\n",
       "      <th>industria</th>\n",
       "      <th>imacec</th>\n",
       "    </tr>\n",
       "  </thead>\n",
       "  <tbody>\n",
       "    <tr>\n",
       "      <th>5</th>\n",
       "      <td>2023</td>\n",
       "      <td>mineria</td>\n",
       "      <td>85.957649</td>\n",
       "    </tr>\n",
       "    <tr>\n",
       "      <th>6</th>\n",
       "      <td>2024</td>\n",
       "      <td>mineria</td>\n",
       "      <td>90.396684</td>\n",
       "    </tr>\n",
       "    <tr>\n",
       "      <th>12</th>\n",
       "      <td>2023</td>\n",
       "      <td>industria</td>\n",
       "      <td>101.967863</td>\n",
       "    </tr>\n",
       "    <tr>\n",
       "      <th>13</th>\n",
       "      <td>2024</td>\n",
       "      <td>industria</td>\n",
       "      <td>104.770584</td>\n",
       "    </tr>\n",
       "    <tr>\n",
       "      <th>19</th>\n",
       "      <td>2023</td>\n",
       "      <td>resto de bienes</td>\n",
       "      <td>104.926930</td>\n",
       "    </tr>\n",
       "    <tr>\n",
       "      <th>20</th>\n",
       "      <td>2024</td>\n",
       "      <td>resto de bienes</td>\n",
       "      <td>108.324675</td>\n",
       "    </tr>\n",
       "    <tr>\n",
       "      <th>33</th>\n",
       "      <td>2023</td>\n",
       "      <td>comercio</td>\n",
       "      <td>112.281047</td>\n",
       "    </tr>\n",
       "    <tr>\n",
       "      <th>34</th>\n",
       "      <td>2024</td>\n",
       "      <td>comercio</td>\n",
       "      <td>118.043537</td>\n",
       "    </tr>\n",
       "    <tr>\n",
       "      <th>40</th>\n",
       "      <td>2023</td>\n",
       "      <td>servicios</td>\n",
       "      <td>116.116018</td>\n",
       "    </tr>\n",
       "    <tr>\n",
       "      <th>41</th>\n",
       "      <td>2024</td>\n",
       "      <td>servicios</td>\n",
       "      <td>118.408636</td>\n",
       "    </tr>\n",
       "  </tbody>\n",
       "</table>\n",
       "</div>"
      ],
      "text/plain": [
       "    periodo        industria      imacec\n",
       "5      2023          mineria   85.957649\n",
       "6      2024          mineria   90.396684\n",
       "12     2023        industria  101.967863\n",
       "13     2024        industria  104.770584\n",
       "19     2023  resto de bienes  104.926930\n",
       "20     2024  resto de bienes  108.324675\n",
       "33     2023         comercio  112.281047\n",
       "34     2024         comercio  118.043537\n",
       "40     2023        servicios  116.116018\n",
       "41     2024        servicios  118.408636"
      ]
     },
     "execution_count": 143,
     "metadata": {},
     "output_type": "execute_result"
    }
   ],
   "source": [
    "# Solución de pregunta 2\n",
    "\n",
    "# Quitando columna no útil en periodo df_anual\n",
    "df2 = df_anual.drop(columns='unnamed: 1')\n",
    "df2['periodo'] = df2['periodo'].astype(int)\n",
    "# A tidy\n",
    "df2_tidy= df2.melt(id_vars='periodo', var_name='industria', value_name='imacec')\n",
    "# Solo industrias\n",
    "industrias = ['mineria',\n",
    "              'industria',\n",
    "              'resto de bienes',\n",
    "              'comercio',\n",
    "              'servicios']\n",
    "df_industrias = df2_tidy[df2_tidy['industria'].isin(industrias)]\n",
    "# Solo 2023 y 2024\n",
    "df_industrias = df_industrias[df_industrias['periodo'] >= 2023]\n",
    "df_industrias"
   ]
  },
  {
   "cell_type": "code",
   "execution_count": 158,
   "id": "ea2cea0b",
   "metadata": {},
   "outputs": [
    {
     "data": {
      "image/png": "[encoded data removed]",
      "text/plain": [
       "<Figure size 1200x400 with 1 Axes>"
      ]
     },
     "metadata": {},
     "output_type": "display_data"
    }
   ],
   "source": [
    "# FIGURA\n",
    "plt.figure(figsize=(12,4))\n",
    "## Gráfico de barras\n",
    "sns.barplot(data=df_industrias,\n",
    "            x='industria',\n",
    "            y='imacec',\n",
    "            hue='periodo',\n",
    "            palette='deep')\n",
    "## Mostrar\n",
    "plt.title('IMACEC por industria (2023 vs 2024)')\n",
    "plt.xlabel('Industria')\n",
    "plt.ylabel('IMACEC')\n",
    "plt.show()"
   ]
  },
  {
   "cell_type": "markdown",
   "id": "3497b146",
   "metadata": {},
   "source": [
    "##### 3. Grafique la tasa de variación del IMACEC con respecto al mes anterior."
   ]
  },
  {
   "cell_type": "markdown",
   "id": "31cadc70",
   "metadata": {},
   "source": [
    "###### Solución de la pregunta 3"
   ]
  },
  {
   "cell_type": "code",
   "execution_count": null,
   "id": "ac11dcdc",
   "metadata": {},
   "outputs": [
    {
     "data": {
      "image/png": "[encoded data removed]",
      "text/plain": [
       "<Figure size 1200x400 with 1 Axes>"
      ]
     },
     "metadata": {},
     "output_type": "display_data"
    }
   ],
   "source": [
    "# Solución de pregunta 3\n",
    "import numpy as np\n",
    "\n",
    "# Columna de Variacion\n",
    "df['variacion'] = df['total imacec'].pct_change() * 100\n",
    "df3 = df.copy()\n",
    "df3['periodo'] = df3['periodo'].astype(str).apply(lambda x: x[:-3])\n",
    "df3['año'] = df3['periodo'].apply(lambda x: x[:4])\n",
    "\n",
    "# FIGURA\n",
    "plt.figure(figsize=(12,4))\n",
    "\n",
    "# Gráfico\n",
    "sns.barplot(data=df3[1:], # Me salto primer mes\n",
    "            x='periodo',\n",
    "        \ty='variacion')\n",
    "# Configuración\n",
    "xticks = np.arange(0, len(df3[1:]), step=3)  # una cada 3 meses aprox\n",
    "plt.xticks(xticks, \n",
    "           df3['periodo'].iloc[1:].iloc[xticks], \n",
    "           ha='right', \n",
    "           rotation=60)\n",
    "\n",
    "# Mostrar\n",
    "plt.title('Variación mensual de IMACEC entre 2018 y 2025')\n",
    "plt.ylabel('%')\n",
    "plt.grid(True)\n",
    "plt.show()"
   ]
  },
  {
   "cell_type": "markdown",
   "id": "582d89e1",
   "metadata": {},
   "source": [
    "###### Solución de la pregunta 5"
   ]
  },
  {
   "cell_type": "code",
   "execution_count": null,
   "id": "6ea72449",
   "metadata": {},
   "outputs": [],
   "source": [
    "# Solución de pregunta 5"
   ]
  },
  {
   "cell_type": "markdown",
   "id": "094e40c1",
   "metadata": {},
   "source": [
    "##### 4. Grafique la tasa de variación del IMACEC con respecto al mismo período del año anterior."
   ]
  },
  {
   "cell_type": "code",
   "execution_count": null,
   "id": "ca84f3f1",
   "metadata": {},
   "outputs": [],
   "source": [
    "# Tu código aquí"
   ]
  },
  {
   "cell_type": "markdown",
   "id": "04da2b05",
   "metadata": {},
   "source": [
    "###### Solución de la pregunta 4"
   ]
  },
  {
   "cell_type": "code",
   "execution_count": null,
   "id": "993c4adf",
   "metadata": {},
   "outputs": [
    {
     "data": {
      "image/png": "[encoded data removed]",
      "text/plain": [
       "<Figure size 1200x400 with 1 Axes>"
      ]
     },
     "metadata": {},
     "output_type": "display_data"
    }
   ],
   "source": [
    "# Solución de pregunta 4\n",
    "## Lo mismo que la anterior, solo que con dataframe anual:\n",
    "\n",
    "# Columna de Variacion\n",
    "df2['variacion'] = df2['total imacec'].pct_change() * 100\n",
    "df2\n",
    "\n",
    "# FIGURA\n",
    "plt.figure(figsize=(12,4))\n",
    "\n",
    "# Gráfico\n",
    "sns.barplot(data=df2[1:], # Me salto primer año\n",
    "             x='periodo',\n",
    "             y='variacion')\n",
    "\n",
    "# Mostrar\n",
    "plt.title('Variación anual de IMACEC entre 2019 y 2025')\n",
    "plt.ylabel('%')\n",
    "plt.grid(True)\n",
    "plt.show()"
   ]
  },
  {
   "cell_type": "markdown",
   "id": "56a1ba6c",
   "metadata": {},
   "source": [
    "##### 5. Grafique un radar plot que compare el IMACEC promedio de 2023 y 2024, donde cada eje del radar represente una variable del IMACEC (comercio, servicios, minería, total, IMACEC no minero)."
   ]
  },
  {
   "cell_type": "code",
   "execution_count": null,
   "id": "72050932",
   "metadata": {},
   "outputs": [],
   "source": [
    "# Tu código aquí"
   ]
  },
  {
   "cell_type": "markdown",
   "id": "b82ec438",
   "metadata": {},
   "source": [
    "###### Solución de la pregunta 5"
   ]
  },
  {
   "cell_type": "code",
   "execution_count": 250,
   "id": "03072183",
   "metadata": {},
   "outputs": [
    {
     "data": {
      "text/html": [
       "<div>\n",
       "<style scoped>\n",
       "    .dataframe tbody tr th:only-of-type {\n",
       "        vertical-align: middle;\n",
       "    }\n",
       "\n",
       "    .dataframe tbody tr th {\n",
       "        vertical-align: top;\n",
       "    }\n",
       "\n",
       "    .dataframe thead th {\n",
       "        text-align: right;\n",
       "    }\n",
       "</style>\n",
       "<table border=\"1\" class=\"dataframe\">\n",
       "  <thead>\n",
       "    <tr style=\"text-align: right;\">\n",
       "      <th></th>\n",
       "      <th>año</th>\n",
       "      <th>industria</th>\n",
       "      <th>imacec</th>\n",
       "    </tr>\n",
       "  </thead>\n",
       "  <tbody>\n",
       "    <tr>\n",
       "      <th>0</th>\n",
       "      <td>2023</td>\n",
       "      <td>mineria</td>\n",
       "      <td>85.957649</td>\n",
       "    </tr>\n",
       "    <tr>\n",
       "      <th>1</th>\n",
       "      <td>2024</td>\n",
       "      <td>mineria</td>\n",
       "      <td>90.396684</td>\n",
       "    </tr>\n",
       "    <tr>\n",
       "      <th>2</th>\n",
       "      <td>2023</td>\n",
       "      <td>industria</td>\n",
       "      <td>101.967863</td>\n",
       "    </tr>\n",
       "    <tr>\n",
       "      <th>3</th>\n",
       "      <td>2024</td>\n",
       "      <td>industria</td>\n",
       "      <td>104.770584</td>\n",
       "    </tr>\n",
       "    <tr>\n",
       "      <th>4</th>\n",
       "      <td>2023</td>\n",
       "      <td>resto de bienes</td>\n",
       "      <td>104.926930</td>\n",
       "    </tr>\n",
       "    <tr>\n",
       "      <th>5</th>\n",
       "      <td>2024</td>\n",
       "      <td>resto de bienes</td>\n",
       "      <td>108.324675</td>\n",
       "    </tr>\n",
       "    <tr>\n",
       "      <th>6</th>\n",
       "      <td>2023</td>\n",
       "      <td>comercio</td>\n",
       "      <td>112.281047</td>\n",
       "    </tr>\n",
       "    <tr>\n",
       "      <th>7</th>\n",
       "      <td>2024</td>\n",
       "      <td>comercio</td>\n",
       "      <td>118.043537</td>\n",
       "    </tr>\n",
       "    <tr>\n",
       "      <th>8</th>\n",
       "      <td>2023</td>\n",
       "      <td>servicios</td>\n",
       "      <td>116.116018</td>\n",
       "    </tr>\n",
       "    <tr>\n",
       "      <th>9</th>\n",
       "      <td>2024</td>\n",
       "      <td>servicios</td>\n",
       "      <td>118.408636</td>\n",
       "    </tr>\n",
       "    <tr>\n",
       "      <th>10</th>\n",
       "      <td>2023</td>\n",
       "      <td>total imacec</td>\n",
       "      <td>107.963738</td>\n",
       "    </tr>\n",
       "    <tr>\n",
       "      <th>11</th>\n",
       "      <td>2024</td>\n",
       "      <td>total imacec</td>\n",
       "      <td>110.818636</td>\n",
       "    </tr>\n",
       "    <tr>\n",
       "      <th>12</th>\n",
       "      <td>2023</td>\n",
       "      <td>imacec no minero</td>\n",
       "      <td>111.399958</td>\n",
       "    </tr>\n",
       "    <tr>\n",
       "      <th>13</th>\n",
       "      <td>2024</td>\n",
       "      <td>imacec no minero</td>\n",
       "      <td>114.017733</td>\n",
       "    </tr>\n",
       "  </tbody>\n",
       "</table>\n",
       "</div>"
      ],
      "text/plain": [
       "     año         industria      imacec\n",
       "0   2023           mineria   85.957649\n",
       "1   2024           mineria   90.396684\n",
       "2   2023         industria  101.967863\n",
       "3   2024         industria  104.770584\n",
       "4   2023   resto de bienes  104.926930\n",
       "5   2024   resto de bienes  108.324675\n",
       "6   2023          comercio  112.281047\n",
       "7   2024          comercio  118.043537\n",
       "8   2023         servicios  116.116018\n",
       "9   2024         servicios  118.408636\n",
       "10  2023      total imacec  107.963738\n",
       "11  2024      total imacec  110.818636\n",
       "12  2023  imacec no minero  111.399958\n",
       "13  2024  imacec no minero  114.017733"
      ]
     },
     "execution_count": 250,
     "metadata": {},
     "output_type": "execute_result"
    }
   ],
   "source": [
    "# Solución de pregunta 5\n",
    "import plotly.express as px\n",
    "\n",
    "# Columnas buscadas\n",
    "target = industrias + ['total imacec', 'imacec no minero']\n",
    "# Obteniendo nuevo dataframe de interés\n",
    "df5 = df.copy()\n",
    "# Obteniendo años\n",
    "df5['año'] = df5['periodo'].apply(lambda x: x.year)\n",
    "# Limpiando dataframe\n",
    "df5.drop(columns=['variacion', 'periodo'], inplace=True)\n",
    "# Promedio por año\n",
    "df5 = df5.groupby('año').mean().reset_index()\n",
    "# Filtros\n",
    "df5 = df5[df5['año'].isin([2023, 2024])] # Años\n",
    "df5 = df5[target+['año']] # targets\n",
    "# Tidy\n",
    "df5 = df5.melt(id_vars='año', var_name='industria', value_name='imacec')\n",
    "df5"
   ]
  },
  {
   "cell_type": "code",
   "execution_count": 261,
   "id": "091c7ade",
   "metadata": {},
   "outputs": [
    {
     "data": {
      "application/vnd.plotly.v1+json": {
       "config": {
        "plotlyServerURL": "https://plot.ly"
       },
       "data": [
        {
         "fill": "toself",
         "hovertemplate": "año=2023<br>imacec=%{r}<br>industria=%{theta}<extra></extra>",
         "legendgroup": "2023",
         "line": {
          "color": "#636efa",
          "dash": "solid"
         },
         "marker": {
          "symbol": "circle"
         },
         "mode": "lines",
         "name": "2023",
         "r": {
          "bdata": "Zdy5IEp9VUANBY158X1ZQAXmn9BSO1pA/OgTq/wRXEDHgqPWbAddQDD7pOKt/VpAqFyl55jZW0Bl3LkgSn1VQA==",
          "dtype": "f8"
         },
         "showlegend": true,
         "subplot": "polar",
         "theta": [
          "mineria",
          "industria",
          "resto de bienes",
          "comercio",
          "servicios",
          "total imacec",
          "imacec no minero",
          "mineria"
         ],
         "type": "scatterpolar"
        },
        {
         "fill": "toself",
         "hovertemplate": "año=2024<br>imacec=%{r}<br>industria=%{theta}<extra></extra>",
         "legendgroup": "2024",
         "line": {
          "color": "#EF553B",
          "dash": "solid"
         },
         "marker": {
          "symbol": "circle"
         },
         "mode": "lines",
         "name": "2024",
         "r": {
          "bdata": "6WNNRmOZVkCrXbtAUTFaQNepO3jHFFtAU0+5TcmCXUDxtdcWJ5pdQAB5DIdktFtA0aYEiiKBXEDpY01GY5lWQA==",
          "dtype": "f8"
         },
         "showlegend": true,
         "subplot": "polar",
         "theta": [
          "mineria",
          "industria",
          "resto de bienes",
          "comercio",
          "servicios",
          "total imacec",
          "imacec no minero",
          "mineria"
         ],
         "type": "scatterpolar"
        }
       ],
       "layout": {
        "legend": {
         "title": {
          "text": "año"
         },
         "tracegroupgap": 0
        },
        "polar": {
         "angularaxis": {
          "direction": "clockwise",
          "rotation": 90
         },
         "domain": {
          "x": [
           0,
           1
          ],
          "y": [
           0,
           1
          ]
         }
        },
        "template": {
         "data": {
          "bar": [
           {
            "error_x": {
             "color": "#2a3f5f"
            },
            "error_y": {
             "color": "#2a3f5f"
            },
            "marker": {
             "line": {
              "color": "#E5ECF6",
              "width": 0.5
             },
             "pattern": {
              "fillmode": "overlay",
              "size": 10,
              "solidity": 0.2
             }
            },
            "type": "bar"
           }
          ],
          "barpolar": [
           {
            "marker": {
             "line": {
              "color": "#E5ECF6",
              "width": 0.5
             },
             "pattern": {
              "fillmode": "overlay",
              "size": 10,
              "solidity": 0.2
             }
            },
            "type": "barpolar"
           }
          ],
          "carpet": [
           {
            "aaxis": {
             "endlinecolor": "#2a3f5f",
             "gridcolor": "white",
             "linecolor": "white",
             "minorgridcolor": "white",
             "startlinecolor": "#2a3f5f"
            },
            "baxis": {
             "endlinecolor": "#2a3f5f",
             "gridcolor": "white",
             "linecolor": "white",
             "minorgridcolor": "white",
             "startlinecolor": "#2a3f5f"
            },
            "type": "carpet"
           }
          ],
          "choropleth": [
           {
            "colorbar": {
             "outlinewidth": 0,
             "ticks": ""
            },
            "type": "choropleth"
           }
          ],
          "contour": [
           {
            "colorbar": {
             "outlinewidth": 0,
             "ticks": ""
            },
            "colorscale": [
             [
              0,
              "#0d0887"
             ],
             [
              0.1111111111111111,
              "#46039f"
             ],
             [
              0.2222222222222222,
              "#7201a8"
             ],
             [
              0.3333333333333333,
              "#9c179e"
             ],
             [
              0.4444444444444444,
              "#bd3786"
             ],
             [
              0.5555555555555556,
              "#d8576b"
             ],
             [
              0.6666666666666666,
              "#ed7953"
             ],
             [
              0.7777777777777778,
              "#fb9f3a"
             ],
             [
              0.8888888888888888,
              "#fdca26"
             ],
             [
              1,
              "#f0f921"
             ]
            ],
            "type": "contour"
           }
          ],
          "contourcarpet": [
           {
            "colorbar": {
             "outlinewidth": 0,
             "ticks": ""
            },
            "type": "contourcarpet"
           }
          ],
          "heatmap": [
           {
            "colorbar": {
             "outlinewidth": 0,
             "ticks": ""
            },
            "colorscale": [
             [
              0,
              "#0d0887"
             ],
             [
              0.1111111111111111,
              "#46039f"
             ],
             [
              0.2222222222222222,
              "#7201a8"
             ],
             [
              0.3333333333333333,
              "#9c179e"
             ],
             [
              0.4444444444444444,
              "#bd3786"
             ],
             [
              0.5555555555555556,
              "#d8576b"
             ],
             [
              0.6666666666666666,
              "#ed7953"
             ],
             [
              0.7777777777777778,
              "#fb9f3a"
             ],
             [
              0.8888888888888888,
              "#fdca26"
             ],
             [
              1,
              "#f0f921"
             ]
            ],
            "type": "heatmap"
           }
          ],
          "histogram": [
           {
            "marker": {
             "pattern": {
              "fillmode": "overlay",
              "size": 10,
              "solidity": 0.2
             }
            },
            "type": "histogram"
           }
          ],
          "histogram2d": [
           {
            "colorbar": {
             "outlinewidth": 0,
             "ticks": ""
            },
            "colorscale": [
             [
              0,
              "#0d0887"
             ],
             [
              0.1111111111111111,
              "#46039f"
             ],
             [
              0.2222222222222222,
              "#7201a8"
             ],
             [
              0.3333333333333333,
              "#9c179e"
             ],
             [
              0.4444444444444444,
              "#bd3786"
             ],
             [
              0.5555555555555556,
              "#d8576b"
             ],
             [
              0.6666666666666666,
              "#ed7953"
             ],
             [
              0.7777777777777778,
              "#fb9f3a"
             ],
             [
              0.8888888888888888,
              "#fdca26"
             ],
             [
              1,
              "#f0f921"
             ]
            ],
            "type": "histogram2d"
           }
          ],
          "histogram2dcontour": [
           {
            "colorbar": {
             "outlinewidth": 0,
             "ticks": ""
            },
            "colorscale": [
             [
              0,
              "#0d0887"
             ],
             [
              0.1111111111111111,
              "#46039f"
             ],
             [
              0.2222222222222222,
              "#7201a8"
             ],
             [
              0.3333333333333333,
              "#9c179e"
             ],
             [
              0.4444444444444444,
              "#bd3786"
             ],
             [
              0.5555555555555556,
              "#d8576b"
             ],
             [
              0.6666666666666666,
              "#ed7953"
             ],
             [
              0.7777777777777778,
              "#fb9f3a"
             ],
             [
              0.8888888888888888,
              "#fdca26"
             ],
             [
              1,
              "#f0f921"
             ]
            ],
            "type": "histogram2dcontour"
           }
          ],
          "mesh3d": [
           {
            "colorbar": {
             "outlinewidth": 0,
             "ticks": ""
            },
            "type": "mesh3d"
           }
          ],
          "parcoords": [
           {
            "line": {
             "colorbar": {
              "outlinewidth": 0,
              "ticks": ""
             }
            },
            "type": "parcoords"
           }
          ],
          "pie": [
           {
            "automargin": true,
            "type": "pie"
           }
          ],
          "scatter": [
           {
            "fillpattern": {
             "fillmode": "overlay",
             "size": 10,
             "solidity": 0.2
            },
            "type": "scatter"
           }
          ],
          "scatter3d": [
           {
            "line": {
             "colorbar": {
              "outlinewidth": 0,
              "ticks": ""
             }
            },
            "marker": {
             "colorbar": {
              "outlinewidth": 0,
              "ticks": ""
             }
            },
            "type": "scatter3d"
           }
          ],
          "scattercarpet": [
           {
            "marker": {
             "colorbar": {
              "outlinewidth": 0,
              "ticks": ""
             }
            },
            "type": "scattercarpet"
           }
          ],
          "scattergeo": [
           {
            "marker": {
             "colorbar": {
              "outlinewidth": 0,
              "ticks": ""
             }
            },
            "type": "scattergeo"
           }
          ],
          "scattergl": [
           {
            "marker": {
             "colorbar": {
              "outlinewidth": 0,
              "ticks": ""
             }
            },
            "type": "scattergl"
           }
          ],
          "scattermap": [
           {
            "marker": {
             "colorbar": {
              "outlinewidth": 0,
              "ticks": ""
             }
            },
            "type": "scattermap"
           }
          ],
          "scattermapbox": [
           {
            "marker": {
             "colorbar": {
              "outlinewidth": 0,
              "ticks": ""
             }
            },
            "type": "scattermapbox"
           }
          ],
          "scatterpolar": [
           {
            "marker": {
             "colorbar": {
              "outlinewidth": 0,
              "ticks": ""
             }
            },
            "type": "scatterpolar"
           }
          ],
          "scatterpolargl": [
           {
            "marker": {
             "colorbar": {
              "outlinewidth": 0,
              "ticks": ""
             }
            },
            "type": "scatterpolargl"
           }
          ],
          "scatterternary": [
           {
            "marker": {
             "colorbar": {
              "outlinewidth": 0,
              "ticks": ""
             }
            },
            "type": "scatterternary"
           }
          ],
          "surface": [
           {
            "colorbar": {
             "outlinewidth": 0,
             "ticks": ""
            },
            "colorscale": [
             [
              0,
              "#0d0887"
             ],
             [
              0.1111111111111111,
              "#46039f"
             ],
             [
              0.2222222222222222,
              "#7201a8"
             ],
             [
              0.3333333333333333,
              "#9c179e"
             ],
             [
              0.4444444444444444,
              "#bd3786"
             ],
             [
              0.5555555555555556,
              "#d8576b"
             ],
             [
              0.6666666666666666,
              "#ed7953"
             ],
             [
              0.7777777777777778,
              "#fb9f3a"
             ],
             [
              0.8888888888888888,
              "#fdca26"
             ],
             [
              1,
              "#f0f921"
             ]
            ],
            "type": "surface"
           }
          ],
          "table": [
           {
            "cells": {
             "fill": {
              "color": "#EBF0F8"
             },
             "line": {
              "color": "white"
             }
            },
            "header": {
             "fill": {
              "color": "#C8D4E3"
             },
             "line": {
              "color": "white"
             }
            },
            "type": "table"
           }
          ]
         },
         "layout": {
          "annotationdefaults": {
           "arrowcolor": "#2a3f5f",
           "arrowhead": 0,
           "arrowwidth": 1
          },
          "autotypenumbers": "strict",
          "coloraxis": {
           "colorbar": {
            "outlinewidth": 0,
            "ticks": ""
           }
          },
          "colorscale": {
           "diverging": [
            [
             0,
             "#8e0152"
            ],
            [
             0.1,
             "#c51b7d"
            ],
            [
             0.2,
             "#de77ae"
            ],
            [
             0.3,
             "#f1b6da"
            ],
            [
             0.4,
             "#fde0ef"
            ],
            [
             0.5,
             "#f7f7f7"
            ],
            [
             0.6,
             "#e6f5d0"
            ],
            [
             0.7,
             "#b8e186"
            ],
            [
             0.8,
             "#7fbc41"
            ],
            [
             0.9,
             "#4d9221"
            ],
            [
             1,
             "#276419"
            ]
           ],
           "sequential": [
            [
             0,
             "#0d0887"
            ],
            [
             0.1111111111111111,
             "#46039f"
            ],
            [
             0.2222222222222222,
             "#7201a8"
            ],
            [
             0.3333333333333333,
             "#9c179e"
            ],
            [
             0.4444444444444444,
             "#bd3786"
            ],
            [
             0.5555555555555556,
             "#d8576b"
            ],
            [
             0.6666666666666666,
             "#ed7953"
            ],
            [
             0.7777777777777778,
             "#fb9f3a"
            ],
            [
             0.8888888888888888,
             "#fdca26"
            ],
            [
             1,
             "#f0f921"
            ]
           ],
           "sequentialminus": [
            [
             0,
             "#0d0887"
            ],
            [
             0.1111111111111111,
             "#46039f"
            ],
            [
             0.2222222222222222,
             "#7201a8"
            ],
            [
             0.3333333333333333,
             "#9c179e"
            ],
            [
             0.4444444444444444,
             "#bd3786"
            ],
            [
             0.5555555555555556,
             "#d8576b"
            ],
            [
             0.6666666666666666,
             "#ed7953"
            ],
            [
             0.7777777777777778,
             "#fb9f3a"
            ],
            [
             0.8888888888888888,
             "#fdca26"
            ],
            [
             1,
             "#f0f921"
            ]
           ]
          },
          "colorway": [
           "#636efa",
           "#EF553B",
           "#00cc96",
           "#ab63fa",
           "#FFA15A",
           "#19d3f3",
           "#FF6692",
           "#B6E880",
           "#FF97FF",
           "#FECB52"
          ],
          "font": {
           "color": "#2a3f5f"
          },
          "geo": {
           "bgcolor": "white",
           "lakecolor": "white",
           "landcolor": "#E5ECF6",
           "showlakes": true,
           "showland": true,
           "subunitcolor": "white"
          },
          "hoverlabel": {
           "align": "left"
          },
          "hovermode": "closest",
          "mapbox": {
           "style": "light"
          },
          "paper_bgcolor": "white",
          "plot_bgcolor": "#E5ECF6",
          "polar": {
           "angularaxis": {
            "gridcolor": "white",
            "linecolor": "white",
            "ticks": ""
           },
           "bgcolor": "#E5ECF6",
           "radialaxis": {
            "gridcolor": "white",
            "linecolor": "white",
            "ticks": ""
           }
          },
          "scene": {
           "xaxis": {
            "backgroundcolor": "#E5ECF6",
            "gridcolor": "white",
            "gridwidth": 2,
            "linecolor": "white",
            "showbackground": true,
            "ticks": "",
            "zerolinecolor": "white"
           },
           "yaxis": {
            "backgroundcolor": "#E5ECF6",
            "gridcolor": "white",
            "gridwidth": 2,
            "linecolor": "white",
            "showbackground": true,
            "ticks": "",
            "zerolinecolor": "white"
           },
           "zaxis": {
            "backgroundcolor": "#E5ECF6",
            "gridcolor": "white",
            "gridwidth": 2,
            "linecolor": "white",
            "showbackground": true,
            "ticks": "",
            "zerolinecolor": "white"
           }
          },
          "shapedefaults": {
           "line": {
            "color": "#2a3f5f"
           }
          },
          "ternary": {
           "aaxis": {
            "gridcolor": "white",
            "linecolor": "white",
            "ticks": ""
           },
           "baxis": {
            "gridcolor": "white",
            "linecolor": "white",
            "ticks": ""
           },
           "bgcolor": "#E5ECF6",
           "caxis": {
            "gridcolor": "white",
            "linecolor": "white",
            "ticks": ""
           }
          },
          "title": {
           "x": 0.05
          },
          "xaxis": {
           "automargin": true,
           "gridcolor": "white",
           "linecolor": "white",
           "ticks": "",
           "title": {
            "standoff": 15
           },
           "zerolinecolor": "white",
           "zerolinewidth": 2
          },
          "yaxis": {
           "automargin": true,
           "gridcolor": "white",
           "linecolor": "white",
           "ticks": "",
           "title": {
            "standoff": 15
           },
           "zerolinecolor": "white",
           "zerolinewidth": 2
          }
         }
        },
        "title": {
         "text": "Radar plot IMACEC 2023 vs 2024"
        }
       }
      }
     },
     "metadata": {},
     "output_type": "display_data"
    }
   ],
   "source": [
    "# # Crear radar plot\n",
    "fig = px.line_polar(df5, \n",
    "                    r=\"imacec\", \n",
    "                    theta=\"industria\", \n",
    "                    color=\"año\",\n",
    "                    line_close=True, \n",
    "                    title=\"Radar plot IMACEC 2023 vs 2024\")\n",
    "fig.update_traces(fill='toself')\n",
    "fig.show()"
   ]
  },
  {
   "cell_type": "markdown",
   "id": "c3eb0f1b",
   "metadata": {},
   "source": [
    "##### 6. Grafique en un scatter plot el IMACEC Comercio (eje X), IMACEC Servicios (eje Y), IMACEC Minería (tamaño burbuja) e IMACEC total (color burbujas). Para ello, use los datos de IMACEC mensuales de 2018 a 2024. Use plotly para la visualización."
   ]
  },
  {
   "cell_type": "code",
   "execution_count": null,
   "id": "284a0a50",
   "metadata": {},
   "outputs": [],
   "source": [
    "# Tu código aquí"
   ]
  },
  {
   "cell_type": "markdown",
   "id": "0cd01a52",
   "metadata": {},
   "source": [
    "###### Solución de la pregunta 6"
   ]
  },
  {
   "cell_type": "code",
   "execution_count": 274,
   "id": "aecf2044",
   "metadata": {},
   "outputs": [
    {
     "data": {
      "image/png": "[encoded data removed]",
      "text/plain": [
       "<Figure size 1000x800 with 1 Axes>"
      ]
     },
     "metadata": {},
     "output_type": "display_data"
    }
   ],
   "source": [
    "# Solución de pregunta 6\n",
    "\n",
    "# Solo hasta 2024\n",
    "df6 = df[df['periodo'].dt.year < 2025]\n",
    "\n",
    "# FIGURA\n",
    "plt.figure(figsize=(10,8))\n",
    "\n",
    "sns.scatterplot(data=df,\n",
    "                x='comercio',\n",
    "                y='servicios',\n",
    "                size='mineria',\n",
    "                hue='total imacec')\n",
    "\n",
    "plt.title('Scatter plot de datos de IMACEC mensual entre 2018 y 2024')\n",
    "plt.show()"
   ]
  },
  {
   "cell_type": "markdown",
   "id": "48a4af94",
   "metadata": {},
   "source": [
    "##### 7. Calcule la diferencia de IMACEC entre Minería e Industria, y visualice esta diferencia en un gráfico de línea."
   ]
  },
  {
   "cell_type": "code",
   "execution_count": null,
   "id": "1871ec43",
   "metadata": {},
   "outputs": [],
   "source": [
    "# Tu código aquí"
   ]
  },
  {
   "cell_type": "markdown",
   "id": "9fe26ea4",
   "metadata": {},
   "source": [
    "###### Solución de la pregunta 7"
   ]
  },
  {
   "cell_type": "code",
   "execution_count": 284,
   "id": "6094b9e7",
   "metadata": {},
   "outputs": [
    {
     "data": {
      "image/png": "[encoded data removed]",
      "text/plain": [
       "<Figure size 1200x400 with 1 Axes>"
      ]
     },
     "metadata": {},
     "output_type": "display_data"
    }
   ],
   "source": [
    "# Solución de pregunta 7\n",
    "df7 = df.copy()\n",
    "df7['dif mineria-industria'] = df7['mineria'] - df7['industria']\n",
    "\n",
    "# FIGURA\n",
    "df7.plot(x='periodo', \n",
    "         y='dif mineria-industria',\n",
    "         figsize=(12,4),\n",
    "         legend=False)\n",
    "\n",
    "plt.xlabel('Período')\n",
    "plt.ylabel('Diferencia')\n",
    "plt.title('Diferencia entre mineria e industria en IMACEC mensual entre 2018 y 2024')\n",
    "\n",
    "plt.show()\n"
   ]
  },
  {
   "cell_type": "markdown",
   "id": "a1b7fac0",
   "metadata": {},
   "source": [
    "##### 8. Reproduzca las etapas necesarias para realizar el mismo gráfico en Seaborn y Plotly."
   ]
  },
  {
   "cell_type": "code",
   "execution_count": null,
   "id": "1de25cbc",
   "metadata": {},
   "outputs": [],
   "source": [
    "# Tu código aquí"
   ]
  },
  {
   "cell_type": "markdown",
   "id": "15361b0e",
   "metadata": {},
   "source": [
    "###### Solución de la pregunta 8"
   ]
  },
  {
   "cell_type": "code",
   "execution_count": 285,
   "id": "7f98bca2",
   "metadata": {},
   "outputs": [
    {
     "data": {
      "image/png": "[encoded data removed]",
      "text/plain": [
       "<Figure size 1200x400 with 1 Axes>"
      ]
     },
     "metadata": {},
     "output_type": "display_data"
    }
   ],
   "source": [
    "# Solución de pregunta 8\n",
    "\n",
    "# Seaborn \n",
    "plt.figure(figsize=(12,4))\n",
    "\n",
    "sns.lineplot(data=df7,\n",
    "             x='periodo',\n",
    "             y='dif mineria-industria')\n",
    "\n",
    "plt.xlabel('Período')\n",
    "plt.ylabel('Diferencia')\n",
    "plt.title('Diferencia entre mineria e industria en IMACEC mensual entre 2018 y 2024')\n",
    "\n",
    "plt.show()"
   ]
  },
  {
   "cell_type": "code",
   "execution_count": 292,
   "id": "481b546c",
   "metadata": {},
   "outputs": [
    {
     "data": {
      "application/vnd.plotly.v1+json": {
       "config": {
        "plotlyServerURL": "https://plot.ly"
       },
       "data": [
        {
         "hovertemplate": "periodo=%{x}<br>dif mineria-industria=%{y}<extra></extra>",
         "legendgroup": "",
         "line": {
          "color": "#636efa",
          "dash": "solid"
         },
         "marker": {
          "symbol": "circle"
         },
         "mode": "lines",
         "name": "",
         "orientation": "v",
         "showlegend": false,
         "type": "scatter",
         "x": [
          "2018-01-01T00:00:00.000000000",
          "2018-02-01T00:00:00.000000000",
          "2018-03-01T00:00:00.000000000",
          "2018-04-01T00:00:00.000000000",
          "2018-05-01T00:00:00.000000000",
          "2018-06-01T00:00:00.000000000",
          "2018-07-01T00:00:00.000000000",
          "2018-08-01T00:00:00.000000000",
          "2018-09-01T00:00:00.000000000",
          "2018-10-01T00:00:00.000000000",
          "2018-11-01T00:00:00.000000000",
          "2018-12-01T00:00:00.000000000",
          "2019-01-01T00:00:00.000000000",
          "2019-02-01T00:00:00.000000000",
          "2019-03-01T00:00:00.000000000",
          "2019-04-01T00:00:00.000000000",
          "2019-05-01T00:00:00.000000000",
          "2019-06-01T00:00:00.000000000",
          "2019-07-01T00:00:00.000000000",
          "2019-08-01T00:00:00.000000000",
          "2019-09-01T00:00:00.000000000",
          "2019-10-01T00:00:00.000000000",
          "2019-11-01T00:00:00.000000000",
          "2019-12-01T00:00:00.000000000",
          "2020-01-01T00:00:00.000000000",
          "2020-02-01T00:00:00.000000000",
          "2020-03-01T00:00:00.000000000",
          "2020-04-01T00:00:00.000000000",
          "2020-05-01T00:00:00.000000000",
          "2020-06-01T00:00:00.000000000",
          "2020-07-01T00:00:00.000000000",
          "2020-08-01T00:00:00.000000000",
          "2020-09-01T00:00:00.000000000",
          "2020-10-01T00:00:00.000000000",
          "2020-11-01T00:00:00.000000000",
          "2020-12-01T00:00:00.000000000",
          "2021-01-01T00:00:00.000000000",
          "2021-02-01T00:00:00.000000000",
          "2021-03-01T00:00:00.000000000",
          "2021-04-01T00:00:00.000000000",
          "2021-05-01T00:00:00.000000000",
          "2021-06-01T00:00:00.000000000",
          "2021-07-01T00:00:00.000000000",
          "2021-08-01T00:00:00.000000000",
          "2021-09-01T00:00:00.000000000",
          "2021-10-01T00:00:00.000000000",
          "2021-11-01T00:00:00.000000000",
          "2021-12-01T00:00:00.000000000",
          "2022-01-01T00:00:00.000000000",
          "2022-02-01T00:00:00.000000000",
          "2022-03-01T00:00:00.000000000",
          "2022-04-01T00:00:00.000000000",
          "2022-05-01T00:00:00.000000000",
          "2022-06-01T00:00:00.000000000",
          "2022-07-01T00:00:00.000000000",
          "2022-08-01T00:00:00.000000000",
          "2022-09-01T00:00:00.000000000",
          "2022-10-01T00:00:00.000000000",
          "2022-11-01T00:00:00.000000000",
          "2022-12-01T00:00:00.000000000",
          "2023-01-01T00:00:00.000000000",
          "2023-02-01T00:00:00.000000000",
          "2023-03-01T00:00:00.000000000",
          "2023-04-01T00:00:00.000000000",
          "2023-05-01T00:00:00.000000000",
          "2023-06-01T00:00:00.000000000",
          "2023-07-01T00:00:00.000000000",
          "2023-08-01T00:00:00.000000000",
          "2023-09-01T00:00:00.000000000",
          "2023-10-01T00:00:00.000000000",
          "2023-11-01T00:00:00.000000000",
          "2023-12-01T00:00:00.000000000",
          "2024-01-01T00:00:00.000000000",
          "2024-02-01T00:00:00.000000000",
          "2024-03-01T00:00:00.000000000",
          "2024-04-01T00:00:00.000000000",
          "2024-05-01T00:00:00.000000000",
          "2024-06-01T00:00:00.000000000",
          "2024-07-01T00:00:00.000000000",
          "2024-08-01T00:00:00.000000000",
          "2024-09-01T00:00:00.000000000",
          "2024-10-01T00:00:00.000000000",
          "2024-11-01T00:00:00.000000000",
          "2024-12-01T00:00:00.000000000",
          "2025-01-01T00:00:00.000000000",
          "2025-02-01T00:00:00.000000000",
          "2025-03-01T00:00:00.000000000",
          "2025-04-01T00:00:00.000000000"
         ],
         "xaxis": "x",
         "y": {
          "bdata": "wChtiYPsCMDAUY9p0oH4v5AqfbAA9hTAUJN+99VhLcCwTocRhbQUwDBmawe3OhbAYJGvHL3pFECAOpBsw20JwPBnVXt81ixAgJgRhn3+B8CQSVxYb/omQBi3YmYVtSRAaLPGJPJRI8Cwiav9ADEnwHiKy6s2qyTAKF9MKJ9CKcCot0nsvHQiwMCTk78mew3AIIy0OeE1BcBQuhH78IYUQGjevfbf+SdAADOdXzg2C0AAJD6fzpXSPyDE7HJiJhhAkCVCn4uxIMDwjZQDN1oXwGjmsqXNaCLAgCOWKdJiCcDANhV5WIwcQPD37+JBThxAmGRnckRcIUBAeI6nMLAgQBDj0ghY8xZAAEdRhHy1978A6hRctOr+vxCMUp4KixXAQFCZtOfSHcCgA+BUgRsqwCBAV54PoC7AOAeq8efGKMA4CzRk4t0gwNhNsBdGAyLAQNh26D/QGMAQCQWU1hUewEi36qsI1SLAEPn6IAM8FMAoPJ+vJsckwPjd1O3g3CfAPPdm5REKMcC0xTA77jIywFCl7N0K5TfA2GS8EC3CNcCA8a1+XY8pwJhUUHwxwCbAYCjot3ADJ8DQSVUnMrMrwMCQsmbV+xzAgE4K8cfX879YvydWQmYjwCi1CVQaVCHAEDHzCYLrLcC4VkT2F006wJ6dvuaWIUHAPHfUEdtCN8DAxxZyyd04wKidrrxhjCjASIyUHYk8JMD4Z2OVf6knwIC7szK52/Y/iJjv1L6SJ8AAqsU11l0swOgO3WHiaSPAwIy/O/tfM8BM4ffIIYI1wFi5bt0JXzbAqMcNCmYyPsBcLQ53s1AzwKAB7/F2tBrAUIwHyWPgK8CA9RATqbkcwMDV7ZqtmPo/6KKX1X5sKMBQGScfoPkrwCDNoSuAjB3AtAO7MBRuO8CUw4lrMkE9wPwKCGbjdznAYAo7Guu6N8A=",
          "dtype": "f8"
         },
         "yaxis": "y"
        }
       ],
       "layout": {
        "legend": {
         "tracegroupgap": 0
        },
        "template": {
         "data": {
          "bar": [
           {
            "error_x": {
             "color": "#2a3f5f"
            },
            "error_y": {
             "color": "#2a3f5f"
            },
            "marker": {
             "line": {
              "color": "#E5ECF6",
              "width": 0.5
             },
             "pattern": {
              "fillmode": "overlay",
              "size": 10,
              "solidity": 0.2
             }
            },
            "type": "bar"
           }
          ],
          "barpolar": [
           {
            "marker": {
             "line": {
              "color": "#E5ECF6",
              "width": 0.5
             },
             "pattern": {
              "fillmode": "overlay",
              "size": 10,
              "solidity": 0.2
             }
            },
            "type": "barpolar"
           }
          ],
          "carpet": [
           {
            "aaxis": {
             "endlinecolor": "#2a3f5f",
             "gridcolor": "white",
             "linecolor": "white",
             "minorgridcolor": "white",
             "startlinecolor": "#2a3f5f"
            },
            "baxis": {
             "endlinecolor": "#2a3f5f",
             "gridcolor": "white",
             "linecolor": "white",
             "minorgridcolor": "white",
             "startlinecolor": "#2a3f5f"
            },
            "type": "carpet"
           }
          ],
          "choropleth": [
           {
            "colorbar": {
             "outlinewidth": 0,
             "ticks": ""
            },
            "type": "choropleth"
           }
          ],
          "contour": [
           {
            "colorbar": {
             "outlinewidth": 0,
             "ticks": ""
            },
            "colorscale": [
             [
              0,
              "#0d0887"
             ],
             [
              0.1111111111111111,
              "#46039f"
             ],
             [
              0.2222222222222222,
              "#7201a8"
             ],
             [
              0.3333333333333333,
              "#9c179e"
             ],
             [
              0.4444444444444444,
              "#bd3786"
             ],
             [
              0.5555555555555556,
              "#d8576b"
             ],
             [
              0.6666666666666666,
              "#ed7953"
             ],
             [
              0.7777777777777778,
              "#fb9f3a"
             ],
             [
              0.8888888888888888,
              "#fdca26"
             ],
             [
              1,
              "#f0f921"
             ]
            ],
            "type": "contour"
           }
          ],
          "contourcarpet": [
           {
            "colorbar": {
             "outlinewidth": 0,
             "ticks": ""
            },
            "type": "contourcarpet"
           }
          ],
          "heatmap": [
           {
            "colorbar": {
             "outlinewidth": 0,
             "ticks": ""
            },
            "colorscale": [
             [
              0,
              "#0d0887"
             ],
             [
              0.1111111111111111,
              "#46039f"
             ],
             [
              0.2222222222222222,
              "#7201a8"
             ],
             [
              0.3333333333333333,
              "#9c179e"
             ],
             [
              0.4444444444444444,
              "#bd3786"
             ],
             [
              0.5555555555555556,
              "#d8576b"
             ],
             [
              0.6666666666666666,
              "#ed7953"
             ],
             [
              0.7777777777777778,
              "#fb9f3a"
             ],
             [
              0.8888888888888888,
              "#fdca26"
             ],
             [
              1,
              "#f0f921"
             ]
            ],
            "type": "heatmap"
           }
          ],
          "histogram": [
           {
            "marker": {
             "pattern": {
              "fillmode": "overlay",
              "size": 10,
              "solidity": 0.2
             }
            },
            "type": "histogram"
           }
          ],
          "histogram2d": [
           {
            "colorbar": {
             "outlinewidth": 0,
             "ticks": ""
            },
            "colorscale": [
             [
              0,
              "#0d0887"
             ],
             [
              0.1111111111111111,
              "#46039f"
             ],
             [
              0.2222222222222222,
              "#7201a8"
             ],
             [
              0.3333333333333333,
              "#9c179e"
             ],
             [
              0.4444444444444444,
              "#bd3786"
             ],
             [
              0.5555555555555556,
              "#d8576b"
             ],
             [
              0.6666666666666666,
              "#ed7953"
             ],
             [
              0.7777777777777778,
              "#fb9f3a"
             ],
             [
              0.8888888888888888,
              "#fdca26"
             ],
             [
              1,
              "#f0f921"
             ]
            ],
            "type": "histogram2d"
           }
          ],
          "histogram2dcontour": [
           {
            "colorbar": {
             "outlinewidth": 0,
             "ticks": ""
            },
            "colorscale": [
             [
              0,
              "#0d0887"
             ],
             [
              0.1111111111111111,
              "#46039f"
             ],
             [
              0.2222222222222222,
              "#7201a8"
             ],
             [
              0.3333333333333333,
              "#9c179e"
             ],
             [
              0.4444444444444444,
              "#bd3786"
             ],
             [
              0.5555555555555556,
              "#d8576b"
             ],
             [
              0.6666666666666666,
              "#ed7953"
             ],
             [
              0.7777777777777778,
              "#fb9f3a"
             ],
             [
              0.8888888888888888,
              "#fdca26"
             ],
             [
              1,
              "#f0f921"
             ]
            ],
            "type": "histogram2dcontour"
           }
          ],
          "mesh3d": [
           {
            "colorbar": {
             "outlinewidth": 0,
             "ticks": ""
            },
            "type": "mesh3d"
           }
          ],
          "parcoords": [
           {
            "line": {
             "colorbar": {
              "outlinewidth": 0,
              "ticks": ""
             }
            },
            "type": "parcoords"
           }
          ],
          "pie": [
           {
            "automargin": true,
            "type": "pie"
           }
          ],
          "scatter": [
           {
            "fillpattern": {
             "fillmode": "overlay",
             "size": 10,
             "solidity": 0.2
            },
            "type": "scatter"
           }
          ],
          "scatter3d": [
           {
            "line": {
             "colorbar": {
              "outlinewidth": 0,
              "ticks": ""
             }
            },
            "marker": {
             "colorbar": {
              "outlinewidth": 0,
              "ticks": ""
             }
            },
            "type": "scatter3d"
           }
          ],
          "scattercarpet": [
           {
            "marker": {
             "colorbar": {
              "outlinewidth": 0,
              "ticks": ""
             }
            },
            "type": "scattercarpet"
           }
          ],
          "scattergeo": [
           {
            "marker": {
             "colorbar": {
              "outlinewidth": 0,
              "ticks": ""
             }
            },
            "type": "scattergeo"
           }
          ],
          "scattergl": [
           {
            "marker": {
             "colorbar": {
              "outlinewidth": 0,
              "ticks": ""
             }
            },
            "type": "scattergl"
           }
          ],
          "scattermap": [
           {
            "marker": {
             "colorbar": {
              "outlinewidth": 0,
              "ticks": ""
             }
            },
            "type": "scattermap"
           }
          ],
          "scattermapbox": [
           {
            "marker": {
             "colorbar": {
              "outlinewidth": 0,
              "ticks": ""
             }
            },
            "type": "scattermapbox"
           }
          ],
          "scatterpolar": [
           {
            "marker": {
             "colorbar": {
              "outlinewidth": 0,
              "ticks": ""
             }
            },
            "type": "scatterpolar"
           }
          ],
          "scatterpolargl": [
           {
            "marker": {
             "colorbar": {
              "outlinewidth": 0,
              "ticks": ""
             }
            },
            "type": "scatterpolargl"
           }
          ],
          "scatterternary": [
           {
            "marker": {
             "colorbar": {
              "outlinewidth": 0,
              "ticks": ""
             }
            },
            "type": "scatterternary"
           }
          ],
          "surface": [
           {
            "colorbar": {
             "outlinewidth": 0,
             "ticks": ""
            },
            "colorscale": [
             [
              0,
              "#0d0887"
             ],
             [
              0.1111111111111111,
              "#46039f"
             ],
             [
              0.2222222222222222,
              "#7201a8"
             ],
             [
              0.3333333333333333,
              "#9c179e"
             ],
             [
              0.4444444444444444,
              "#bd3786"
             ],
             [
              0.5555555555555556,
              "#d8576b"
             ],
             [
              0.6666666666666666,
              "#ed7953"
             ],
             [
              0.7777777777777778,
              "#fb9f3a"
             ],
             [
              0.8888888888888888,
              "#fdca26"
             ],
             [
              1,
              "#f0f921"
             ]
            ],
            "type": "surface"
           }
          ],
          "table": [
           {
            "cells": {
             "fill": {
              "color": "#EBF0F8"
             },
             "line": {
              "color": "white"
             }
            },
            "header": {
             "fill": {
              "color": "#C8D4E3"
             },
             "line": {
              "color": "white"
             }
            },
            "type": "table"
           }
          ]
         },
         "layout": {
          "annotationdefaults": {
           "arrowcolor": "#2a3f5f",
           "arrowhead": 0,
           "arrowwidth": 1
          },
          "autotypenumbers": "strict",
          "coloraxis": {
           "colorbar": {
            "outlinewidth": 0,
            "ticks": ""
           }
          },
          "colorscale": {
           "diverging": [
            [
             0,
             "#8e0152"
            ],
            [
             0.1,
             "#c51b7d"
            ],
            [
             0.2,
             "#de77ae"
            ],
            [
             0.3,
             "#f1b6da"
            ],
            [
             0.4,
             "#fde0ef"
            ],
            [
             0.5,
             "#f7f7f7"
            ],
            [
             0.6,
             "#e6f5d0"
            ],
            [
             0.7,
             "#b8e186"
            ],
            [
             0.8,
             "#7fbc41"
            ],
            [
             0.9,
             "#4d9221"
            ],
            [
             1,
             "#276419"
            ]
           ],
           "sequential": [
            [
             0,
             "#0d0887"
            ],
            [
             0.1111111111111111,
             "#46039f"
            ],
            [
             0.2222222222222222,
             "#7201a8"
            ],
            [
             0.3333333333333333,
             "#9c179e"
            ],
            [
             0.4444444444444444,
             "#bd3786"
            ],
            [
             0.5555555555555556,
             "#d8576b"
            ],
            [
             0.6666666666666666,
             "#ed7953"
            ],
            [
             0.7777777777777778,
             "#fb9f3a"
            ],
            [
             0.8888888888888888,
             "#fdca26"
            ],
            [
             1,
             "#f0f921"
            ]
           ],
           "sequentialminus": [
            [
             0,
             "#0d0887"
            ],
            [
             0.1111111111111111,
             "#46039f"
            ],
            [
             0.2222222222222222,
             "#7201a8"
            ],
            [
             0.3333333333333333,
             "#9c179e"
            ],
            [
             0.4444444444444444,
             "#bd3786"
            ],
            [
             0.5555555555555556,
             "#d8576b"
            ],
            [
             0.6666666666666666,
             "#ed7953"
            ],
            [
             0.7777777777777778,
             "#fb9f3a"
            ],
            [
             0.8888888888888888,
             "#fdca26"
            ],
            [
             1,
             "#f0f921"
            ]
           ]
          },
          "colorway": [
           "#636efa",
           "#EF553B",
           "#00cc96",
           "#ab63fa",
           "#FFA15A",
           "#19d3f3",
           "#FF6692",
           "#B6E880",
           "#FF97FF",
           "#FECB52"
          ],
          "font": {
           "color": "#2a3f5f"
          },
          "geo": {
           "bgcolor": "white",
           "lakecolor": "white",
           "landcolor": "#E5ECF6",
           "showlakes": true,
           "showland": true,
           "subunitcolor": "white"
          },
          "hoverlabel": {
           "align": "left"
          },
          "hovermode": "closest",
          "mapbox": {
           "style": "light"
          },
          "paper_bgcolor": "white",
          "plot_bgcolor": "#E5ECF6",
          "polar": {
           "angularaxis": {
            "gridcolor": "white",
            "linecolor": "white",
            "ticks": ""
           },
           "bgcolor": "#E5ECF6",
           "radialaxis": {
            "gridcolor": "white",
            "linecolor": "white",
            "ticks": ""
           }
          },
          "scene": {
           "xaxis": {
            "backgroundcolor": "#E5ECF6",
            "gridcolor": "white",
            "gridwidth": 2,
            "linecolor": "white",
            "showbackground": true,
            "ticks": "",
            "zerolinecolor": "white"
           },
           "yaxis": {
            "backgroundcolor": "#E5ECF6",
            "gridcolor": "white",
            "gridwidth": 2,
            "linecolor": "white",
            "showbackground": true,
            "ticks": "",
            "zerolinecolor": "white"
           },
           "zaxis": {
            "backgroundcolor": "#E5ECF6",
            "gridcolor": "white",
            "gridwidth": 2,
            "linecolor": "white",
            "showbackground": true,
            "ticks": "",
            "zerolinecolor": "white"
           }
          },
          "shapedefaults": {
           "line": {
            "color": "#2a3f5f"
           }
          },
          "ternary": {
           "aaxis": {
            "gridcolor": "white",
            "linecolor": "white",
            "ticks": ""
           },
           "baxis": {
            "gridcolor": "white",
            "linecolor": "white",
            "ticks": ""
           },
           "bgcolor": "#E5ECF6",
           "caxis": {
            "gridcolor": "white",
            "linecolor": "white",
            "ticks": ""
           }
          },
          "title": {
           "x": 0.05
          },
          "xaxis": {
           "automargin": true,
           "gridcolor": "white",
           "linecolor": "white",
           "ticks": "",
           "title": {
            "standoff": 15
           },
           "zerolinecolor": "white",
           "zerolinewidth": 2
          },
          "yaxis": {
           "automargin": true,
           "gridcolor": "white",
           "linecolor": "white",
           "ticks": "",
           "title": {
            "standoff": 15
           },
           "zerolinecolor": "white",
           "zerolinewidth": 2
          }
         }
        },
        "title": {
         "text": "Diferencia entre mineria e industria en IMACEC mensual entre 2018 y 2024"
        },
        "xaxis": {
         "anchor": "y",
         "domain": [
          0,
          1
         ],
         "title": {
          "text": "periodo"
         }
        },
        "yaxis": {
         "anchor": "x",
         "domain": [
          0,
          1
         ],
         "title": {
          "text": "dif mineria-industria"
         }
        }
       }
      }
     },
     "metadata": {},
     "output_type": "display_data"
    }
   ],
   "source": [
    "# Plotly\n",
    "\n",
    "fig = px.line(data_frame=df7,\n",
    "        \t  x='periodo',\n",
    "        \t  y='dif mineria-industria',\n",
    "              title='Diferencia entre mineria e industria en IMACEC mensual entre 2018 y 2024')\n",
    "fig.show()"
   ]
  },
  {
   "cell_type": "markdown",
   "id": "a8facfae",
   "metadata": {},
   "source": [
    "##### 9. ¿Es factible usar un Treemap para visualizar este índice? Fundamente su respuesta."
   ]
  },
  {
   "cell_type": "code",
   "execution_count": null,
   "id": "39deba64",
   "metadata": {},
   "outputs": [],
   "source": [
    "# Tu código aquí"
   ]
  },
  {
   "cell_type": "markdown",
   "id": "c4554e04",
   "metadata": {},
   "source": [
    "##### 10. Usando como referencia las visualizaciones realizadas en este Workshop, cree un reporte del Imacec en Figma."
   ]
  },
  {
   "cell_type": "markdown",
   "id": "c37f3eb0",
   "metadata": {},
   "source": [
    "[Link a figma](https://www.figma.com)"
   ]
  }
 ],
 "metadata": {
  "kernelspec": {
   "display_name": ".venv",
   "language": "python",
   "name": "python3"
  },
  "language_info": {
   "codemirror_mode": {
    "name": "ipython",
    "version": 3
   },
   "file_extension": ".py",
   "mimetype": "text/x-python",
   "name": "python",
   "nbconvert_exporter": "python",
   "pygments_lexer": "ipython3",
   "version": "3.13.3"
  }
 },
 "nbformat": 4,
 "nbformat_minor": 5
}
