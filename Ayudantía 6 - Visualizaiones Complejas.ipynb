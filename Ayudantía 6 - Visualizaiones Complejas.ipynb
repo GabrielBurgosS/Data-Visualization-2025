{
 "cells": [
  {
   "cell_type": "markdown",
<<<<<<< HEAD
   "id": "5a4d3ab3",
=======
   "id": "ad76aa09",
>>>>>>> ay6
   "metadata": {},
   "source": [
    "# **Ayudantía 6 - Visualización Complejas**\n",
    "## Data Visualization\n",
    "**Ayudante:** Gabriel Burgos  \n",
    "**Fecha:** Abril 2025  \n",
    " _Universidad de Concepción_\n",
    "\n",
    "---\n",
    "__Este workshop se enfoca en la creación de visualizaciones relevantes utilizando datos de precipitaciones en Chile.__"
   ]
  },
  {
<<<<<<< HEAD
   "cell_type": "markdown",
   "id": "bc727033",
=======
   "cell_type": "code",
   "execution_count": null,
   "id": "d695c880",
   "metadata": {},
   "outputs": [],
   "source": [
    "!pip install unidecode"
   ]
  },
  {
   "cell_type": "markdown",
   "id": "2e9f1650",
>>>>>>> ay6
   "metadata": {},
   "source": [
    "# 💻 Workshop 5\n",
    "\n",
    "## Data Visualization\n",
    "\n",
    "[Fuente: Banco Central - IMACEC](https://www.bcentral.cl/web/banco-central/areas/estadisticas/imacec)"
   ]
  },
  {
   "cell_type": "markdown",
<<<<<<< HEAD
   "id": "0b0a9780",
=======
   "id": "254f5653",
>>>>>>> ay6
   "metadata": {},
   "source": [
    "---"
   ]
  },
  {
   "cell_type": "markdown",
<<<<<<< HEAD
   "id": "8770aba0",
=======
   "id": "790f57d2",
>>>>>>> ay6
   "metadata": {},
   "source": [
    "##### 1. Grafique la evolución mensual del IMACEC total y compárelo con el IMACEC no minero."
   ]
  },
  {
   "cell_type": "code",
<<<<<<< HEAD
   "execution_count": null,
   "id": "24b19ea3",
=======
   "execution_count": 1,
   "id": "4f7f5006",
>>>>>>> ay6
   "metadata": {},
   "outputs": [],
   "source": [
    "# Tu código aquí"
   ]
  },
  {
   "cell_type": "markdown",
<<<<<<< HEAD
   "id": "42853d2e",
=======
   "id": "4143d1cc",
   "metadata": {},
   "source": [
    "###### Solución de la pregunta 1"
   ]
  },
  {
   "cell_type": "code",
   "execution_count": 12,
   "id": "6bd75845",
   "metadata": {},
   "outputs": [
    {
     "data": {
      "text/html": [
       "<div>\n",
       "<style scoped>\n",
       "    .dataframe tbody tr th:only-of-type {\n",
       "        vertical-align: middle;\n",
       "    }\n",
       "\n",
       "    .dataframe tbody tr th {\n",
       "        vertical-align: top;\n",
       "    }\n",
       "\n",
       "    .dataframe thead th {\n",
       "        text-align: right;\n",
       "    }\n",
       "</style>\n",
       "<table border=\"1\" class=\"dataframe\">\n",
       "  <thead>\n",
       "    <tr style=\"text-align: right;\">\n",
       "      <th></th>\n",
       "      <th>periodo</th>\n",
       "      <th>mineria</th>\n",
       "      <th>industria</th>\n",
       "      <th>resto de bienes</th>\n",
       "      <th>total produccion de bienes</th>\n",
       "      <th>comercio</th>\n",
       "      <th>servicios</th>\n",
       "      <th>total imacec a costo</th>\n",
       "      <th>impuestos a los produ</th>\n",
       "      <th>total imacec</th>\n",
       "      <th>imacec no minero</th>\n",
       "    </tr>\n",
       "  </thead>\n",
       "  <tbody>\n",
       "    <tr>\n",
       "      <th>0</th>\n",
       "      <td>2018-01-01</td>\n",
       "      <td>96.544383</td>\n",
       "      <td>99.659868</td>\n",
       "      <td>113.911467</td>\n",
       "      <td>104.802668</td>\n",
       "      <td>103.572177</td>\n",
       "      <td>90.811778</td>\n",
       "      <td>97.127609</td>\n",
       "      <td>92.246718</td>\n",
       "      <td>96.638285</td>\n",
       "      <td>96.647744</td>\n",
       "    </tr>\n",
       "    <tr>\n",
       "      <th>1</th>\n",
       "      <td>2018-02-01</td>\n",
       "      <td>92.004524</td>\n",
       "      <td>93.536219</td>\n",
       "      <td>123.006377</td>\n",
       "      <td>105.577274</td>\n",
       "      <td>91.074985</td>\n",
       "      <td>85.034673</td>\n",
       "      <td>92.967564</td>\n",
       "      <td>91.191314</td>\n",
       "      <td>92.789489</td>\n",
       "      <td>92.868564</td>\n",
       "    </tr>\n",
       "    <tr>\n",
       "      <th>2</th>\n",
       "      <td>2018-03-01</td>\n",
       "      <td>100.009399</td>\n",
       "      <td>105.249636</td>\n",
       "      <td>124.885767</td>\n",
       "      <td>112.064054</td>\n",
       "      <td>103.144904</td>\n",
       "      <td>101.562300</td>\n",
       "      <td>105.458791</td>\n",
       "      <td>103.186103</td>\n",
       "      <td>105.230947</td>\n",
       "      <td>105.756946</td>\n",
       "    </tr>\n",
       "    <tr>\n",
       "      <th>3</th>\n",
       "      <td>2018-04-01</td>\n",
       "      <td>91.025631</td>\n",
       "      <td>105.716717</td>\n",
       "      <td>108.275297</td>\n",
       "      <td>102.592350</td>\n",
       "      <td>102.842542</td>\n",
       "      <td>102.391344</td>\n",
       "      <td>102.510368</td>\n",
       "      <td>96.960566</td>\n",
       "      <td>101.953983</td>\n",
       "      <td>103.054863</td>\n",
       "    </tr>\n",
       "    <tr>\n",
       "      <th>4</th>\n",
       "      <td>2018-05-01</td>\n",
       "      <td>100.207610</td>\n",
       "      <td>105.383899</td>\n",
       "      <td>94.575453</td>\n",
       "      <td>99.324228</td>\n",
       "      <td>103.752615</td>\n",
       "      <td>103.168474</td>\n",
       "      <td>101.864986</td>\n",
       "      <td>100.458493</td>\n",
       "      <td>101.723981</td>\n",
       "      <td>101.876734</td>\n",
       "    </tr>\n",
       "    <tr>\n",
       "      <th>...</th>\n",
       "      <td>...</td>\n",
       "      <td>...</td>\n",
       "      <td>...</td>\n",
       "      <td>...</td>\n",
       "      <td>...</td>\n",
       "      <td>...</td>\n",
       "      <td>...</td>\n",
       "      <td>...</td>\n",
       "      <td>...</td>\n",
       "      <td>...</td>\n",
       "      <td>...</td>\n",
       "    </tr>\n",
       "    <tr>\n",
       "      <th>83</th>\n",
       "      <td>2024-12-01</td>\n",
       "      <td>108.418667</td>\n",
       "      <td>115.805875</td>\n",
       "      <td>154.010453</td>\n",
       "      <td>126.073334</td>\n",
       "      <td>146.429244</td>\n",
       "      <td>122.053193</td>\n",
       "      <td>126.271106</td>\n",
       "      <td>126.046950</td>\n",
       "      <td>126.264046</td>\n",
       "      <td>129.087876</td>\n",
       "    </tr>\n",
       "    <tr>\n",
       "      <th>84</th>\n",
       "      <td>2025-01-01</td>\n",
       "      <td>84.576177</td>\n",
       "      <td>112.006172</td>\n",
       "      <td>121.737843</td>\n",
       "      <td>104.706148</td>\n",
       "      <td>140.775390</td>\n",
       "      <td>111.248547</td>\n",
       "      <td>111.583086</td>\n",
       "      <td>105.704263</td>\n",
       "      <td>110.994504</td>\n",
       "      <td>115.199725</td>\n",
       "    </tr>\n",
       "    <tr>\n",
       "      <th>85</th>\n",
       "      <td>2025-02-01</td>\n",
       "      <td>75.558851</td>\n",
       "      <td>104.813526</td>\n",
       "      <td>124.182367</td>\n",
       "      <td>100.308134</td>\n",
       "      <td>123.202179</td>\n",
       "      <td>104.356716</td>\n",
       "      <td>104.762168</td>\n",
       "      <td>99.612460</td>\n",
       "      <td>104.247666</td>\n",
       "      <td>108.847910</td>\n",
       "    </tr>\n",
       "    <tr>\n",
       "      <th>86</th>\n",
       "      <td>2025-03-01</td>\n",
       "      <td>89.729307</td>\n",
       "      <td>115.197621</td>\n",
       "      <td>127.716284</td>\n",
       "      <td>109.645557</td>\n",
       "      <td>132.985923</td>\n",
       "      <td>125.136822</td>\n",
       "      <td>119.862898</td>\n",
       "      <td>114.358242</td>\n",
       "      <td>119.314147</td>\n",
       "      <td>124.033694</td>\n",
       "    </tr>\n",
       "    <tr>\n",
       "      <th>87</th>\n",
       "      <td>2025-04-01</td>\n",
       "      <td>86.090201</td>\n",
       "      <td>109.820351</td>\n",
       "      <td>109.808210</td>\n",
       "      <td>100.430739</td>\n",
       "      <td>123.037336</td>\n",
       "      <td>124.515266</td>\n",
       "      <td>114.814174</td>\n",
       "      <td>105.973775</td>\n",
       "      <td>113.920917</td>\n",
       "      <td>118.357167</td>\n",
       "    </tr>\n",
       "  </tbody>\n",
       "</table>\n",
       "<p>88 rows × 11 columns</p>\n",
       "</div>"
      ],
      "text/plain": [
       "      periodo     mineria   industria  resto de bienes  \\\n",
       "0  2018-01-01   96.544383   99.659868       113.911467   \n",
       "1  2018-02-01   92.004524   93.536219       123.006377   \n",
       "2  2018-03-01  100.009399  105.249636       124.885767   \n",
       "3  2018-04-01   91.025631  105.716717       108.275297   \n",
       "4  2018-05-01  100.207610  105.383899        94.575453   \n",
       "..        ...         ...         ...              ...   \n",
       "83 2024-12-01  108.418667  115.805875       154.010453   \n",
       "84 2025-01-01   84.576177  112.006172       121.737843   \n",
       "85 2025-02-01   75.558851  104.813526       124.182367   \n",
       "86 2025-03-01   89.729307  115.197621       127.716284   \n",
       "87 2025-04-01   86.090201  109.820351       109.808210   \n",
       "\n",
       "    total produccion de bienes    comercio   servicios  total imacec a costo  \\\n",
       "0                   104.802668  103.572177   90.811778             97.127609   \n",
       "1                   105.577274   91.074985   85.034673             92.967564   \n",
       "2                   112.064054  103.144904  101.562300            105.458791   \n",
       "3                   102.592350  102.842542  102.391344            102.510368   \n",
       "4                    99.324228  103.752615  103.168474            101.864986   \n",
       "..                         ...         ...         ...                   ...   \n",
       "83                  126.073334  146.429244  122.053193            126.271106   \n",
       "84                  104.706148  140.775390  111.248547            111.583086   \n",
       "85                  100.308134  123.202179  104.356716            104.762168   \n",
       "86                  109.645557  132.985923  125.136822            119.862898   \n",
       "87                  100.430739  123.037336  124.515266            114.814174   \n",
       "\n",
       "    impuestos a los produ  total imacec  imacec no minero  \n",
       "0               92.246718     96.638285         96.647744  \n",
       "1               91.191314     92.789489         92.868564  \n",
       "2              103.186103    105.230947        105.756946  \n",
       "3               96.960566    101.953983        103.054863  \n",
       "4              100.458493    101.723981        101.876734  \n",
       "..                    ...           ...               ...  \n",
       "83             126.046950    126.264046        129.087876  \n",
       "84             105.704263    110.994504        115.199725  \n",
       "85              99.612460    104.247666        108.847910  \n",
       "86             114.358242    119.314147        124.033694  \n",
       "87             105.973775    113.920917        118.357167  \n",
       "\n",
       "[88 rows x 11 columns]"
      ]
     },
     "execution_count": 12,
     "metadata": {},
     "output_type": "execute_result"
    }
   ],
   "source": [
    "# Lectura\n",
    "import pandas as pd\n",
    "from unidecode import unidecode # Para neutralizar tildes\n",
    "\n",
    "df = pd.read_excel('data/ws5/IMACEC.xlsx', \n",
    "                   header=7, # Para comenzar en la tabla real\n",
    "                   skipfooter=11, # Para no leer las ultimas filas\n",
    "                   skiprows=[15]) # Para saltarse la linea de separación\n",
    "\n",
    "# Corrigiendo nombres de Columnas\n",
    "## Función de corrección\n",
    "def corregir_nombre(nombre:str):\n",
    "    nombre = unidecode(nombre) # Neutraliza tildes\n",
    "    nombre = nombre.lower() # A minúsculas\n",
    "    nombre = nombre[:-4] if '(' in nombre else nombre # Quita ()\n",
    "    return nombre\n",
    "## Aplicando sobre columnas y sobreescribiendo\n",
    "df.columns = [corregir_nombre(col) for col in df.columns]\n",
    "## Corrigiendo imacec no minero\n",
    "df = df.rename(columns={'imacecnominero':'imacec no minero'})\n",
    "\n",
    "# Separando tablas\n",
    "df_anual = df[:7] # promedios anuales\n",
    "df = df[7:].reset_index(drop=True)\n",
    "# Rellenando años faltantes\n",
    "df['periodo'] = df['periodo'].ffill() # Rellena años\n",
    "# Mapeando meses\n",
    "meses = {'ene':'01', \n",
    "         'feb':'02', \n",
    "         'mar':'03', \n",
    "         'abr':'04', \n",
    "         'may':'05', \n",
    "         'jun':'06', \n",
    "         'jul':'07', \n",
    "         'ago':'08', \n",
    "         'sep':'09',\n",
    "         'oct':'10', \n",
    "         'nov':'11', \n",
    "         'dic':'12',\n",
    "         }\n",
    "df['unnamed: 1'] = df['unnamed: 1'].map(meses)\n",
    "# Corrigiendo columna periodo\n",
    "df['periodo'] = df['periodo'].astype(int).astype(str) + '-' + df['unnamed: 1'] # Union\n",
    "df['periodo'] = pd.to_datetime(df['periodo'], format='%Y-%m') # Pasar a fecha\n",
    "df.drop(columns=['unnamed: 1'], inplace=True) # Borrando columna de meses anterior\n",
    "df"
   ]
  },
  {
   "cell_type": "code",
   "execution_count": null,
   "id": "d0a6e624",
   "metadata": {},
   "outputs": [
    {
     "data": {
      "image/png": "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",
      "text/plain": [
       "<Figure size 1200x400 with 1 Axes>"
      ]
     },
     "metadata": {},
     "output_type": "display_data"
    }
   ],
   "source": [
    "# Solución de pregunta 1\n",
    "import matplotlib.pyplot as plt\n",
    "import seaborn as sns\n",
    "\n",
    "sns.set_theme('notebook')\n",
    "sns.set_palette(palette='muted')\n",
    "\n",
    "# FIGURA\n",
    "\n",
    "## Lienzo\n",
    "plt.figure(figsize=(12,4))\n",
    "## Gráficos de Linea\n",
    "### Total imacec\n",
    "sns.lineplot(data=df, \n",
    "             x='periodo', \n",
    "             y='total imacec', \n",
    "             label='Total IMACEC',\n",
    "             )\n",
    "### Imacec no minero\n",
    "sns.lineplot(data=df, \n",
    "             x='periodo', \n",
    "             y='imacec no minero', \n",
    "             label='IMACEC No Minero') # No Miner\n",
    "# Mostrar\n",
    "plt.title('IMACEC total y no minero entre 2018 y 2025')\n",
    "plt.xlabel('Año')\n",
    "plt.ylabel('IMACEC')\n",
    "plt.legend()\n",
    "\n",
    "plt.show()"
   ]
  },
  {
   "cell_type": "markdown",
   "id": "e10ed7bb",
>>>>>>> ay6
   "metadata": {},
   "source": [
    "##### 2. Compare en un gráfico de barras el IMACEC del año 2023 y 2024 para todas las industrias."
   ]
  },
  {
   "cell_type": "code",
<<<<<<< HEAD
   "execution_count": 1,
   "id": "7c60605b",
=======
   "execution_count": 4,
   "id": "4371be8a",
>>>>>>> ay6
   "metadata": {},
   "outputs": [],
   "source": [
    "# Tu código aquí"
   ]
  },
  {
   "cell_type": "markdown",
<<<<<<< HEAD
   "id": "402dad74",
=======
   "id": "05ddd11d",
   "metadata": {},
   "source": [
    "###### Solución de la pregunta 2"
   ]
  },
  {
   "cell_type": "code",
   "execution_count": 5,
   "id": "7e373c26",
   "metadata": {},
   "outputs": [
    {
     "data": {
      "text/plain": [
       "Index(['periodo', 'mineria', 'industria', 'resto de bienes',\n",
       "       'total produccion de bienes', 'comercio', 'servicios',\n",
       "       'total imacec a costo', 'impuestos a los produ', 'total imacec',\n",
       "       'imacec no minero'],\n",
       "      dtype='object')"
      ]
     },
     "execution_count": 5,
     "metadata": {},
     "output_type": "execute_result"
    }
   ],
   "source": [
    "df.columns"
   ]
  },
  {
   "cell_type": "code",
   "execution_count": 15,
   "id": "4f10e271",
   "metadata": {},
   "outputs": [
    {
     "data": {
      "text/html": [
       "<div>\n",
       "<style scoped>\n",
       "    .dataframe tbody tr th:only-of-type {\n",
       "        vertical-align: middle;\n",
       "    }\n",
       "\n",
       "    .dataframe tbody tr th {\n",
       "        vertical-align: top;\n",
       "    }\n",
       "\n",
       "    .dataframe thead th {\n",
       "        text-align: right;\n",
       "    }\n",
       "</style>\n",
       "<table border=\"1\" class=\"dataframe\">\n",
       "  <thead>\n",
       "    <tr style=\"text-align: right;\">\n",
       "      <th></th>\n",
       "      <th>periodo</th>\n",
       "      <th>industria</th>\n",
       "      <th>imacec</th>\n",
       "    </tr>\n",
       "  </thead>\n",
       "  <tbody>\n",
       "    <tr>\n",
       "      <th>5</th>\n",
       "      <td>2023</td>\n",
       "      <td>mineria</td>\n",
       "      <td>85.957649</td>\n",
       "    </tr>\n",
       "    <tr>\n",
       "      <th>6</th>\n",
       "      <td>2024</td>\n",
       "      <td>mineria</td>\n",
       "      <td>90.396684</td>\n",
       "    </tr>\n",
       "    <tr>\n",
       "      <th>12</th>\n",
       "      <td>2023</td>\n",
       "      <td>industria</td>\n",
       "      <td>101.967863</td>\n",
       "    </tr>\n",
       "    <tr>\n",
       "      <th>13</th>\n",
       "      <td>2024</td>\n",
       "      <td>industria</td>\n",
       "      <td>104.770584</td>\n",
       "    </tr>\n",
       "    <tr>\n",
       "      <th>19</th>\n",
       "      <td>2023</td>\n",
       "      <td>resto de bienes</td>\n",
       "      <td>104.926930</td>\n",
       "    </tr>\n",
       "    <tr>\n",
       "      <th>20</th>\n",
       "      <td>2024</td>\n",
       "      <td>resto de bienes</td>\n",
       "      <td>108.324675</td>\n",
       "    </tr>\n",
       "    <tr>\n",
       "      <th>33</th>\n",
       "      <td>2023</td>\n",
       "      <td>comercio</td>\n",
       "      <td>112.281047</td>\n",
       "    </tr>\n",
       "    <tr>\n",
       "      <th>34</th>\n",
       "      <td>2024</td>\n",
       "      <td>comercio</td>\n",
       "      <td>118.043537</td>\n",
       "    </tr>\n",
       "    <tr>\n",
       "      <th>40</th>\n",
       "      <td>2023</td>\n",
       "      <td>servicios</td>\n",
       "      <td>116.116018</td>\n",
       "    </tr>\n",
       "    <tr>\n",
       "      <th>41</th>\n",
       "      <td>2024</td>\n",
       "      <td>servicios</td>\n",
       "      <td>118.408636</td>\n",
       "    </tr>\n",
       "  </tbody>\n",
       "</table>\n",
       "</div>"
      ],
      "text/plain": [
       "    periodo        industria      imacec\n",
       "5      2023          mineria   85.957649\n",
       "6      2024          mineria   90.396684\n",
       "12     2023        industria  101.967863\n",
       "13     2024        industria  104.770584\n",
       "19     2023  resto de bienes  104.926930\n",
       "20     2024  resto de bienes  108.324675\n",
       "33     2023         comercio  112.281047\n",
       "34     2024         comercio  118.043537\n",
       "40     2023        servicios  116.116018\n",
       "41     2024        servicios  118.408636"
      ]
     },
     "execution_count": 15,
     "metadata": {},
     "output_type": "execute_result"
    }
   ],
   "source": [
    "# Solución de pregunta 2\n",
    "\n",
    "# Quitando columna no útil en periodo df_anual\n",
    "df2 = df_anual.drop(columns='unnamed: 1')\n",
    "df2['periodo'] = df2['periodo'].astype(int)\n",
    "# A tidy\n",
    "df2_tidy= df2.melt(id_vars='periodo', var_name='industria', value_name='imacec')\n",
    "# Solo industrias\n",
    "industrias = ['mineria',\n",
    "              'industria',\n",
    "              'resto de bienes',\n",
    "              'comercio',\n",
    "              'servicios']\n",
    "df_industrias = df2_tidy[df2_tidy['industria'].isin(industrias)]\n",
    "# Solo 2023 y 2024\n",
    "df_industrias = df_industrias[df_industrias['periodo'] >= 2023]\n",
    "df_industrias"
   ]
  },
  {
   "cell_type": "code",
   "execution_count": 18,
   "id": "ea2cea0b",
   "metadata": {},
   "outputs": [
    {
     "data": {
      "image/png": "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",
      "text/plain": [
       "<Figure size 1200x400 with 1 Axes>"
      ]
     },
     "metadata": {},
     "output_type": "display_data"
    }
   ],
   "source": [
    "# FIGURA\n",
    "plt.figure(figsize=(12,4))\n",
    "\n",
    "## Gráfico de barras\n",
    "sns.barplot(data=df_industrias,\n",
    "            x='industria',\n",
    "            y='imacec',\n",
    "            hue='periodo',\n",
    "            palette='deep')\n",
    "\n",
    "## Mostrar\n",
    "plt.title('IMACEC por industria (2023 vs 2024)')\n",
    "plt.xlabel('Industria')\n",
    "plt.ylabel('IMACEC')\n",
    "plt.show()"
   ]
  },
  {
   "cell_type": "markdown",
   "id": "3497b146",
>>>>>>> ay6
   "metadata": {},
   "source": [
    "##### 3. Grafique la tasa de variación del IMACEC con respecto al mes anterior."
   ]
  },
  {
   "cell_type": "code",
<<<<<<< HEAD
   "execution_count": null,
   "id": "05dbccb5",
=======
   "execution_count": 8,
   "id": "414df803",
>>>>>>> ay6
   "metadata": {},
   "outputs": [],
   "source": [
    "# Tu código aquí"
   ]
  },
  {
   "cell_type": "markdown",
<<<<<<< HEAD
   "id": "f246144b",
=======
   "id": "31cadc70",
   "metadata": {},
   "source": [
    "###### Solución de la pregunta 3"
   ]
  },
  {
   "cell_type": "code",
   "execution_count": 22,
   "id": "ac11dcdc",
   "metadata": {},
   "outputs": [
    {
     "data": {
      "image/png": "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",
      "text/plain": [
       "<Figure size 1200x400 with 1 Axes>"
      ]
     },
     "metadata": {},
     "output_type": "display_data"
    }
   ],
   "source": [
    "# Solución de pregunta 3\n",
    "import numpy as np\n",
    "\n",
    "# Columna de Variacion\n",
    "df['variacion'] = df['total imacec'].pct_change() * 100\n",
    "df3 = df.copy()\n",
    "df3['periodo'] = df3['periodo'].astype(str).apply(lambda x: x[:-3]) # columna mes\n",
    "df3['año'] = df3['periodo'].apply(lambda x: x[:4]) # columna año\n",
    "\n",
    "# FIGURA\n",
    "plt.figure(figsize=(12,4))\n",
    "\n",
    "# Gráfico\n",
    "sns.barplot(data=df3[1:], # Me salto primer mes\n",
    "            x='periodo',\n",
    "        \ty='variacion')\n",
    "# Configuración\n",
    "xticks = np.arange(0, len(df3[1:]), step=3)  # una cada 3 meses aprox\n",
    "plt.xticks(xticks, \n",
    "           df3['periodo'].iloc[1:].iloc[xticks], \n",
    "           ha='right', \n",
    "           rotation=60)\n",
    "\n",
    "# Mostrar\n",
    "plt.title('Variación mensual de IMACEC entre 2018 y 2025')\n",
    "plt.ylabel('%')\n",
    "plt.grid(True)\n",
    "plt.show()"
   ]
  },
  {
   "cell_type": "markdown",
   "id": "094e40c1",
>>>>>>> ay6
   "metadata": {},
   "source": [
    "##### 4. Grafique la tasa de variación del IMACEC con respecto al mismo período del año anterior."
   ]
  },
  {
   "cell_type": "code",
<<<<<<< HEAD
   "execution_count": null,
   "id": "8bc21efd",
=======
   "execution_count": 10,
   "id": "ca84f3f1",
>>>>>>> ay6
   "metadata": {},
   "outputs": [],
   "source": [
    "# Tu código aquí"
   ]
  },
  {
   "cell_type": "markdown",
<<<<<<< HEAD
   "id": "5c4b8b13",
=======
   "id": "04da2b05",
   "metadata": {},
   "source": [
    "###### Solución de la pregunta 4"
   ]
  },
  {
   "cell_type": "code",
   "execution_count": 11,
   "id": "993c4adf",
   "metadata": {},
   "outputs": [
    {
     "data": {
      "image/png": "iVBORw0KGgoAAAANSUhEUgAAA/UAAAGMCAYAAACbCYLZAAAAOnRFWHRTb2Z0d2FyZQBNYXRwbG90bGliIHZlcnNpb24zLjEwLjEsIGh0dHBzOi8vbWF0cGxvdGxpYi5vcmcvc2/+5QAAAAlwSFlzAAAPYQAAD2EBqD+naQAARBdJREFUeJzt3Qd8FHX+//FPCh0ivZyKnCAgShEpooAFTz3bgXJ6KBbUQ+wgKiroqSg2VMQGCIjKoT8VzgZ3KnqKDQREPU+lqCBqKAoYILQk+3+8v/eY/HeTDSQhO8k3+3o+HkvI7OzuzOx3Nvv+tkmJRCIRAwAAAAAA3kkt7w0AAAAAAAClQ6gHAAAAAMBThHoAAAAAADxFqAcAAAAAwFOEegAAAAAAPEWoBwAAAADAU4R6AAAAAAA8RagHAAAAAMBThHoAAIAyEIlEynsTAABJiFAPAJ4ZNGiQdevWzXbu3FnkOqeddpqde+65pX6NH3/80dq0aWOzZs2ysnTcccfZjTfeGPe+oUOHWpcuXezbb7+1yqi0x3TBggXucfpZ1q+v90PLhg8fXuTjzjrrLLfOI488Uui+vLw8O+aYY9z9X3755W5f/+OPP7Yrr7zSevXqZR07drQTTzzR7r33Xvv1119j1jvvvPPc8xV10/YU9J///Meuv/56ty0dOnSw448/3m655RZbvXq1hWXx4sU2ePDghL6GjuHAgQOta9eudtRRR9lVV11lP/zwQ8w6W7dutdtvv93df9hhh9lf//pX++6774p8znfeeccd13jv7ZQpU+wPf/iDtW/f3v74xz/a9OnTE7Jfeq3nnnvOfW5pm/v06WNjxoyxLVu2xKy3atUqGzJkiPuc6N69u/3tb3+Lu84111xjPXv2tMMPP9wGDBjgjlu0jz76KG7ZuvTSSxOyfwCQaOkJfwUAQJk688wz3ZfSefPmufBS0H//+19btmyZC0yl1bhxY/u///s/a968uZWlRx991GrXrl1oubZ37ty59sQTT1jLli3L9DWxe6mpqfbvf//bduzYYdWqVStUEfD5558X+dgPP/zQfvnlFzvwwAPt+eeftzvvvDPuemPHjrXJkyfbSSedZCNHjrS6deva0qVL7cknn7Q333zThcVmzZrlr9+uXTsX2OKpVatWzO9///vfXQBUyFPlhMqugp0CqZ776aeftrZt21qivfjiiwmtkFKlwcUXX+wCr45ndna2Pf744y60vvbaa1a/fn23no6B3jNVcuhc0zl3/vnn2+zZs22fffaJeU5VFBVVoXPPPfe4Y/eXv/zFBXtVHjz88MOuTBRVMVdaKhvjxo1z+9ejRw/7/vvvbfz48bZ8+XKbOnWqpaSkWFZWll1wwQXWsGFDt20bNmyw+++/322P3mvZuHGjq/RQ+br55pvd/ut9ueiii9y+qDJUvv76a3df8LhARkZGme4XAIQmAgDwyvbt2yNdu3aNXHXVVXHvHz16dKRz586R7OzsiC82btwY+fHHHyOV2erVqyOtW7eOzJw5s0SPmz9/vnucfpb16x977LGRc845xy1/8803Cz1m4sSJkT/96U/u/vHjxxe6f+jQoZGBAwe69Tp16hTZvHlzoXVef/119/innnqq0H3ff/+9e9wVV1yRv0zPp1txLFq0KHLwwQdH7rzzzkL3/frrr5FevXpF+vXrFwnDiBEj3PFMlEsvvTRy6qmnRnJzc/OXrVmzJtK2bdvI5MmT3e+ffvqpO9bvvvtuzHHQMX788cfzl+l9evDBB92x69atm3tMND1G940cOTJm+TvvvONeb8WKFWW2X9qfLl26RG677baY5bNnz3bb9cUXX7jfJ0yYEOnYsaPbtoD2U+uoHMjUqVMjhxxyiDsugZycnMgpp5wSGTx4cP6y4cOHRwYMGFBm+wAA5Y3u9wDgGbWmnnrqqfbuu+8W6nq6a9cu1yJ3yimnWI0aNVxrlrriHnvssXbooYe6lqorrrjCtW5Fd3e+7rrr7Oqrr7ZOnTq57v3xumovXLjQtaSp66+eS1231SVbXWcD2p7Ro0e7LtZ6LvUq0HYW1f1+8+bNdvfdd1v//v1dK67266WXXorZJz1GrXbqeXDkkUe67tXajpUrV+72OBV339VyPGnSJNd1W92M1TL5xRdf5K+j7dU2RIt3fL755hvXvfyII46wQw45xB0DtVxv377dSkIt3uqarv1Uq+PPP/9caB0tu/baa90+qSu7WjC/+uorK43999/fHZ9//etfhe6bM2eOK0vx/Pbbb653hY6v3rdt27bZK6+8Umg9HdtWrVq5bSyoRYsWrkVZXa5LMx5dLa116tRxx6IgtVzrvVPLtlq1i7Jp0ya79dZbXdnS+6/u/QW7a+u9Vo8AlRUdc22vunirl4Lodf7xj3/YTz/9lF8ugjLy1FNPubKt92nmzJn5PVPU1btz587upnK5p6ECwfusnhWBJk2auP0PuuB/8MEHVrNmTdf1PPo46Jx977338pfpHHvhhRfcfquMFaRzKzc317230dQbQuf7+++/H3cbdY6q3Oq8jqYeBeoKrzJSkD4z/vSnP7kyFE29PyQ4Lto3PUfQI0G0n+q5oV5LwfG48MIL3c9AWlqaHXDAATHDFHSuHnzwwXH3AQB8RKgHAA8pLKu79BtvvBGzXF9uFWb//Oc/u5Ck4KAu0grtCkAKnQosBbs2//Of/3RfjtX9/ZJLLin0evoSrC/L6tb60EMPufU0rlVde/VYUQhQN1d1Bdbr6ou8vpgrsCxatKjQcyrsnnPOOW59vWbwxV/BacKECTHrPvPMM25csCoAFJQ1fnvEiBFFHp+S7LuO4dtvv22jRo2yBx980AU1jVXW/hTXunXr3BwGCi3qGqxu5QrDzz77rNv24lI3dG3f0Ucf7Y6HgpzGhkfT+6uKBw2z0H0PPPCAC1p6/dJ2/z755JPzu+AHdLz1vhcV6vW+6RhpHPTvfvc7V5mhIRvR1q9f755DFSbqQh2PyoAqaaLv1/uXk5MT9xaEf/1U0FN3bVVgFbVfKn8KuvFofxWU9f4PGzbMleemTZu68lgw2Kvc6zirjNxwww3ueKnbv1x++eXuPWvUqJE7BtrfgCq+NK79vvvuc+Pc1bVc75/mElAIvuuuu1xwVTf6gvMLRLvssstc5Ve0Tz75xFWuHHTQQe53vf/77befC7LRNIxGrxtQJZXG0ms74qlXr577WbBCKQjG0RVj0bR9OqYFK4hU2aP3It77pC7vOvd07kdThZGoQijYt9///vcx62g/tb/Bvuk1dL5H0/FRhWRwjLR9Wl8VMKpMUIWWKi/0GcFEhwB8xZh6APCQWoLV0qRgpYAfePnll13roFoc165d675EK/wqgActbfpiXjB8ValSxbVqV61aNe6XdgUztWRqDGvQUqiAomCgcbkKfqpQ0Fjexx57LH+sv4KeAsv8+fPztyGg1ky1WKplWi2fotZtBTcFWgUOVSIEX/y1LAgr2geFJY2hDQJIwZBd3H3X6+kLfTDWXxON6XEad6sv/MWh/dD7oTHHwfPoeKlSQcenOBOoKVBoHxVMNB44aIlUS6aOUUBjg9W6rInF9t13X7esd+/e7nF6ffVqKClNgqb3Vu+hxk8HrfR6XxTY49H7p9dVkJUzzjjDtbp/+umnrvVZMjMz3U8Fr5JQCFMZj0f7qJZvvfcKaCV97oJhU2VbrdaqQBHtk3pwaNx60LIurVu3dpVKAfXmCMKrQrNakHX+qIeKBL0DdGyjz1GNYVfZnDZtWn5ZUcWEzhmNLd9dZVXByh1V6mgOgb59+7plaiGPN2eFKuxUrgN7mitD4VkhW+eYKjmC81ivp30squeD5sNQmdFxVcWiqDyo5V+VXcWlzxH18FDY1nEP9q3gfArBvhXssRRQJYy2WfcHlZU6V3XOK9irIkfzDKhSR+Vf4/a1DAB8Q6gHAE8pKKilUOFd3U0V9NR6qFZE0TK1EissKqRr8jC1vupLdsGZ89WiHgT6eBQadAtaufRcCr1qqVWX/2AiL1UORHdVVwVAdCAt2MqoUBoE+sDpp5/uugfri71aP0WVFNGtjwoaopbxeKG+JPuulsDoIBR03Y3XVbgoCt+66VisWLHCvZ7Cg4JXUDGxJ9o+tdQW7PKsUBh9DNWCrAoEbafCSXCcFUZfffVVKw0Fd4VRhdToUF/UFRQUhNVTQF23FYREwU8t4qo0CUJ9evr/vmZED9EoDgV6VTLFEwTSoDyUpEdFQTqWqpTQ6wXHUvQeqGVdrbzB5HJBWI8ug8UpIwW7eauCS134q1evnv+aKn+qfNIEmMWhSiv1btDP6MqB3bU0F9VToiiqHFL3fPVwCSrWVGmjoF9Uz4jgc0lBWi3hOr81LEGVBAXP86Loc0Qz3KuyJroSpaT7pnNRwyLUE0f7oWEBwZAPVRjoMyXoyq9KFfUcUuWewr+GNACATwj1AOApdXtW8FD40jh4jaXXl1uF4oBCnroLq8VU4VIBQ2GioHgtYNH0hVdj5dUCpyCiL9z6kq7QFnzZVqWCXiN6zO/uKDAFrbzRNLu1BGFRCoaI4DV2FxaLu++lee6Cgm7ZGnetVkzN5K4QUXA2+T0dDylYSVHwGOk4q9KgqJZsBc3dha6iqPJAreBBxY1aV9UiHk8w78FNN93kbtE0HEM9DRSGdRxUJhXwdrffKkfRZVD/V+jaHT2/1os350BA74XCXcFZ36OPpYYIFHUsdV/w2HjlpDjdtQt2/ddr6pzVraDo8eJF0VUDFHrV8q6W/aCHgSjcB+P8o2ndkgZVnYfqOaLzUJUHqkzRPmt4SFHHU9RjRJWN+qxQxYPKQ3Ev9adjoiCu4K19iz4XtG/RvQ0CaoWPHkMv2mZVRqjHhyoYoiundByCysJoGjIRXMGgYAUOAFR0hHoA8JSCqrrsqgu+Qr2+RKuVNWgZ1jh2deVVV2J9uQ6++KoiQK1hJaFxv2rx0mWn1K08CCpq4Yr+sqzAoqAT3XKmCdy0rGBwUjBQOI0XpCReC3xxleW+a18KtgYX7H6slj+1mKp1+YQTTsgPUAXHQO9OsL8Fx1XrmEbTc6ulN+iRUdDuelzsjgK8ukhrEjRd910t7w0aNCi0nno6qMxpPwtOsqZeEQr0ap3VHAzaJ73vek618sZrUdU4dvVEUC+ToEKnuNQ7QsMb4l2OT9StXuPWVQkRL7jrWCpAqqt9PHvTtb8oek2dQzpnCwp6NhRFrfyaI0DPoQqkYJx4QC3immdAlUzRlWs6z0p6qUhVEuoxuhxgcKk3lQs9ty45WBRVtKgsKcyr67zOFY1d3xO1kqsLvMq2hvAUrITQvkVPdic6L1XmVBYDa9asyZ/sUxVtqqyKps+jzz77zA3viT5GwYSWxalYAYCKhonyAMBj6uqqbtDqyq7u6tEhcsmSJe4LuCZ9C0KtvgQHXXxL0hKtIKwx6apECAK9JqtT9/LgedR9WK2iwUzUojCvltyJEycWek7NyK0WXG1nwRZ2deMPusuWRlnuu0JKMH47ULBiQL+rG7/ejyCMaFiEuuAX97UULtWyXXCSMYXdaAo9aklXyFFrdnBTpY7Ca8FJ0opLx0njqPX6CmRFTZCneRRU0aBQpDIRfdP+az+i5y1QpYqOgyYBLEhDFTRuXSG3pIFeNDGjtkWVTfEqh3SNc70vRbXE61iqJ4cqL6KPpeZCUEtxSY5lcXuo6DW13+o5Erye5m5QpdBbb71V5OMURtVCrzKi41sw0AeVHGrNjp6dXueoKrk0B0ZJaDJMVVZF0zaqfOu93h19Duk91/wPem8LtqQXpEodVbgpgOu4x+tVoO1Xy7v2J6AKDFUaBPumVntNfKieBbrqQMFAL9ouVb4VnAhRvQQ0XCARFTkAkGi01AOAx/SFWeOh1cVUX0ajW86DUHzHHXe4sKVuzmrd03ho0ZfheJNqxaPnUtDT5GxqvdNz6Eu/Wl6DccXqvqou+eo+O3ToUHepNAVNdWdV1/2CNLHajBkzXMujLqen7VdgVMhT19mgdbA0ynLfNb5as9hrVv4grCgwRAc+vZ66KisEqeuuWkZVkaFW7eKOzdex1MzdmkhNs4GrtVMtijrm0dQCruOqnwq1ag1XIFGrdMGu8CWlEKRxzNqW6NbPaHp/FILVkh+Phn9oPLZa0BX+1B1blSm6aoEqnrRfqhjSRHM6jtp+3RdN4Uz7XpRgjgUda11aTqFe5UzzPuj5li9f7lp+VRETL/BHl0FVNqhlNwjM2lZdvUC9EFS5VFwqr+r6rkvH7e5yaZopXxUiujqDZrxXDwOFdM32vrtJDlX+NPRFFVWqiAgmIQxal9U9XhVlqjRQrwjd1GtHY+AVkvVaJaFeLupqr8oDndcqY6+//rrddttte+zKr8ohVTqpslFXDdgdVb6ozClQq5t8wUszBpMQ6ioJwXulzwdV5qhlX3NJBHM46Php2IiOkXo9RJch9WBRDwNdLjKYkFCfU5poUPulzx49vriVMwBQkRDqAcBj+gLar18/111VwTi6e7MClSaIUnBS66taQrVM3Z0VpNW6HG9saTwK6mqFV0BSUFUA1yW21OKoL8NqBVfIUhhSV2aNzVaY1Uz8ai2N1+quMcoKy7okm9ZXkNOEferqX5Ju6/GU5b6rFVABQNuqIQhq9dXzRF8OTAFNrfmanE/vhcKhuhzr/VC4j54fYHd0rW69p6ogUHBX92VVTERfh12tnmrZ1HFTwFJwVet4WRw3BW49jypo4gU39T5QK7b2vahWbO23gqS2MWjRVWjX/4Nro6s1WZVRmiFdLfkFh1oo2J199tlFbqdabINKH5VDhTVV2mgstypwdPy1D0FQL4oqF/Q4HUsFRM2wrnCpihVVmJSEKggU6INKKlVmxKPu7HpNhV0NoVBvFr3PKjd9+vSJ+xjNPB+EXT13QfoMCGaXV9nU/9XyrV4iCrw6b3c3Dj4eHX91SVeQVhlWSNdxKng9+aLo+KtVPbgSRlF0zPQ66rUTb2JGBX4dWwV7nV96j1X5FXTzjx6G8uabb7qfKn+6RdP7qs8qfe7oc0HHXyFe560qLnTc9rStAFBRpUS4KCcAAADKiL5aaviGhgMEl2cEACQOLfUAAADYa+pto3H3mlBPvQvUhR8AkHiEegAAAOw1XTJSwy7U7V/d5DWvBgAg8eh+DwAAAACAp5jiEwAAAAAATxHqAQAAAADwFKEeAAAAAABPEeoBAAAAAPAUs98Xk+YTzMtjTsGSSE1N4ZghFJQ1hIWyhrBQ1hAWyhrCQlkr3TFLSUnZ43qE+mJSAdywYWt5b4Y30tNTrV69WpaVlW05OXnlvTmoxChrCAtlDWGhrCEslDWEhbJWOvXr17K0tD2HerrfAwAAAADgKUI9AAAAAACeItQDAAAAAOApQj0AAAAAAJ4i1AMAAAAA4ClCPQAAAAAAniLUAwAAAADgKUI9AAAAAACeItQDAAAAAOApQj0AAAAAAJ4i1AMAAAAA4Kn08t4AAIB/UlNT3C2ZpKWlxvxMJnl5EXcDAAAVD6EeAFAiCvN169ZMynArGRk1LNnk5ubZpk3ZBHsAACogQj0AoMShXoH+sZe+sp/WZ5f35iDB9m1U067o386974R6AAAqHkI9AKBUFOhXZm4p780AAABIasnZdxIAAAAAgEqAUA8AAAAAgKcI9QAAAAAAeIpQDwAAAACApwj1AAAAAAB4ilAPAAAAAICnCPUAAAAAAHiKUA8AAAAAgKcI9QAAAAAAeIpQDwAAAACApwj1AAAAAAB4ilAPAAAAAICnCPUAAAAAAHiqwoX6iRMn2nnnnRez7Ouvv7aBAwdap06d7LjjjrNnnnlmj8/zz3/+004++WTr0KGD9e3b1z7++OMEbjUAAAAAAEke6v/+97/buHHjYpZt3LjRBg0aZM2bN7eZM2faFVdcYWPHjnX/L8r8+fPt+uuvt7/85S/2j3/8w3r06GGDBw+2b7/9NoS9AAAAAAAgHOlWAaxdu9b+9re/2YIFC6xFixYx973wwgtWpUoVu+OOOyw9Pd1atmxpq1atskmTJtmZZ54Z9/mefPJJO/744+388893v48YMcKWLFliTz/9tHseAAAAAAAqgwrRUv/f//7XBfdXX33VOnbsGHPfokWLrFu3bi7QB4444ghbuXKl/fLLL4WeKy8vzz799FPXOh+te/futnDhwgTuBQAAAAAASdhSr3HyusWzZs0aa926dcyyxo0bu5+ZmZnWsGHDmPuysrIsOzvbmjZtWugxeq69kZ5eIepAvJCWlhrzE0gUylr4ONbJifc9PHyuISyUNYSFspYEoX53tm/fblWrVo1ZVq1aNfdzx44dcdeXeI+Jt35xpaamWL16tUr9+GSVkVGjvDcBSYKyBiQW51j4OOYIC2UNYaGsJWmor169uu3cuTNmWRDOa9asWWj9IPDHe0yNGqUvRHl5EcvKyi7145ONauF00mZlbbPc3Lzy3hxUYpS18jvmSC6cY+Hhcw1hoawhLJS10tExK07vhgof6tWNft26dTHLgt+bNGlSaP26deu6sB/vMfHWL4mcHApgSemk5bghDJQ1ILE4x8LHMUdYKGsIC2UtMSr8oIauXbva4sWLLTc3N+aSdb///e+tQYMGhdZPSUmxzp072yeffBKzXDPrd+nSJZRtBgAAAAAgDBU+1OuydVu2bLGRI0faihUrbNasWTZt2jS79NJL89fZvHmzbdiwIf93Xdd+9uzZ9tRTT7lr099333329ddf2wUXXFBOewEAAAAAQBKGerXGT5482b7//nvr16+fPfroo3bDDTe4/wfuuusu69+/f/7vPXv2tDFjxthzzz3n1lPL/oQJE9w17gEAAAAAqCxSIpFIpLw3wpfxHxs2bC3vzfCGLv+nqwVs3LiVcTNIKMpa+R3zm59YZCszt5T35iDBWjSrbWMu68I5FiI+1xAWyhrCQlkrnfr1axVrorwK31IPAAAAAADiI9QDAAAAAOApQj0AAAAAAJ4i1AMAAAAA4ClCPQAAAAAAniLUAwAAAADgKUI9AAAAAACeItQDAAAAAOApQj0AAAAAAJ4i1AMAAAAA4ClCPQAAAAAAniLUAwAAAADgKUI9AAAAAACeItQDAAAAAOApQj0AAAAAAJ4i1AMAAAAA4ClCPQAAAAAAniLUAwAAAADgKUI9AAAAAACeItQDAAAAAOApQj0AAAAAAJ4i1AMAAAAA4ClCPQAAAAAAniLUAwAAAADgKUI9AAAAAACeItQDAAAAAOApQj0AAAAAAJ4i1AMAAAAA4Kl0q+AWLFhg559/ftz79ttvP3v77bcLLV+8eLGdc845hZY/88wz1r1794RsJwAAAAAAYavwof6www6zDz74IGbZZ599ZldddZVdfvnlcR+zdOlSa968uc2YMSNm+T777JPQbQUAAAAAIEwVPtRXrVrVGjVqlP97dna23X333davXz8788wz4z5m2bJl1qpVq5jHAQAAAABQ2Xg3pn7ChAm2bds2GzFiRJHrqKW+ZcuWoW4XAAAAAABhq/At9dE2bNhg06ZNs+HDh1vdunWLXG/58uVWr149O+OMM2zt2rXWunVrGzZsmHXo0GGvXj893bs6kHKTlpYa8xNIFMpa+DjWyYn3PTx8riEslDWEhbKWWF6Feo2Rr1Onjp199tlFrpOZmWmbN2923fRHjRplaWlpNn36dBs4cKDNmjXLdcsvjdTUFKtXr9ZebH1yysioUd6bgCRBWQMSi3MsfBxzhIWyhrBQ1hLDq1D/8ssvW9++fa169epFrtOsWTNbuHCh1ahRw6pUqeKWtW/f3r766it79tln7fbbby/Va+flRSwrK7vU255sVAunkzYra5vl5uaV9+agEqOsld8xR3LhHAsPn2sIC2UNYaGslY6OWXF6N3gT6r/55htbvXq1nXbaaXtcNyMjI+b31NRUN8ZeXfH3Rk4OBbCkdNJy3BAGyhqQWJxj4eOYIyyUNYSFspYY3gxqWLRokTVo0MDatm272/XmzZvnLoOnCoBATk6OqxQobdd7AAAAAAAqIm9CvbrPt2nTJu5969evt61bt7r/d+7c2U2Sp9nxv/zySzcTvv6/adMmu/DCC0PeagAAAAAAEsebUK/gXtSM9z179rSpU6e6/9euXdvNkN+wYUO7+OKL3aR6CvSaLE/LAAAAAACoLLwZU//kk08WeZ9a46M1b97cxo8fH8JWAQAAAABQfrxpqQcAAAAAALEI9QAAAAAAeIpQDwAAAACApwj1AAAAAAB4ilAPAAAAAICnCPUAAAAAAHiKUA8AAAAAgKcI9QAAAAAAeIpQDwAAAACApwj1AAAAAAB4ilAPAAAAAICnCPUAAAAAAHiKUA8AAAAAgKcI9QAAAAAAeIpQDwAAAACApwj1AAAAAAB4ilAPAAAAAICnCPUAAAAAAHiKUA8AAAAAgKcI9QAAAAAAeIpQDwAAAACApwj1AAAAAAB4ilAPAAAAAICnCPUAAAAAAHiKUA8AAAAAgKcI9QAAAAAAeIpQDwAAAACApwj1AAAAAAB4yotQv3btWmvTpk2h26xZs+Kuv3HjRhs+fLh17drVunXrZrfffrtt27Yt9O0GAAAAACCR0s0D33zzjVWrVs3mzp1rKSkp+cvr1KkTd/2rr77ahfhp06ZZVlaWjRw50rKzs+3ee+8NcasBAAAAAEgsL0L9smXLrEWLFta4ceM9rrtkyRL75JNPbM6cOdayZUu37I477rBLLrnErr32WmvSpEkIWwwAAAAAQOJ50f1+6dKl+QF9TxYtWmSNGjWKWV9d8NXCv3jx4gRuJQAAAAAA4Ur1paV+w4YNdu6559qRRx5pAwYMsHnz5hU5/r5Zs2Yxy6pWrWp169a1zMzMkLYYAAAAAIDEq/Dd73Nycuy7776zVq1a2Y033mi1a9e22bNn2+DBg+2pp56yHj16xKyvsfQK8QVpTP6OHTv2alvS072oA6kQ0tJSY34CiUJZCx/HOjnxvoeHzzWEhbKGsFDWkjzUp6en24IFCywtLc2qV6/ulh166KG2fPlymzJlSqFQr3V27txZ6HkU6GvWrFnq7UhNTbF69WqV+vHJKiOjRnlvApIEZQ1ILM6x8HHMERbKGsJCWUvSUC+1ahUO0wcddJB98MEHhZY3bdrUzZIfTSF/06ZNxZporyh5eRHLysou9eOTjWrhdNJmZW2z3Ny88t4cVGKUtfI75kgunGPh4XMNYaGsISyUtdLRMStO74YKH+rVIn/22WfbE088Yd27d89f/uWXX7ou+QXp2vRjx461VatW2QEHHOCWaTZ8Ofzww/dqW3JyKIAlpZOW44YwUNaAxOIcCx/HHGGhrCEslLXEqPCDGjSL/YEHHuguS6eZ7b/99lu7++677bPPPrPLLrvMcnNzbf369bZ9+3a3fseOHa1z5842bNgw++KLL2z+/Pl26623Wt++fbmcHQAAAACgUqnwoT41NdUmTJhgHTp0sKFDh1q/fv3s888/d5PktW7d2s1o37NnT3ddetGl6x599FHbb7/97IILLnCP6d27t912223lvSsAAAAAAJSpCt/9Xho2bOha5+NReNd17KM1aNDAxo8fH9LWAQAAAABQPip8Sz0AAAAAAIiPUA8AAAAAgKcI9QAAAAAAeIpQDwAAAACApwj1AAAAAAB4ilAPAAAAAICnCPUAAAAAAHiKUA8AAAAAgKcI9QAAAAAAeIpQDwAAAACApwj1AAAAAAB4ilAPAAAAAICnCPUAAAAAAHiKUA8AAAAAgKcI9QAAAAAAeIpQDwAAAACApwj1AAAAAAB4ilAPAAAAAICnCPUAAAAAAHiKUA8AAAAAgKcI9QAAAAAAeIpQDwAAAACApwj1AAAAAAB4ilAPAAAAAICnCPUAAAAAAHiKUA8AAAAAgKcI9QAAAAAAeIpQDwAAAACAp9L39gnee+89e+ONN+yXX36xBg0aWJ8+fez444+3srRp0yZ78MEH7d1337UtW7ZYmzZtbPjw4dalS5e46z/xxBM2bty4QsuXLl1aptsFAAAAAIC3LfXTpk2zkSNHWrVq1ezggw+2lJQUu+mmm+IG6r1x7bXX2pIlS1ywnzlzpnutiy++2L777ru46yu8/+lPf7IPPvgg5gYAAAAAQFK21G/dutVq1aoVs0wBe9KkSdauXbv8Zcccc4zdeuutNnTo0DLZwFWrVtmHH35oM2bMsMMPP9wtu+WWW+z999+31157za655ppCj1m2bJmdddZZ1qhRozLZBgAAAAAoC6mpKe6WTNLSUmN+JpO8vIi7VYhQ/4c//MGGDBliAwYMsCpVqrhlCs3qet+sWTPbZ599bP369TZ37lxr0qRJmW1gvXr1XMVB+/bt85epR4BuWVlZhdbfuXOnrVy50g488MAy2wYAAAAA2FsK83Xr1kzKcCsZGTUs2eTm5tmmTdkJDfbFDvVTpkyxsWPHui73ah1X9/bbbrvNtchPnDjRhWxp1aqV3X///WW2gRkZGXb00UfHLFNFglrwb7755kLrr1ixwnJzc906d911l+3YscO6du1q119/vTVu3LjMtgsAAAAAShrqFegfe+kr+2l9dnlvDhJs30Y17Yr+7dz7XiFCvcaxK9h/9NFHLtzr/5qsbtasWbZ69WrbsGGD1a9f3/bff39LpE8//dSN2z/hhBNcV/94Xe+lRo0a9vDDD9uvv/7qxuKff/759vLLL1v16tVL/drp6clZo1YaydzFBuGirIWPY52ceN/Dw+cawkJZC19wrBXoV2ZuKe/NQUgSfY6VePb7I4880gX5V1991e644w773e9+Z9ddd5117NjREk1d+/VanTt3dhUL8fTt29d69+7tKhgCBx10kFv2zjvv2Mknn1yq11btSr16sXMKYM+SsYsNygdlDUgszrHwccwRFsoa4Pc5VuJQv23bNte9/fTTT7c//vGPNn36dLv00kvd5eU0S32ixrLrddSd/qSTTrJ7773XqlatWuS60YFe1O2+bt26tmbNmlK/vrpLZGXRRaYktVEqvFlZKi955b05qMQoa+V3zJFcOMfCw+cawkJZCx9/Q5NTVinPMZWV4rTyFzvUawz7iBEj7PPPP3e/t27d2oXrQYMGWf/+/d24ev085ZRT7MorryzTyfI08/3o0aPtvPPOc5fQC8bvx/PQQw/Zv/71L3cL1vvxxx9t48aNbrz/3sjJ4cOupFR4OW4IA2UNSCzOsfBxzBEWyhrg9zlW7M79o0aNcjPRB13v1Q0/uGxdnTp1XLf4OXPmWE5OjmtNLyvff/+9jRkzxs2+rx4Bv/zyi5tlX7fNmze72e71f/0UrffTTz+5Sfz02IULF9pVV13luuz36tWrzLYLAAAAAIDyVuyW+v/+97/22GOPuQnz5PLLL3cz4W/fvj1/8rmmTZva3Xff7Vrvy4pmsd+1a5e99dZb7hatX79+7qZJ8J555hnr3r27HXroofbkk0+6SfLOOOMM102/T58+rpfB7lr4AQBAxcP1nJNLGNdzBoCkDfWaCE9BeevWrS4oq7VeXfDjzSav5WVlyJAh7rY7S5cujfm9R48e7gYAAPzF9ZyTb9xtGNdzBoCkDfUaP3/nnXe6a8OrxbtTp072yCOPJHbrAABA0uJ6zsklrOs5A0DShnrNID9+/PjEbg0AAEABXM8ZAICiJWd/NgAAAAAAKgFCPQAAAAAAniLUAwAAAADgKUI9AAAAAACeItQDAAAAAOApQj0AAAAAAJ4i1AMAAAAA4ClCPQAAAAAAniLUAwAAAADgKUI9AAAAAACeItQDAAAAAOApQj0AAAAAAJ4i1AMAAAAA4ClCPQAAAAAAniLUAwAAAADgKUI9AAAAAACeItQDAAAAAOApQj0AAAAAAJ4i1AMAAAAA4ClCPQAAAAAAniLUAwAAAADgqfTy3oBkkJqa4m7JJC0tNeZnMsnLi7gbAAAAACQaoT7BFObr1q2ZlOFWMjJqWLLJzc2zTZuyCfYAAHiERpjkQiMMKhNCfYLpj4M+KB976Sv7aX12eW8OEmzfRjXtiv7t3PvOHwoAAPxAIwyNMIDPCPUhUaBfmbmlvDcDAAAABdAIk1xohEFlQ6gHAAAAaIQB4Ckv+hjl5eXZ+PHjrVevXtapUyf761//aqtXry5y/Y0bN9rw4cOta9eu1q1bN7v99ttt27ZtoW4zAAAAAACJ5kWof/zxx23GjBk2evRoe/75513Iv+SSS2znzp1x17/66qtt1apVNm3aNHv44Yftvffes9tuuy307QYAAAAAIKlDvYL71KlTXVA/5phjrG3btvbQQw/ZmjVr7M033yy0/pIlS+yTTz6xe++91w455BDr0aOH3XHHHfbKK6/Y2rVry2UfAAAAAABIylD/zTff2NatW104D2RkZFi7du1s4cKFhdZftGiRNWrUyFq2bJm/TF3wU1JSbPHixaFtNwAAAAAAluyhXi3y0qxZs5jljRs3zr8vmlrjC65btWpVq1u3rmVmZiZ4awEAAAAACE+Fn/0+mOBOwTxatWrV7Lfffou7fsF1g/V37NixV9uSnl7yOpDgeqe6dAYqv+B9Lq/r3KpHii7PkkyC/a1SJS3pri+sy/BEIuFfiofPteRSnp9rlLXkQllDWChrqGxlrcKH+urVq+ePrQ/+LwroNWrUiLt+vAn0tH7NmjX3KjjUq1er1F+8dS1MJAe93xkZNcrttZMt1Adq1/7/nw/Jojzfbz7Xkkt5f65R1pIHZQ1hoayhMpW1Ch/qg67069ats+bNm+cv1+9t2rQptH7Tpk1t7ty5McsU8jdt2uS67O/Nm5GVlV2qxyZr66lC1pYt292xSybl2XqqD4zHXvrKXWcXlb/mV18IsrK2WW5uXuivz+can2thoaxR1sJCWaOshYWyRlkrLn23L04rf4UP9Zrtvnbt2rZgwYL8UJ+VlWVfffWVDRw4sND6ujb92LFj3SXtDjjgALdMs+HL4YcfvlfbkpMT/hdnXwVDFXbtyuW4hUyBfmXmlvLeDIREgZ5zLBx8riEslDWEhbKGsFDWEqvCh3qNj1d4V1CvX7++7bvvvnb//fe7FvkTTjjBcnNzbcOGDVanTh3X9b5jx47WuXNnGzZsmLs2fXZ2tt16663Wt29fa9KkSXnvDgAAAAAAZcaLWaV0jfr+/fvbqFGjbMCAAZaWlmZTpkyxKlWquBnte/bsaXPmzMnvzvLoo4/afvvtZxdccIENHTrUevfu7QI+AAAAAACVSYVvqReF+Ouvv97dClJ4X7p0acyyBg0a2Pjx40PcQgAAAAAAwudFSz0AAAAAACiMUA8AAAAAgKcI9QAAAAAAeIpQDwAAAACApwj1AAAAAAB4ilAPAAAAAICnCPUAAAAAAHiKUA8AAAAAgKcI9QAAAAAAeIpQDwAAAACApwj1AAAAAAB4ilAPAAAAAICnCPUAAAAAAHiKUA8AAAAAgKcI9QAAAAAAeIpQDwAAAACApwj1AAAAAAB4ilAPAAAAAICnCPUAAAAAAHiKUA8AAAAAgKcI9QAAAAAAeIpQDwAAAACApwj1AAAAAAB4ilAPAAAAAICnCPUAAAAAAHiKUA8AAAAAgKcI9QAAAAAAeIpQDwAAAACAp9LNA5mZmXb//ffbggULbOfOndahQwe78cYb7aCDDiryMaNGjbIXX3wxZtm+++5r77zzTghbDAAAAABA4lX4UK8QP3jwYKtbt65NmDDBqlevbo888ohdcMEF9vrrr1v9+vXjPm7p0qU2ZMgQGzhwYP6ytLS0ELccAAAAAIAk736/aNEiW7ZsmY0dO9bat2/vWufVap+dnV1kq3skErEVK1bYoYceao0aNcq/FVUBAAAAAACAjyp8qFeInzRpkjVp0iR/WWrq/zY7Kysr7mN++OEHF/oPPPDA0LYTAAAAAICwVfju92phP/roo2OWPfvss7Z9+3Y76qij4j5GLfvBevPmzXOVAL1797Zhw4ZZnTp1QtluAAAAAAAqfaj/8ccfrU+fPkXe//HHH8d0m3/rrbfsgQcesAsvvNDatGlTZKhXkG/cuLEbh6+W+/vuu8+WL19uTz/9dH5Lf0mlp1f4jg0VRlpaasxPJB7HOjnxvoeHzzWEhbKGsFDWEBbKWmKlRDQAvRzt2rXLhe6itGjRIn+Cu+eee85Gjx5tp59+uo0ZM6bIcJ6Xl2e//fab1atXL3/Z559/bmeddZa98MIL1rFjxxJvpw5TSkpKiR8HhO3mJxbZyswt5b0ZSLAWzWrbmMu6lPdmAAAAINlb6qtUqWItW7bc43qaHG/y5Mk2aNAgGzFixG4DtsJ+dKCX4PJ3a9asKVWoz8uLWFZWdokfl6xUC5eRUcOysrZZbm5eeW9OUh1zJBfOsfDwuYawUNYQFsoawkJZKx0ds+L0bij3UF8cQaBXmL/ooov2uP4NN9xg69ats2nTpuUv+89//uN+tmrVqtTbkZNDASwpnbQcNyBxOMfCxzFHWChrCAtlDWGhrCVGhR/UsGDBAhfozzvvPDvttNNs/fr1+betW7e6dTRpnn7Pzc11v5944oluLP6jjz7quva/9957dvPNN9upp55arF4BAAAAAAD4oMKH+tdffz1/JvuePXvG3KZOnerumzNnjvs9MzPT/a6J98aNG2dvv/22qwgYOXKknXDCCW4cPgAAAAAAlUW5T5TnU1eRDRv+1zMAxbtSQL16tWzjxq10sQn5mDNRXnJNlMc5Fh4+1xAWyhrCQllDWChrpVO/fq1ijamv8C31AAAAAAAgPkI9AAAAAACeItQDAAAAAOApQj0AAAAAAJ4i1AMAAAAA4ClCPQAAAAAAniLUAwAAAADgKUI9AAAAAACeItQDAAAAAOApQj0AAAAAAJ4i1AMAAAAA4ClCPQAAAAAAniLUAwAAAADgKUI9AAAAAACeItQDAAAAAOApQj0AAAAAAJ4i1AMAAAAA4ClCPQAAAAAAniLUAwAAAADgKUI9AAAAAACeItQDAAAAAOApQj0AAAAAAJ4i1AMAAAAA4ClCPQAAAAAAniLUAwAAAADgKUI9AAAAAACeItQDAAAAAOApQj0AAAAAAJ4i1AMAAAAA4KkKH+oXL15sbdq0KXRbsGBBkY/58ccf7dJLL7XOnTtbz549bdy4cZabmxvqdgMAAAAAkGjpVsEtXbrUmjdvbjNmzIhZvs8++8Rdf9euXXbxxRdbixYt7Pnnn7cffvjBRo4caampqXb11VeHtNUAAAAAACRehQ/1y5Yts1atWlmjRo2Ktf4bb7xhP//8s73wwgsu+Ldu3dp+/fVXu++++2zIkCFWtWrVhG8zAAAAAABhSPWhpb5ly5bFXn/RokV2yCGHxLTkH3HEEbZlyxb7+uuvE7SVAAAAAACEr8K31C9fvtzq1atnZ5xxhq1du9a1vA8bNsw6dOgQd/01a9ZY06ZNY5Y1btzY/czMzLSOHTuWelvS0yt8HUiFkZaWGvMTicexTk687+Hhcw1hoawhLJQ1hIWyVolDvSa069OnT5H3v/vuu7Z582bLzs62UaNGWVpamk2fPt0GDhxos2bNct3yC9q+fbtlZGTELKtWrZr7uWPHjlJva2pqitWrV6vUj09WGRk1ynsTgEqNcyx8HHOEhbKGsFDWEBbKWiUM9U2aNLE5c+YUeb9a2BcuXGg1atSwKlWquGXt27e3r776yp599lm7/fbbCz2mevXqtnPnzphlQZivWbNmqbc1Ly9iWVnZpX58slEtnE7arKxtlpubV96bk1THHMmFcyw8fK4hLJQ1hIWyhrBQ1kpHx6w4vRvKNdQrqO9pvHzBVnfNYq/HqCt+POp6r8n1oq1bty6/EmFv5ORQAEtKJy3HDUgczrHwccwRFsoawkJZQ1goa4lRoQc1zJs3zw477DBbvXp1/rKcnBz75ptv4na9l65du7qWfE2MF5g/f77VqlXL2rZtG8p2AwAAAABgyR7qO3fu7CbJGzFihH355ZduJnz9f9OmTXbhhRe6ddTVfv369fld7o8//nh3+buhQ4e68D937lx78MEH7aKLLuJydgAAAACASqVCh/ratWvbtGnTrGHDhnbxxRfb2Wef7QK9JsvTMlmyZIn17NnT/QwmxZs8ebLl5eXZWWed5cbdn3POOXb55ZeX894AAAAAAJBkl7Rr3ry5jR8/vsj7u3fv7lrwox1wwAE2derUELYOAAAAAIDyU6Fb6gEAAAAAQNEI9QAAAAAAeIpQDwAAAACApwj1AAAAAAB4ilAPAAAAAICnCPUAAAAAAHiKUA8AAAAAgKcI9QAAAAAAeIpQDwAAAACApwj1AAAAAAB4Kr28NwBA2dq3Uc3y3gSEgPcZAAAAQqgHKom8vIjl5ubZFf3blfemICR6v/W+AwAAIHkR6oFKQuFu06ZsS01NsWSSlpZqGRk1LCtrmwu5yfaeE+oBAACSG6EeqESSOeQp0OfkJFeoBwAAAJgoDwAAAAAATxHqAQAAAADwFKEeAAAAAABPEeoBAAAAAPAUoR4AAAAAAE8R6gEAAAAA8BShHgAAAAAATxHqAQAAAADwFKEeAAAAAABPEeoBAAAAAPBUSiQSiZT3RvhAhykvj0NVEmlpqZabm1fem4EkQFlDWChrCAtlDWGhrCEslLWSS01NsZSUlD2uR6gHAAAAAMBTdL8HAAAAAMBThHoAAAAAADxFqAcAAAAAwFOEegAAAAAAPEWoBwAAAADAU4R6AAAAAAA8RagHAAAAAMBThHoAAAAAADxFqAcAAAAAwFOEegAAAAAAPEWoBwAAAADAU4R6AAAAAAA8RagHAAAAAMBThHrs1qZNm+zWW2+13r17W+fOnW3AgAG2aNGi/Ps//vhjO+OMM6xjx4520kkn2ezZs4t8Lj3PjTfeWGj5K6+8Yqeddpp16tTJ/vznP9uHH36YsP1B5S1rmZmZdu2119pRRx1lXbt2tYsvvtiWL18es84///lPO/nkk61Dhw7Wt29f95xIPmGUtcDixYvt4IMPTvg+ITnLWl5enk2ePNlOPPFE9zf0lFNOsRdffDHUfURylLXc3FwbP368HXvsse5vqJ7r3XffDXUfkXx/Q3fu3OkyQrz8gAIiwG4MGjQocuqpp0YWLlwY+e677yK33357pEOHDpFvv/02smLFikj79u0jDz74oPv/5MmTI+3atYt89NFHMc+Rm5sbeeCBByKtW7eOjBgxIua+1157LdKmTZvI448/7p5/+vTp7jnnz58f8p7C57K2Y8cO99iBAwdGvvjii8iyZcsiV111VaRHjx6RX3/91a3z8ccfRw455JDI008/7Z7jnnvuiRx66KHu/0guiS5rgUWLFkW6devmPvuQnBJd1vS3s0uXLpHZs2dHVq1aFXn++efdc/zjH/8o5z1HZStr+h53xBFHRP79739HfvjhB1f2Dj744Mh//vOfct5zVNa/oTJ69Oi4+QGFEepRpJUrV7oTSV9MA3l5eZHjjz8+Mm7cuMgtt9wS6d+/f8xjrr322shFF12U/7tO6LPPPtv9ITjmmGMKnZSnn356ZOjQoTHLRo4c6U52JI+9LWsffvihe/yaNWvy79++fXukY8eOkRdffNH9rnWvueaamOdQ2dRzI3mEUdZ27doVGTNmjKtE6tevH6E+SYVR1nr16uXCVbSbbropcs455yR475BsZU0V4WqIiaYKpSeffDLBe4dkK2uBefPmRY488sjIKaecQqgvBrrfo0j16tWzSZMmWfv27fOXpaSkuFtWVpbratOjR4+YxxxxxBGuu6kqjGT+/PnWsmVLe/31122//fYr9BqrVq2yLl26xCxTV9UlS5ZYTk5OwvYNlausHXTQQe7xTZo0yb8/NfV/H296vLqofvrpp4Weo3v37rZw4cKE7x+Sp6xJdna2K1fqFj1w4MDQ9g3J97l27733Wr9+/WKeQ+sEZRHJIYzPtREjRtipp57q/r99+3Z79tlnbdu2be7vKJJHGGVNNmzYYDfddJONHj3avSb2jFCPImVkZNjRRx9tVatWzV/2xhtvuCDeq1cvW7NmjTVt2jTmMY0bN3Yf8hs3bnS/n3vuuXbXXXdZgwYN4r6G1v/5559jlv3000+2a9cuvpQkkb0ta40aNXKPj6YvHPrioTFbKksKWvGeQ8+N5JHosha8xqxZs9wXGSSvRJc1fRHWl+fo59DfU41f7dmzZwh7iGT6XAu8+uqrbv6GO++804YMGRIT7lD5hVXWRo4c6eZvOO6440LYq8qBUI9iU0unas1OOOEEO+aYY9wJGH1SS/C7JrYojtNPP91mzJhh77//vpuERS37M2fOdPcp2CM57W1Ze+utt+yBBx6wCy+80Nq0aeMeH/2YQLVq1WzHjh0J3RckV1kDyqus/fLLL/bXv/7VVaJfdtllCdwTJHNZ08RmL7/8st1www32xBNPuO9wSF6JKGvPP/+8ffvtt+55UXyEehTL3Llz7aKLLnK1s2PHjs0PRAVP0OD3GjVqFOt5Bw8e7GbI1BeQQw891LXq60uJ1KlTp8z3A5W/rD333HN2zTXXuNlS9aUjeHz0YwIK9MUtq6h8ElHWgPIoa99995395S9/cT2SnnrqKdeahuSU6LLWrFkza9u2rZux/Mwzz7QpU6YkdH+QXGVNn2X333+/3XfffVazZs3Q9qUyINRjj6ZPn25XXXWV6wYzYcKE/ICkD/Z169bFrKvfdRIWN5Cr9u6WW25xNX3vvfeevfbaa+6kb9iwISdzEtrbsqY/BLfddpudf/75dvfdd+eP06pbt65bN95zRI/rQvJIVFkDwi5rGquqQK+/nWrh2n///UPaMyRLWdMcRwpwBYdLqmV17dq1oewbkqOszZkzx7Zu3WqDBg2yww47zN00Tl/5QP9H0dJ3cx/gulVpkorzzjvPjW/RRBgBTXD3ySefxKyv7vO6ZmVxv+A+9NBDVr16dddSrzE38uabbxYaw4XKb2/Lmv5AaGIyTeajmuNoei6tq+f485//nL98wYIFhSZqROWXyLIGhFnWvvjiC7vkkkusXbt2ris0LfTJK5FlLS0tzTXA9O/f34YPH56//PPPP7dWrVolfN+QPGVNk8uq5T7adddd58bp6yd2ozhT5CM56dqTuiTTFVdcEVm3bl3MLSsry11bUvfff//97tJ1U6ZMiXud+oAuU1fwkhS6fEWnTp0i77zzjrvu6Z133ul+17UukTz2tqzNnz/fXSJF1zMt+PgtW7a4dd5//313Td2pU6e657j33nvddVW5Tn1yCaOsRZs5cyaXtEtSiS5runTiH/7wh0ifPn3c38/o++Nd7xmVVxifa5MmTXJ/M1999dXI999/H5k4caL7mzp37txy3ntU5r+hReUHFJaif3YX+pG81J1GLenx6BI699xzj82bN8/VuK1cudJdsk5dcU4++eS4j1GN3r777useF23ixIluXM1vv/3mxtVff/311qFDh4TsEypnWVMLwgsvvBD38VdeeaVbVzS5z+OPP+5mZ1XrgspawUuvoHILq6wFNAu+JvtZunRpAvYGyVzW1KNtwIABce/X39p33nmnDPcGyf65pksoPvPMM66VNjMz0w488EC3/Pjjj0/oviG5/4buLj8gFqEeAAAAAABPMbMPAAAAAACeItQDAAAAAOApQj0AAAAAAJ4i1AMAAAAA4ClCPQAAAAAAniLUAwAAAADgKUI9AAAAAACeItQDAIAydd5557nb3lqwYIG1adPG/QQAAPGlF7EcAACgVP72t7+V9yYAAJA0CPUAAKBMtWrVqrw3AQCApEH3ewAAktBxxx1nDz30kI0ZM8a6du1q3bt3txtuuME2bdqUv86iRYts4MCB1rFjR+vWrZuNGDHCNmzYkH//rFmzrF27dvbiiy/aUUcd5dZZsWJFoe73O3bssMcee8xOOukka9++vZ1wwgk2adIky8vLi9mm559/3k488UTr0KGDe92ff/650HavXLnSrr76avd6nTp1cq+zePHihB0nAAAqOlrqAQBIUjNmzLADDjjA7r77bhfWH3jgAVu1apUL1wr0gwYNsiOOOMLGjRtnv/32mz388MN2/vnn20svvWTVq1d3z5Gbm2tTp061u+66yzZu3GgtW7aMeY1IJGJDhgyxzz77zK688kpr27atGyOv51y9erWNHj3arTd9+nT3/wsuuMB69+5tH3/8sd1yyy0xz6UKg7POOstatGhho0aNsipVqtgzzzzjHqNtUKUCAADJhlAPAECSSk1Ntaeeesrq1Knjfq9fv75dccUV9v7779vjjz9uv//9723ixImWlpbm7leL/SmnnGIzZ860c889N/95FNqPOeaYuK8xb948++ijj+zBBx90jxW1sqtSIKgkUHd9vd7JJ59sN998s1unZ8+etmXLFlfBEHj00UetatWqLsjXrl3bLdPrnnrqqXbfffe5ygYAAJIN3e8BAEjiLvhBoA9+T09Ptw8++MA+//xzO/roo11Le05Ojrvtv//+riX+ww8/jHmegw8+uMjX+OSTT9xzqut9tNNPPz3//u+++85+/fVXO/bYY2PW+eMf/1joubROEOhFz63Kgi+//NK2bt1ayiMBAIC/aKkHACBJNWnSpFDLfb169Sw7O9uNd3/yySfdraBq1arF/F6zZs0iX0Pd9vWcQWt/oFGjRu7n5s2b3Tqi9eKtE/1cDRs2LPQaWqbKB7Xs16pVazd7DABA5UOoBwAgSWkMfDSNj9cyhfSUlBS78MIL87vMR6tRo0axX2OfffZxz6nnjg7269atyw/yQZhXa3206En7guf65ZdfCr3G+vXr858LAIBkQ/d7AACSlMa779y5M//3t99+23Wz79Onj5vVXt3iNVt9cDvooIPskUcecRPdFZcmr9Nz/utf/4pZ/uqrr7qfhx9+uJv4rlmzZoXW+fe//x3zu2bp1zK1yAdUWTB79my3fRpvDwBAsqGlHgCAJJWZmWmXXXaZm6xO/9dkdr169XKXt7v22mtt8ODBNnz4cDf+PZjlXmPtL7/88mK/hmay1/Nptvq1a9e62e81Nl7d+vv165d/TfvrrrvOvZbW0/h7zZb/3HPPxTyXZs9XRYS2V9um2e81a75m0Z88eXKZHx8AAHxAqAcAIEmpa31GRoYNHTrUdblXyB42bFj+7PNTpkxxM87ruvAK0IcccoibLV/Xhy8udePXDPrjx4+3adOmuUvn7bfffq7SQJfMC2gGe43p1yz4r7zyirVu3druuOMOt15APQV0GT5VPtx0003uuXVNe82G36VLlzI+OgAA+CElopllAABAUtFM9+oaf88995T3pgAAgL3AmHoAAAAAADxFqAcAAAAAwFN0vwcAAAAAwFO01AMAAAAA4ClCPQAAAAAAniLUAwAAAADgKUI9AAAAAACeItQDAAAAAOApQj0AAAAAAJ4i1AMAAAAA4ClCPQAAAAAAniLUAwAAAABgfvp/C99nVn3RnW8AAAAASUVORK5CYII=",
      "text/plain": [
       "<Figure size 1200x400 with 1 Axes>"
      ]
     },
     "metadata": {},
     "output_type": "display_data"
    }
   ],
   "source": [
    "# Solución de pregunta 4\n",
    "## Lo mismo que la anterior, solo que con dataframe anual:\n",
    "\n",
    "# Columna de Variacion\n",
    "df2['variacion'] = df2['total imacec'].pct_change() * 100\n",
    "df2\n",
    "\n",
    "# FIGURA\n",
    "plt.figure(figsize=(12,4))\n",
    "\n",
    "# Gráfico\n",
    "sns.barplot(data=df2[1:], # Me salto primer año\n",
    "             x='periodo',\n",
    "             y='variacion')\n",
    "\n",
    "# Mostrar\n",
    "plt.title('Variación anual de IMACEC entre 2019 y 2025')\n",
    "plt.ylabel('%')\n",
    "plt.grid(True)\n",
    "plt.show()"
   ]
  },
  {
   "cell_type": "markdown",
   "id": "56a1ba6c",
>>>>>>> ay6
   "metadata": {},
   "source": [
    "##### 5. Grafique un radar plot que compare el IMACEC promedio de 2023 y 2024, donde cada eje del radar represente una variable del IMACEC (comercio, servicios, minería, total, IMACEC no minero)."
   ]
  },
  {
   "cell_type": "code",
<<<<<<< HEAD
   "execution_count": null,
   "id": "df9b6c99",
=======
   "execution_count": 12,
   "id": "72050932",
>>>>>>> ay6
   "metadata": {},
   "outputs": [],
   "source": [
    "# Tu código aquí"
   ]
  },
  {
   "cell_type": "markdown",
<<<<<<< HEAD
   "id": "817ad1b2",
=======
   "id": "b82ec438",
   "metadata": {},
   "source": [
    "###### Solución de la pregunta 5"
   ]
  },
  {
   "cell_type": "code",
   "execution_count": 24,
   "id": "03072183",
   "metadata": {},
   "outputs": [
    {
     "data": {
      "text/html": [
       "<div>\n",
       "<style scoped>\n",
       "    .dataframe tbody tr th:only-of-type {\n",
       "        vertical-align: middle;\n",
       "    }\n",
       "\n",
       "    .dataframe tbody tr th {\n",
       "        vertical-align: top;\n",
       "    }\n",
       "\n",
       "    .dataframe thead th {\n",
       "        text-align: right;\n",
       "    }\n",
       "</style>\n",
       "<table border=\"1\" class=\"dataframe\">\n",
       "  <thead>\n",
       "    <tr style=\"text-align: right;\">\n",
       "      <th></th>\n",
       "      <th>año</th>\n",
       "      <th>industria</th>\n",
       "      <th>imacec</th>\n",
       "    </tr>\n",
       "  </thead>\n",
       "  <tbody>\n",
       "    <tr>\n",
       "      <th>0</th>\n",
       "      <td>2023</td>\n",
       "      <td>mineria</td>\n",
       "      <td>85.957649</td>\n",
       "    </tr>\n",
       "    <tr>\n",
       "      <th>1</th>\n",
       "      <td>2024</td>\n",
       "      <td>mineria</td>\n",
       "      <td>90.396684</td>\n",
       "    </tr>\n",
       "    <tr>\n",
       "      <th>2</th>\n",
       "      <td>2023</td>\n",
       "      <td>industria</td>\n",
       "      <td>101.967863</td>\n",
       "    </tr>\n",
       "    <tr>\n",
       "      <th>3</th>\n",
       "      <td>2024</td>\n",
       "      <td>industria</td>\n",
       "      <td>104.770584</td>\n",
       "    </tr>\n",
       "    <tr>\n",
       "      <th>4</th>\n",
       "      <td>2023</td>\n",
       "      <td>resto de bienes</td>\n",
       "      <td>104.926930</td>\n",
       "    </tr>\n",
       "    <tr>\n",
       "      <th>5</th>\n",
       "      <td>2024</td>\n",
       "      <td>resto de bienes</td>\n",
       "      <td>108.324675</td>\n",
       "    </tr>\n",
       "    <tr>\n",
       "      <th>6</th>\n",
       "      <td>2023</td>\n",
       "      <td>comercio</td>\n",
       "      <td>112.281047</td>\n",
       "    </tr>\n",
       "    <tr>\n",
       "      <th>7</th>\n",
       "      <td>2024</td>\n",
       "      <td>comercio</td>\n",
       "      <td>118.043537</td>\n",
       "    </tr>\n",
       "    <tr>\n",
       "      <th>8</th>\n",
       "      <td>2023</td>\n",
       "      <td>servicios</td>\n",
       "      <td>116.116018</td>\n",
       "    </tr>\n",
       "    <tr>\n",
       "      <th>9</th>\n",
       "      <td>2024</td>\n",
       "      <td>servicios</td>\n",
       "      <td>118.408636</td>\n",
       "    </tr>\n",
       "    <tr>\n",
       "      <th>10</th>\n",
       "      <td>2023</td>\n",
       "      <td>total imacec</td>\n",
       "      <td>107.963738</td>\n",
       "    </tr>\n",
       "    <tr>\n",
       "      <th>11</th>\n",
       "      <td>2024</td>\n",
       "      <td>total imacec</td>\n",
       "      <td>110.818636</td>\n",
       "    </tr>\n",
       "    <tr>\n",
       "      <th>12</th>\n",
       "      <td>2023</td>\n",
       "      <td>imacec no minero</td>\n",
       "      <td>111.399958</td>\n",
       "    </tr>\n",
       "    <tr>\n",
       "      <th>13</th>\n",
       "      <td>2024</td>\n",
       "      <td>imacec no minero</td>\n",
       "      <td>114.017733</td>\n",
       "    </tr>\n",
       "  </tbody>\n",
       "</table>\n",
       "</div>"
      ],
      "text/plain": [
       "     año         industria      imacec\n",
       "0   2023           mineria   85.957649\n",
       "1   2024           mineria   90.396684\n",
       "2   2023         industria  101.967863\n",
       "3   2024         industria  104.770584\n",
       "4   2023   resto de bienes  104.926930\n",
       "5   2024   resto de bienes  108.324675\n",
       "6   2023          comercio  112.281047\n",
       "7   2024          comercio  118.043537\n",
       "8   2023         servicios  116.116018\n",
       "9   2024         servicios  118.408636\n",
       "10  2023      total imacec  107.963738\n",
       "11  2024      total imacec  110.818636\n",
       "12  2023  imacec no minero  111.399958\n",
       "13  2024  imacec no minero  114.017733"
      ]
     },
     "execution_count": 24,
     "metadata": {},
     "output_type": "execute_result"
    }
   ],
   "source": [
    "# Solución de pregunta 5\n",
    "import plotly.express as px\n",
    "\n",
    "# Columnas buscadas\n",
    "target = industrias + ['total imacec', 'imacec no minero']\n",
    "# Obteniendo nuevo dataframe de interés\n",
    "df5 = df.copy()\n",
    "# Obteniendo años\n",
    "df5['año'] = df5['periodo'].apply(lambda x: x.year)\n",
    "# Limpiando dataframe\n",
    "df5.drop(columns=['variacion', 'periodo'], inplace=True)\n",
    "# Promedio por año\n",
    "df5 = df5.groupby('año').mean().reset_index()\n",
    "# Filtros\n",
    "df5 = df5[df5['año'].isin([2023, 2024])] # Años\n",
    "df5 = df5[target+['año']] # targets\n",
    "# Tidy\n",
    "df5 = df5.melt(id_vars='año', var_name='industria', value_name='imacec')\n",
    "df5"
   ]
  },
  {
   "cell_type": "code",
   "execution_count": 28,
   "id": "091c7ade",
   "metadata": {},
   "outputs": [
    {
     "data": {
      "application/vnd.plotly.v1+json": {
       "config": {
        "plotlyServerURL": "https://plot.ly"
       },
       "data": [
        {
         "fill": "toself",
         "hovertemplate": "año=2023<br>imacec=%{r}<br>industria=%{theta}<extra></extra>",
         "legendgroup": "2023",
         "line": {
          "color": "#636efa",
          "dash": "solid"
         },
         "marker": {
          "symbol": "circle"
         },
         "mode": "lines",
         "name": "2023",
         "r": {
          "bdata": "Zdy5IEp9VUANBY158X1ZQAXmn9BSO1pA/OgTq/wRXEDHgqPWbAddQDD7pOKt/VpAqFyl55jZW0Bl3LkgSn1VQA==",
          "dtype": "f8"
         },
         "showlegend": true,
         "subplot": "polar",
         "theta": [
          "mineria",
          "industria",
          "resto de bienes",
          "comercio",
          "servicios",
          "total imacec",
          "imacec no minero",
          "mineria"
         ],
         "type": "scatterpolar"
        },
        {
         "fill": "toself",
         "hovertemplate": "año=2024<br>imacec=%{r}<br>industria=%{theta}<extra></extra>",
         "legendgroup": "2024",
         "line": {
          "color": "#EF553B",
          "dash": "solid"
         },
         "marker": {
          "symbol": "circle"
         },
         "mode": "lines",
         "name": "2024",
         "r": {
          "bdata": "6WNNRmOZVkCrXbtAUTFaQNepO3jHFFtAU0+5TcmCXUDxtdcWJ5pdQAB5DIdktFtA0aYEiiKBXEDpY01GY5lWQA==",
          "dtype": "f8"
         },
         "showlegend": true,
         "subplot": "polar",
         "theta": [
          "mineria",
          "industria",
          "resto de bienes",
          "comercio",
          "servicios",
          "total imacec",
          "imacec no minero",
          "mineria"
         ],
         "type": "scatterpolar"
        }
       ],
       "layout": {
        "legend": {
         "title": {
          "text": "año"
         },
         "tracegroupgap": 0
        },
        "polar": {
         "angularaxis": {
          "direction": "clockwise",
          "rotation": 90
         },
         "domain": {
          "x": [
           0,
           1
          ],
          "y": [
           0,
           1
          ]
         }
        },
        "template": {
         "data": {
          "bar": [
           {
            "error_x": {
             "color": "#2a3f5f"
            },
            "error_y": {
             "color": "#2a3f5f"
            },
            "marker": {
             "line": {
              "color": "#E5ECF6",
              "width": 0.5
             },
             "pattern": {
              "fillmode": "overlay",
              "size": 10,
              "solidity": 0.2
             }
            },
            "type": "bar"
           }
          ],
          "barpolar": [
           {
            "marker": {
             "line": {
              "color": "#E5ECF6",
              "width": 0.5
             },
             "pattern": {
              "fillmode": "overlay",
              "size": 10,
              "solidity": 0.2
             }
            },
            "type": "barpolar"
           }
          ],
          "carpet": [
           {
            "aaxis": {
             "endlinecolor": "#2a3f5f",
             "gridcolor": "white",
             "linecolor": "white",
             "minorgridcolor": "white",
             "startlinecolor": "#2a3f5f"
            },
            "baxis": {
             "endlinecolor": "#2a3f5f",
             "gridcolor": "white",
             "linecolor": "white",
             "minorgridcolor": "white",
             "startlinecolor": "#2a3f5f"
            },
            "type": "carpet"
           }
          ],
          "choropleth": [
           {
            "colorbar": {
             "outlinewidth": 0,
             "ticks": ""
            },
            "type": "choropleth"
           }
          ],
          "contour": [
           {
            "colorbar": {
             "outlinewidth": 0,
             "ticks": ""
            },
            "colorscale": [
             [
              0,
              "#0d0887"
             ],
             [
              0.1111111111111111,
              "#46039f"
             ],
             [
              0.2222222222222222,
              "#7201a8"
             ],
             [
              0.3333333333333333,
              "#9c179e"
             ],
             [
              0.4444444444444444,
              "#bd3786"
             ],
             [
              0.5555555555555556,
              "#d8576b"
             ],
             [
              0.6666666666666666,
              "#ed7953"
             ],
             [
              0.7777777777777778,
              "#fb9f3a"
             ],
             [
              0.8888888888888888,
              "#fdca26"
             ],
             [
              1,
              "#f0f921"
             ]
            ],
            "type": "contour"
           }
          ],
          "contourcarpet": [
           {
            "colorbar": {
             "outlinewidth": 0,
             "ticks": ""
            },
            "type": "contourcarpet"
           }
          ],
          "heatmap": [
           {
            "colorbar": {
             "outlinewidth": 0,
             "ticks": ""
            },
            "colorscale": [
             [
              0,
              "#0d0887"
             ],
             [
              0.1111111111111111,
              "#46039f"
             ],
             [
              0.2222222222222222,
              "#7201a8"
             ],
             [
              0.3333333333333333,
              "#9c179e"
             ],
             [
              0.4444444444444444,
              "#bd3786"
             ],
             [
              0.5555555555555556,
              "#d8576b"
             ],
             [
              0.6666666666666666,
              "#ed7953"
             ],
             [
              0.7777777777777778,
              "#fb9f3a"
             ],
             [
              0.8888888888888888,
              "#fdca26"
             ],
             [
              1,
              "#f0f921"
             ]
            ],
            "type": "heatmap"
           }
          ],
          "histogram": [
           {
            "marker": {
             "pattern": {
              "fillmode": "overlay",
              "size": 10,
              "solidity": 0.2
             }
            },
            "type": "histogram"
           }
          ],
          "histogram2d": [
           {
            "colorbar": {
             "outlinewidth": 0,
             "ticks": ""
            },
            "colorscale": [
             [
              0,
              "#0d0887"
             ],
             [
              0.1111111111111111,
              "#46039f"
             ],
             [
              0.2222222222222222,
              "#7201a8"
             ],
             [
              0.3333333333333333,
              "#9c179e"
             ],
             [
              0.4444444444444444,
              "#bd3786"
             ],
             [
              0.5555555555555556,
              "#d8576b"
             ],
             [
              0.6666666666666666,
              "#ed7953"
             ],
             [
              0.7777777777777778,
              "#fb9f3a"
             ],
             [
              0.8888888888888888,
              "#fdca26"
             ],
             [
              1,
              "#f0f921"
             ]
            ],
            "type": "histogram2d"
           }
          ],
          "histogram2dcontour": [
           {
            "colorbar": {
             "outlinewidth": 0,
             "ticks": ""
            },
            "colorscale": [
             [
              0,
              "#0d0887"
             ],
             [
              0.1111111111111111,
              "#46039f"
             ],
             [
              0.2222222222222222,
              "#7201a8"
             ],
             [
              0.3333333333333333,
              "#9c179e"
             ],
             [
              0.4444444444444444,
              "#bd3786"
             ],
             [
              0.5555555555555556,
              "#d8576b"
             ],
             [
              0.6666666666666666,
              "#ed7953"
             ],
             [
              0.7777777777777778,
              "#fb9f3a"
             ],
             [
              0.8888888888888888,
              "#fdca26"
             ],
             [
              1,
              "#f0f921"
             ]
            ],
            "type": "histogram2dcontour"
           }
          ],
          "mesh3d": [
           {
            "colorbar": {
             "outlinewidth": 0,
             "ticks": ""
            },
            "type": "mesh3d"
           }
          ],
          "parcoords": [
           {
            "line": {
             "colorbar": {
              "outlinewidth": 0,
              "ticks": ""
             }
            },
            "type": "parcoords"
           }
          ],
          "pie": [
           {
            "automargin": true,
            "type": "pie"
           }
          ],
          "scatter": [
           {
            "fillpattern": {
             "fillmode": "overlay",
             "size": 10,
             "solidity": 0.2
            },
            "type": "scatter"
           }
          ],
          "scatter3d": [
           {
            "line": {
             "colorbar": {
              "outlinewidth": 0,
              "ticks": ""
             }
            },
            "marker": {
             "colorbar": {
              "outlinewidth": 0,
              "ticks": ""
             }
            },
            "type": "scatter3d"
           }
          ],
          "scattercarpet": [
           {
            "marker": {
             "colorbar": {
              "outlinewidth": 0,
              "ticks": ""
             }
            },
            "type": "scattercarpet"
           }
          ],
          "scattergeo": [
           {
            "marker": {
             "colorbar": {
              "outlinewidth": 0,
              "ticks": ""
             }
            },
            "type": "scattergeo"
           }
          ],
          "scattergl": [
           {
            "marker": {
             "colorbar": {
              "outlinewidth": 0,
              "ticks": ""
             }
            },
            "type": "scattergl"
           }
          ],
          "scattermap": [
           {
            "marker": {
             "colorbar": {
              "outlinewidth": 0,
              "ticks": ""
             }
            },
            "type": "scattermap"
           }
          ],
          "scattermapbox": [
           {
            "marker": {
             "colorbar": {
              "outlinewidth": 0,
              "ticks": ""
             }
            },
            "type": "scattermapbox"
           }
          ],
          "scatterpolar": [
           {
            "marker": {
             "colorbar": {
              "outlinewidth": 0,
              "ticks": ""
             }
            },
            "type": "scatterpolar"
           }
          ],
          "scatterpolargl": [
           {
            "marker": {
             "colorbar": {
              "outlinewidth": 0,
              "ticks": ""
             }
            },
            "type": "scatterpolargl"
           }
          ],
          "scatterternary": [
           {
            "marker": {
             "colorbar": {
              "outlinewidth": 0,
              "ticks": ""
             }
            },
            "type": "scatterternary"
           }
          ],
          "surface": [
           {
            "colorbar": {
             "outlinewidth": 0,
             "ticks": ""
            },
            "colorscale": [
             [
              0,
              "#0d0887"
             ],
             [
              0.1111111111111111,
              "#46039f"
             ],
             [
              0.2222222222222222,
              "#7201a8"
             ],
             [
              0.3333333333333333,
              "#9c179e"
             ],
             [
              0.4444444444444444,
              "#bd3786"
             ],
             [
              0.5555555555555556,
              "#d8576b"
             ],
             [
              0.6666666666666666,
              "#ed7953"
             ],
             [
              0.7777777777777778,
              "#fb9f3a"
             ],
             [
              0.8888888888888888,
              "#fdca26"
             ],
             [
              1,
              "#f0f921"
             ]
            ],
            "type": "surface"
           }
          ],
          "table": [
           {
            "cells": {
             "fill": {
              "color": "#EBF0F8"
             },
             "line": {
              "color": "white"
             }
            },
            "header": {
             "fill": {
              "color": "#C8D4E3"
             },
             "line": {
              "color": "white"
             }
            },
            "type": "table"
           }
          ]
         },
         "layout": {
          "annotationdefaults": {
           "arrowcolor": "#2a3f5f",
           "arrowhead": 0,
           "arrowwidth": 1
          },
          "autotypenumbers": "strict",
          "coloraxis": {
           "colorbar": {
            "outlinewidth": 0,
            "ticks": ""
           }
          },
          "colorscale": {
           "diverging": [
            [
             0,
             "#8e0152"
            ],
            [
             0.1,
             "#c51b7d"
            ],
            [
             0.2,
             "#de77ae"
            ],
            [
             0.3,
             "#f1b6da"
            ],
            [
             0.4,
             "#fde0ef"
            ],
            [
             0.5,
             "#f7f7f7"
            ],
            [
             0.6,
             "#e6f5d0"
            ],
            [
             0.7,
             "#b8e186"
            ],
            [
             0.8,
             "#7fbc41"
            ],
            [
             0.9,
             "#4d9221"
            ],
            [
             1,
             "#276419"
            ]
           ],
           "sequential": [
            [
             0,
             "#0d0887"
            ],
            [
             0.1111111111111111,
             "#46039f"
            ],
            [
             0.2222222222222222,
             "#7201a8"
            ],
            [
             0.3333333333333333,
             "#9c179e"
            ],
            [
             0.4444444444444444,
             "#bd3786"
            ],
            [
             0.5555555555555556,
             "#d8576b"
            ],
            [
             0.6666666666666666,
             "#ed7953"
            ],
            [
             0.7777777777777778,
             "#fb9f3a"
            ],
            [
             0.8888888888888888,
             "#fdca26"
            ],
            [
             1,
             "#f0f921"
            ]
           ],
           "sequentialminus": [
            [
             0,
             "#0d0887"
            ],
            [
             0.1111111111111111,
             "#46039f"
            ],
            [
             0.2222222222222222,
             "#7201a8"
            ],
            [
             0.3333333333333333,
             "#9c179e"
            ],
            [
             0.4444444444444444,
             "#bd3786"
            ],
            [
             0.5555555555555556,
             "#d8576b"
            ],
            [
             0.6666666666666666,
             "#ed7953"
            ],
            [
             0.7777777777777778,
             "#fb9f3a"
            ],
            [
             0.8888888888888888,
             "#fdca26"
            ],
            [
             1,
             "#f0f921"
            ]
           ]
          },
          "colorway": [
           "#636efa",
           "#EF553B",
           "#00cc96",
           "#ab63fa",
           "#FFA15A",
           "#19d3f3",
           "#FF6692",
           "#B6E880",
           "#FF97FF",
           "#FECB52"
          ],
          "font": {
           "color": "#2a3f5f"
          },
          "geo": {
           "bgcolor": "white",
           "lakecolor": "white",
           "landcolor": "#E5ECF6",
           "showlakes": true,
           "showland": true,
           "subunitcolor": "white"
          },
          "hoverlabel": {
           "align": "left"
          },
          "hovermode": "closest",
          "mapbox": {
           "style": "light"
          },
          "paper_bgcolor": "white",
          "plot_bgcolor": "#E5ECF6",
          "polar": {
           "angularaxis": {
            "gridcolor": "white",
            "linecolor": "white",
            "ticks": ""
           },
           "bgcolor": "#E5ECF6",
           "radialaxis": {
            "gridcolor": "white",
            "linecolor": "white",
            "ticks": ""
           }
          },
          "scene": {
           "xaxis": {
            "backgroundcolor": "#E5ECF6",
            "gridcolor": "white",
            "gridwidth": 2,
            "linecolor": "white",
            "showbackground": true,
            "ticks": "",
            "zerolinecolor": "white"
           },
           "yaxis": {
            "backgroundcolor": "#E5ECF6",
            "gridcolor": "white",
            "gridwidth": 2,
            "linecolor": "white",
            "showbackground": true,
            "ticks": "",
            "zerolinecolor": "white"
           },
           "zaxis": {
            "backgroundcolor": "#E5ECF6",
            "gridcolor": "white",
            "gridwidth": 2,
            "linecolor": "white",
            "showbackground": true,
            "ticks": "",
            "zerolinecolor": "white"
           }
          },
          "shapedefaults": {
           "line": {
            "color": "#2a3f5f"
           }
          },
          "ternary": {
           "aaxis": {
            "gridcolor": "white",
            "linecolor": "white",
            "ticks": ""
           },
           "baxis": {
            "gridcolor": "white",
            "linecolor": "white",
            "ticks": ""
           },
           "bgcolor": "#E5ECF6",
           "caxis": {
            "gridcolor": "white",
            "linecolor": "white",
            "ticks": ""
           }
          },
          "title": {
           "x": 0.05
          },
          "xaxis": {
           "automargin": true,
           "gridcolor": "white",
           "linecolor": "white",
           "ticks": "",
           "title": {
            "standoff": 15
           },
           "zerolinecolor": "white",
           "zerolinewidth": 2
          },
          "yaxis": {
           "automargin": true,
           "gridcolor": "white",
           "linecolor": "white",
           "ticks": "",
           "title": {
            "standoff": 15
           },
           "zerolinecolor": "white",
           "zerolinewidth": 2
          }
         }
        },
        "title": {
         "text": "Radar plot IMACEC 2023 vs 2024"
        }
       }
      }
     },
     "metadata": {},
     "output_type": "display_data"
    }
   ],
   "source": [
    "# # Crear radar plot\n",
    "fig1 = px.line_polar(df5,\n",
    "                     r=\"imacec\",\n",
    "                     theta=\"industria\",\n",
    "                     color=\"año\",\n",
    "                     line_close=True,\n",
    "                     title=\"Radar plot IMACEC 2023 vs 2024\")\n",
    "fig1.update_traces(fill='toself')\n",
    "fig1.show()"
   ]
  },
  {
   "cell_type": "code",
   "execution_count": 15,
   "id": "c5418d8a",
   "metadata": {},
   "outputs": [],
   "source": [
    "# Para guardar\n",
    "figs = [fig1]"
   ]
  },
  {
   "cell_type": "markdown",
   "id": "c3eb0f1b",
>>>>>>> ay6
   "metadata": {},
   "source": [
    "##### 6. Grafique en un scatter plot el IMACEC Comercio (eje X), IMACEC Servicios (eje Y), IMACEC Minería (tamaño burbuja) e IMACEC total (color burbujas). Para ello, use los datos de IMACEC mensuales de 2018 a 2024. Use plotly para la visualización."
   ]
  },
  {
   "cell_type": "code",
<<<<<<< HEAD
   "execution_count": null,
   "id": "cf6141da",
=======
   "execution_count": 16,
   "id": "284a0a50",
>>>>>>> ay6
   "metadata": {},
   "outputs": [],
   "source": [
    "# Tu código aquí"
   ]
  },
  {
   "cell_type": "markdown",
<<<<<<< HEAD
   "id": "75efe029",
=======
   "id": "0cd01a52",
   "metadata": {},
   "source": [
    "###### Solución de la pregunta 6"
   ]
  },
  {
   "cell_type": "code",
   "execution_count": 30,
   "id": "aecf2044",
   "metadata": {},
   "outputs": [
    {
     "data": {
      "image/png": "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",
      "text/plain": [
       "<Figure size 1000x800 with 1 Axes>"
      ]
     },
     "metadata": {},
     "output_type": "display_data"
    }
   ],
   "source": [
    "# Solución de pregunta 6\n",
    "\n",
    "# Solo hasta 2024\n",
    "df6 = df[df['periodo'].dt.year < 2025]\n",
    "\n",
    "# FIGURA\n",
    "plt.figure(figsize=(10,8))\n",
    "\n",
    "sns.scatterplot(data=df6,\n",
    "                x='comercio',\n",
    "                y='servicios',\n",
    "                size='mineria',\n",
    "                hue='total imacec')\n",
    "\n",
    "plt.title('Scatter plot de datos de IMACEC mensual entre 2018 y 2024')\n",
    "plt.show()"
   ]
  },
  {
   "cell_type": "code",
   "execution_count": null,
   "id": "f6fabff8",
   "metadata": {},
   "outputs": [
    {
     "data": {
      "application/vnd.plotly.v1+json": {
       "config": {
        "plotlyServerURL": "https://plot.ly"
       },
       "data": [
        {
         "hovertemplate": "comercio=%{x}<br>servicios=%{y}<br>mineria=%{marker.size}<br>total imacec=%{marker.color}<extra></extra>",
         "legendgroup": "",
         "marker": {
          "color": {
           "bdata": "t8obqdkoWEAkDkr+hjJXQHeJxNbHTlpAvxH/Dw59WUDLcke0VW5ZQDIlGHh9n1hAbv/7grhxV0BlesdNZYpYQAZaPQT6lVdA7sB04+GPWUCe4VxvYWlaQMV9pB2bP1tAWqGoWjymWEBbGh4d/1BXQOHyptJtnVpAB06gbyniWUB80ObowMxZQDW80s3dw1hAghXvWJgcWED13blgaWVZQD38Dk0PUVhAjEgQC7NvWECo9ljRiRtZQNvBgWdygVtAAblhYSrqWEC6OB/dB/xXQNpS3B5FhFlAvzQSDroGVkAbTzcGTLdVQPpYrvxVTFVAbdnDRcE/VUBRSSG3MY5WQDeBN2hLCFdA4mO1zvUSWECmmj8qo1VZQJeAvmRop1tAyuZI/a0NWECIGymDzYBXQIVyTUZ0PltAbZiYNbddWUAEA8mqR/FZQAsctOwpp1lAtk3AoFLvWEDcOYXSeJdaQBVSrl8tIVpAp5xUiHk9W0B2IZKdubZcQJJp+byLC15AZYAwdGHWWUDV9A/ID7lYQLWDMz6yzFxArRu/9gHNWkDjeR8UYEZbQLbfdmOjWFpAEhp8BxD1WECmHQtNfO1aQHaspJqWVFpAPI9qBhXMWkAeIzkhY9ZbQNDQnkRUlF1A7iLxIrIjWkCYn3Q4161YQN5JwubGUFxAfBlT/bi6WkCgZiokzTJbQIwXcEXNaFpAAXtmqa++WUBArPG8hwlbQNE8ffwuhVpAQNT0RPdFW0C2PYO04EdcQDGsWJpEkF1AcG/gFI/3WkCwSFRCrQlaQKwto5hFwlxAimR+1S3KW0AgBmYtr0tbQPCb8PdpO1pAhksB/7nEWkBg3DPFe4pbQKOX72JyklpAYfbcujT9W0CA25xnKvBcQDUuSiDmkF9Aam9Z86W/W0BLPaPA2Q9aQFvMSf0a1F1AJLTLTvB6XEA=",
           "dtype": "f8"
          },
          "coloraxis": "coloraxis",
          "size": {
           "bdata": "yN7hK9ciWEDNMzAeSgBXQEZ38f6ZAFlAo6XC8KPBVkCFD196SQ1ZQE/1EfLnFFhAxOIV/fcJWUBUbPC5ty5YQLmUuavBFllA9izsyztEWUBc4R6k4iNcQLfZ/YbfQFxAM2+JmEH2VkAgy1RG+GVUQPGeNSd8WldA3eAY/VoBVkDxPDfEpRxXQDzBkVne4FZADY5SnV/VV0AeQsn1X1FZQCdIB/ZC51hAeehmaxDNWED2Vw0aWwlZQMy8TVDkyVtAHfl3TyRTV0ATVphlw5BWQIg9/op6+VdAEQf8+6lRVkAitqvTUdZXQGKV76pKmVdAZBxjJY+FWEBePs51pNZYQLVl6MT9d1hASbpFx2L5WEBhrqKGL9ZYQNIzc5PpU1lAgFbzuSK5VkAPuodE6t5UQGhT+ICFmVdAGOOuPmKBVkDFobBYn+pWQId1ym/KoVZAwMaBZaUWV0DIG2fvXjhXQLlBAZhtIVZAkJTsUVzdV0A6FNQz3oxXQFzEc406e1hAoVBEjswzVEDh8ngCF65SQDjQwhJEBFZA70thgzx4U0CbL4VfpMxVQI7NfXQkCFVA/qcYN13XVEBxkLjscEdVQBynpHX2jFVAi5EKoW/pV0BV1ykyqXFWQDOhafxzllhAMOjw0wKcVUBQpMGr6UtSQKeu758jmlNARh9RPri/U0AIZyhfefdTQGrkFQRpNlVA3oF9ppbaVUDYS60ehDxWQO0Ehd3A41dAJOi7sQcPV0BKJkiyLrpWQNXN0MC8q1dAwJHkKnJQVUDzQhCaEFtUQKd80BKYclVA9DmT4W1yU0AfXbiyULNUQOsa1eyEQ1ZAbYNbTi3aVkDC2Il6HjxYQEHTuqJtClhAAlT0vm0KWECirBpXVmNXQH57C3HLGltA8XmFFOAkVUDkpHY2xONSQDM/M/esblZACr+328WFVUA=",
           "dtype": "f8"
          },
          "sizemode": "area",
          "sizeref": 0.282534107560875,
          "symbol": "circle"
         },
         "mode": "markers",
         "name": "",
         "orientation": "v",
         "showlegend": false,
         "type": "scatter",
         "x": {
          "bdata": "7vGvip7kWUBe3VSMzMRWQFxQ0BpGyVlArR9ANOy1WUBuheHXKvBZQJosfyrxeVhAckRV0Re7VkAytbvHe+VXQJXYixaiWlZA3T/Y2stzWUAR0mRV+v9YQIoqsLdK/l1AuDEzJdlHWkCob0cAiDFXQGzhZ9OyLlpAmieh2rPnWUA3/7j8UTJaQG9o+9JMFVhAwAJ/z2WRV0D23Pz7PvFXQOGImSDX01ZABiuphdfMVkBfEIUwDdNWQJPuxErI1F1A2BAK2rUhWkDb6w6Zt4tXQOvg/ODV4FdAov3f6gHhU0AiRq0+RR1TQOBFAH/5e1NABOpiZUHMVEARgqusTyZYQDrSxHvHFVlAKHBX7FWNWkCepsI2hDxbQD/QL+26z2BApmE+TLtZXkAXwWkSPbtbQCQJYCDBAF5ADdoduT3rWkBxz9si3MRdQKLqZ4SLllxAy7rqflzQXEAxIbp1VsZcQO7UvaPQ4ltA76Al1bkbXUD9ZJ0vj9BdQHaFlusU9WFAMAbPVULCXkC+iA9uJP9bQAjv24X/7F5AcTqNjSm6W0D1OSohOmBcQEijrLHkmFpAEdaV7LaNWkCKJPk8SLlbQCCFQ4lT/VpACqllgbMaW0B3b0QavmlbQGF1Y5Lo4GBAIUJ3qIehXUD5le29fsxbQLaajLFSDV9AdMERx/74WkCQwbuIV1RcQA2d4Z/gmFlANJrnxEgmWkBadYJnQn9bQE1qkSYG8FlAl1VdvFstW0BY0cQi9qxbQBRcmGUyg2BA4evP0gYpYECtIkeEBsFdQDZLnGY0nV5A6t1F1tKZXUB1ec39ElRcQDQYhz4yhFpA//jpPPVZW0CDuGgfiUJcQBNh1xbDxlpAPlkPT+sEXUCMzgGFaftcQCFkK128TWJAlasM/8+YYUCjpYh/8MxeQBWRwK6Mn2BA3YugtWPCXkA=",
          "dtype": "f8"
         },
         "xaxis": "x",
         "y": {
          "bdata": "mr09LfSzVkCZLuoTOEJVQHarXLj8Y1lAOT5fxwuZWUAFoJRHyMpZQNOj2a6tgllAjfYbeBXlV0BXsJPx3qpZQAAPSVKoz1hA5J6fO3JfWkCxlEP5wWNbQKv80VeEnFlA74Y9QayGV0D+FAmw6AxWQD8vopbsUFpAm1PhNsSVWkBGweyxtcZaQDzod3WcT1pARiRkiQPdWECEfkhfWuhaQGm5eL7f1FlA1GYTlfZaWUDSSPbwi+9ZQOPsnVO6wFlAcRXjcm+4V0CXIghcokVWQEg4QDkG61hABKePvlPpVUBjJcy0BS5WQID1gUU+XFZA70dQYhGaVUCxskNTS7ZWQDYLkjubc1dAzYjGhlP6V0DRYdm2M3xZQGgxc3dtWllA17rITKsDVkDBJvTERHRVQPoqRtvBk1pANc31S+z/WUDbxFl9z3ZaQFeCPJGq0VpAx21a+/kgWUBZ0trTKS1cQIPtRBMc+ltA4UJ052LvXEDukGdynglfQL450XL+4VxAFSPHh/SrWUDlsIS0yVRYQEBDUwE40l1AKuvzYApyXUCd6xSQKAJeQNCiKrYDc11A4CiwDWhdWkCU3Wu58dJdQObPr+BOPF1AHqXAkw3RXECJN7mo8NZeQCMF0lCRD11A7gLx1ZFkWkAqny1nnM9YQCrHwm1vJ15ArWS8JAmZXUDkpWhuhYBeQCujzoTquF1AJvJTzuiqW0Ap6zyQm7RdQGysA0wnv1xAIytaRr7KXUBtJFJvA2lfQAYxlOyV2F1AkcdsZ05FW0AlCa+r5e5ZQNS3cgmpf15AAWB4gsPAXkCghxBenH1eQEFLlYol8VxA9xbqkWAFXUDq8FV91xNeQMYxmFRZP11AQ5rqKnCMXkCXvgF5Ce5fQGU5q4Jng15AQCPEM+jPW0C3Ki9x1BZaQNlHHK/BSF9Anb3DHfogX0A=",
          "dtype": "f8"
         },
         "yaxis": "y"
        }
       ],
       "layout": {
        "coloraxis": {
         "colorbar": {
          "title": {
           "text": "total imacec"
          }
         },
         "colorscale": [
          [
           0,
           "#0d0887"
          ],
          [
           0.1111111111111111,
           "#46039f"
          ],
          [
           0.2222222222222222,
           "#7201a8"
          ],
          [
           0.3333333333333333,
           "#9c179e"
          ],
          [
           0.4444444444444444,
           "#bd3786"
          ],
          [
           0.5555555555555556,
           "#d8576b"
          ],
          [
           0.6666666666666666,
           "#ed7953"
          ],
          [
           0.7777777777777778,
           "#fb9f3a"
          ],
          [
           0.8888888888888888,
           "#fdca26"
          ],
          [
           1,
           "#f0f921"
          ]
         ]
        },
        "legend": {
         "itemsizing": "constant",
         "tracegroupgap": 0
        },
        "template": {
         "data": {
          "bar": [
           {
            "error_x": {
             "color": "#2a3f5f"
            },
            "error_y": {
             "color": "#2a3f5f"
            },
            "marker": {
             "line": {
              "color": "#E5ECF6",
              "width": 0.5
             },
             "pattern": {
              "fillmode": "overlay",
              "size": 10,
              "solidity": 0.2
             }
            },
            "type": "bar"
           }
          ],
          "barpolar": [
           {
            "marker": {
             "line": {
              "color": "#E5ECF6",
              "width": 0.5
             },
             "pattern": {
              "fillmode": "overlay",
              "size": 10,
              "solidity": 0.2
             }
            },
            "type": "barpolar"
           }
          ],
          "carpet": [
           {
            "aaxis": {
             "endlinecolor": "#2a3f5f",
             "gridcolor": "white",
             "linecolor": "white",
             "minorgridcolor": "white",
             "startlinecolor": "#2a3f5f"
            },
            "baxis": {
             "endlinecolor": "#2a3f5f",
             "gridcolor": "white",
             "linecolor": "white",
             "minorgridcolor": "white",
             "startlinecolor": "#2a3f5f"
            },
            "type": "carpet"
           }
          ],
          "choropleth": [
           {
            "colorbar": {
             "outlinewidth": 0,
             "ticks": ""
            },
            "type": "choropleth"
           }
          ],
          "contour": [
           {
            "colorbar": {
             "outlinewidth": 0,
             "ticks": ""
            },
            "colorscale": [
             [
              0,
              "#0d0887"
             ],
             [
              0.1111111111111111,
              "#46039f"
             ],
             [
              0.2222222222222222,
              "#7201a8"
             ],
             [
              0.3333333333333333,
              "#9c179e"
             ],
             [
              0.4444444444444444,
              "#bd3786"
             ],
             [
              0.5555555555555556,
              "#d8576b"
             ],
             [
              0.6666666666666666,
              "#ed7953"
             ],
             [
              0.7777777777777778,
              "#fb9f3a"
             ],
             [
              0.8888888888888888,
              "#fdca26"
             ],
             [
              1,
              "#f0f921"
             ]
            ],
            "type": "contour"
           }
          ],
          "contourcarpet": [
           {
            "colorbar": {
             "outlinewidth": 0,
             "ticks": ""
            },
            "type": "contourcarpet"
           }
          ],
          "heatmap": [
           {
            "colorbar": {
             "outlinewidth": 0,
             "ticks": ""
            },
            "colorscale": [
             [
              0,
              "#0d0887"
             ],
             [
              0.1111111111111111,
              "#46039f"
             ],
             [
              0.2222222222222222,
              "#7201a8"
             ],
             [
              0.3333333333333333,
              "#9c179e"
             ],
             [
              0.4444444444444444,
              "#bd3786"
             ],
             [
              0.5555555555555556,
              "#d8576b"
             ],
             [
              0.6666666666666666,
              "#ed7953"
             ],
             [
              0.7777777777777778,
              "#fb9f3a"
             ],
             [
              0.8888888888888888,
              "#fdca26"
             ],
             [
              1,
              "#f0f921"
             ]
            ],
            "type": "heatmap"
           }
          ],
          "histogram": [
           {
            "marker": {
             "pattern": {
              "fillmode": "overlay",
              "size": 10,
              "solidity": 0.2
             }
            },
            "type": "histogram"
           }
          ],
          "histogram2d": [
           {
            "colorbar": {
             "outlinewidth": 0,
             "ticks": ""
            },
            "colorscale": [
             [
              0,
              "#0d0887"
             ],
             [
              0.1111111111111111,
              "#46039f"
             ],
             [
              0.2222222222222222,
              "#7201a8"
             ],
             [
              0.3333333333333333,
              "#9c179e"
             ],
             [
              0.4444444444444444,
              "#bd3786"
             ],
             [
              0.5555555555555556,
              "#d8576b"
             ],
             [
              0.6666666666666666,
              "#ed7953"
             ],
             [
              0.7777777777777778,
              "#fb9f3a"
             ],
             [
              0.8888888888888888,
              "#fdca26"
             ],
             [
              1,
              "#f0f921"
             ]
            ],
            "type": "histogram2d"
           }
          ],
          "histogram2dcontour": [
           {
            "colorbar": {
             "outlinewidth": 0,
             "ticks": ""
            },
            "colorscale": [
             [
              0,
              "#0d0887"
             ],
             [
              0.1111111111111111,
              "#46039f"
             ],
             [
              0.2222222222222222,
              "#7201a8"
             ],
             [
              0.3333333333333333,
              "#9c179e"
             ],
             [
              0.4444444444444444,
              "#bd3786"
             ],
             [
              0.5555555555555556,
              "#d8576b"
             ],
             [
              0.6666666666666666,
              "#ed7953"
             ],
             [
              0.7777777777777778,
              "#fb9f3a"
             ],
             [
              0.8888888888888888,
              "#fdca26"
             ],
             [
              1,
              "#f0f921"
             ]
            ],
            "type": "histogram2dcontour"
           }
          ],
          "mesh3d": [
           {
            "colorbar": {
             "outlinewidth": 0,
             "ticks": ""
            },
            "type": "mesh3d"
           }
          ],
          "parcoords": [
           {
            "line": {
             "colorbar": {
              "outlinewidth": 0,
              "ticks": ""
             }
            },
            "type": "parcoords"
           }
          ],
          "pie": [
           {
            "automargin": true,
            "type": "pie"
           }
          ],
          "scatter": [
           {
            "fillpattern": {
             "fillmode": "overlay",
             "size": 10,
             "solidity": 0.2
            },
            "type": "scatter"
           }
          ],
          "scatter3d": [
           {
            "line": {
             "colorbar": {
              "outlinewidth": 0,
              "ticks": ""
             }
            },
            "marker": {
             "colorbar": {
              "outlinewidth": 0,
              "ticks": ""
             }
            },
            "type": "scatter3d"
           }
          ],
          "scattercarpet": [
           {
            "marker": {
             "colorbar": {
              "outlinewidth": 0,
              "ticks": ""
             }
            },
            "type": "scattercarpet"
           }
          ],
          "scattergeo": [
           {
            "marker": {
             "colorbar": {
              "outlinewidth": 0,
              "ticks": ""
             }
            },
            "type": "scattergeo"
           }
          ],
          "scattergl": [
           {
            "marker": {
             "colorbar": {
              "outlinewidth": 0,
              "ticks": ""
             }
            },
            "type": "scattergl"
           }
          ],
          "scattermap": [
           {
            "marker": {
             "colorbar": {
              "outlinewidth": 0,
              "ticks": ""
             }
            },
            "type": "scattermap"
           }
          ],
          "scattermapbox": [
           {
            "marker": {
             "colorbar": {
              "outlinewidth": 0,
              "ticks": ""
             }
            },
            "type": "scattermapbox"
           }
          ],
          "scatterpolar": [
           {
            "marker": {
             "colorbar": {
              "outlinewidth": 0,
              "ticks": ""
             }
            },
            "type": "scatterpolar"
           }
          ],
          "scatterpolargl": [
           {
            "marker": {
             "colorbar": {
              "outlinewidth": 0,
              "ticks": ""
             }
            },
            "type": "scatterpolargl"
           }
          ],
          "scatterternary": [
           {
            "marker": {
             "colorbar": {
              "outlinewidth": 0,
              "ticks": ""
             }
            },
            "type": "scatterternary"
           }
          ],
          "surface": [
           {
            "colorbar": {
             "outlinewidth": 0,
             "ticks": ""
            },
            "colorscale": [
             [
              0,
              "#0d0887"
             ],
             [
              0.1111111111111111,
              "#46039f"
             ],
             [
              0.2222222222222222,
              "#7201a8"
             ],
             [
              0.3333333333333333,
              "#9c179e"
             ],
             [
              0.4444444444444444,
              "#bd3786"
             ],
             [
              0.5555555555555556,
              "#d8576b"
             ],
             [
              0.6666666666666666,
              "#ed7953"
             ],
             [
              0.7777777777777778,
              "#fb9f3a"
             ],
             [
              0.8888888888888888,
              "#fdca26"
             ],
             [
              1,
              "#f0f921"
             ]
            ],
            "type": "surface"
           }
          ],
          "table": [
           {
            "cells": {
             "fill": {
              "color": "#EBF0F8"
             },
             "line": {
              "color": "white"
             }
            },
            "header": {
             "fill": {
              "color": "#C8D4E3"
             },
             "line": {
              "color": "white"
             }
            },
            "type": "table"
           }
          ]
         },
         "layout": {
          "annotationdefaults": {
           "arrowcolor": "#2a3f5f",
           "arrowhead": 0,
           "arrowwidth": 1
          },
          "autotypenumbers": "strict",
          "coloraxis": {
           "colorbar": {
            "outlinewidth": 0,
            "ticks": ""
           }
          },
          "colorscale": {
           "diverging": [
            [
             0,
             "#8e0152"
            ],
            [
             0.1,
             "#c51b7d"
            ],
            [
             0.2,
             "#de77ae"
            ],
            [
             0.3,
             "#f1b6da"
            ],
            [
             0.4,
             "#fde0ef"
            ],
            [
             0.5,
             "#f7f7f7"
            ],
            [
             0.6,
             "#e6f5d0"
            ],
            [
             0.7,
             "#b8e186"
            ],
            [
             0.8,
             "#7fbc41"
            ],
            [
             0.9,
             "#4d9221"
            ],
            [
             1,
             "#276419"
            ]
           ],
           "sequential": [
            [
             0,
             "#0d0887"
            ],
            [
             0.1111111111111111,
             "#46039f"
            ],
            [
             0.2222222222222222,
             "#7201a8"
            ],
            [
             0.3333333333333333,
             "#9c179e"
            ],
            [
             0.4444444444444444,
             "#bd3786"
            ],
            [
             0.5555555555555556,
             "#d8576b"
            ],
            [
             0.6666666666666666,
             "#ed7953"
            ],
            [
             0.7777777777777778,
             "#fb9f3a"
            ],
            [
             0.8888888888888888,
             "#fdca26"
            ],
            [
             1,
             "#f0f921"
            ]
           ],
           "sequentialminus": [
            [
             0,
             "#0d0887"
            ],
            [
             0.1111111111111111,
             "#46039f"
            ],
            [
             0.2222222222222222,
             "#7201a8"
            ],
            [
             0.3333333333333333,
             "#9c179e"
            ],
            [
             0.4444444444444444,
             "#bd3786"
            ],
            [
             0.5555555555555556,
             "#d8576b"
            ],
            [
             0.6666666666666666,
             "#ed7953"
            ],
            [
             0.7777777777777778,
             "#fb9f3a"
            ],
            [
             0.8888888888888888,
             "#fdca26"
            ],
            [
             1,
             "#f0f921"
            ]
           ]
          },
          "colorway": [
           "#636efa",
           "#EF553B",
           "#00cc96",
           "#ab63fa",
           "#FFA15A",
           "#19d3f3",
           "#FF6692",
           "#B6E880",
           "#FF97FF",
           "#FECB52"
          ],
          "font": {
           "color": "#2a3f5f"
          },
          "geo": {
           "bgcolor": "white",
           "lakecolor": "white",
           "landcolor": "#E5ECF6",
           "showlakes": true,
           "showland": true,
           "subunitcolor": "white"
          },
          "hoverlabel": {
           "align": "left"
          },
          "hovermode": "closest",
          "mapbox": {
           "style": "light"
          },
          "paper_bgcolor": "white",
          "plot_bgcolor": "#E5ECF6",
          "polar": {
           "angularaxis": {
            "gridcolor": "white",
            "linecolor": "white",
            "ticks": ""
           },
           "bgcolor": "#E5ECF6",
           "radialaxis": {
            "gridcolor": "white",
            "linecolor": "white",
            "ticks": ""
           }
          },
          "scene": {
           "xaxis": {
            "backgroundcolor": "#E5ECF6",
            "gridcolor": "white",
            "gridwidth": 2,
            "linecolor": "white",
            "showbackground": true,
            "ticks": "",
            "zerolinecolor": "white"
           },
           "yaxis": {
            "backgroundcolor": "#E5ECF6",
            "gridcolor": "white",
            "gridwidth": 2,
            "linecolor": "white",
            "showbackground": true,
            "ticks": "",
            "zerolinecolor": "white"
           },
           "zaxis": {
            "backgroundcolor": "#E5ECF6",
            "gridcolor": "white",
            "gridwidth": 2,
            "linecolor": "white",
            "showbackground": true,
            "ticks": "",
            "zerolinecolor": "white"
           }
          },
          "shapedefaults": {
           "line": {
            "color": "#2a3f5f"
           }
          },
          "ternary": {
           "aaxis": {
            "gridcolor": "white",
            "linecolor": "white",
            "ticks": ""
           },
           "baxis": {
            "gridcolor": "white",
            "linecolor": "white",
            "ticks": ""
           },
           "bgcolor": "#E5ECF6",
           "caxis": {
            "gridcolor": "white",
            "linecolor": "white",
            "ticks": ""
           }
          },
          "title": {
           "x": 0.05
          },
          "xaxis": {
           "automargin": true,
           "gridcolor": "white",
           "linecolor": "white",
           "ticks": "",
           "title": {
            "standoff": 15
           },
           "zerolinecolor": "white",
           "zerolinewidth": 2
          },
          "yaxis": {
           "automargin": true,
           "gridcolor": "white",
           "linecolor": "white",
           "ticks": "",
           "title": {
            "standoff": 15
           },
           "zerolinecolor": "white",
           "zerolinewidth": 2
          }
         }
        },
        "title": {
         "text": "Scatter plot de datos de IMACEC mensual entre 2018 y 2024"
        },
        "xaxis": {
         "anchor": "y",
         "domain": [
          0,
          1
         ],
         "title": {
          "text": "comercio"
         }
        },
        "yaxis": {
         "anchor": "x",
         "domain": [
          0,
          1
         ],
         "title": {
          "text": "servicios"
         }
        }
       }
      }
     },
     "metadata": {},
     "output_type": "display_data"
    }
   ],
   "source": [
    "# Plotly\n",
    "\n",
    "fig = px.scatter(data_frame=df,\n",
    "                 x='comercio',\n",
    "\t\t         y='servicios',\n",
    "                 size='mineria',\n",
    "                 color='total imacec',\n",
    "                 title='Scatter plot de datos de IMACEC mensual entre 2018 y 2024')\n",
    "\n",
    "fig.show()"
   ]
  },
  {
   "cell_type": "markdown",
   "id": "48a4af94",
>>>>>>> ay6
   "metadata": {},
   "source": [
    "##### 7. Calcule la diferencia de IMACEC entre Minería e Industria, y visualice esta diferencia en un gráfico de línea."
   ]
  },
  {
   "cell_type": "code",
<<<<<<< HEAD
   "execution_count": null,
   "id": "952a4db8",
=======
   "execution_count": 18,
   "id": "1871ec43",
>>>>>>> ay6
   "metadata": {},
   "outputs": [],
   "source": [
    "# Tu código aquí"
   ]
  },
  {
   "cell_type": "markdown",
<<<<<<< HEAD
   "id": "5096285b",
=======
   "id": "9fe26ea4",
   "metadata": {},
   "source": [
    "###### Solución de la pregunta 7"
   ]
  },
  {
   "cell_type": "code",
   "execution_count": 19,
   "id": "6094b9e7",
   "metadata": {},
   "outputs": [
    {
     "data": {
      "image/png": "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",
      "text/plain": [
       "<Figure size 1200x400 with 1 Axes>"
      ]
     },
     "metadata": {},
     "output_type": "display_data"
    }
   ],
   "source": [
    "# Solución de pregunta 7\n",
    "df7 = df.copy()\n",
    "df7['dif mineria-industria'] = df7['mineria'] - df7['industria']\n",
    "\n",
    "# FIGURA\n",
    "df7.plot(x='periodo', \n",
    "         y='dif mineria-industria',\n",
    "         figsize=(12,4),\n",
    "         legend=False)\n",
    "\n",
    "plt.xlabel('Período')\n",
    "plt.ylabel('Diferencia')\n",
    "plt.title('Diferencia entre mineria e industria en IMACEC mensual entre 2018 y 2024')\n",
    "\n",
    "plt.show()\n"
   ]
  },
  {
   "cell_type": "markdown",
   "id": "a1b7fac0",
>>>>>>> ay6
   "metadata": {},
   "source": [
    "##### 8. Reproduzca las etapas necesarias para realizar el mismo gráfico en Seaborn y Plotly."
   ]
  },
  {
   "cell_type": "code",
<<<<<<< HEAD
   "execution_count": null,
   "id": "53cb6967",
=======
   "execution_count": 20,
   "id": "1de25cbc",
>>>>>>> ay6
   "metadata": {},
   "outputs": [],
   "source": [
    "# Tu código aquí"
   ]
  },
  {
   "cell_type": "markdown",
<<<<<<< HEAD
   "id": "aa79b568",
=======
   "id": "15361b0e",
   "metadata": {},
   "source": [
    "###### Solución de la pregunta 8"
   ]
  },
  {
   "cell_type": "code",
   "execution_count": 21,
   "id": "7f98bca2",
   "metadata": {},
   "outputs": [
    {
     "data": {
      "image/png": "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",
      "text/plain": [
       "<Figure size 1200x400 with 1 Axes>"
      ]
     },
     "metadata": {},
     "output_type": "display_data"
    }
   ],
   "source": [
    "# Solución de pregunta 8\n",
    "\n",
    "# Seaborn \n",
    "plt.figure(figsize=(12,4))\n",
    "\n",
    "sns.lineplot(data=df7,\n",
    "             x='periodo',\n",
    "             y='dif mineria-industria')\n",
    "\n",
    "plt.xlabel('Período')\n",
    "plt.ylabel('Diferencia')\n",
    "plt.title('Diferencia entre mineria e industria en IMACEC mensual entre 2018 y 2024')\n",
    "\n",
    "plt.show()"
   ]
  },
  {
   "cell_type": "code",
   "execution_count": 22,
   "id": "481b546c",
   "metadata": {},
   "outputs": [
    {
     "data": {
      "application/vnd.plotly.v1+json": {
       "config": {
        "plotlyServerURL": "https://plot.ly"
       },
       "data": [
        {
         "hovertemplate": "periodo=%{x}<br>dif mineria-industria=%{y}<extra></extra>",
         "legendgroup": "",
         "line": {
          "color": "#636efa",
          "dash": "solid"
         },
         "marker": {
          "symbol": "circle"
         },
         "mode": "lines",
         "name": "",
         "orientation": "v",
         "showlegend": false,
         "type": "scatter",
         "x": [
          "2018-01-01T00:00:00.000000000",
          "2018-02-01T00:00:00.000000000",
          "2018-03-01T00:00:00.000000000",
          "2018-04-01T00:00:00.000000000",
          "2018-05-01T00:00:00.000000000",
          "2018-06-01T00:00:00.000000000",
          "2018-07-01T00:00:00.000000000",
          "2018-08-01T00:00:00.000000000",
          "2018-09-01T00:00:00.000000000",
          "2018-10-01T00:00:00.000000000",
          "2018-11-01T00:00:00.000000000",
          "2018-12-01T00:00:00.000000000",
          "2019-01-01T00:00:00.000000000",
          "2019-02-01T00:00:00.000000000",
          "2019-03-01T00:00:00.000000000",
          "2019-04-01T00:00:00.000000000",
          "2019-05-01T00:00:00.000000000",
          "2019-06-01T00:00:00.000000000",
          "2019-07-01T00:00:00.000000000",
          "2019-08-01T00:00:00.000000000",
          "2019-09-01T00:00:00.000000000",
          "2019-10-01T00:00:00.000000000",
          "2019-11-01T00:00:00.000000000",
          "2019-12-01T00:00:00.000000000",
          "2020-01-01T00:00:00.000000000",
          "2020-02-01T00:00:00.000000000",
          "2020-03-01T00:00:00.000000000",
          "2020-04-01T00:00:00.000000000",
          "2020-05-01T00:00:00.000000000",
          "2020-06-01T00:00:00.000000000",
          "2020-07-01T00:00:00.000000000",
          "2020-08-01T00:00:00.000000000",
          "2020-09-01T00:00:00.000000000",
          "2020-10-01T00:00:00.000000000",
          "2020-11-01T00:00:00.000000000",
          "2020-12-01T00:00:00.000000000",
          "2021-01-01T00:00:00.000000000",
          "2021-02-01T00:00:00.000000000",
          "2021-03-01T00:00:00.000000000",
          "2021-04-01T00:00:00.000000000",
          "2021-05-01T00:00:00.000000000",
          "2021-06-01T00:00:00.000000000",
          "2021-07-01T00:00:00.000000000",
          "2021-08-01T00:00:00.000000000",
          "2021-09-01T00:00:00.000000000",
          "2021-10-01T00:00:00.000000000",
          "2021-11-01T00:00:00.000000000",
          "2021-12-01T00:00:00.000000000",
          "2022-01-01T00:00:00.000000000",
          "2022-02-01T00:00:00.000000000",
          "2022-03-01T00:00:00.000000000",
          "2022-04-01T00:00:00.000000000",
          "2022-05-01T00:00:00.000000000",
          "2022-06-01T00:00:00.000000000",
          "2022-07-01T00:00:00.000000000",
          "2022-08-01T00:00:00.000000000",
          "2022-09-01T00:00:00.000000000",
          "2022-10-01T00:00:00.000000000",
          "2022-11-01T00:00:00.000000000",
          "2022-12-01T00:00:00.000000000",
          "2023-01-01T00:00:00.000000000",
          "2023-02-01T00:00:00.000000000",
          "2023-03-01T00:00:00.000000000",
          "2023-04-01T00:00:00.000000000",
          "2023-05-01T00:00:00.000000000",
          "2023-06-01T00:00:00.000000000",
          "2023-07-01T00:00:00.000000000",
          "2023-08-01T00:00:00.000000000",
          "2023-09-01T00:00:00.000000000",
          "2023-10-01T00:00:00.000000000",
          "2023-11-01T00:00:00.000000000",
          "2023-12-01T00:00:00.000000000",
          "2024-01-01T00:00:00.000000000",
          "2024-02-01T00:00:00.000000000",
          "2024-03-01T00:00:00.000000000",
          "2024-04-01T00:00:00.000000000",
          "2024-05-01T00:00:00.000000000",
          "2024-06-01T00:00:00.000000000",
          "2024-07-01T00:00:00.000000000",
          "2024-08-01T00:00:00.000000000",
          "2024-09-01T00:00:00.000000000",
          "2024-10-01T00:00:00.000000000",
          "2024-11-01T00:00:00.000000000",
          "2024-12-01T00:00:00.000000000",
          "2025-01-01T00:00:00.000000000",
          "2025-02-01T00:00:00.000000000",
          "2025-03-01T00:00:00.000000000",
          "2025-04-01T00:00:00.000000000"
         ],
         "xaxis": "x",
         "y": {
          "bdata": "wChtiYPsCMDAUY9p0oH4v5AqfbAA9hTAUJN+99VhLcCwTocRhbQUwDBmawe3OhbAYJGvHL3pFECAOpBsw20JwPBnVXt81ixAgJgRhn3+B8CQSVxYb/omQBi3YmYVtSRAaLPGJPJRI8Cwiav9ADEnwHiKy6s2qyTAKF9MKJ9CKcCot0nsvHQiwMCTk78mew3AIIy0OeE1BcBQuhH78IYUQGjevfbf+SdAADOdXzg2C0AAJD6fzpXSPyDE7HJiJhhAkCVCn4uxIMDwjZQDN1oXwGjmsqXNaCLAgCOWKdJiCcDANhV5WIwcQPD37+JBThxAmGRnckRcIUBAeI6nMLAgQBDj0ghY8xZAAEdRhHy1978A6hRctOr+vxCMUp4KixXAQFCZtOfSHcCgA+BUgRsqwCBAV54PoC7AOAeq8efGKMA4CzRk4t0gwNhNsBdGAyLAQNh26D/QGMAQCQWU1hUewEi36qsI1SLAEPn6IAM8FMAoPJ+vJsckwPjd1O3g3CfAPPdm5REKMcC0xTA77jIywFCl7N0K5TfA2GS8EC3CNcCA8a1+XY8pwJhUUHwxwCbAYCjot3ADJ8DQSVUnMrMrwMCQsmbV+xzAgE4K8cfX879YvydWQmYjwCi1CVQaVCHAEDHzCYLrLcC4VkT2F006wJ6dvuaWIUHAPHfUEdtCN8DAxxZyyd04wKidrrxhjCjASIyUHYk8JMD4Z2OVf6knwIC7szK52/Y/iJjv1L6SJ8AAqsU11l0swOgO3WHiaSPAwIy/O/tfM8BM4ffIIYI1wFi5bt0JXzbAqMcNCmYyPsBcLQ53s1AzwKAB7/F2tBrAUIwHyWPgK8CA9RATqbkcwMDV7ZqtmPo/6KKX1X5sKMBQGScfoPkrwCDNoSuAjB3AtAO7MBRuO8CUw4lrMkE9wPwKCGbjdznAYAo7Guu6N8A=",
          "dtype": "f8"
         },
         "yaxis": "y"
        }
       ],
       "layout": {
        "legend": {
         "tracegroupgap": 0
        },
        "template": {
         "data": {
          "bar": [
           {
            "error_x": {
             "color": "#2a3f5f"
            },
            "error_y": {
             "color": "#2a3f5f"
            },
            "marker": {
             "line": {
              "color": "#E5ECF6",
              "width": 0.5
             },
             "pattern": {
              "fillmode": "overlay",
              "size": 10,
              "solidity": 0.2
             }
            },
            "type": "bar"
           }
          ],
          "barpolar": [
           {
            "marker": {
             "line": {
              "color": "#E5ECF6",
              "width": 0.5
             },
             "pattern": {
              "fillmode": "overlay",
              "size": 10,
              "solidity": 0.2
             }
            },
            "type": "barpolar"
           }
          ],
          "carpet": [
           {
            "aaxis": {
             "endlinecolor": "#2a3f5f",
             "gridcolor": "white",
             "linecolor": "white",
             "minorgridcolor": "white",
             "startlinecolor": "#2a3f5f"
            },
            "baxis": {
             "endlinecolor": "#2a3f5f",
             "gridcolor": "white",
             "linecolor": "white",
             "minorgridcolor": "white",
             "startlinecolor": "#2a3f5f"
            },
            "type": "carpet"
           }
          ],
          "choropleth": [
           {
            "colorbar": {
             "outlinewidth": 0,
             "ticks": ""
            },
            "type": "choropleth"
           }
          ],
          "contour": [
           {
            "colorbar": {
             "outlinewidth": 0,
             "ticks": ""
            },
            "colorscale": [
             [
              0,
              "#0d0887"
             ],
             [
              0.1111111111111111,
              "#46039f"
             ],
             [
              0.2222222222222222,
              "#7201a8"
             ],
             [
              0.3333333333333333,
              "#9c179e"
             ],
             [
              0.4444444444444444,
              "#bd3786"
             ],
             [
              0.5555555555555556,
              "#d8576b"
             ],
             [
              0.6666666666666666,
              "#ed7953"
             ],
             [
              0.7777777777777778,
              "#fb9f3a"
             ],
             [
              0.8888888888888888,
              "#fdca26"
             ],
             [
              1,
              "#f0f921"
             ]
            ],
            "type": "contour"
           }
          ],
          "contourcarpet": [
           {
            "colorbar": {
             "outlinewidth": 0,
             "ticks": ""
            },
            "type": "contourcarpet"
           }
          ],
          "heatmap": [
           {
            "colorbar": {
             "outlinewidth": 0,
             "ticks": ""
            },
            "colorscale": [
             [
              0,
              "#0d0887"
             ],
             [
              0.1111111111111111,
              "#46039f"
             ],
             [
              0.2222222222222222,
              "#7201a8"
             ],
             [
              0.3333333333333333,
              "#9c179e"
             ],
             [
              0.4444444444444444,
              "#bd3786"
             ],
             [
              0.5555555555555556,
              "#d8576b"
             ],
             [
              0.6666666666666666,
              "#ed7953"
             ],
             [
              0.7777777777777778,
              "#fb9f3a"
             ],
             [
              0.8888888888888888,
              "#fdca26"
             ],
             [
              1,
              "#f0f921"
             ]
            ],
            "type": "heatmap"
           }
          ],
          "histogram": [
           {
            "marker": {
             "pattern": {
              "fillmode": "overlay",
              "size": 10,
              "solidity": 0.2
             }
            },
            "type": "histogram"
           }
          ],
          "histogram2d": [
           {
            "colorbar": {
             "outlinewidth": 0,
             "ticks": ""
            },
            "colorscale": [
             [
              0,
              "#0d0887"
             ],
             [
              0.1111111111111111,
              "#46039f"
             ],
             [
              0.2222222222222222,
              "#7201a8"
             ],
             [
              0.3333333333333333,
              "#9c179e"
             ],
             [
              0.4444444444444444,
              "#bd3786"
             ],
             [
              0.5555555555555556,
              "#d8576b"
             ],
             [
              0.6666666666666666,
              "#ed7953"
             ],
             [
              0.7777777777777778,
              "#fb9f3a"
             ],
             [
              0.8888888888888888,
              "#fdca26"
             ],
             [
              1,
              "#f0f921"
             ]
            ],
            "type": "histogram2d"
           }
          ],
          "histogram2dcontour": [
           {
            "colorbar": {
             "outlinewidth": 0,
             "ticks": ""
            },
            "colorscale": [
             [
              0,
              "#0d0887"
             ],
             [
              0.1111111111111111,
              "#46039f"
             ],
             [
              0.2222222222222222,
              "#7201a8"
             ],
             [
              0.3333333333333333,
              "#9c179e"
             ],
             [
              0.4444444444444444,
              "#bd3786"
             ],
             [
              0.5555555555555556,
              "#d8576b"
             ],
             [
              0.6666666666666666,
              "#ed7953"
             ],
             [
              0.7777777777777778,
              "#fb9f3a"
             ],
             [
              0.8888888888888888,
              "#fdca26"
             ],
             [
              1,
              "#f0f921"
             ]
            ],
            "type": "histogram2dcontour"
           }
          ],
          "mesh3d": [
           {
            "colorbar": {
             "outlinewidth": 0,
             "ticks": ""
            },
            "type": "mesh3d"
           }
          ],
          "parcoords": [
           {
            "line": {
             "colorbar": {
              "outlinewidth": 0,
              "ticks": ""
             }
            },
            "type": "parcoords"
           }
          ],
          "pie": [
           {
            "automargin": true,
            "type": "pie"
           }
          ],
          "scatter": [
           {
            "fillpattern": {
             "fillmode": "overlay",
             "size": 10,
             "solidity": 0.2
            },
            "type": "scatter"
           }
          ],
          "scatter3d": [
           {
            "line": {
             "colorbar": {
              "outlinewidth": 0,
              "ticks": ""
             }
            },
            "marker": {
             "colorbar": {
              "outlinewidth": 0,
              "ticks": ""
             }
            },
            "type": "scatter3d"
           }
          ],
          "scattercarpet": [
           {
            "marker": {
             "colorbar": {
              "outlinewidth": 0,
              "ticks": ""
             }
            },
            "type": "scattercarpet"
           }
          ],
          "scattergeo": [
           {
            "marker": {
             "colorbar": {
              "outlinewidth": 0,
              "ticks": ""
             }
            },
            "type": "scattergeo"
           }
          ],
          "scattergl": [
           {
            "marker": {
             "colorbar": {
              "outlinewidth": 0,
              "ticks": ""
             }
            },
            "type": "scattergl"
           }
          ],
          "scattermap": [
           {
            "marker": {
             "colorbar": {
              "outlinewidth": 0,
              "ticks": ""
             }
            },
            "type": "scattermap"
           }
          ],
          "scattermapbox": [
           {
            "marker": {
             "colorbar": {
              "outlinewidth": 0,
              "ticks": ""
             }
            },
            "type": "scattermapbox"
           }
          ],
          "scatterpolar": [
           {
            "marker": {
             "colorbar": {
              "outlinewidth": 0,
              "ticks": ""
             }
            },
            "type": "scatterpolar"
           }
          ],
          "scatterpolargl": [
           {
            "marker": {
             "colorbar": {
              "outlinewidth": 0,
              "ticks": ""
             }
            },
            "type": "scatterpolargl"
           }
          ],
          "scatterternary": [
           {
            "marker": {
             "colorbar": {
              "outlinewidth": 0,
              "ticks": ""
             }
            },
            "type": "scatterternary"
           }
          ],
          "surface": [
           {
            "colorbar": {
             "outlinewidth": 0,
             "ticks": ""
            },
            "colorscale": [
             [
              0,
              "#0d0887"
             ],
             [
              0.1111111111111111,
              "#46039f"
             ],
             [
              0.2222222222222222,
              "#7201a8"
             ],
             [
              0.3333333333333333,
              "#9c179e"
             ],
             [
              0.4444444444444444,
              "#bd3786"
             ],
             [
              0.5555555555555556,
              "#d8576b"
             ],
             [
              0.6666666666666666,
              "#ed7953"
             ],
             [
              0.7777777777777778,
              "#fb9f3a"
             ],
             [
              0.8888888888888888,
              "#fdca26"
             ],
             [
              1,
              "#f0f921"
             ]
            ],
            "type": "surface"
           }
          ],
          "table": [
           {
            "cells": {
             "fill": {
              "color": "#EBF0F8"
             },
             "line": {
              "color": "white"
             }
            },
            "header": {
             "fill": {
              "color": "#C8D4E3"
             },
             "line": {
              "color": "white"
             }
            },
            "type": "table"
           }
          ]
         },
         "layout": {
          "annotationdefaults": {
           "arrowcolor": "#2a3f5f",
           "arrowhead": 0,
           "arrowwidth": 1
          },
          "autotypenumbers": "strict",
          "coloraxis": {
           "colorbar": {
            "outlinewidth": 0,
            "ticks": ""
           }
          },
          "colorscale": {
           "diverging": [
            [
             0,
             "#8e0152"
            ],
            [
             0.1,
             "#c51b7d"
            ],
            [
             0.2,
             "#de77ae"
            ],
            [
             0.3,
             "#f1b6da"
            ],
            [
             0.4,
             "#fde0ef"
            ],
            [
             0.5,
             "#f7f7f7"
            ],
            [
             0.6,
             "#e6f5d0"
            ],
            [
             0.7,
             "#b8e186"
            ],
            [
             0.8,
             "#7fbc41"
            ],
            [
             0.9,
             "#4d9221"
            ],
            [
             1,
             "#276419"
            ]
           ],
           "sequential": [
            [
             0,
             "#0d0887"
            ],
            [
             0.1111111111111111,
             "#46039f"
            ],
            [
             0.2222222222222222,
             "#7201a8"
            ],
            [
             0.3333333333333333,
             "#9c179e"
            ],
            [
             0.4444444444444444,
             "#bd3786"
            ],
            [
             0.5555555555555556,
             "#d8576b"
            ],
            [
             0.6666666666666666,
             "#ed7953"
            ],
            [
             0.7777777777777778,
             "#fb9f3a"
            ],
            [
             0.8888888888888888,
             "#fdca26"
            ],
            [
             1,
             "#f0f921"
            ]
           ],
           "sequentialminus": [
            [
             0,
             "#0d0887"
            ],
            [
             0.1111111111111111,
             "#46039f"
            ],
            [
             0.2222222222222222,
             "#7201a8"
            ],
            [
             0.3333333333333333,
             "#9c179e"
            ],
            [
             0.4444444444444444,
             "#bd3786"
            ],
            [
             0.5555555555555556,
             "#d8576b"
            ],
            [
             0.6666666666666666,
             "#ed7953"
            ],
            [
             0.7777777777777778,
             "#fb9f3a"
            ],
            [
             0.8888888888888888,
             "#fdca26"
            ],
            [
             1,
             "#f0f921"
            ]
           ]
          },
          "colorway": [
           "#636efa",
           "#EF553B",
           "#00cc96",
           "#ab63fa",
           "#FFA15A",
           "#19d3f3",
           "#FF6692",
           "#B6E880",
           "#FF97FF",
           "#FECB52"
          ],
          "font": {
           "color": "#2a3f5f"
          },
          "geo": {
           "bgcolor": "white",
           "lakecolor": "white",
           "landcolor": "#E5ECF6",
           "showlakes": true,
           "showland": true,
           "subunitcolor": "white"
          },
          "hoverlabel": {
           "align": "left"
          },
          "hovermode": "closest",
          "mapbox": {
           "style": "light"
          },
          "paper_bgcolor": "white",
          "plot_bgcolor": "#E5ECF6",
          "polar": {
           "angularaxis": {
            "gridcolor": "white",
            "linecolor": "white",
            "ticks": ""
           },
           "bgcolor": "#E5ECF6",
           "radialaxis": {
            "gridcolor": "white",
            "linecolor": "white",
            "ticks": ""
           }
          },
          "scene": {
           "xaxis": {
            "backgroundcolor": "#E5ECF6",
            "gridcolor": "white",
            "gridwidth": 2,
            "linecolor": "white",
            "showbackground": true,
            "ticks": "",
            "zerolinecolor": "white"
           },
           "yaxis": {
            "backgroundcolor": "#E5ECF6",
            "gridcolor": "white",
            "gridwidth": 2,
            "linecolor": "white",
            "showbackground": true,
            "ticks": "",
            "zerolinecolor": "white"
           },
           "zaxis": {
            "backgroundcolor": "#E5ECF6",
            "gridcolor": "white",
            "gridwidth": 2,
            "linecolor": "white",
            "showbackground": true,
            "ticks": "",
            "zerolinecolor": "white"
           }
          },
          "shapedefaults": {
           "line": {
            "color": "#2a3f5f"
           }
          },
          "ternary": {
           "aaxis": {
            "gridcolor": "white",
            "linecolor": "white",
            "ticks": ""
           },
           "baxis": {
            "gridcolor": "white",
            "linecolor": "white",
            "ticks": ""
           },
           "bgcolor": "#E5ECF6",
           "caxis": {
            "gridcolor": "white",
            "linecolor": "white",
            "ticks": ""
           }
          },
          "title": {
           "x": 0.05
          },
          "xaxis": {
           "automargin": true,
           "gridcolor": "white",
           "linecolor": "white",
           "ticks": "",
           "title": {
            "standoff": 15
           },
           "zerolinecolor": "white",
           "zerolinewidth": 2
          },
          "yaxis": {
           "automargin": true,
           "gridcolor": "white",
           "linecolor": "white",
           "ticks": "",
           "title": {
            "standoff": 15
           },
           "zerolinecolor": "white",
           "zerolinewidth": 2
          }
         }
        },
        "title": {
         "text": "Diferencia entre mineria e industria en IMACEC mensual entre 2018 y 2024"
        },
        "xaxis": {
         "anchor": "y",
         "domain": [
          0,
          1
         ],
         "title": {
          "text": "periodo"
         }
        },
        "yaxis": {
         "anchor": "x",
         "domain": [
          0,
          1
         ],
         "title": {
          "text": "dif mineria-industria"
         }
        }
       }
      }
     },
     "metadata": {},
     "output_type": "display_data"
    }
   ],
   "source": [
    "# Plotly\n",
    "\n",
    "fig2 = px.line(data_frame=df7,\n",
    "               x='periodo',\n",
    "               y='dif mineria-industria',\n",
    "               title='Diferencia entre mineria e industria en IMACEC mensual entre 2018 y 2024')\n",
    "fig2.show()"
   ]
  },
  {
   "cell_type": "code",
   "execution_count": 23,
   "id": "e1b3e758",
   "metadata": {},
   "outputs": [],
   "source": [
    "# Guardado\n",
    "figs.append(fig2)"
   ]
  },
  {
   "cell_type": "markdown",
   "id": "a8facfae",
>>>>>>> ay6
   "metadata": {},
   "source": [
    "##### 9. ¿Es factible usar un Treemap para visualizar este índice? Fundamente su respuesta."
   ]
  },
  {
   "cell_type": "code",
<<<<<<< HEAD
   "execution_count": null,
   "id": "b0342726",
   "metadata": {},
   "outputs": [],
   "source": [
    "\"\"\"\n",
    "Tu respuesta aquí: ___\n",
    "\"\"\""
=======
   "execution_count": 24,
   "id": "39deba64",
   "metadata": {},
   "outputs": [],
   "source": [
    "# Tu código aquí"
>>>>>>> ay6
   ]
  },
  {
   "cell_type": "markdown",
<<<<<<< HEAD
   "id": "82749f97",
=======
   "id": "c4554e04",
>>>>>>> ay6
   "metadata": {},
   "source": [
    "##### 10. Usando como referencia las visualizaciones realizadas en este Workshop, cree un reporte del Imacec en Figma."
   ]
  },
  {
   "cell_type": "markdown",
<<<<<<< HEAD
   "id": "497b3afd",
=======
   "id": "c37f3eb0",
>>>>>>> ay6
   "metadata": {},
   "source": [
    "[Link a figma](https://www.figma.com)"
   ]
<<<<<<< HEAD
=======
  },
  {
   "cell_type": "code",
   "execution_count": 25,
   "id": "876d4198",
   "metadata": {},
   "outputs": [],
   "source": [
    "# pip install kaleido"
   ]
  },
  {
   "cell_type": "code",
   "execution_count": null,
   "id": "b53462f2",
   "metadata": {},
   "outputs": [],
   "source": [
    "# Descargando de plotly\n",
    "fig1.to_image('png')"
   ]
>>>>>>> ay6
  }
 ],
 "metadata": {
  "kernelspec": {
   "display_name": ".venv",
   "language": "python",
   "name": "python3"
  },
  "language_info": {
   "codemirror_mode": {
    "name": "ipython",
    "version": 3
   },
   "file_extension": ".py",
   "mimetype": "text/x-python",
   "name": "python",
   "nbconvert_exporter": "python",
   "pygments_lexer": "ipython3",
   "version": "3.13.3"
  }
 },
 "nbformat": 4,
 "nbformat_minor": 5
}
