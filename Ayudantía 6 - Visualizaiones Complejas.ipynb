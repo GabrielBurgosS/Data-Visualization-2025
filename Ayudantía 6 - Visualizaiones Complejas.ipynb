{
 "cells": [
  {
   "cell_type": "markdown",
   "id": "5a4d3ab3",
   "metadata": {},
   "source": [
    "# **Ayudantía 6 - Visualización Complejas**\n",
    "## Data Visualization\n",
    "**Ayudante:** Gabriel Burgos  \n",
    "**Fecha:** Abril 2025  \n",
    " _Universidad de Concepción_\n",
    "\n",
    "---\n",
    "__Este workshop se enfoca en la creación de visualizaciones relevantes utilizando datos de precipitaciones en Chile.__"
   ]
  },
  {
   "cell_type": "markdown",
   "id": "bc727033",
   "metadata": {},
   "source": [
    "# 💻 Workshop 5\n",
    "\n",
    "## Data Visualization\n",
    "\n",
    "[Fuente: Banco Central - IMACEC](https://www.bcentral.cl/web/banco-central/areas/estadisticas/imacec)"
   ]
  },
  {
   "cell_type": "markdown",
   "id": "0b0a9780",
   "metadata": {},
   "source": [
    "---"
   ]
  },
  {
   "cell_type": "markdown",
   "id": "8770aba0",
   "metadata": {},
   "source": [
    "##### 1. Grafique la evolución mensual del IMACEC total y compárelo con el IMACEC no minero."
   ]
  },
  {
   "cell_type": "code",
   "execution_count": null,
   "id": "24b19ea3",
   "metadata": {},
   "outputs": [],
   "source": [
    "# Tu código aquí"
   ]
  },
  {
   "cell_type": "markdown",
   "id": "42853d2e",
   "metadata": {},
   "source": [
    "##### 2. Compare en un gráfico de barras el IMACEC del año 2023 y 2024 para todas las industrias."
   ]
  },
  {
   "cell_type": "code",
   "execution_count": 1,
   "id": "7c60605b",
   "metadata": {},
   "outputs": [],
   "source": [
    "# Tu código aquí"
   ]
  },
  {
   "cell_type": "markdown",
   "id": "402dad74",
   "metadata": {},
   "source": [
    "##### 3. Grafique la tasa de variación del IMACEC con respecto al mes anterior."
   ]
  },
  {
   "cell_type": "code",
   "execution_count": null,
   "id": "05dbccb5",
   "metadata": {},
   "outputs": [],
   "source": [
    "# Tu código aquí"
   ]
  },
  {
   "cell_type": "markdown",
   "id": "f246144b",
   "metadata": {},
   "source": [
    "##### 4. Grafique la tasa de variación del IMACEC con respecto al mismo período del año anterior."
   ]
  },
  {
   "cell_type": "code",
   "execution_count": null,
   "id": "8bc21efd",
   "metadata": {},
   "outputs": [],
   "source": [
    "# Tu código aquí"
   ]
  },
  {
   "cell_type": "markdown",
   "id": "5c4b8b13",
   "metadata": {},
   "source": [
    "##### 5. Grafique un radar plot que compare el IMACEC promedio de 2023 y 2024, donde cada eje del radar represente una variable del IMACEC (comercio, servicios, minería, total, IMACEC no minero)."
   ]
  },
  {
   "cell_type": "code",
   "execution_count": null,
   "id": "df9b6c99",
   "metadata": {},
   "outputs": [],
   "source": [
    "# Tu código aquí"
   ]
  },
  {
   "cell_type": "markdown",
   "id": "817ad1b2",
   "metadata": {},
   "source": [
    "##### 6. Grafique en un scatter plot el IMACEC Comercio (eje X), IMACEC Servicios (eje Y), IMACEC Minería (tamaño burbuja) e IMACEC total (color burbujas). Para ello, use los datos de IMACEC mensuales de 2018 a 2024. Use plotly para la visualización."
   ]
  },
  {
   "cell_type": "code",
   "execution_count": null,
   "id": "cf6141da",
   "metadata": {},
   "outputs": [],
   "source": [
    "# Tu código aquí"
   ]
  },
  {
   "cell_type": "markdown",
   "id": "75efe029",
   "metadata": {},
   "source": [
    "##### 7. Calcule la diferencia de IMACEC entre Minería e Industria, y visualice esta diferencia en un gráfico de línea."
   ]
  },
  {
   "cell_type": "code",
   "execution_count": null,
   "id": "952a4db8",
   "metadata": {},
   "outputs": [],
   "source": [
    "# Tu código aquí"
   ]
  },
  {
   "cell_type": "markdown",
   "id": "5096285b",
   "metadata": {},
   "source": [
    "##### 8. Reproduzca las etapas necesarias para realizar el mismo gráfico en Seaborn y Plotly."
   ]
  },
  {
   "cell_type": "code",
   "execution_count": null,
   "id": "53cb6967",
   "metadata": {},
   "outputs": [],
   "source": [
    "# Tu código aquí"
   ]
  },
  {
   "cell_type": "markdown",
   "id": "aa79b568",
   "metadata": {},
   "source": [
    "##### 9. ¿Es factible usar un Treemap para visualizar este índice? Fundamente su respuesta."
   ]
  },
  {
   "cell_type": "code",
   "execution_count": null,
   "id": "b0342726",
   "metadata": {},
   "outputs": [],
   "source": [
    "\"\"\"\n",
    "Tu respuesta aquí: ___\n",
    "\"\"\""
   ]
  },
  {
   "cell_type": "markdown",
   "id": "82749f97",
   "metadata": {},
   "source": [
    "##### 10. Usando como referencia las visualizaciones realizadas en este Workshop, cree un reporte del Imacec en Figma."
   ]
  },
  {
   "cell_type": "markdown",
   "id": "497b3afd",
   "metadata": {},
   "source": [
    "[Link a figma](https://www.figma.com)"
   ]
  }
 ],
 "metadata": {
  "kernelspec": {
   "display_name": ".venv",
   "language": "python",
   "name": "python3"
  },
  "language_info": {
   "codemirror_mode": {
    "name": "ipython",
    "version": 3
   },
   "file_extension": ".py",
   "mimetype": "text/x-python",
   "name": "python",
   "nbconvert_exporter": "python",
   "pygments_lexer": "ipython3",
   "version": "3.13.3"
  }
 },
 "nbformat": 4,
 "nbformat_minor": 5
}
