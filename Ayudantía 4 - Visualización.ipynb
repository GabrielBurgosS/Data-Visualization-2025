{
 "cells": [
  {
   "cell_type": "markdown",
   "id": "21822c8f",
   "metadata": {},
   "source": [
    "# **Ayudantía 4 - Visualización de Datos I**\n",
    "## Data Visualization\n",
    "**Ayudante:** Gabriel Burgos  \n",
    "**Fecha:** Abril 2025  \n",
    " _Universidad de Concepción_\n",
    "\n",
    "---\n",
    "Este workshop se enfoca en la exploración y análisis de los rankings de tenistas ATP y WTA usando técnicas de visualización de datos y pandas en Python."
   ]
  },
  {
   "cell_type": "markdown",
   "id": "eaa72ac6",
   "metadata": {},
   "source": [
    "## __📝 Conceptos Relevantes__"
   ]
  },
  {
   "cell_type": "markdown",
   "id": "f970dff2",
   "metadata": {},
   "source": [
    "Trabajaremos con el ___Workshop 3___ de _Data Visualization_. Los conceptos previos necesarios serán:\n",
    "1. Lectura con Pandas.\n",
    "2. Conceptos de Unión de Dataframes.\n",
    "\n",
    "Además, como conceptos nuevos se utilizarán:\n",
    "1. Función `cut` de pandas.\n",
    "2. Gráficos básicos en python."
   ]
  },
  {
   "cell_type": "markdown",
   "id": "ed08830c",
   "metadata": {},
   "source": [
    "# 💻 __Workshop 3__"
   ]
  },
  {
   "cell_type": "markdown",
   "id": "9faffc15",
   "metadata": {},
   "source": [
    "### Clasificación de Rankings ATP y WTA\n",
    "- **Hombres**: [https://www.espn.cl/tenis/rankings](https://www.espn.cl/tenis/rankings)\n",
    "- **Mujeres**: [https://www.espn.cl/tenis/rankings/_/tipo/wta](https://www.espn.cl/tenis/rankings/_/tipo/wta)\n",
    "\n",
    "Dichos rankings se actualizan semanalmente. Al momento de consultar las URLs, los rankings obtenidos corresponden a los de la semana actual."
   ]
  },
  {
   "cell_type": "markdown",
   "id": "04c0ff52",
   "metadata": {},
   "source": [
    "### Actividades"
   ]
  },
  {
   "cell_type": "markdown",
   "id": "d9cf55f1",
   "metadata": {},
   "source": [
    "1. Usa la función `read_html` en pandas para leer los datos directamente de las tablas presentes en la página web."
   ]
  },
  {
   "cell_type": "code",
   "execution_count": null,
   "id": "cd55d0f8",
   "metadata": {},
   "outputs": [],
   "source": [
    "# Tu código aquí"
   ]
  },
  {
   "cell_type": "markdown",
   "id": "928c03c7",
   "metadata": {},
   "source": [
    "2. Concatena ambos dataframes."
   ]
  },
  {
   "cell_type": "code",
   "execution_count": null,
   "id": "4783b11a",
   "metadata": {},
   "outputs": [],
   "source": [
    "# Tu código aquí"
   ]
  },
  {
   "cell_type": "markdown",
   "id": "d317c0e7",
   "metadata": {},
   "source": [
    "3. Generalice la lectura de datos y obtenga registros de 2007 a la fecha."
   ]
  },
  {
   "cell_type": "code",
   "execution_count": null,
   "id": "ffff8436",
   "metadata": {},
   "outputs": [],
   "source": [
    "# Tu código aquí"
   ]
  },
  {
   "cell_type": "markdown",
   "id": "7e82fad0",
   "metadata": {},
   "source": [
    "4. A partir de la columna “edad”, cree una nueva columna llamada “rango de edad”, que sea de la forma (16-20, 21-25, …). Para ello, use la función `cut`."
   ]
  },
  {
   "cell_type": "code",
   "execution_count": null,
   "id": "c1d38abb",
   "metadata": {},
   "outputs": [],
   "source": [
    "# Tu código aquí"
   ]
  },
  {
   "cell_type": "markdown",
   "id": "3da8c730",
   "metadata": {},
   "source": [
    "5. Grafique la distribución de puntos ATP según rango de edad en 2025. ¿Es la misma distribución con respecto a 2019?"
   ]
  },
  {
   "cell_type": "code",
   "execution_count": null,
   "id": "51458ef6",
   "metadata": {},
   "outputs": [],
   "source": [
    "# Tu código aquí"
   ]
  },
  {
   "cell_type": "markdown",
   "id": "bb09a1a3",
   "metadata": {},
   "source": [
    "6. Grafique la distribución de puntos según sexo."
   ]
  },
  {
   "cell_type": "code",
   "execution_count": null,
   "id": "0e883a93",
   "metadata": {},
   "outputs": [],
   "source": [
    "# Tu código aquí"
   ]
  },
  {
   "cell_type": "markdown",
   "id": "7f85756e",
   "metadata": {},
   "source": [
    "7. Grafique la distribución de edades según sexo."
   ]
  },
  {
   "cell_type": "code",
   "execution_count": null,
   "id": "87cbef98",
   "metadata": {},
   "outputs": [],
   "source": [
    "# Tu código aquí"
   ]
  },
  {
   "cell_type": "markdown",
   "id": "58a49387",
   "metadata": {},
   "source": [
    "8. Grafique las y los 5 tenistas con mayor variación en el ranking ATP y WTA, tanto en el mismo gráfico como por separado entre 2025 y 2024."
   ]
  },
  {
   "cell_type": "code",
   "execution_count": null,
   "id": "0e236348",
   "metadata": {},
   "outputs": [],
   "source": [
    "# Tu código aquí"
   ]
  },
  {
   "cell_type": "markdown",
   "id": "3876bc8d",
   "metadata": {},
   "source": [
    "9. Grafique la cantidad de tenistas según rango de edad en 2025."
   ]
  },
  {
   "cell_type": "code",
   "execution_count": null,
   "id": "02432af0",
   "metadata": {},
   "outputs": [],
   "source": [
    "# Tu código aquí"
   ]
  },
  {
   "cell_type": "markdown",
   "id": "54b94ed5",
   "metadata": {},
   "source": [
    "10. Grafique la cantidad de tenistas según rango de edad y sexo en 2025."
   ]
  },
  {
   "cell_type": "code",
   "execution_count": null,
   "id": "5f60ff45",
   "metadata": {},
   "outputs": [],
   "source": [
    "# Tu código aquí"
   ]
  },
  {
   "cell_type": "markdown",
   "id": "f147bf5b",
   "metadata": {},
   "source": [
    "11. ¿Es conveniente usar gráfico de líneas en este conjunto de datos? Fundamente su respuesta."
   ]
  },
  {
   "cell_type": "code",
   "execution_count": null,
   "id": "45b0db9c",
   "metadata": {},
   "outputs": [],
   "source": [
    "# Tu código aquí"
   ]
  },
  {
   "cell_type": "markdown",
   "id": "d20cb817",
   "metadata": {},
   "source": [
    "12. Filtre los datos para Nicolás Jarry, Alejandro Tabilo y Cristian Garín, y visualice su evolución en el ranking anualmente. Para ello, utilice un gráfico de líneas."
   ]
  },
  {
   "cell_type": "code",
   "execution_count": null,
   "id": "6cdef3d0",
   "metadata": {},
   "outputs": [],
   "source": [
    "# Tu código aquí"
   ]
  }
 ],
 "metadata": {
  "language_info": {
   "name": "python"
  }
 },
 "nbformat": 4,
 "nbformat_minor": 5
}
