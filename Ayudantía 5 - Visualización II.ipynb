{
 "cells": [
  {
   "cell_type": "markdown",
   "id": "7a42bee3",
   "metadata": {},
   "source": [
    "# **Ayudantía 5 - Visualización de Datos II**\n",
    "## Data Visualization\n",
    "**Ayudante:** Gabriel Burgos  \n",
    "**Fecha:** Abril 2025  \n",
    " _Universidad de Concepción_\n",
    "\n",
    "---\n",
    "__Este workshop se enfoca en la creación de visualizaciones relevantes utilizando datos de precipitaciones en Chile.__"
   ]
  },
  {
   "cell_type": "markdown",
   "id": "343b294a",
   "metadata": {},
   "source": [
    "## __📝 Conceptos Relevantes__"
   ]
  },
  {
   "cell_type": "code",
   "execution_count": null,
   "id": "d5262513",
   "metadata": {},
   "outputs": [],
   "source": [
    "# Bibliotecas necesarias\n",
    "# pip install matplotlib seaborn plotly"
   ]
  },
  {
   "cell_type": "code",
   "execution_count": null,
   "id": "cab6c0c3",
   "metadata": {},
   "outputs": [],
   "source": []
  },
  {
   "cell_type": "markdown",
   "id": "975dd374",
   "metadata": {},
   "source": [
    "# 💻 __Workshop 4__\n",
    "\n",
    "### [Datos sobre precipitaciones](https://datos.gob.cl/dataset/?q=precipitaciones%20OR%20res_name:precipitaciones%20OR%20res_description:precipitaciones)"
   ]
  },
  {
   "cell_type": "markdown",
   "id": "bfee36fe",
   "metadata": {},
   "source": [
    "##### 1. Descargue los archivos necesarios para realizar análisis de precipitaciones para los años 2020 a 2024. Dichos archivos se entregan semestralmente. Realice este pipeline en pandas y polars."
   ]
  },
  {
   "cell_type": "code",
   "execution_count": 2,
   "id": "c2bad6d9",
   "metadata": {},
   "outputs": [],
   "source": [
    "# Tu código aquí"
   ]
  },
  {
   "cell_type": "markdown",
   "id": "6363a1ee",
   "metadata": {},
   "source": [
    "###### Solución"
   ]
  },
  {
   "cell_type": "code",
   "execution_count": 3,
   "id": "91e11561",
   "metadata": {},
   "outputs": [],
   "source": [
    "import pandas as pd\n",
    "import polars as pl\n",
    "from glob import glob\n",
    "\n",
    "# for print purposes\n",
    "from pprint import pp"
   ]
  },
  {
   "cell_type": "code",
   "execution_count": 4,
   "id": "9fd7db46",
   "metadata": {},
   "outputs": [
    {
     "name": "stdout",
     "output_type": "stream",
     "text": [
      "['data\\\\ws4\\\\precipitacion_012020.csv',\n",
      " 'data\\\\ws4\\\\precipitacion_012021.csv',\n",
      " 'data\\\\ws4\\\\precipitacion_012022.csv',\n",
      " 'data\\\\ws4\\\\precipitacion_012023.csv',\n",
      " 'data\\\\ws4\\\\precipitacion_012024.csv',\n",
      " 'data\\\\ws4\\\\precipitacion_022020.csv',\n",
      " 'data\\\\ws4\\\\precipitacion_022021.csv',\n",
      " 'data\\\\ws4\\\\precipitacion_022022.csv',\n",
      " 'data\\\\ws4\\\\precipitacion_022023.csv',\n",
      " 'data\\\\ws4\\\\precipitacion_022024.csv',\n",
      " 'data\\\\ws4\\\\precipitacion_032020.csv',\n",
      " 'data\\\\ws4\\\\precipitacion_032021.csv',\n",
      " 'data\\\\ws4\\\\precipitacion_032022.csv',\n",
      " 'data\\\\ws4\\\\precipitacion_032023.csv',\n",
      " 'data\\\\ws4\\\\precipitacion_032024.csv',\n",
      " 'data\\\\ws4\\\\precipitacion_042020.csv',\n",
      " 'data\\\\ws4\\\\precipitacion_042021.csv',\n",
      " 'data\\\\ws4\\\\precipitacion_042022.csv',\n",
      " 'data\\\\ws4\\\\precipitacion_042023.csv',\n",
      " 'data\\\\ws4\\\\precipitacion_042024.csv',\n",
      " 'data\\\\ws4\\\\precipitacion_052020.csv',\n",
      " 'data\\\\ws4\\\\precipitacion_052021.csv',\n",
      " 'data\\\\ws4\\\\precipitacion_052022.csv',\n",
      " 'data\\\\ws4\\\\precipitacion_052023.csv',\n",
      " 'data\\\\ws4\\\\precipitacion_052024.csv',\n",
      " 'data\\\\ws4\\\\precipitacion_062020.csv',\n",
      " 'data\\\\ws4\\\\precipitacion_062021.csv',\n",
      " 'data\\\\ws4\\\\precipitacion_062022.csv',\n",
      " 'data\\\\ws4\\\\precipitacion_062023.csv',\n",
      " 'data\\\\ws4\\\\precipitacion_062024.csv',\n",
      " 'data\\\\ws4\\\\precipitacion_072020.csv',\n",
      " 'data\\\\ws4\\\\precipitacion_072021.csv',\n",
      " 'data\\\\ws4\\\\precipitacion_072022.csv',\n",
      " 'data\\\\ws4\\\\precipitacion_072023.csv',\n",
      " 'data\\\\ws4\\\\precipitacion_072024.csv',\n",
      " 'data\\\\ws4\\\\precipitacion_082020.csv',\n",
      " 'data\\\\ws4\\\\precipitacion_082021.csv',\n",
      " 'data\\\\ws4\\\\precipitacion_082022.csv',\n",
      " 'data\\\\ws4\\\\precipitacion_082023.csv',\n",
      " 'data\\\\ws4\\\\precipitacion_082024.csv',\n",
      " 'data\\\\ws4\\\\precipitacion_092020.csv',\n",
      " 'data\\\\ws4\\\\precipitacion_092021.csv',\n",
      " 'data\\\\ws4\\\\precipitacion_092022.csv',\n",
      " 'data\\\\ws4\\\\precipitacion_092023.csv',\n",
      " 'data\\\\ws4\\\\precipitacion_092024.csv',\n",
      " 'data\\\\ws4\\\\precipitacion_102020.csv',\n",
      " 'data\\\\ws4\\\\precipitacion_102021.csv',\n",
      " 'data\\\\ws4\\\\precipitacion_102022.csv',\n",
      " 'data\\\\ws4\\\\precipitacion_102023.csv',\n",
      " 'data\\\\ws4\\\\precipitacion_102024.csv',\n",
      " 'data\\\\ws4\\\\precipitacion_112020.csv',\n",
      " 'data\\\\ws4\\\\precipitacion_112021.csv',\n",
      " 'data\\\\ws4\\\\precipitacion_112022.csv',\n",
      " 'data\\\\ws4\\\\precipitacion_112023.csv',\n",
      " 'data\\\\ws4\\\\precipitacion_112024.csv',\n",
      " 'data\\\\ws4\\\\precipitacion_122020.csv',\n",
      " 'data\\\\ws4\\\\precipitacion_122021.csv',\n",
      " 'data\\\\ws4\\\\precipitacion_122022.csv',\n",
      " 'data\\\\ws4\\\\precipitacion_122023.csv',\n",
      " 'data\\\\ws4\\\\precipitacion_122024.csv']\n"
     ]
    }
   ],
   "source": [
    "# Reading file_paths\n",
    "csv_files = glob(r'data\\ws4\\*.csv')\n",
    "pp(csv_files)"
   ]
  },
  {
   "cell_type": "code",
   "execution_count": 5,
   "id": "9cf19dc2",
   "metadata": {},
   "outputs": [
    {
     "data": {
      "text/html": [
       "<div><style>\n",
       ".dataframe > thead > tr,\n",
       ".dataframe > tbody > tr {\n",
       "  text-align: right;\n",
       "  white-space: pre-wrap;\n",
       "}\n",
       "</style>\n",
       "<small>shape: (974, 8)</small><table border=\"1\" class=\"dataframe\"><thead><tr><th>CodigoNacional</th><th>NombreEstacion</th><th>Latitud</th><th>Altura</th><th>Año</th><th>Mes</th><th>Dia</th><th>SumaDiaria</th></tr><tr><td>i64</td><td>str</td><td>str</td><td>i64</td><td>i64</td><td>i64</td><td>i64</td><td>f64</td></tr></thead><tbody><tr><td>180005</td><td>&quot;Chacalluta, Arica Ap.&quot;</td><td>&quot;18&amp;deg 21&#x27; 20&#x27;&#x27; S&quot;</td><td>50</td><td>2020</td><td>1</td><td>1</td><td>0.0</td></tr><tr><td>180005</td><td>&quot;Chacalluta, Arica Ap.&quot;</td><td>&quot;18&amp;deg 21&#x27; 20&#x27;&#x27; S&quot;</td><td>50</td><td>2020</td><td>1</td><td>2</td><td>0.2</td></tr><tr><td>180005</td><td>&quot;Chacalluta, Arica Ap.&quot;</td><td>&quot;18&amp;deg 21&#x27; 20&#x27;&#x27; S&quot;</td><td>50</td><td>2020</td><td>1</td><td>3</td><td>0.0</td></tr><tr><td>180005</td><td>&quot;Chacalluta, Arica Ap.&quot;</td><td>&quot;18&amp;deg 21&#x27; 20&#x27;&#x27; S&quot;</td><td>50</td><td>2020</td><td>1</td><td>4</td><td>0.0</td></tr><tr><td>180005</td><td>&quot;Chacalluta, Arica Ap.&quot;</td><td>&quot;18&amp;deg 21&#x27; 20&#x27;&#x27; S&quot;</td><td>50</td><td>2020</td><td>1</td><td>5</td><td>0.0</td></tr><tr><td>&hellip;</td><td>&hellip;</td><td>&hellip;</td><td>&hellip;</td><td>&hellip;</td><td>&hellip;</td><td>&hellip;</td><td>&hellip;</td></tr><tr><td>950001</td><td>&quot;C.M.A. Eduardo Frei Montalva, …</td><td>&quot;62&amp;deg 11&#x27; 31&#x27;&#x27; S&quot;</td><td>45</td><td>2020</td><td>1</td><td>27</td><td>4.4</td></tr><tr><td>950001</td><td>&quot;C.M.A. Eduardo Frei Montalva, …</td><td>&quot;62&amp;deg 11&#x27; 31&#x27;&#x27; S&quot;</td><td>45</td><td>2020</td><td>1</td><td>28</td><td>3.6</td></tr><tr><td>950001</td><td>&quot;C.M.A. Eduardo Frei Montalva, …</td><td>&quot;62&amp;deg 11&#x27; 31&#x27;&#x27; S&quot;</td><td>45</td><td>2020</td><td>1</td><td>29</td><td>0.0</td></tr><tr><td>950001</td><td>&quot;C.M.A. Eduardo Frei Montalva, …</td><td>&quot;62&amp;deg 11&#x27; 31&#x27;&#x27; S&quot;</td><td>45</td><td>2020</td><td>1</td><td>30</td><td>0.4</td></tr><tr><td>950001</td><td>&quot;C.M.A. Eduardo Frei Montalva, …</td><td>&quot;62&amp;deg 11&#x27; 31&#x27;&#x27; S&quot;</td><td>45</td><td>2020</td><td>1</td><td>31</td><td>0.0</td></tr></tbody></table></div>"
      ],
      "text/plain": [
       "shape: (974, 8)\n",
       "┌────────────────┬────────────────────┬───────────────────┬────────┬──────┬─────┬─────┬────────────┐\n",
       "│ CodigoNacional ┆ NombreEstacion     ┆ Latitud           ┆ Altura ┆ Año  ┆ Mes ┆ Dia ┆ SumaDiaria │\n",
       "│ ---            ┆ ---                ┆ ---               ┆ ---    ┆ ---  ┆ --- ┆ --- ┆ ---        │\n",
       "│ i64            ┆ str                ┆ str               ┆ i64    ┆ i64  ┆ i64 ┆ i64 ┆ f64        │\n",
       "╞════════════════╪════════════════════╪═══════════════════╪════════╪══════╪═════╪═════╪════════════╡\n",
       "│ 180005         ┆ Chacalluta, Arica  ┆ 18&deg 21' 20'' S ┆ 50     ┆ 2020 ┆ 1   ┆ 1   ┆ 0.0        │\n",
       "│                ┆ Ap.                ┆                   ┆        ┆      ┆     ┆     ┆            │\n",
       "│ 180005         ┆ Chacalluta, Arica  ┆ 18&deg 21' 20'' S ┆ 50     ┆ 2020 ┆ 1   ┆ 2   ┆ 0.2        │\n",
       "│                ┆ Ap.                ┆                   ┆        ┆      ┆     ┆     ┆            │\n",
       "│ 180005         ┆ Chacalluta, Arica  ┆ 18&deg 21' 20'' S ┆ 50     ┆ 2020 ┆ 1   ┆ 3   ┆ 0.0        │\n",
       "│                ┆ Ap.                ┆                   ┆        ┆      ┆     ┆     ┆            │\n",
       "│ 180005         ┆ Chacalluta, Arica  ┆ 18&deg 21' 20'' S ┆ 50     ┆ 2020 ┆ 1   ┆ 4   ┆ 0.0        │\n",
       "│                ┆ Ap.                ┆                   ┆        ┆      ┆     ┆     ┆            │\n",
       "│ 180005         ┆ Chacalluta, Arica  ┆ 18&deg 21' 20'' S ┆ 50     ┆ 2020 ┆ 1   ┆ 5   ┆ 0.0        │\n",
       "│                ┆ Ap.                ┆                   ┆        ┆      ┆     ┆     ┆            │\n",
       "│ …              ┆ …                  ┆ …                 ┆ …      ┆ …    ┆ …   ┆ …   ┆ …          │\n",
       "│ 950001         ┆ C.M.A. Eduardo     ┆ 62&deg 11' 31'' S ┆ 45     ┆ 2020 ┆ 1   ┆ 27  ┆ 4.4        │\n",
       "│                ┆ Frei Montalva, …   ┆                   ┆        ┆      ┆     ┆     ┆            │\n",
       "│ 950001         ┆ C.M.A. Eduardo     ┆ 62&deg 11' 31'' S ┆ 45     ┆ 2020 ┆ 1   ┆ 28  ┆ 3.6        │\n",
       "│                ┆ Frei Montalva, …   ┆                   ┆        ┆      ┆     ┆     ┆            │\n",
       "│ 950001         ┆ C.M.A. Eduardo     ┆ 62&deg 11' 31'' S ┆ 45     ┆ 2020 ┆ 1   ┆ 29  ┆ 0.0        │\n",
       "│                ┆ Frei Montalva, …   ┆                   ┆        ┆      ┆     ┆     ┆            │\n",
       "│ 950001         ┆ C.M.A. Eduardo     ┆ 62&deg 11' 31'' S ┆ 45     ┆ 2020 ┆ 1   ┆ 30  ┆ 0.4        │\n",
       "│                ┆ Frei Montalva, …   ┆                   ┆        ┆      ┆     ┆     ┆            │\n",
       "│ 950001         ┆ C.M.A. Eduardo     ┆ 62&deg 11' 31'' S ┆ 45     ┆ 2020 ┆ 1   ┆ 31  ┆ 0.0        │\n",
       "│                ┆ Frei Montalva, …   ┆                   ┆        ┆      ┆     ┆     ┆            │\n",
       "└────────────────┴────────────────────┴───────────────────┴────────┴──────┴─────┴─────┴────────────┘"
      ]
     },
     "execution_count": 5,
     "metadata": {},
     "output_type": "execute_result"
    }
   ],
   "source": [
    "# Lectura en polars\n",
    "pl.read_csv(csv_files[0], separator=';', encoding='utf-8')"
   ]
  },
  {
   "cell_type": "code",
   "execution_count": 6,
   "id": "6caccb84",
   "metadata": {},
   "outputs": [
    {
     "data": {
      "text/html": [
       "<div>\n",
       "<style scoped>\n",
       "    .dataframe tbody tr th:only-of-type {\n",
       "        vertical-align: middle;\n",
       "    }\n",
       "\n",
       "    .dataframe tbody tr th {\n",
       "        vertical-align: top;\n",
       "    }\n",
       "\n",
       "    .dataframe thead th {\n",
       "        text-align: right;\n",
       "    }\n",
       "</style>\n",
       "<table border=\"1\" class=\"dataframe\">\n",
       "  <thead>\n",
       "    <tr style=\"text-align: right;\">\n",
       "      <th></th>\n",
       "      <th>CodigoNacional</th>\n",
       "      <th>NombreEstacion</th>\n",
       "      <th>Latitud</th>\n",
       "      <th>Altura</th>\n",
       "      <th>Año</th>\n",
       "      <th>Mes</th>\n",
       "      <th>Dia</th>\n",
       "      <th>SumaDiaria</th>\n",
       "    </tr>\n",
       "  </thead>\n",
       "  <tbody>\n",
       "    <tr>\n",
       "      <th>0</th>\n",
       "      <td>180005</td>\n",
       "      <td>Chacalluta, Arica Ap.</td>\n",
       "      <td>18&amp;deg 21' 20'' S</td>\n",
       "      <td>50</td>\n",
       "      <td>2020</td>\n",
       "      <td>1</td>\n",
       "      <td>1</td>\n",
       "      <td>0.0</td>\n",
       "    </tr>\n",
       "    <tr>\n",
       "      <th>1</th>\n",
       "      <td>180005</td>\n",
       "      <td>Chacalluta, Arica Ap.</td>\n",
       "      <td>18&amp;deg 21' 20'' S</td>\n",
       "      <td>50</td>\n",
       "      <td>2020</td>\n",
       "      <td>1</td>\n",
       "      <td>2</td>\n",
       "      <td>0.2</td>\n",
       "    </tr>\n",
       "    <tr>\n",
       "      <th>2</th>\n",
       "      <td>180005</td>\n",
       "      <td>Chacalluta, Arica Ap.</td>\n",
       "      <td>18&amp;deg 21' 20'' S</td>\n",
       "      <td>50</td>\n",
       "      <td>2020</td>\n",
       "      <td>1</td>\n",
       "      <td>3</td>\n",
       "      <td>0.0</td>\n",
       "    </tr>\n",
       "    <tr>\n",
       "      <th>3</th>\n",
       "      <td>180005</td>\n",
       "      <td>Chacalluta, Arica Ap.</td>\n",
       "      <td>18&amp;deg 21' 20'' S</td>\n",
       "      <td>50</td>\n",
       "      <td>2020</td>\n",
       "      <td>1</td>\n",
       "      <td>4</td>\n",
       "      <td>0.0</td>\n",
       "    </tr>\n",
       "    <tr>\n",
       "      <th>4</th>\n",
       "      <td>180005</td>\n",
       "      <td>Chacalluta, Arica Ap.</td>\n",
       "      <td>18&amp;deg 21' 20'' S</td>\n",
       "      <td>50</td>\n",
       "      <td>2020</td>\n",
       "      <td>1</td>\n",
       "      <td>5</td>\n",
       "      <td>0.0</td>\n",
       "    </tr>\n",
       "    <tr>\n",
       "      <th>...</th>\n",
       "      <td>...</td>\n",
       "      <td>...</td>\n",
       "      <td>...</td>\n",
       "      <td>...</td>\n",
       "      <td>...</td>\n",
       "      <td>...</td>\n",
       "      <td>...</td>\n",
       "      <td>...</td>\n",
       "    </tr>\n",
       "    <tr>\n",
       "      <th>969</th>\n",
       "      <td>950001</td>\n",
       "      <td>C.M.A. Eduardo Frei Montalva, Antártica</td>\n",
       "      <td>62&amp;deg 11' 31'' S</td>\n",
       "      <td>45</td>\n",
       "      <td>2020</td>\n",
       "      <td>1</td>\n",
       "      <td>27</td>\n",
       "      <td>4.4</td>\n",
       "    </tr>\n",
       "    <tr>\n",
       "      <th>970</th>\n",
       "      <td>950001</td>\n",
       "      <td>C.M.A. Eduardo Frei Montalva, Antártica</td>\n",
       "      <td>62&amp;deg 11' 31'' S</td>\n",
       "      <td>45</td>\n",
       "      <td>2020</td>\n",
       "      <td>1</td>\n",
       "      <td>28</td>\n",
       "      <td>3.6</td>\n",
       "    </tr>\n",
       "    <tr>\n",
       "      <th>971</th>\n",
       "      <td>950001</td>\n",
       "      <td>C.M.A. Eduardo Frei Montalva, Antártica</td>\n",
       "      <td>62&amp;deg 11' 31'' S</td>\n",
       "      <td>45</td>\n",
       "      <td>2020</td>\n",
       "      <td>1</td>\n",
       "      <td>29</td>\n",
       "      <td>0.0</td>\n",
       "    </tr>\n",
       "    <tr>\n",
       "      <th>972</th>\n",
       "      <td>950001</td>\n",
       "      <td>C.M.A. Eduardo Frei Montalva, Antártica</td>\n",
       "      <td>62&amp;deg 11' 31'' S</td>\n",
       "      <td>45</td>\n",
       "      <td>2020</td>\n",
       "      <td>1</td>\n",
       "      <td>30</td>\n",
       "      <td>0.4</td>\n",
       "    </tr>\n",
       "    <tr>\n",
       "      <th>973</th>\n",
       "      <td>950001</td>\n",
       "      <td>C.M.A. Eduardo Frei Montalva, Antártica</td>\n",
       "      <td>62&amp;deg 11' 31'' S</td>\n",
       "      <td>45</td>\n",
       "      <td>2020</td>\n",
       "      <td>1</td>\n",
       "      <td>31</td>\n",
       "      <td>0.0</td>\n",
       "    </tr>\n",
       "  </tbody>\n",
       "</table>\n",
       "<p>974 rows × 8 columns</p>\n",
       "</div>"
      ],
      "text/plain": [
       "     CodigoNacional                            NombreEstacion  \\\n",
       "0            180005                     Chacalluta, Arica Ap.   \n",
       "1            180005                     Chacalluta, Arica Ap.   \n",
       "2            180005                     Chacalluta, Arica Ap.   \n",
       "3            180005                     Chacalluta, Arica Ap.   \n",
       "4            180005                     Chacalluta, Arica Ap.   \n",
       "..              ...                                       ...   \n",
       "969          950001  C.M.A. Eduardo Frei Montalva, Antártica    \n",
       "970          950001  C.M.A. Eduardo Frei Montalva, Antártica    \n",
       "971          950001  C.M.A. Eduardo Frei Montalva, Antártica    \n",
       "972          950001  C.M.A. Eduardo Frei Montalva, Antártica    \n",
       "973          950001  C.M.A. Eduardo Frei Montalva, Antártica    \n",
       "\n",
       "               Latitud  Altura   Año  Mes  Dia  SumaDiaria  \n",
       "0    18&deg 21' 20'' S      50  2020    1    1         0.0  \n",
       "1    18&deg 21' 20'' S      50  2020    1    2         0.2  \n",
       "2    18&deg 21' 20'' S      50  2020    1    3         0.0  \n",
       "3    18&deg 21' 20'' S      50  2020    1    4         0.0  \n",
       "4    18&deg 21' 20'' S      50  2020    1    5         0.0  \n",
       "..                 ...     ...   ...  ...  ...         ...  \n",
       "969  62&deg 11' 31'' S      45  2020    1   27         4.4  \n",
       "970  62&deg 11' 31'' S      45  2020    1   28         3.6  \n",
       "971  62&deg 11' 31'' S      45  2020    1   29         0.0  \n",
       "972  62&deg 11' 31'' S      45  2020    1   30         0.4  \n",
       "973  62&deg 11' 31'' S      45  2020    1   31         0.0  \n",
       "\n",
       "[974 rows x 8 columns]"
      ]
     },
     "execution_count": 6,
     "metadata": {},
     "output_type": "execute_result"
    }
   ],
   "source": [
    "# Lectura en pandas\n",
    "pd.read_csv(csv_files[0], sep=';', encoding='utf-8')"
   ]
  },
  {
   "cell_type": "markdown",
   "id": "ee0c01cf",
   "metadata": {},
   "source": [
    "##### 2. Genere un único dataframe, que concatene todos los conjuntos de datos."
   ]
  },
  {
   "cell_type": "code",
   "execution_count": 7,
   "id": "87f9195d",
   "metadata": {},
   "outputs": [],
   "source": [
    "# Tu código aquí"
   ]
  },
  {
   "cell_type": "markdown",
   "id": "8f868472",
   "metadata": {},
   "source": [
    "###### Solución"
   ]
  },
  {
   "cell_type": "code",
   "execution_count": 8,
   "id": "7e02d950",
   "metadata": {},
   "outputs": [
    {
     "data": {
      "text/html": [
       "<div>\n",
       "<style scoped>\n",
       "    .dataframe tbody tr th:only-of-type {\n",
       "        vertical-align: middle;\n",
       "    }\n",
       "\n",
       "    .dataframe tbody tr th {\n",
       "        vertical-align: top;\n",
       "    }\n",
       "\n",
       "    .dataframe thead th {\n",
       "        text-align: right;\n",
       "    }\n",
       "</style>\n",
       "<table border=\"1\" class=\"dataframe\">\n",
       "  <thead>\n",
       "    <tr style=\"text-align: right;\">\n",
       "      <th></th>\n",
       "      <th>CodigoNacional</th>\n",
       "      <th>NombreEstacion</th>\n",
       "      <th>Latitud</th>\n",
       "      <th>Altura</th>\n",
       "      <th>Año</th>\n",
       "      <th>Mes</th>\n",
       "      <th>Dia</th>\n",
       "      <th>SumaDiaria</th>\n",
       "    </tr>\n",
       "  </thead>\n",
       "  <tbody>\n",
       "    <tr>\n",
       "      <th>0</th>\n",
       "      <td>180005</td>\n",
       "      <td>Chacalluta, Arica Ap.</td>\n",
       "      <td>18&amp;deg 21' 20'' S</td>\n",
       "      <td>50</td>\n",
       "      <td>2020</td>\n",
       "      <td>01</td>\n",
       "      <td>01</td>\n",
       "      <td>0.0</td>\n",
       "    </tr>\n",
       "    <tr>\n",
       "      <th>1</th>\n",
       "      <td>180005</td>\n",
       "      <td>Chacalluta, Arica Ap.</td>\n",
       "      <td>18&amp;deg 21' 20'' S</td>\n",
       "      <td>50</td>\n",
       "      <td>2020</td>\n",
       "      <td>01</td>\n",
       "      <td>02</td>\n",
       "      <td>0.2</td>\n",
       "    </tr>\n",
       "    <tr>\n",
       "      <th>2</th>\n",
       "      <td>180005</td>\n",
       "      <td>Chacalluta, Arica Ap.</td>\n",
       "      <td>18&amp;deg 21' 20'' S</td>\n",
       "      <td>50</td>\n",
       "      <td>2020</td>\n",
       "      <td>01</td>\n",
       "      <td>03</td>\n",
       "      <td>0.0</td>\n",
       "    </tr>\n",
       "    <tr>\n",
       "      <th>3</th>\n",
       "      <td>180005</td>\n",
       "      <td>Chacalluta, Arica Ap.</td>\n",
       "      <td>18&amp;deg 21' 20'' S</td>\n",
       "      <td>50</td>\n",
       "      <td>2020</td>\n",
       "      <td>01</td>\n",
       "      <td>04</td>\n",
       "      <td>0.0</td>\n",
       "    </tr>\n",
       "    <tr>\n",
       "      <th>4</th>\n",
       "      <td>180005</td>\n",
       "      <td>Chacalluta, Arica Ap.</td>\n",
       "      <td>18&amp;deg 21' 20'' S</td>\n",
       "      <td>50</td>\n",
       "      <td>2020</td>\n",
       "      <td>01</td>\n",
       "      <td>05</td>\n",
       "      <td>0.0</td>\n",
       "    </tr>\n",
       "    <tr>\n",
       "      <th>...</th>\n",
       "      <td>...</td>\n",
       "      <td>...</td>\n",
       "      <td>...</td>\n",
       "      <td>...</td>\n",
       "      <td>...</td>\n",
       "      <td>...</td>\n",
       "      <td>...</td>\n",
       "      <td>...</td>\n",
       "    </tr>\n",
       "    <tr>\n",
       "      <th>59749</th>\n",
       "      <td>950001</td>\n",
       "      <td>C.M.A. Eduardo Frei Montalva, Antártica</td>\n",
       "      <td>62&amp;deg 11' 31'' S</td>\n",
       "      <td>45</td>\n",
       "      <td>2024</td>\n",
       "      <td>12</td>\n",
       "      <td>27</td>\n",
       "      <td>0.0</td>\n",
       "    </tr>\n",
       "    <tr>\n",
       "      <th>59750</th>\n",
       "      <td>950001</td>\n",
       "      <td>C.M.A. Eduardo Frei Montalva, Antártica</td>\n",
       "      <td>62&amp;deg 11' 31'' S</td>\n",
       "      <td>45</td>\n",
       "      <td>2024</td>\n",
       "      <td>12</td>\n",
       "      <td>28</td>\n",
       "      <td>0.8</td>\n",
       "    </tr>\n",
       "    <tr>\n",
       "      <th>59751</th>\n",
       "      <td>950001</td>\n",
       "      <td>C.M.A. Eduardo Frei Montalva, Antártica</td>\n",
       "      <td>62&amp;deg 11' 31'' S</td>\n",
       "      <td>45</td>\n",
       "      <td>2024</td>\n",
       "      <td>12</td>\n",
       "      <td>29</td>\n",
       "      <td>0.6</td>\n",
       "    </tr>\n",
       "    <tr>\n",
       "      <th>59752</th>\n",
       "      <td>950001</td>\n",
       "      <td>C.M.A. Eduardo Frei Montalva, Antártica</td>\n",
       "      <td>62&amp;deg 11' 31'' S</td>\n",
       "      <td>45</td>\n",
       "      <td>2024</td>\n",
       "      <td>12</td>\n",
       "      <td>30</td>\n",
       "      <td>0.4</td>\n",
       "    </tr>\n",
       "    <tr>\n",
       "      <th>59753</th>\n",
       "      <td>950001</td>\n",
       "      <td>C.M.A. Eduardo Frei Montalva, Antártica</td>\n",
       "      <td>62&amp;deg 11' 31'' S</td>\n",
       "      <td>45</td>\n",
       "      <td>2024</td>\n",
       "      <td>12</td>\n",
       "      <td>31</td>\n",
       "      <td>0.0</td>\n",
       "    </tr>\n",
       "  </tbody>\n",
       "</table>\n",
       "<p>59754 rows × 8 columns</p>\n",
       "</div>"
      ],
      "text/plain": [
       "      CodigoNacional                            NombreEstacion  \\\n",
       "0             180005                     Chacalluta, Arica Ap.   \n",
       "1             180005                     Chacalluta, Arica Ap.   \n",
       "2             180005                     Chacalluta, Arica Ap.   \n",
       "3             180005                     Chacalluta, Arica Ap.   \n",
       "4             180005                     Chacalluta, Arica Ap.   \n",
       "...              ...                                       ...   \n",
       "59749         950001  C.M.A. Eduardo Frei Montalva, Antártica    \n",
       "59750         950001  C.M.A. Eduardo Frei Montalva, Antártica    \n",
       "59751         950001  C.M.A. Eduardo Frei Montalva, Antártica    \n",
       "59752         950001  C.M.A. Eduardo Frei Montalva, Antártica    \n",
       "59753         950001  C.M.A. Eduardo Frei Montalva, Antártica    \n",
       "\n",
       "                 Latitud Altura   Año Mes Dia SumaDiaria  \n",
       "0      18&deg 21' 20'' S     50  2020  01  01        0.0  \n",
       "1      18&deg 21' 20'' S     50  2020  01  02        0.2  \n",
       "2      18&deg 21' 20'' S     50  2020  01  03        0.0  \n",
       "3      18&deg 21' 20'' S     50  2020  01  04        0.0  \n",
       "4      18&deg 21' 20'' S     50  2020  01  05        0.0  \n",
       "...                  ...    ...   ...  ..  ..        ...  \n",
       "59749  62&deg 11' 31'' S     45  2024  12  27        0.0  \n",
       "59750  62&deg 11' 31'' S     45  2024  12  28        0.8  \n",
       "59751  62&deg 11' 31'' S     45  2024  12  29        0.6  \n",
       "59752  62&deg 11' 31'' S     45  2024  12  30        0.4  \n",
       "59753  62&deg 11' 31'' S     45  2024  12  31        0.0  \n",
       "\n",
       "[59754 rows x 8 columns]"
      ]
     },
     "execution_count": 8,
     "metadata": {},
     "output_type": "execute_result"
    }
   ],
   "source": [
    "# Pandas pipeline\n",
    "\n",
    "# Algunos csv tienen un encabezado diferente, por lo que se homologarán\n",
    "headers = ['CodigoNacional', 'NombreEstacion', 'Latitud', 'Altura', 'Año', 'Mes', 'Dia', 'SumaDiaria']\n",
    "\n",
    "# Lectura\n",
    "dfs = [] # Contenedor\n",
    "for csv in csv_files:\n",
    "\tdf = pd.read_csv(csv, sep=';', encoding='utf-8', header=None, encoding_errors='ignore') # lectura singular\n",
    "\tdf.columns = headers # Renombrar columnas\n",
    "\t# Borrar primera fila si es necesario:\n",
    "\tif df['CodigoNacional'][0] == 'CodigoNacional':\n",
    "\t\tdf.drop(index=0, inplace=True)\n",
    "\tdfs.append(df) # Al contenedor\n",
    "\n",
    "# Concatenación\n",
    "df = pd.concat(dfs).reset_index(drop=True)\n",
    "df_pandas = df.copy()\n",
    "df_pandas"
   ]
  },
  {
   "cell_type": "code",
   "execution_count": 9,
   "id": "3739d994",
   "metadata": {},
   "outputs": [
    {
     "data": {
      "text/html": [
       "<div><style>\n",
       ".dataframe > thead > tr,\n",
       ".dataframe > tbody > tr {\n",
       "  text-align: right;\n",
       "  white-space: pre-wrap;\n",
       "}\n",
       "</style>\n",
       "<small>shape: (59_712, 8)</small><table border=\"1\" class=\"dataframe\"><thead><tr><th>CodigoNacional</th><th>NombreEstacion</th><th>Latitud</th><th>Altura</th><th>Año</th><th>Mes</th><th>Dia</th><th>SumaDiaria</th></tr><tr><td>i64</td><td>str</td><td>str</td><td>i64</td><td>i64</td><td>i64</td><td>i64</td><td>f64</td></tr></thead><tbody><tr><td>180005</td><td>&quot;Chacalluta, Arica Ap.&quot;</td><td>&quot;18&amp;deg 21&#x27; 20&#x27;&#x27; S&quot;</td><td>50</td><td>2020</td><td>1</td><td>1</td><td>0.0</td></tr><tr><td>180005</td><td>&quot;Chacalluta, Arica Ap.&quot;</td><td>&quot;18&amp;deg 21&#x27; 20&#x27;&#x27; S&quot;</td><td>50</td><td>2020</td><td>1</td><td>2</td><td>0.2</td></tr><tr><td>180005</td><td>&quot;Chacalluta, Arica Ap.&quot;</td><td>&quot;18&amp;deg 21&#x27; 20&#x27;&#x27; S&quot;</td><td>50</td><td>2020</td><td>1</td><td>3</td><td>0.0</td></tr><tr><td>180005</td><td>&quot;Chacalluta, Arica Ap.&quot;</td><td>&quot;18&amp;deg 21&#x27; 20&#x27;&#x27; S&quot;</td><td>50</td><td>2020</td><td>1</td><td>4</td><td>0.0</td></tr><tr><td>180005</td><td>&quot;Chacalluta, Arica Ap.&quot;</td><td>&quot;18&amp;deg 21&#x27; 20&#x27;&#x27; S&quot;</td><td>50</td><td>2020</td><td>1</td><td>5</td><td>0.0</td></tr><tr><td>&hellip;</td><td>&hellip;</td><td>&hellip;</td><td>&hellip;</td><td>&hellip;</td><td>&hellip;</td><td>&hellip;</td><td>&hellip;</td></tr><tr><td>950001</td><td>&quot;C.M.A. Eduardo Frei Montalva, …</td><td>&quot;62&amp;deg 11&#x27; 31&#x27;&#x27; S&quot;</td><td>45</td><td>2024</td><td>12</td><td>27</td><td>0.0</td></tr><tr><td>950001</td><td>&quot;C.M.A. Eduardo Frei Montalva, …</td><td>&quot;62&amp;deg 11&#x27; 31&#x27;&#x27; S&quot;</td><td>45</td><td>2024</td><td>12</td><td>28</td><td>0.8</td></tr><tr><td>950001</td><td>&quot;C.M.A. Eduardo Frei Montalva, …</td><td>&quot;62&amp;deg 11&#x27; 31&#x27;&#x27; S&quot;</td><td>45</td><td>2024</td><td>12</td><td>29</td><td>0.6</td></tr><tr><td>950001</td><td>&quot;C.M.A. Eduardo Frei Montalva, …</td><td>&quot;62&amp;deg 11&#x27; 31&#x27;&#x27; S&quot;</td><td>45</td><td>2024</td><td>12</td><td>30</td><td>0.4</td></tr><tr><td>950001</td><td>&quot;C.M.A. Eduardo Frei Montalva, …</td><td>&quot;62&amp;deg 11&#x27; 31&#x27;&#x27; S&quot;</td><td>45</td><td>2024</td><td>12</td><td>31</td><td>0.0</td></tr></tbody></table></div>"
      ],
      "text/plain": [
       "shape: (59_712, 8)\n",
       "┌────────────────┬────────────────────┬───────────────────┬────────┬──────┬─────┬─────┬────────────┐\n",
       "│ CodigoNacional ┆ NombreEstacion     ┆ Latitud           ┆ Altura ┆ Año  ┆ Mes ┆ Dia ┆ SumaDiaria │\n",
       "│ ---            ┆ ---                ┆ ---               ┆ ---    ┆ ---  ┆ --- ┆ --- ┆ ---        │\n",
       "│ i64            ┆ str                ┆ str               ┆ i64    ┆ i64  ┆ i64 ┆ i64 ┆ f64        │\n",
       "╞════════════════╪════════════════════╪═══════════════════╪════════╪══════╪═════╪═════╪════════════╡\n",
       "│ 180005         ┆ Chacalluta, Arica  ┆ 18&deg 21' 20'' S ┆ 50     ┆ 2020 ┆ 1   ┆ 1   ┆ 0.0        │\n",
       "│                ┆ Ap.                ┆                   ┆        ┆      ┆     ┆     ┆            │\n",
       "│ 180005         ┆ Chacalluta, Arica  ┆ 18&deg 21' 20'' S ┆ 50     ┆ 2020 ┆ 1   ┆ 2   ┆ 0.2        │\n",
       "│                ┆ Ap.                ┆                   ┆        ┆      ┆     ┆     ┆            │\n",
       "│ 180005         ┆ Chacalluta, Arica  ┆ 18&deg 21' 20'' S ┆ 50     ┆ 2020 ┆ 1   ┆ 3   ┆ 0.0        │\n",
       "│                ┆ Ap.                ┆                   ┆        ┆      ┆     ┆     ┆            │\n",
       "│ 180005         ┆ Chacalluta, Arica  ┆ 18&deg 21' 20'' S ┆ 50     ┆ 2020 ┆ 1   ┆ 4   ┆ 0.0        │\n",
       "│                ┆ Ap.                ┆                   ┆        ┆      ┆     ┆     ┆            │\n",
       "│ 180005         ┆ Chacalluta, Arica  ┆ 18&deg 21' 20'' S ┆ 50     ┆ 2020 ┆ 1   ┆ 5   ┆ 0.0        │\n",
       "│                ┆ Ap.                ┆                   ┆        ┆      ┆     ┆     ┆            │\n",
       "│ …              ┆ …                  ┆ …                 ┆ …      ┆ …    ┆ …   ┆ …   ┆ …          │\n",
       "│ 950001         ┆ C.M.A. Eduardo     ┆ 62&deg 11' 31'' S ┆ 45     ┆ 2024 ┆ 12  ┆ 27  ┆ 0.0        │\n",
       "│                ┆ Frei Montalva, …   ┆                   ┆        ┆      ┆     ┆     ┆            │\n",
       "│ 950001         ┆ C.M.A. Eduardo     ┆ 62&deg 11' 31'' S ┆ 45     ┆ 2024 ┆ 12  ┆ 28  ┆ 0.8        │\n",
       "│                ┆ Frei Montalva, …   ┆                   ┆        ┆      ┆     ┆     ┆            │\n",
       "│ 950001         ┆ C.M.A. Eduardo     ┆ 62&deg 11' 31'' S ┆ 45     ┆ 2024 ┆ 12  ┆ 29  ┆ 0.6        │\n",
       "│                ┆ Frei Montalva, …   ┆                   ┆        ┆      ┆     ┆     ┆            │\n",
       "│ 950001         ┆ C.M.A. Eduardo     ┆ 62&deg 11' 31'' S ┆ 45     ┆ 2024 ┆ 12  ┆ 30  ┆ 0.4        │\n",
       "│                ┆ Frei Montalva, …   ┆                   ┆        ┆      ┆     ┆     ┆            │\n",
       "│ 950001         ┆ C.M.A. Eduardo     ┆ 62&deg 11' 31'' S ┆ 45     ┆ 2024 ┆ 12  ┆ 31  ┆ 0.0        │\n",
       "│                ┆ Frei Montalva, …   ┆                   ┆        ┆      ┆     ┆     ┆            │\n",
       "└────────────────┴────────────────────┴───────────────────┴────────┴──────┴─────┴─────┴────────────┘"
      ]
     },
     "execution_count": 9,
     "metadata": {},
     "output_type": "execute_result"
    }
   ],
   "source": [
    "# Pandas pipeline\n",
    "\n",
    "# Algunos csv tienen un encabezado diferente, por lo que se homologarán\n",
    "headers = ['CodigoNacional', 'NombreEstacion', 'Latitud', 'Altura', 'Año', 'Mes', 'Dia', 'SumaDiaria']\n",
    "\n",
    "# Lectura\n",
    "dfs = [] # Contenedor\n",
    "for csv in csv_files:\n",
    "\tdf = pl.read_csv(csv, separator=';', encoding='latin1', columns=None) # lectura singular\n",
    "\tdf.columns = headers # Renombrar columnas\n",
    "\t# Borrar primera fila si es necesario:\n",
    "\tif df['CodigoNacional'][0] == 'CodigoNacional':\n",
    "\t\tdf.drop(index=0, inplace=True)\n",
    "\tdfs.append(df) # Al contenedor\n",
    "\n",
    "# Concatenación\n",
    "df = pl.concat(dfs)\n",
    "df_polars = df\n",
    "df_polars"
   ]
  },
  {
   "cell_type": "code",
   "execution_count": 10,
   "id": "5ef6339c",
   "metadata": {},
   "outputs": [],
   "source": [
    "# Utilizaré la versión de pandas\n",
    "df = df_pandas"
   ]
  },
  {
   "cell_type": "code",
   "execution_count": 11,
   "id": "7fad63ab",
   "metadata": {},
   "outputs": [
    {
     "data": {
      "text/html": [
       "<div>\n",
       "<style scoped>\n",
       "    .dataframe tbody tr th:only-of-type {\n",
       "        vertical-align: middle;\n",
       "    }\n",
       "\n",
       "    .dataframe tbody tr th {\n",
       "        vertical-align: top;\n",
       "    }\n",
       "\n",
       "    .dataframe thead th {\n",
       "        text-align: right;\n",
       "    }\n",
       "</style>\n",
       "<table border=\"1\" class=\"dataframe\">\n",
       "  <thead>\n",
       "    <tr style=\"text-align: right;\">\n",
       "      <th></th>\n",
       "      <th>CodigoNacional</th>\n",
       "      <th>NombreEstacion</th>\n",
       "      <th>Latitud</th>\n",
       "      <th>Altura</th>\n",
       "      <th>Año</th>\n",
       "      <th>Mes</th>\n",
       "      <th>Dia</th>\n",
       "      <th>SumaDiaria</th>\n",
       "    </tr>\n",
       "  </thead>\n",
       "  <tbody>\n",
       "    <tr>\n",
       "      <th>0</th>\n",
       "      <td>180005</td>\n",
       "      <td>Chacalluta, Arica Ap.</td>\n",
       "      <td>18&amp;deg 21' 20'' S</td>\n",
       "      <td>50</td>\n",
       "      <td>2020</td>\n",
       "      <td>1</td>\n",
       "      <td>1</td>\n",
       "      <td>0.0</td>\n",
       "    </tr>\n",
       "    <tr>\n",
       "      <th>1</th>\n",
       "      <td>180005</td>\n",
       "      <td>Chacalluta, Arica Ap.</td>\n",
       "      <td>18&amp;deg 21' 20'' S</td>\n",
       "      <td>50</td>\n",
       "      <td>2020</td>\n",
       "      <td>1</td>\n",
       "      <td>2</td>\n",
       "      <td>0.2</td>\n",
       "    </tr>\n",
       "    <tr>\n",
       "      <th>2</th>\n",
       "      <td>180005</td>\n",
       "      <td>Chacalluta, Arica Ap.</td>\n",
       "      <td>18&amp;deg 21' 20'' S</td>\n",
       "      <td>50</td>\n",
       "      <td>2020</td>\n",
       "      <td>1</td>\n",
       "      <td>3</td>\n",
       "      <td>0.0</td>\n",
       "    </tr>\n",
       "    <tr>\n",
       "      <th>3</th>\n",
       "      <td>180005</td>\n",
       "      <td>Chacalluta, Arica Ap.</td>\n",
       "      <td>18&amp;deg 21' 20'' S</td>\n",
       "      <td>50</td>\n",
       "      <td>2020</td>\n",
       "      <td>1</td>\n",
       "      <td>4</td>\n",
       "      <td>0.0</td>\n",
       "    </tr>\n",
       "    <tr>\n",
       "      <th>4</th>\n",
       "      <td>180005</td>\n",
       "      <td>Chacalluta, Arica Ap.</td>\n",
       "      <td>18&amp;deg 21' 20'' S</td>\n",
       "      <td>50</td>\n",
       "      <td>2020</td>\n",
       "      <td>1</td>\n",
       "      <td>5</td>\n",
       "      <td>0.0</td>\n",
       "    </tr>\n",
       "    <tr>\n",
       "      <th>...</th>\n",
       "      <td>...</td>\n",
       "      <td>...</td>\n",
       "      <td>...</td>\n",
       "      <td>...</td>\n",
       "      <td>...</td>\n",
       "      <td>...</td>\n",
       "      <td>...</td>\n",
       "      <td>...</td>\n",
       "    </tr>\n",
       "    <tr>\n",
       "      <th>59749</th>\n",
       "      <td>950001</td>\n",
       "      <td>C.M.A. Eduardo Frei Montalva, Antártica</td>\n",
       "      <td>62&amp;deg 11' 31'' S</td>\n",
       "      <td>45</td>\n",
       "      <td>2024</td>\n",
       "      <td>12</td>\n",
       "      <td>27</td>\n",
       "      <td>0.0</td>\n",
       "    </tr>\n",
       "    <tr>\n",
       "      <th>59750</th>\n",
       "      <td>950001</td>\n",
       "      <td>C.M.A. Eduardo Frei Montalva, Antártica</td>\n",
       "      <td>62&amp;deg 11' 31'' S</td>\n",
       "      <td>45</td>\n",
       "      <td>2024</td>\n",
       "      <td>12</td>\n",
       "      <td>28</td>\n",
       "      <td>0.8</td>\n",
       "    </tr>\n",
       "    <tr>\n",
       "      <th>59751</th>\n",
       "      <td>950001</td>\n",
       "      <td>C.M.A. Eduardo Frei Montalva, Antártica</td>\n",
       "      <td>62&amp;deg 11' 31'' S</td>\n",
       "      <td>45</td>\n",
       "      <td>2024</td>\n",
       "      <td>12</td>\n",
       "      <td>29</td>\n",
       "      <td>0.6</td>\n",
       "    </tr>\n",
       "    <tr>\n",
       "      <th>59752</th>\n",
       "      <td>950001</td>\n",
       "      <td>C.M.A. Eduardo Frei Montalva, Antártica</td>\n",
       "      <td>62&amp;deg 11' 31'' S</td>\n",
       "      <td>45</td>\n",
       "      <td>2024</td>\n",
       "      <td>12</td>\n",
       "      <td>30</td>\n",
       "      <td>0.4</td>\n",
       "    </tr>\n",
       "    <tr>\n",
       "      <th>59753</th>\n",
       "      <td>950001</td>\n",
       "      <td>C.M.A. Eduardo Frei Montalva, Antártica</td>\n",
       "      <td>62&amp;deg 11' 31'' S</td>\n",
       "      <td>45</td>\n",
       "      <td>2024</td>\n",
       "      <td>12</td>\n",
       "      <td>31</td>\n",
       "      <td>0.0</td>\n",
       "    </tr>\n",
       "  </tbody>\n",
       "</table>\n",
       "<p>58980 rows × 8 columns</p>\n",
       "</div>"
      ],
      "text/plain": [
       "      CodigoNacional                            NombreEstacion  \\\n",
       "0             180005                     Chacalluta, Arica Ap.   \n",
       "1             180005                     Chacalluta, Arica Ap.   \n",
       "2             180005                     Chacalluta, Arica Ap.   \n",
       "3             180005                     Chacalluta, Arica Ap.   \n",
       "4             180005                     Chacalluta, Arica Ap.   \n",
       "...              ...                                       ...   \n",
       "59749         950001  C.M.A. Eduardo Frei Montalva, Antártica    \n",
       "59750         950001  C.M.A. Eduardo Frei Montalva, Antártica    \n",
       "59751         950001  C.M.A. Eduardo Frei Montalva, Antártica    \n",
       "59752         950001  C.M.A. Eduardo Frei Montalva, Antártica    \n",
       "59753         950001  C.M.A. Eduardo Frei Montalva, Antártica    \n",
       "\n",
       "                 Latitud Altura   Año  Mes  Dia  SumaDiaria  \n",
       "0      18&deg 21' 20'' S     50  2020    1    1         0.0  \n",
       "1      18&deg 21' 20'' S     50  2020    1    2         0.2  \n",
       "2      18&deg 21' 20'' S     50  2020    1    3         0.0  \n",
       "3      18&deg 21' 20'' S     50  2020    1    4         0.0  \n",
       "4      18&deg 21' 20'' S     50  2020    1    5         0.0  \n",
       "...                  ...    ...   ...  ...  ...         ...  \n",
       "59749  62&deg 11' 31'' S     45  2024   12   27         0.0  \n",
       "59750  62&deg 11' 31'' S     45  2024   12   28         0.8  \n",
       "59751  62&deg 11' 31'' S     45  2024   12   29         0.6  \n",
       "59752  62&deg 11' 31'' S     45  2024   12   30         0.4  \n",
       "59753  62&deg 11' 31'' S     45  2024   12   31         0.0  \n",
       "\n",
       "[58980 rows x 8 columns]"
      ]
     },
     "execution_count": 11,
     "metadata": {},
     "output_type": "execute_result"
    }
   ],
   "source": [
    "# Limpieza\n",
    "\n",
    "# Transformando variables a enteros\n",
    "for column in ['Año', 'Mes', 'Dia']:\n",
    "    df[column] = df[column].astype(int)\n",
    "df['SumaDiaria'] = df['SumaDiaria'].astype(float)\n",
    "    \n",
    "# Limpiando de valores nulos\n",
    "df = df.dropna()\n",
    "df"
   ]
  },
  {
   "cell_type": "markdown",
   "id": "6b1dc23f",
   "metadata": {},
   "source": [
    "##### 3. Visualice la evolución diaria de precipitaciones en 2021 de todas las estaciones y destaque con un color diferente la estación El Tepual."
   ]
  },
  {
   "cell_type": "code",
   "execution_count": 12,
   "id": "a2170583",
   "metadata": {},
   "outputs": [],
   "source": [
    "# Tu código aquí"
   ]
  },
  {
   "cell_type": "markdown",
   "id": "5b0fd6fb",
   "metadata": {},
   "source": [
    "###### Solución"
   ]
  },
  {
   "cell_type": "code",
   "execution_count": 13,
   "id": "af63c1ae",
   "metadata": {},
   "outputs": [
    {
     "name": "stderr",
     "output_type": "stream",
     "text": [
      "C:\\Users\\gabri\\AppData\\Local\\Temp\\ipykernel_25392\\4103472198.py:2: SettingWithCopyWarning: \n",
      "A value is trying to be set on a copy of a slice from a DataFrame.\n",
      "Try using .loc[row_indexer,col_indexer] = value instead\n",
      "\n",
      "See the caveats in the documentation: https://pandas.pydata.org/pandas-docs/stable/user_guide/indexing.html#returning-a-view-versus-a-copy\n",
      "  df['Fecha'] = pd.to_datetime(df['Año'].astype(str) + '-' + df['Mes'].astype(str) + '-' + df['Dia'].astype(str))\n"
     ]
    },
    {
     "data": {
      "text/html": [
       "<div>\n",
       "<style scoped>\n",
       "    .dataframe tbody tr th:only-of-type {\n",
       "        vertical-align: middle;\n",
       "    }\n",
       "\n",
       "    .dataframe tbody tr th {\n",
       "        vertical-align: top;\n",
       "    }\n",
       "\n",
       "    .dataframe thead th {\n",
       "        text-align: right;\n",
       "    }\n",
       "</style>\n",
       "<table border=\"1\" class=\"dataframe\">\n",
       "  <thead>\n",
       "    <tr style=\"text-align: right;\">\n",
       "      <th></th>\n",
       "      <th>CodigoNacional</th>\n",
       "      <th>NombreEstacion</th>\n",
       "      <th>Latitud</th>\n",
       "      <th>Altura</th>\n",
       "      <th>Año</th>\n",
       "      <th>Mes</th>\n",
       "      <th>Dia</th>\n",
       "      <th>SumaDiaria</th>\n",
       "      <th>Fecha</th>\n",
       "    </tr>\n",
       "  </thead>\n",
       "  <tbody>\n",
       "    <tr>\n",
       "      <th>0</th>\n",
       "      <td>180005</td>\n",
       "      <td>Chacalluta, Arica Ap.</td>\n",
       "      <td>18&amp;deg 21' 20'' S</td>\n",
       "      <td>50</td>\n",
       "      <td>2020</td>\n",
       "      <td>1</td>\n",
       "      <td>1</td>\n",
       "      <td>0.0</td>\n",
       "      <td>2020-01-01</td>\n",
       "    </tr>\n",
       "    <tr>\n",
       "      <th>1</th>\n",
       "      <td>180005</td>\n",
       "      <td>Chacalluta, Arica Ap.</td>\n",
       "      <td>18&amp;deg 21' 20'' S</td>\n",
       "      <td>50</td>\n",
       "      <td>2020</td>\n",
       "      <td>1</td>\n",
       "      <td>2</td>\n",
       "      <td>0.2</td>\n",
       "      <td>2020-01-02</td>\n",
       "    </tr>\n",
       "    <tr>\n",
       "      <th>2</th>\n",
       "      <td>180005</td>\n",
       "      <td>Chacalluta, Arica Ap.</td>\n",
       "      <td>18&amp;deg 21' 20'' S</td>\n",
       "      <td>50</td>\n",
       "      <td>2020</td>\n",
       "      <td>1</td>\n",
       "      <td>3</td>\n",
       "      <td>0.0</td>\n",
       "      <td>2020-01-03</td>\n",
       "    </tr>\n",
       "    <tr>\n",
       "      <th>3</th>\n",
       "      <td>180005</td>\n",
       "      <td>Chacalluta, Arica Ap.</td>\n",
       "      <td>18&amp;deg 21' 20'' S</td>\n",
       "      <td>50</td>\n",
       "      <td>2020</td>\n",
       "      <td>1</td>\n",
       "      <td>4</td>\n",
       "      <td>0.0</td>\n",
       "      <td>2020-01-04</td>\n",
       "    </tr>\n",
       "    <tr>\n",
       "      <th>4</th>\n",
       "      <td>180005</td>\n",
       "      <td>Chacalluta, Arica Ap.</td>\n",
       "      <td>18&amp;deg 21' 20'' S</td>\n",
       "      <td>50</td>\n",
       "      <td>2020</td>\n",
       "      <td>1</td>\n",
       "      <td>5</td>\n",
       "      <td>0.0</td>\n",
       "      <td>2020-01-05</td>\n",
       "    </tr>\n",
       "    <tr>\n",
       "      <th>...</th>\n",
       "      <td>...</td>\n",
       "      <td>...</td>\n",
       "      <td>...</td>\n",
       "      <td>...</td>\n",
       "      <td>...</td>\n",
       "      <td>...</td>\n",
       "      <td>...</td>\n",
       "      <td>...</td>\n",
       "      <td>...</td>\n",
       "    </tr>\n",
       "    <tr>\n",
       "      <th>59749</th>\n",
       "      <td>950001</td>\n",
       "      <td>C.M.A. Eduardo Frei Montalva, Antártica</td>\n",
       "      <td>62&amp;deg 11' 31'' S</td>\n",
       "      <td>45</td>\n",
       "      <td>2024</td>\n",
       "      <td>12</td>\n",
       "      <td>27</td>\n",
       "      <td>0.0</td>\n",
       "      <td>2024-12-27</td>\n",
       "    </tr>\n",
       "    <tr>\n",
       "      <th>59750</th>\n",
       "      <td>950001</td>\n",
       "      <td>C.M.A. Eduardo Frei Montalva, Antártica</td>\n",
       "      <td>62&amp;deg 11' 31'' S</td>\n",
       "      <td>45</td>\n",
       "      <td>2024</td>\n",
       "      <td>12</td>\n",
       "      <td>28</td>\n",
       "      <td>0.8</td>\n",
       "      <td>2024-12-28</td>\n",
       "    </tr>\n",
       "    <tr>\n",
       "      <th>59751</th>\n",
       "      <td>950001</td>\n",
       "      <td>C.M.A. Eduardo Frei Montalva, Antártica</td>\n",
       "      <td>62&amp;deg 11' 31'' S</td>\n",
       "      <td>45</td>\n",
       "      <td>2024</td>\n",
       "      <td>12</td>\n",
       "      <td>29</td>\n",
       "      <td>0.6</td>\n",
       "      <td>2024-12-29</td>\n",
       "    </tr>\n",
       "    <tr>\n",
       "      <th>59752</th>\n",
       "      <td>950001</td>\n",
       "      <td>C.M.A. Eduardo Frei Montalva, Antártica</td>\n",
       "      <td>62&amp;deg 11' 31'' S</td>\n",
       "      <td>45</td>\n",
       "      <td>2024</td>\n",
       "      <td>12</td>\n",
       "      <td>30</td>\n",
       "      <td>0.4</td>\n",
       "      <td>2024-12-30</td>\n",
       "    </tr>\n",
       "    <tr>\n",
       "      <th>59753</th>\n",
       "      <td>950001</td>\n",
       "      <td>C.M.A. Eduardo Frei Montalva, Antártica</td>\n",
       "      <td>62&amp;deg 11' 31'' S</td>\n",
       "      <td>45</td>\n",
       "      <td>2024</td>\n",
       "      <td>12</td>\n",
       "      <td>31</td>\n",
       "      <td>0.0</td>\n",
       "      <td>2024-12-31</td>\n",
       "    </tr>\n",
       "  </tbody>\n",
       "</table>\n",
       "<p>58980 rows × 9 columns</p>\n",
       "</div>"
      ],
      "text/plain": [
       "      CodigoNacional                            NombreEstacion  \\\n",
       "0             180005                     Chacalluta, Arica Ap.   \n",
       "1             180005                     Chacalluta, Arica Ap.   \n",
       "2             180005                     Chacalluta, Arica Ap.   \n",
       "3             180005                     Chacalluta, Arica Ap.   \n",
       "4             180005                     Chacalluta, Arica Ap.   \n",
       "...              ...                                       ...   \n",
       "59749         950001  C.M.A. Eduardo Frei Montalva, Antártica    \n",
       "59750         950001  C.M.A. Eduardo Frei Montalva, Antártica    \n",
       "59751         950001  C.M.A. Eduardo Frei Montalva, Antártica    \n",
       "59752         950001  C.M.A. Eduardo Frei Montalva, Antártica    \n",
       "59753         950001  C.M.A. Eduardo Frei Montalva, Antártica    \n",
       "\n",
       "                 Latitud Altura   Año  Mes  Dia  SumaDiaria      Fecha  \n",
       "0      18&deg 21' 20'' S     50  2020    1    1         0.0 2020-01-01  \n",
       "1      18&deg 21' 20'' S     50  2020    1    2         0.2 2020-01-02  \n",
       "2      18&deg 21' 20'' S     50  2020    1    3         0.0 2020-01-03  \n",
       "3      18&deg 21' 20'' S     50  2020    1    4         0.0 2020-01-04  \n",
       "4      18&deg 21' 20'' S     50  2020    1    5         0.0 2020-01-05  \n",
       "...                  ...    ...   ...  ...  ...         ...        ...  \n",
       "59749  62&deg 11' 31'' S     45  2024   12   27         0.0 2024-12-27  \n",
       "59750  62&deg 11' 31'' S     45  2024   12   28         0.8 2024-12-28  \n",
       "59751  62&deg 11' 31'' S     45  2024   12   29         0.6 2024-12-29  \n",
       "59752  62&deg 11' 31'' S     45  2024   12   30         0.4 2024-12-30  \n",
       "59753  62&deg 11' 31'' S     45  2024   12   31         0.0 2024-12-31  \n",
       "\n",
       "[58980 rows x 9 columns]"
      ]
     },
     "execution_count": 13,
     "metadata": {},
     "output_type": "execute_result"
    }
   ],
   "source": [
    "# Creando columna de fecha integrada\n",
    "df['Fecha'] = pd.to_datetime(df['Año'].astype(str) + '-' + df['Mes'].astype(str) + '-' + df['Dia'].astype(str))\t\n",
    "df"
   ]
  },
  {
   "cell_type": "code",
   "execution_count": 14,
   "id": "b3a196b0",
   "metadata": {},
   "outputs": [
    {
     "data": {
      "text/plain": [
       "0       2020-01-01\n",
       "1       2020-01-02\n",
       "2       2020-01-03\n",
       "3       2020-01-04\n",
       "4       2020-01-05\n",
       "           ...    \n",
       "59749   2024-12-27\n",
       "59750   2024-12-28\n",
       "59751   2024-12-29\n",
       "59752   2024-12-30\n",
       "59753   2024-12-31\n",
       "Name: Fecha, Length: 58980, dtype: datetime64[ns]"
      ]
     },
     "execution_count": 14,
     "metadata": {},
     "output_type": "execute_result"
    }
   ],
   "source": [
    "df['Fecha']"
   ]
  },
  {
   "cell_type": "code",
   "execution_count": 15,
   "id": "7a859b57",
   "metadata": {},
   "outputs": [
    {
     "data": {
      "text/plain": [
       "array(['Chacalluta, Arica Ap.', 'Diego Aracena Iquique Ap.',\n",
       "       'El Loa, Calama Ad.', 'Cerro Moreno  Antofagasta  Ap.',\n",
       "       'Mataveri  Isla de Pascua Ap.',\n",
       "       'Desierto de Atacama, Caldera  Ad.', 'La Florida, La Serena Ad.',\n",
       "       'Rodelillo, Ad.', 'Eulogio Sánchez, Tobalaba Ad.',\n",
       "       'Quinta Normal, Santiago', 'Pudahuel Santiago ',\n",
       "       'Santo Domingo, Ad.', 'Juan Fernández, Estación Meteorológica.',\n",
       "       'General Freire, Curicó Ad.',\n",
       "       \"General Bernardo O'Higgins, Chillán Ad.\",\n",
       "       'Carriel Sur, Concepción Ap.', 'María Dolores, Los Angeles Ad.',\n",
       "       'Maquehue, Temuco Ad.', 'Pichoy, Valdivia Ad.',\n",
       "       'Cañal Bajo,  Osorno Ad.', 'El Tepual  Puerto Montt Ap.',\n",
       "       'Futaleufú Ad.', 'Alto Palena Ad.', 'Puerto Aysén Ad.',\n",
       "       'Teniente Vidal, Coyhaique Ad.', 'Balmaceda Ad.',\n",
       "       'Chile Chico Ad.', 'Lord Cochrane Ad.',\n",
       "       'Teniente Gallardo, Puerto Natales Ad.',\n",
       "       'Carlos Ibañez, Punta Arenas Ap.',\n",
       "       'Fuentes Martínez, Porvenir Ad.',\n",
       "       'Guardiamarina Zañartu, Pto Williams Ad.',\n",
       "       'C.M.A. Eduardo Frei Montalva, Antártica ',\n",
       "       'Eulogio Snchez, Tobalaba Ad.',\n",
       "       'Juan Fernndez, Estacin Meteorolgica.',\n",
       "       'General Freire, Curic Ad.',\n",
       "       \"General Bernardo O'Higgins, Chilln Ad.\",\n",
       "       'Carriel Sur, Concepcin Ap.', 'Mara Dolores, Los Angeles Ad.',\n",
       "       'Caal Bajo,  Osorno Ad.', 'Futaleuf Ad.', 'Puerto Aysn Ad.',\n",
       "       'Carlos Ibaez, Punta Arenas Ap.', 'Fuentes Martnez, Porvenir Ad.',\n",
       "       'Guardiamarina Zaartu, Pto Williams Ad.',\n",
       "       'C.M.A. Eduardo Frei Montalva, Antrtica '], dtype=object)"
      ]
     },
     "execution_count": 15,
     "metadata": {},
     "output_type": "execute_result"
    }
   ],
   "source": [
    "# Revisando estaciones\n",
    "df['NombreEstacion'].unique()"
   ]
  },
  {
   "cell_type": "code",
   "execution_count": 16,
   "id": "14236975",
   "metadata": {},
   "outputs": [
    {
     "data": {
      "image/png": "[encoded data removed]",
      "text/plain": [
       "<Figure size 1200x400 with 1 Axes>"
      ]
     },
     "metadata": {},
     "output_type": "display_data"
    }
   ],
   "source": [
    "import matplotlib.pyplot as plt\n",
    "import seaborn as sns\n",
    "\n",
    "df_2021 = df[df['Año'] == 2021]\n",
    "target = 'El Tepual  Puerto Montt Ap.'\n",
    "\n",
    "# Lienzo\n",
    "plt.figure(figsize=(12,4))\n",
    "# Grafico de todo menos El Tepual\n",
    "for estacion in df_2021['NombreEstacion'].unique():\n",
    "\t# Condición de salto\n",
    "\tif estacion == target:\n",
    "\t\tcontinue\n",
    "\t# Subconjunto de estación\n",
    "\tsubset = df_2021[df_2021['NombreEstacion'] == estacion]\n",
    "\t# Linea\n",
    "\tsns.lineplot(data=subset,\n",
    "\t\t\t\t x='Fecha',\n",
    "\t\t\t     y='SumaDiaria',\n",
    "\t\t\t\t label='',\n",
    "\t\t\t\t color='lightgray')\n",
    "# Gráfico de El Tepual\n",
    "sns.lineplot(data = df_2021[df_2021['NombreEstacion'] == target],\n",
    "\t\t\t x='Fecha',\n",
    "\t\t\t y='SumaDiaria',\n",
    "\t\t\t color='red',\n",
    "\t\t\t label='El Tepual')\n",
    "# Configuración de Gráfio\n",
    "plt.title('Precipitaciones diarias 2021')\n",
    "plt.xlabel('Mes')\n",
    "plt.ylabel('Suma de Precipitación Diaria')\n",
    "plt.legend() # Leyenda\n",
    "plt.show()"
   ]
  },
  {
   "cell_type": "markdown",
   "id": "eb25faac",
   "metadata": {},
   "source": [
    "##### 4. Realice un heatmap que visualice las precipitaciones, donde el eje X representa el mes del año, y el eje Y cada estación, ordenadas de Norte a Sur para el primer semestre de 2022."
   ]
  },
  {
   "cell_type": "code",
   "execution_count": 17,
   "id": "1754611d",
   "metadata": {},
   "outputs": [],
   "source": [
    "# Tu código aquí"
   ]
  },
  {
   "cell_type": "markdown",
   "id": "49d9d72a",
   "metadata": {},
   "source": [
    "###### Solución"
   ]
  },
  {
   "cell_type": "code",
   "execution_count": 18,
   "id": "115d0d05",
   "metadata": {},
   "outputs": [
    {
     "data": {
      "text/html": [
       "<div>\n",
       "<style scoped>\n",
       "    .dataframe tbody tr th:only-of-type {\n",
       "        vertical-align: middle;\n",
       "    }\n",
       "\n",
       "    .dataframe tbody tr th {\n",
       "        vertical-align: top;\n",
       "    }\n",
       "\n",
       "    .dataframe thead th {\n",
       "        text-align: right;\n",
       "    }\n",
       "</style>\n",
       "<table border=\"1\" class=\"dataframe\">\n",
       "  <thead>\n",
       "    <tr style=\"text-align: right;\">\n",
       "      <th></th>\n",
       "      <th>CodigoNacional</th>\n",
       "      <th>NombreEstacion</th>\n",
       "      <th>Latitud</th>\n",
       "      <th>Altura</th>\n",
       "      <th>Año</th>\n",
       "      <th>Mes</th>\n",
       "      <th>Dia</th>\n",
       "      <th>SumaDiaria</th>\n",
       "      <th>Fecha</th>\n",
       "    </tr>\n",
       "  </thead>\n",
       "  <tbody>\n",
       "    <tr>\n",
       "      <th>0</th>\n",
       "      <td>180005</td>\n",
       "      <td>Chacalluta, Arica Ap.</td>\n",
       "      <td>18&amp;deg 21' 20'' S</td>\n",
       "      <td>50</td>\n",
       "      <td>2020</td>\n",
       "      <td>1</td>\n",
       "      <td>1</td>\n",
       "      <td>0.0</td>\n",
       "      <td>2020-01-01</td>\n",
       "    </tr>\n",
       "    <tr>\n",
       "      <th>1</th>\n",
       "      <td>180005</td>\n",
       "      <td>Chacalluta, Arica Ap.</td>\n",
       "      <td>18&amp;deg 21' 20'' S</td>\n",
       "      <td>50</td>\n",
       "      <td>2020</td>\n",
       "      <td>1</td>\n",
       "      <td>2</td>\n",
       "      <td>0.2</td>\n",
       "      <td>2020-01-02</td>\n",
       "    </tr>\n",
       "    <tr>\n",
       "      <th>2</th>\n",
       "      <td>180005</td>\n",
       "      <td>Chacalluta, Arica Ap.</td>\n",
       "      <td>18&amp;deg 21' 20'' S</td>\n",
       "      <td>50</td>\n",
       "      <td>2020</td>\n",
       "      <td>1</td>\n",
       "      <td>3</td>\n",
       "      <td>0.0</td>\n",
       "      <td>2020-01-03</td>\n",
       "    </tr>\n",
       "    <tr>\n",
       "      <th>3</th>\n",
       "      <td>180005</td>\n",
       "      <td>Chacalluta, Arica Ap.</td>\n",
       "      <td>18&amp;deg 21' 20'' S</td>\n",
       "      <td>50</td>\n",
       "      <td>2020</td>\n",
       "      <td>1</td>\n",
       "      <td>4</td>\n",
       "      <td>0.0</td>\n",
       "      <td>2020-01-04</td>\n",
       "    </tr>\n",
       "    <tr>\n",
       "      <th>4</th>\n",
       "      <td>180005</td>\n",
       "      <td>Chacalluta, Arica Ap.</td>\n",
       "      <td>18&amp;deg 21' 20'' S</td>\n",
       "      <td>50</td>\n",
       "      <td>2020</td>\n",
       "      <td>1</td>\n",
       "      <td>5</td>\n",
       "      <td>0.0</td>\n",
       "      <td>2020-01-05</td>\n",
       "    </tr>\n",
       "    <tr>\n",
       "      <th>...</th>\n",
       "      <td>...</td>\n",
       "      <td>...</td>\n",
       "      <td>...</td>\n",
       "      <td>...</td>\n",
       "      <td>...</td>\n",
       "      <td>...</td>\n",
       "      <td>...</td>\n",
       "      <td>...</td>\n",
       "      <td>...</td>\n",
       "    </tr>\n",
       "    <tr>\n",
       "      <th>59749</th>\n",
       "      <td>950001</td>\n",
       "      <td>C.M.A. Eduardo Frei Montalva, Antártica</td>\n",
       "      <td>62&amp;deg 11' 31'' S</td>\n",
       "      <td>45</td>\n",
       "      <td>2024</td>\n",
       "      <td>12</td>\n",
       "      <td>27</td>\n",
       "      <td>0.0</td>\n",
       "      <td>2024-12-27</td>\n",
       "    </tr>\n",
       "    <tr>\n",
       "      <th>59750</th>\n",
       "      <td>950001</td>\n",
       "      <td>C.M.A. Eduardo Frei Montalva, Antártica</td>\n",
       "      <td>62&amp;deg 11' 31'' S</td>\n",
       "      <td>45</td>\n",
       "      <td>2024</td>\n",
       "      <td>12</td>\n",
       "      <td>28</td>\n",
       "      <td>0.8</td>\n",
       "      <td>2024-12-28</td>\n",
       "    </tr>\n",
       "    <tr>\n",
       "      <th>59751</th>\n",
       "      <td>950001</td>\n",
       "      <td>C.M.A. Eduardo Frei Montalva, Antártica</td>\n",
       "      <td>62&amp;deg 11' 31'' S</td>\n",
       "      <td>45</td>\n",
       "      <td>2024</td>\n",
       "      <td>12</td>\n",
       "      <td>29</td>\n",
       "      <td>0.6</td>\n",
       "      <td>2024-12-29</td>\n",
       "    </tr>\n",
       "    <tr>\n",
       "      <th>59752</th>\n",
       "      <td>950001</td>\n",
       "      <td>C.M.A. Eduardo Frei Montalva, Antártica</td>\n",
       "      <td>62&amp;deg 11' 31'' S</td>\n",
       "      <td>45</td>\n",
       "      <td>2024</td>\n",
       "      <td>12</td>\n",
       "      <td>30</td>\n",
       "      <td>0.4</td>\n",
       "      <td>2024-12-30</td>\n",
       "    </tr>\n",
       "    <tr>\n",
       "      <th>59753</th>\n",
       "      <td>950001</td>\n",
       "      <td>C.M.A. Eduardo Frei Montalva, Antártica</td>\n",
       "      <td>62&amp;deg 11' 31'' S</td>\n",
       "      <td>45</td>\n",
       "      <td>2024</td>\n",
       "      <td>12</td>\n",
       "      <td>31</td>\n",
       "      <td>0.0</td>\n",
       "      <td>2024-12-31</td>\n",
       "    </tr>\n",
       "  </tbody>\n",
       "</table>\n",
       "<p>58980 rows × 9 columns</p>\n",
       "</div>"
      ],
      "text/plain": [
       "      CodigoNacional                            NombreEstacion  \\\n",
       "0             180005                     Chacalluta, Arica Ap.   \n",
       "1             180005                     Chacalluta, Arica Ap.   \n",
       "2             180005                     Chacalluta, Arica Ap.   \n",
       "3             180005                     Chacalluta, Arica Ap.   \n",
       "4             180005                     Chacalluta, Arica Ap.   \n",
       "...              ...                                       ...   \n",
       "59749         950001  C.M.A. Eduardo Frei Montalva, Antártica    \n",
       "59750         950001  C.M.A. Eduardo Frei Montalva, Antártica    \n",
       "59751         950001  C.M.A. Eduardo Frei Montalva, Antártica    \n",
       "59752         950001  C.M.A. Eduardo Frei Montalva, Antártica    \n",
       "59753         950001  C.M.A. Eduardo Frei Montalva, Antártica    \n",
       "\n",
       "                 Latitud Altura   Año  Mes  Dia  SumaDiaria      Fecha  \n",
       "0      18&deg 21' 20'' S     50  2020    1    1         0.0 2020-01-01  \n",
       "1      18&deg 21' 20'' S     50  2020    1    2         0.2 2020-01-02  \n",
       "2      18&deg 21' 20'' S     50  2020    1    3         0.0 2020-01-03  \n",
       "3      18&deg 21' 20'' S     50  2020    1    4         0.0 2020-01-04  \n",
       "4      18&deg 21' 20'' S     50  2020    1    5         0.0 2020-01-05  \n",
       "...                  ...    ...   ...  ...  ...         ...        ...  \n",
       "59749  62&deg 11' 31'' S     45  2024   12   27         0.0 2024-12-27  \n",
       "59750  62&deg 11' 31'' S     45  2024   12   28         0.8 2024-12-28  \n",
       "59751  62&deg 11' 31'' S     45  2024   12   29         0.6 2024-12-29  \n",
       "59752  62&deg 11' 31'' S     45  2024   12   30         0.4 2024-12-30  \n",
       "59753  62&deg 11' 31'' S     45  2024   12   31         0.0 2024-12-31  \n",
       "\n",
       "[58980 rows x 9 columns]"
      ]
     },
     "execution_count": 18,
     "metadata": {},
     "output_type": "execute_result"
    }
   ],
   "source": [
    "df"
   ]
  },
  {
   "cell_type": "code",
   "execution_count": 19,
   "id": "6bb239e2",
   "metadata": {},
   "outputs": [
    {
     "data": {
      "text/html": [
       "<div>\n",
       "<style scoped>\n",
       "    .dataframe tbody tr th:only-of-type {\n",
       "        vertical-align: middle;\n",
       "    }\n",
       "\n",
       "    .dataframe tbody tr th {\n",
       "        vertical-align: top;\n",
       "    }\n",
       "\n",
       "    .dataframe thead th {\n",
       "        text-align: right;\n",
       "    }\n",
       "</style>\n",
       "<table border=\"1\" class=\"dataframe\">\n",
       "  <thead>\n",
       "    <tr style=\"text-align: right;\">\n",
       "      <th></th>\n",
       "      <th></th>\n",
       "      <th>Enero</th>\n",
       "      <th>Febrero</th>\n",
       "      <th>Marzo</th>\n",
       "      <th>Abril</th>\n",
       "      <th>Mayo</th>\n",
       "      <th>Junio</th>\n",
       "    </tr>\n",
       "    <tr>\n",
       "      <th>NombreEstacion</th>\n",
       "      <th>Latitud</th>\n",
       "      <th></th>\n",
       "      <th></th>\n",
       "      <th></th>\n",
       "      <th></th>\n",
       "      <th></th>\n",
       "      <th></th>\n",
       "    </tr>\n",
       "  </thead>\n",
       "  <tbody>\n",
       "    <tr>\n",
       "      <th>Chacalluta, Arica Ap.</th>\n",
       "      <th>18&amp;deg 21' 20'' S</th>\n",
       "      <td>0.0</td>\n",
       "      <td>0.9</td>\n",
       "      <td>0.0</td>\n",
       "      <td>0.0</td>\n",
       "      <td>0.0</td>\n",
       "      <td>0.0</td>\n",
       "    </tr>\n",
       "    <tr>\n",
       "      <th>Diego Aracena Iquique Ap.</th>\n",
       "      <th>20&amp;deg 32' 57'' S</th>\n",
       "      <td>0.0</td>\n",
       "      <td>0.0</td>\n",
       "      <td>0.0</td>\n",
       "      <td>0.0</td>\n",
       "      <td>0.0</td>\n",
       "      <td>0.0</td>\n",
       "    </tr>\n",
       "    <tr>\n",
       "      <th>El Loa, Calama Ad.</th>\n",
       "      <th>22&amp;deg 29' 53'' S</th>\n",
       "      <td>0.0</td>\n",
       "      <td>0.0</td>\n",
       "      <td>1.2</td>\n",
       "      <td>0.0</td>\n",
       "      <td>0.0</td>\n",
       "      <td>0.0</td>\n",
       "    </tr>\n",
       "    <tr>\n",
       "      <th>Cerro Moreno  Antofagasta  Ap.</th>\n",
       "      <th>23&amp;deg 27' 13'' S</th>\n",
       "      <td>0.0</td>\n",
       "      <td>0.0</td>\n",
       "      <td>0.0</td>\n",
       "      <td>0.0</td>\n",
       "      <td>0.0</td>\n",
       "      <td>0.0</td>\n",
       "    </tr>\n",
       "    <tr>\n",
       "      <th>Desierto de Atacama, Caldera  Ad.</th>\n",
       "      <th>27&amp;deg 15' 16'' S</th>\n",
       "      <td>0.1</td>\n",
       "      <td>0.0</td>\n",
       "      <td>0.0</td>\n",
       "      <td>0.3</td>\n",
       "      <td>0.0</td>\n",
       "      <td>1.1</td>\n",
       "    </tr>\n",
       "    <tr>\n",
       "      <th>Mataveri  Isla de Pascua Ap.</th>\n",
       "      <th>27&amp;deg 9' 32'' S</th>\n",
       "      <td>60.8</td>\n",
       "      <td>92.6</td>\n",
       "      <td>19.8</td>\n",
       "      <td>87.0</td>\n",
       "      <td>26.9</td>\n",
       "      <td>67.4</td>\n",
       "    </tr>\n",
       "    <tr>\n",
       "      <th>La Florida, La Serena Ad.</th>\n",
       "      <th>29&amp;deg 54' 52'' S</th>\n",
       "      <td>0.0</td>\n",
       "      <td>0.0</td>\n",
       "      <td>0.0</td>\n",
       "      <td>0.0</td>\n",
       "      <td>0.3</td>\n",
       "      <td>4.0</td>\n",
       "    </tr>\n",
       "    <tr>\n",
       "      <th>Pudahuel Santiago</th>\n",
       "      <th>33&amp;deg 22' 42'' S</th>\n",
       "      <td>0.0</td>\n",
       "      <td>0.4</td>\n",
       "      <td>0.0</td>\n",
       "      <td>19.2</td>\n",
       "      <td>0.0</td>\n",
       "      <td>19.1</td>\n",
       "    </tr>\n",
       "    <tr>\n",
       "      <th>Quinta Normal, Santiago</th>\n",
       "      <th>33&amp;deg 26' 42'' S</th>\n",
       "      <td>0.0</td>\n",
       "      <td>0.1</td>\n",
       "      <td>0.0</td>\n",
       "      <td>28.8</td>\n",
       "      <td>0.0</td>\n",
       "      <td>22.6</td>\n",
       "    </tr>\n",
       "    <tr>\n",
       "      <th>Eulogio Sánchez, Tobalaba Ad.</th>\n",
       "      <th>33&amp;deg 27' 19'' S</th>\n",
       "      <td>0.0</td>\n",
       "      <td>1.8</td>\n",
       "      <td>0.0</td>\n",
       "      <td>34.8</td>\n",
       "      <td>0.0</td>\n",
       "      <td>29.4</td>\n",
       "    </tr>\n",
       "    <tr>\n",
       "      <th>Rodelillo, Ad.</th>\n",
       "      <th>33&amp;deg 3' 55'' S</th>\n",
       "      <td>3.6</td>\n",
       "      <td>0.4</td>\n",
       "      <td>1.0</td>\n",
       "      <td>31.1</td>\n",
       "      <td>0.5</td>\n",
       "      <td>73.0</td>\n",
       "    </tr>\n",
       "    <tr>\n",
       "      <th>Juan Fernández, Estación Meteorológica.</th>\n",
       "      <th>33&amp;deg 38' 9'' S</th>\n",
       "      <td>39.3</td>\n",
       "      <td>34.0</td>\n",
       "      <td>41.0</td>\n",
       "      <td>46.8</td>\n",
       "      <td>77.8</td>\n",
       "      <td>200.2</td>\n",
       "    </tr>\n",
       "    <tr>\n",
       "      <th>Santo Domingo, Ad.</th>\n",
       "      <th>33&amp;deg 39' 22'' S</th>\n",
       "      <td>0.0</td>\n",
       "      <td>0.0</td>\n",
       "      <td>0.2</td>\n",
       "      <td>15.6</td>\n",
       "      <td>1.8</td>\n",
       "      <td>57.6</td>\n",
       "    </tr>\n",
       "    <tr>\n",
       "      <th>General Freire, Curicó Ad.</th>\n",
       "      <th>34&amp;deg 58' 10'' S</th>\n",
       "      <td>0.0</td>\n",
       "      <td>0.0</td>\n",
       "      <td>0.2</td>\n",
       "      <td>58.4</td>\n",
       "      <td>46.0</td>\n",
       "      <td>49.5</td>\n",
       "    </tr>\n",
       "    <tr>\n",
       "      <th>General Bernardo O'Higgins, Chillán Ad.</th>\n",
       "      <th>36&amp;deg 35' 9'' S</th>\n",
       "      <td>0.0</td>\n",
       "      <td>2.6</td>\n",
       "      <td>6.2</td>\n",
       "      <td>115.8</td>\n",
       "      <td>71.6</td>\n",
       "      <td>118.4</td>\n",
       "    </tr>\n",
       "    <tr>\n",
       "      <th>Carriel Sur, Concepción Ap.</th>\n",
       "      <th>36&amp;deg 46' 50'' S</th>\n",
       "      <td>11.6</td>\n",
       "      <td>2.0</td>\n",
       "      <td>4.6</td>\n",
       "      <td>131.4</td>\n",
       "      <td>82.8</td>\n",
       "      <td>194.8</td>\n",
       "    </tr>\n",
       "    <tr>\n",
       "      <th>María Dolores, Los Angeles Ad.</th>\n",
       "      <th>37&amp;deg 23' 49'' S</th>\n",
       "      <td>8.4</td>\n",
       "      <td>0.0</td>\n",
       "      <td>6.6</td>\n",
       "      <td>117.0</td>\n",
       "      <td>72.0</td>\n",
       "      <td>202.8</td>\n",
       "    </tr>\n",
       "    <tr>\n",
       "      <th>Maquehue, Temuco Ad.</th>\n",
       "      <th>38&amp;deg 46' 4'' S</th>\n",
       "      <td>62.5</td>\n",
       "      <td>21.5</td>\n",
       "      <td>66.8</td>\n",
       "      <td>137.8</td>\n",
       "      <td>64.2</td>\n",
       "      <td>202.3</td>\n",
       "    </tr>\n",
       "    <tr>\n",
       "      <th>Pichoy, Valdivia Ad.</th>\n",
       "      <th>39&amp;deg 39' 24'' S</th>\n",
       "      <td>68.2</td>\n",
       "      <td>25.4</td>\n",
       "      <td>87.6</td>\n",
       "      <td>171.4</td>\n",
       "      <td>112.2</td>\n",
       "      <td>237.2</td>\n",
       "    </tr>\n",
       "    <tr>\n",
       "      <th>Cañal Bajo,  Osorno Ad.</th>\n",
       "      <th>40&amp;deg 36' 52'' S</th>\n",
       "      <td>80.6</td>\n",
       "      <td>37.6</td>\n",
       "      <td>78.8</td>\n",
       "      <td>118.2</td>\n",
       "      <td>79.8</td>\n",
       "      <td>142.6</td>\n",
       "    </tr>\n",
       "    <tr>\n",
       "      <th>El Tepual  Puerto Montt Ap.</th>\n",
       "      <th>41&amp;deg 26' 51'' S</th>\n",
       "      <td>77.4</td>\n",
       "      <td>69.8</td>\n",
       "      <td>104.2</td>\n",
       "      <td>133.0</td>\n",
       "      <td>97.4</td>\n",
       "      <td>159.2</td>\n",
       "    </tr>\n",
       "    <tr>\n",
       "      <th>Futaleufú Ad.</th>\n",
       "      <th>43&amp;deg 11' 20'' S</th>\n",
       "      <td>109.6</td>\n",
       "      <td>114.4</td>\n",
       "      <td>144.0</td>\n",
       "      <td>271.4</td>\n",
       "      <td>222.6</td>\n",
       "      <td>207.6</td>\n",
       "    </tr>\n",
       "    <tr>\n",
       "      <th>Alto Palena Ad.</th>\n",
       "      <th>43&amp;deg 36' 42'' S</th>\n",
       "      <td>55.6</td>\n",
       "      <td>39.4</td>\n",
       "      <td>81.7</td>\n",
       "      <td>126.8</td>\n",
       "      <td>90.2</td>\n",
       "      <td>58.4</td>\n",
       "    </tr>\n",
       "    <tr>\n",
       "      <th>Puerto Aysén Ad.</th>\n",
       "      <th>45&amp;deg 23' 58'' S</th>\n",
       "      <td>87.3</td>\n",
       "      <td>104.2</td>\n",
       "      <td>177.4</td>\n",
       "      <td>182.3</td>\n",
       "      <td>157.5</td>\n",
       "      <td>123.2</td>\n",
       "    </tr>\n",
       "    <tr>\n",
       "      <th>Teniente Vidal, Coyhaique Ad.</th>\n",
       "      <th>45&amp;deg 35' 27'' S</th>\n",
       "      <td>55.2</td>\n",
       "      <td>39.4</td>\n",
       "      <td>66.8</td>\n",
       "      <td>126.6</td>\n",
       "      <td>147.5</td>\n",
       "      <td>81.6</td>\n",
       "    </tr>\n",
       "    <tr>\n",
       "      <th>Balmaceda Ad.</th>\n",
       "      <th>45&amp;deg 55' 6'' S</th>\n",
       "      <td>21.8</td>\n",
       "      <td>17.9</td>\n",
       "      <td>43.2</td>\n",
       "      <td>61.4</td>\n",
       "      <td>46.7</td>\n",
       "      <td>39.6</td>\n",
       "    </tr>\n",
       "    <tr>\n",
       "      <th>Chile Chico Ad.</th>\n",
       "      <th>46&amp;deg 35' 6'' S</th>\n",
       "      <td>5.0</td>\n",
       "      <td>14.8</td>\n",
       "      <td>9.0</td>\n",
       "      <td>30.8</td>\n",
       "      <td>17.6</td>\n",
       "      <td>12.6</td>\n",
       "    </tr>\n",
       "    <tr>\n",
       "      <th>Lord Cochrane Ad.</th>\n",
       "      <th>47&amp;deg 14' 38'' S</th>\n",
       "      <td>47.2</td>\n",
       "      <td>17.6</td>\n",
       "      <td>37.0</td>\n",
       "      <td>55.8</td>\n",
       "      <td>53.4</td>\n",
       "      <td>37.9</td>\n",
       "    </tr>\n",
       "    <tr>\n",
       "      <th>Teniente Gallardo, Puerto Natales Ad.</th>\n",
       "      <th>51&amp;deg 40' 2'' S</th>\n",
       "      <td>22.2</td>\n",
       "      <td>23.7</td>\n",
       "      <td>17.5</td>\n",
       "      <td>36.5</td>\n",
       "      <td>75.5</td>\n",
       "      <td>19.9</td>\n",
       "    </tr>\n",
       "    <tr>\n",
       "      <th>Carlos Ibañez, Punta Arenas Ap.</th>\n",
       "      <th>53&amp;deg 0' 6'' S</th>\n",
       "      <td>10.0</td>\n",
       "      <td>20.8</td>\n",
       "      <td>21.6</td>\n",
       "      <td>27.8</td>\n",
       "      <td>18.4</td>\n",
       "      <td>11.6</td>\n",
       "    </tr>\n",
       "    <tr>\n",
       "      <th>Fuentes Martínez, Porvenir Ad.</th>\n",
       "      <th>53&amp;deg 15' 13'' S</th>\n",
       "      <td>15.6</td>\n",
       "      <td>51.1</td>\n",
       "      <td>74.0</td>\n",
       "      <td>57.9</td>\n",
       "      <td>35.4</td>\n",
       "      <td>26.4</td>\n",
       "    </tr>\n",
       "    <tr>\n",
       "      <th>Guardiamarina Zañartu, Pto Williams Ad.</th>\n",
       "      <th>54&amp;deg 55' 54'' S</th>\n",
       "      <td>79.9</td>\n",
       "      <td>30.4</td>\n",
       "      <td>85.2</td>\n",
       "      <td>35.9</td>\n",
       "      <td>75.4</td>\n",
       "      <td>98.2</td>\n",
       "    </tr>\n",
       "    <tr>\n",
       "      <th>C.M.A. Eduardo Frei Montalva, Antártica</th>\n",
       "      <th>62&amp;deg 11' 31'' S</th>\n",
       "      <td>45.2</td>\n",
       "      <td>22.8</td>\n",
       "      <td>37.6</td>\n",
       "      <td>38.2</td>\n",
       "      <td>24.5</td>\n",
       "      <td>62.0</td>\n",
       "    </tr>\n",
       "  </tbody>\n",
       "</table>\n",
       "</div>"
      ],
      "text/plain": [
       "                                                            Enero  Febrero  \\\n",
       "NombreEstacion                           Latitud                             \n",
       "Chacalluta, Arica Ap.                    18&deg 21' 20'' S    0.0      0.9   \n",
       "Diego Aracena Iquique Ap.                20&deg 32' 57'' S    0.0      0.0   \n",
       "El Loa, Calama Ad.                       22&deg 29' 53'' S    0.0      0.0   \n",
       "Cerro Moreno  Antofagasta  Ap.           23&deg 27' 13'' S    0.0      0.0   \n",
       "Desierto de Atacama, Caldera  Ad.        27&deg 15' 16'' S    0.1      0.0   \n",
       "Mataveri  Isla de Pascua Ap.             27&deg 9' 32'' S    60.8     92.6   \n",
       "La Florida, La Serena Ad.                29&deg 54' 52'' S    0.0      0.0   \n",
       "Pudahuel Santiago                        33&deg 22' 42'' S    0.0      0.4   \n",
       "Quinta Normal, Santiago                  33&deg 26' 42'' S    0.0      0.1   \n",
       "Eulogio Sánchez, Tobalaba Ad.            33&deg 27' 19'' S    0.0      1.8   \n",
       "Rodelillo, Ad.                           33&deg 3' 55'' S     3.6      0.4   \n",
       "Juan Fernández, Estación Meteorológica.  33&deg 38' 9'' S    39.3     34.0   \n",
       "Santo Domingo, Ad.                       33&deg 39' 22'' S    0.0      0.0   \n",
       "General Freire, Curicó Ad.               34&deg 58' 10'' S    0.0      0.0   \n",
       "General Bernardo O'Higgins, Chillán Ad.  36&deg 35' 9'' S     0.0      2.6   \n",
       "Carriel Sur, Concepción Ap.              36&deg 46' 50'' S   11.6      2.0   \n",
       "María Dolores, Los Angeles Ad.           37&deg 23' 49'' S    8.4      0.0   \n",
       "Maquehue, Temuco Ad.                     38&deg 46' 4'' S    62.5     21.5   \n",
       "Pichoy, Valdivia Ad.                     39&deg 39' 24'' S   68.2     25.4   \n",
       "Cañal Bajo,  Osorno Ad.                  40&deg 36' 52'' S   80.6     37.6   \n",
       "El Tepual  Puerto Montt Ap.              41&deg 26' 51'' S   77.4     69.8   \n",
       "Futaleufú Ad.                            43&deg 11' 20'' S  109.6    114.4   \n",
       "Alto Palena Ad.                          43&deg 36' 42'' S   55.6     39.4   \n",
       "Puerto Aysén Ad.                         45&deg 23' 58'' S   87.3    104.2   \n",
       "Teniente Vidal, Coyhaique Ad.            45&deg 35' 27'' S   55.2     39.4   \n",
       "Balmaceda Ad.                            45&deg 55' 6'' S    21.8     17.9   \n",
       "Chile Chico Ad.                          46&deg 35' 6'' S     5.0     14.8   \n",
       "Lord Cochrane Ad.                        47&deg 14' 38'' S   47.2     17.6   \n",
       "Teniente Gallardo, Puerto Natales Ad.    51&deg 40' 2'' S    22.2     23.7   \n",
       "Carlos Ibañez, Punta Arenas Ap.          53&deg 0' 6'' S     10.0     20.8   \n",
       "Fuentes Martínez, Porvenir Ad.           53&deg 15' 13'' S   15.6     51.1   \n",
       "Guardiamarina Zañartu, Pto Williams Ad.  54&deg 55' 54'' S   79.9     30.4   \n",
       "C.M.A. Eduardo Frei Montalva, Antártica  62&deg 11' 31'' S   45.2     22.8   \n",
       "\n",
       "                                                            Marzo  Abril  \\\n",
       "NombreEstacion                           Latitud                           \n",
       "Chacalluta, Arica Ap.                    18&deg 21' 20'' S    0.0    0.0   \n",
       "Diego Aracena Iquique Ap.                20&deg 32' 57'' S    0.0    0.0   \n",
       "El Loa, Calama Ad.                       22&deg 29' 53'' S    1.2    0.0   \n",
       "Cerro Moreno  Antofagasta  Ap.           23&deg 27' 13'' S    0.0    0.0   \n",
       "Desierto de Atacama, Caldera  Ad.        27&deg 15' 16'' S    0.0    0.3   \n",
       "Mataveri  Isla de Pascua Ap.             27&deg 9' 32'' S    19.8   87.0   \n",
       "La Florida, La Serena Ad.                29&deg 54' 52'' S    0.0    0.0   \n",
       "Pudahuel Santiago                        33&deg 22' 42'' S    0.0   19.2   \n",
       "Quinta Normal, Santiago                  33&deg 26' 42'' S    0.0   28.8   \n",
       "Eulogio Sánchez, Tobalaba Ad.            33&deg 27' 19'' S    0.0   34.8   \n",
       "Rodelillo, Ad.                           33&deg 3' 55'' S     1.0   31.1   \n",
       "Juan Fernández, Estación Meteorológica.  33&deg 38' 9'' S    41.0   46.8   \n",
       "Santo Domingo, Ad.                       33&deg 39' 22'' S    0.2   15.6   \n",
       "General Freire, Curicó Ad.               34&deg 58' 10'' S    0.2   58.4   \n",
       "General Bernardo O'Higgins, Chillán Ad.  36&deg 35' 9'' S     6.2  115.8   \n",
       "Carriel Sur, Concepción Ap.              36&deg 46' 50'' S    4.6  131.4   \n",
       "María Dolores, Los Angeles Ad.           37&deg 23' 49'' S    6.6  117.0   \n",
       "Maquehue, Temuco Ad.                     38&deg 46' 4'' S    66.8  137.8   \n",
       "Pichoy, Valdivia Ad.                     39&deg 39' 24'' S   87.6  171.4   \n",
       "Cañal Bajo,  Osorno Ad.                  40&deg 36' 52'' S   78.8  118.2   \n",
       "El Tepual  Puerto Montt Ap.              41&deg 26' 51'' S  104.2  133.0   \n",
       "Futaleufú Ad.                            43&deg 11' 20'' S  144.0  271.4   \n",
       "Alto Palena Ad.                          43&deg 36' 42'' S   81.7  126.8   \n",
       "Puerto Aysén Ad.                         45&deg 23' 58'' S  177.4  182.3   \n",
       "Teniente Vidal, Coyhaique Ad.            45&deg 35' 27'' S   66.8  126.6   \n",
       "Balmaceda Ad.                            45&deg 55' 6'' S    43.2   61.4   \n",
       "Chile Chico Ad.                          46&deg 35' 6'' S     9.0   30.8   \n",
       "Lord Cochrane Ad.                        47&deg 14' 38'' S   37.0   55.8   \n",
       "Teniente Gallardo, Puerto Natales Ad.    51&deg 40' 2'' S    17.5   36.5   \n",
       "Carlos Ibañez, Punta Arenas Ap.          53&deg 0' 6'' S     21.6   27.8   \n",
       "Fuentes Martínez, Porvenir Ad.           53&deg 15' 13'' S   74.0   57.9   \n",
       "Guardiamarina Zañartu, Pto Williams Ad.  54&deg 55' 54'' S   85.2   35.9   \n",
       "C.M.A. Eduardo Frei Montalva, Antártica  62&deg 11' 31'' S   37.6   38.2   \n",
       "\n",
       "                                                             Mayo  Junio  \n",
       "NombreEstacion                           Latitud                          \n",
       "Chacalluta, Arica Ap.                    18&deg 21' 20'' S    0.0    0.0  \n",
       "Diego Aracena Iquique Ap.                20&deg 32' 57'' S    0.0    0.0  \n",
       "El Loa, Calama Ad.                       22&deg 29' 53'' S    0.0    0.0  \n",
       "Cerro Moreno  Antofagasta  Ap.           23&deg 27' 13'' S    0.0    0.0  \n",
       "Desierto de Atacama, Caldera  Ad.        27&deg 15' 16'' S    0.0    1.1  \n",
       "Mataveri  Isla de Pascua Ap.             27&deg 9' 32'' S    26.9   67.4  \n",
       "La Florida, La Serena Ad.                29&deg 54' 52'' S    0.3    4.0  \n",
       "Pudahuel Santiago                        33&deg 22' 42'' S    0.0   19.1  \n",
       "Quinta Normal, Santiago                  33&deg 26' 42'' S    0.0   22.6  \n",
       "Eulogio Sánchez, Tobalaba Ad.            33&deg 27' 19'' S    0.0   29.4  \n",
       "Rodelillo, Ad.                           33&deg 3' 55'' S     0.5   73.0  \n",
       "Juan Fernández, Estación Meteorológica.  33&deg 38' 9'' S    77.8  200.2  \n",
       "Santo Domingo, Ad.                       33&deg 39' 22'' S    1.8   57.6  \n",
       "General Freire, Curicó Ad.               34&deg 58' 10'' S   46.0   49.5  \n",
       "General Bernardo O'Higgins, Chillán Ad.  36&deg 35' 9'' S    71.6  118.4  \n",
       "Carriel Sur, Concepción Ap.              36&deg 46' 50'' S   82.8  194.8  \n",
       "María Dolores, Los Angeles Ad.           37&deg 23' 49'' S   72.0  202.8  \n",
       "Maquehue, Temuco Ad.                     38&deg 46' 4'' S    64.2  202.3  \n",
       "Pichoy, Valdivia Ad.                     39&deg 39' 24'' S  112.2  237.2  \n",
       "Cañal Bajo,  Osorno Ad.                  40&deg 36' 52'' S   79.8  142.6  \n",
       "El Tepual  Puerto Montt Ap.              41&deg 26' 51'' S   97.4  159.2  \n",
       "Futaleufú Ad.                            43&deg 11' 20'' S  222.6  207.6  \n",
       "Alto Palena Ad.                          43&deg 36' 42'' S   90.2   58.4  \n",
       "Puerto Aysén Ad.                         45&deg 23' 58'' S  157.5  123.2  \n",
       "Teniente Vidal, Coyhaique Ad.            45&deg 35' 27'' S  147.5   81.6  \n",
       "Balmaceda Ad.                            45&deg 55' 6'' S    46.7   39.6  \n",
       "Chile Chico Ad.                          46&deg 35' 6'' S    17.6   12.6  \n",
       "Lord Cochrane Ad.                        47&deg 14' 38'' S   53.4   37.9  \n",
       "Teniente Gallardo, Puerto Natales Ad.    51&deg 40' 2'' S    75.5   19.9  \n",
       "Carlos Ibañez, Punta Arenas Ap.          53&deg 0' 6'' S     18.4   11.6  \n",
       "Fuentes Martínez, Porvenir Ad.           53&deg 15' 13'' S   35.4   26.4  \n",
       "Guardiamarina Zañartu, Pto Williams Ad.  54&deg 55' 54'' S   75.4   98.2  \n",
       "C.M.A. Eduardo Frei Montalva, Antártica  62&deg 11' 31'' S   24.5   62.0  "
      ]
     },
     "execution_count": 19,
     "metadata": {},
     "output_type": "execute_result"
    }
   ],
   "source": [
    "import seaborn as sns\n",
    "\n",
    "df_2022_sem1 = df[(df['Año']==2022) & (df['Mes'] <= 6)]\n",
    "\n",
    "df_2022_sem1 = df_2022_sem1.pivot_table(index=['NombreEstacion','Latitud'],\n",
    "                            columns=df_2022_sem1['Fecha'].dt.month,\n",
    "                            values='SumaDiaria', \n",
    "                            aggfunc='sum')\n",
    "# Nombres de Meses\n",
    "df_2022_sem1.columns = ['Enero', 'Febrero', 'Marzo', 'Abril', 'Mayo', 'Junio']\n",
    "\n",
    "# Ordenar estaciones de norte a sur (debes tener una columna latitud)\n",
    "df_2022_sem1 = df_2022_sem1.sort_values(by='Latitud', ascending=True)\n",
    "df_2022_sem1"
   ]
  },
  {
   "cell_type": "code",
   "execution_count": 20,
   "id": "2ed6f032",
   "metadata": {},
   "outputs": [
    {
     "data": {
      "image/png": "[encoded data removed]",
      "text/plain": [
       "<Figure size 1200x600 with 2 Axes>"
      ]
     },
     "metadata": {},
     "output_type": "display_data"
    }
   ],
   "source": [
    "# Grafico\n",
    "plt.figure(figsize=(12,6)) # Lienzo\n",
    "sns.heatmap(data=df_2022_sem1.reset_index().drop(columns=['Latitud']).set_index('NombreEstacion'),\n",
    "             cmap='YlGnBu') # Heatmap\n",
    "plt.title('Heatmap Precipitaciones Primer Semestre 2022') # Titulo\n",
    "plt.xlabel('Mes')\n",
    "plt.ylabel('Nombre Estacion')\n",
    "plt.show()"
   ]
  },
  {
   "cell_type": "markdown",
   "id": "1820ce1a",
   "metadata": {},
   "source": [
    "##### 5. Visualice un Treemap que muestre el total de precipitaciones, divididos por estación de monitoreo en 2020. ¿Hay diferencias significativas con respecto a 2021?"
   ]
  },
  {
   "cell_type": "code",
   "execution_count": 21,
   "id": "f53e1d6c",
   "metadata": {},
   "outputs": [],
   "source": [
    "# Tu código aquí"
   ]
  },
  {
   "cell_type": "markdown",
   "id": "5e4352ab",
   "metadata": {},
   "source": [
    "###### Solución"
   ]
  },
  {
   "cell_type": "code",
   "execution_count": 22,
   "id": "bc7200a6",
   "metadata": {},
   "outputs": [
    {
     "data": {
      "application/vnd.plotly.v1+json": {
       "config": {
        "plotlyServerURL": "https://plot.ly"
       },
       "data": [
        {
         "branchvalues": "total",
         "customdata": {
          "bdata": "AAAAAABghEDNzMzMzAR6QM3MzMzMmIpAZmZmZmbGckBmZmZmZkaJQGZmZmZmwpFAmZmZmZmZCUAzMzMzMzMfQDMzMzMzo25Am5mZmZmZyT/NzMzMzMwEQJqZmZmZmTBAAAAAAAAglUAzMzMzM9NoQAAAAAAAYH1AAAAAAACwmkAAAAAAAOSBQAAAAAAAYHtAzczMzMxogkCamZmZmUWKQAAAAAAAAElAMzMzMzMDe0CamZmZmb2JQJqZmZmZlYdAzczMzMz8jkCamZmZmeOVQDMzMzMzw2JAZmZmZmYwm0BmZmZmZnZnQJqZmZmZ6XhAmpmZmZmxcUBnZmZmZl6HQM3MzMzMPJBA",
          "dtype": "f8",
          "shape": "33, 1"
         },
         "domain": {
          "x": [
           0,
           1
          ],
          "y": [
           0,
           1
          ]
         },
         "hovertemplate": "labels=%{label}<br>SumaDiaria_sum=%{value}<br>parent=%{parent}<br>id=%{id}<br>SumaDiaria=%{color}<extra></extra>",
         "ids": [
          "Alto Palena Ad.",
          "Balmaceda Ad.",
          "C.M.A. Eduardo Frei Montalva, Antártica ",
          "Carlos Ibañez, Punta Arenas Ap.",
          "Carriel Sur, Concepción Ap.",
          "Cañal Bajo,  Osorno Ad.",
          "Cerro Moreno  Antofagasta  Ap.",
          "Chacalluta, Arica Ap.",
          "Chile Chico Ad.",
          "Desierto de Atacama, Caldera  Ad.",
          "Diego Aracena Iquique Ap.",
          "El Loa, Calama Ad.",
          "El Tepual  Puerto Montt Ap.",
          "Eulogio Sánchez, Tobalaba Ad.",
          "Fuentes Martínez, Porvenir Ad.",
          "Futaleufú Ad.",
          "General Bernardo O'Higgins, Chillán Ad.",
          "General Freire, Curicó Ad.",
          "Guardiamarina Zañartu, Pto Williams Ad.",
          "Juan Fernández, Estación Meteorológica.",
          "La Florida, La Serena Ad.",
          "Lord Cochrane Ad.",
          "Maquehue, Temuco Ad.",
          "María Dolores, Los Angeles Ad.",
          "Mataveri  Isla de Pascua Ap.",
          "Pichoy, Valdivia Ad.",
          "Pudahuel Santiago ",
          "Puerto Aysén Ad.",
          "Quinta Normal, Santiago",
          "Rodelillo, Ad.",
          "Santo Domingo, Ad.",
          "Teniente Gallardo, Puerto Natales Ad.",
          "Teniente Vidal, Coyhaique Ad."
         ],
         "labels": [
          "Alto Palena Ad.",
          "Balmaceda Ad.",
          "C.M.A. Eduardo Frei Montalva, Antártica ",
          "Carlos Ibañez, Punta Arenas Ap.",
          "Carriel Sur, Concepción Ap.",
          "Cañal Bajo,  Osorno Ad.",
          "Cerro Moreno  Antofagasta  Ap.",
          "Chacalluta, Arica Ap.",
          "Chile Chico Ad.",
          "Desierto de Atacama, Caldera  Ad.",
          "Diego Aracena Iquique Ap.",
          "El Loa, Calama Ad.",
          "El Tepual  Puerto Montt Ap.",
          "Eulogio Sánchez, Tobalaba Ad.",
          "Fuentes Martínez, Porvenir Ad.",
          "Futaleufú Ad.",
          "General Bernardo O'Higgins, Chillán Ad.",
          "General Freire, Curicó Ad.",
          "Guardiamarina Zañartu, Pto Williams Ad.",
          "Juan Fernández, Estación Meteorológica.",
          "La Florida, La Serena Ad.",
          "Lord Cochrane Ad.",
          "Maquehue, Temuco Ad.",
          "María Dolores, Los Angeles Ad.",
          "Mataveri  Isla de Pascua Ap.",
          "Pichoy, Valdivia Ad.",
          "Pudahuel Santiago ",
          "Puerto Aysén Ad.",
          "Quinta Normal, Santiago",
          "Rodelillo, Ad.",
          "Santo Domingo, Ad.",
          "Teniente Gallardo, Puerto Natales Ad.",
          "Teniente Vidal, Coyhaique Ad."
         ],
         "marker": {
          "coloraxis": "coloraxis",
          "colors": {
           "bdata": "AAAAAABghEDNzMzMzAR6QM3MzMzMmIpAZmZmZmbGckBmZmZmZkaJQGZmZmZmwpFAmZmZmZmZCUAzMzMzMzMfQDMzMzMzo25Am5mZmZmZyT/NzMzMzMwEQJqZmZmZmTBAAAAAAAAglUAzMzMzM9NoQAAAAAAAYH1AAAAAAACwmkAAAAAAAOSBQAAAAAAAYHtAzczMzMxogkCamZmZmUWKQAAAAAAAAElAMzMzMzMDe0CamZmZmb2JQJqZmZmZlYdAzczMzMz8jkCamZmZmeOVQDMzMzMzw2JAZmZmZmYwm0BmZmZmZnZnQJqZmZmZ6XhAmpmZmZmxcUBnZmZmZl6HQM3MzMzMPJBA",
           "dtype": "f8"
          }
         },
         "name": "",
         "parents": [
          "",
          "",
          "",
          "",
          "",
          "",
          "",
          "",
          "",
          "",
          "",
          "",
          "",
          "",
          "",
          "",
          "",
          "",
          "",
          "",
          "",
          "",
          "",
          "",
          "",
          "",
          "",
          "",
          "",
          "",
          "",
          "",
          ""
         ],
         "type": "treemap",
         "values": {
          "bdata": "AAAAAABghEDNzMzMzAR6QM3MzMzMmIpAZmZmZmbGckBmZmZmZkaJQGZmZmZmwpFAmZmZmZmZCUAzMzMzMzMfQDMzMzMzo25AmpmZmZmZyT/NzMzMzMwEQJqZmZmZmTBAAAAAAAAglUAzMzMzM9NoQAAAAAAAYH1AAAAAAACwmkAAAAAAAOSBQAAAAAAAYHtAzczMzMxogkCamZmZmUWKQAAAAAAAAElAMzMzMzMDe0CamZmZmb2JQJqZmZmZlYdAzczMzMz8jkCamZmZmeOVQDMzMzMzw2JAZmZmZmYwm0BmZmZmZnZnQJqZmZmZ6XhAmpmZmZmxcUBnZmZmZl6HQM3MzMzMPJBA",
          "dtype": "f8"
         }
        }
       ],
       "layout": {
        "coloraxis": {
         "colorbar": {
          "title": {
           "text": "SumaDiaria"
          }
         },
         "colorscale": [
          [
           0,
           "rgb(247,251,255)"
          ],
          [
           0.125,
           "rgb(222,235,247)"
          ],
          [
           0.25,
           "rgb(198,219,239)"
          ],
          [
           0.375,
           "rgb(158,202,225)"
          ],
          [
           0.5,
           "rgb(107,174,214)"
          ],
          [
           0.625,
           "rgb(66,146,198)"
          ],
          [
           0.75,
           "rgb(33,113,181)"
          ],
          [
           0.875,
           "rgb(8,81,156)"
          ],
          [
           1,
           "rgb(8,48,107)"
          ]
         ]
        },
        "legend": {
         "tracegroupgap": 0
        },
        "template": {
         "data": {
          "bar": [
           {
            "error_x": {
             "color": "#2a3f5f"
            },
            "error_y": {
             "color": "#2a3f5f"
            },
            "marker": {
             "line": {
              "color": "#E5ECF6",
              "width": 0.5
             },
             "pattern": {
              "fillmode": "overlay",
              "size": 10,
              "solidity": 0.2
             }
            },
            "type": "bar"
           }
          ],
          "barpolar": [
           {
            "marker": {
             "line": {
              "color": "#E5ECF6",
              "width": 0.5
             },
             "pattern": {
              "fillmode": "overlay",
              "size": 10,
              "solidity": 0.2
             }
            },
            "type": "barpolar"
           }
          ],
          "carpet": [
           {
            "aaxis": {
             "endlinecolor": "#2a3f5f",
             "gridcolor": "white",
             "linecolor": "white",
             "minorgridcolor": "white",
             "startlinecolor": "#2a3f5f"
            },
            "baxis": {
             "endlinecolor": "#2a3f5f",
             "gridcolor": "white",
             "linecolor": "white",
             "minorgridcolor": "white",
             "startlinecolor": "#2a3f5f"
            },
            "type": "carpet"
           }
          ],
          "choropleth": [
           {
            "colorbar": {
             "outlinewidth": 0,
             "ticks": ""
            },
            "type": "choropleth"
           }
          ],
          "contour": [
           {
            "colorbar": {
             "outlinewidth": 0,
             "ticks": ""
            },
            "colorscale": [
             [
              0,
              "#0d0887"
             ],
             [
              0.1111111111111111,
              "#46039f"
             ],
             [
              0.2222222222222222,
              "#7201a8"
             ],
             [
              0.3333333333333333,
              "#9c179e"
             ],
             [
              0.4444444444444444,
              "#bd3786"
             ],
             [
              0.5555555555555556,
              "#d8576b"
             ],
             [
              0.6666666666666666,
              "#ed7953"
             ],
             [
              0.7777777777777778,
              "#fb9f3a"
             ],
             [
              0.8888888888888888,
              "#fdca26"
             ],
             [
              1,
              "#f0f921"
             ]
            ],
            "type": "contour"
           }
          ],
          "contourcarpet": [
           {
            "colorbar": {
             "outlinewidth": 0,
             "ticks": ""
            },
            "type": "contourcarpet"
           }
          ],
          "heatmap": [
           {
            "colorbar": {
             "outlinewidth": 0,
             "ticks": ""
            },
            "colorscale": [
             [
              0,
              "#0d0887"
             ],
             [
              0.1111111111111111,
              "#46039f"
             ],
             [
              0.2222222222222222,
              "#7201a8"
             ],
             [
              0.3333333333333333,
              "#9c179e"
             ],
             [
              0.4444444444444444,
              "#bd3786"
             ],
             [
              0.5555555555555556,
              "#d8576b"
             ],
             [
              0.6666666666666666,
              "#ed7953"
             ],
             [
              0.7777777777777778,
              "#fb9f3a"
             ],
             [
              0.8888888888888888,
              "#fdca26"
             ],
             [
              1,
              "#f0f921"
             ]
            ],
            "type": "heatmap"
           }
          ],
          "histogram": [
           {
            "marker": {
             "pattern": {
              "fillmode": "overlay",
              "size": 10,
              "solidity": 0.2
             }
            },
            "type": "histogram"
           }
          ],
          "histogram2d": [
           {
            "colorbar": {
             "outlinewidth": 0,
             "ticks": ""
            },
            "colorscale": [
             [
              0,
              "#0d0887"
             ],
             [
              0.1111111111111111,
              "#46039f"
             ],
             [
              0.2222222222222222,
              "#7201a8"
             ],
             [
              0.3333333333333333,
              "#9c179e"
             ],
             [
              0.4444444444444444,
              "#bd3786"
             ],
             [
              0.5555555555555556,
              "#d8576b"
             ],
             [
              0.6666666666666666,
              "#ed7953"
             ],
             [
              0.7777777777777778,
              "#fb9f3a"
             ],
             [
              0.8888888888888888,
              "#fdca26"
             ],
             [
              1,
              "#f0f921"
             ]
            ],
            "type": "histogram2d"
           }
          ],
          "histogram2dcontour": [
           {
            "colorbar": {
             "outlinewidth": 0,
             "ticks": ""
            },
            "colorscale": [
             [
              0,
              "#0d0887"
             ],
             [
              0.1111111111111111,
              "#46039f"
             ],
             [
              0.2222222222222222,
              "#7201a8"
             ],
             [
              0.3333333333333333,
              "#9c179e"
             ],
             [
              0.4444444444444444,
              "#bd3786"
             ],
             [
              0.5555555555555556,
              "#d8576b"
             ],
             [
              0.6666666666666666,
              "#ed7953"
             ],
             [
              0.7777777777777778,
              "#fb9f3a"
             ],
             [
              0.8888888888888888,
              "#fdca26"
             ],
             [
              1,
              "#f0f921"
             ]
            ],
            "type": "histogram2dcontour"
           }
          ],
          "mesh3d": [
           {
            "colorbar": {
             "outlinewidth": 0,
             "ticks": ""
            },
            "type": "mesh3d"
           }
          ],
          "parcoords": [
           {
            "line": {
             "colorbar": {
              "outlinewidth": 0,
              "ticks": ""
             }
            },
            "type": "parcoords"
           }
          ],
          "pie": [
           {
            "automargin": true,
            "type": "pie"
           }
          ],
          "scatter": [
           {
            "fillpattern": {
             "fillmode": "overlay",
             "size": 10,
             "solidity": 0.2
            },
            "type": "scatter"
           }
          ],
          "scatter3d": [
           {
            "line": {
             "colorbar": {
              "outlinewidth": 0,
              "ticks": ""
             }
            },
            "marker": {
             "colorbar": {
              "outlinewidth": 0,
              "ticks": ""
             }
            },
            "type": "scatter3d"
           }
          ],
          "scattercarpet": [
           {
            "marker": {
             "colorbar": {
              "outlinewidth": 0,
              "ticks": ""
             }
            },
            "type": "scattercarpet"
           }
          ],
          "scattergeo": [
           {
            "marker": {
             "colorbar": {
              "outlinewidth": 0,
              "ticks": ""
             }
            },
            "type": "scattergeo"
           }
          ],
          "scattergl": [
           {
            "marker": {
             "colorbar": {
              "outlinewidth": 0,
              "ticks": ""
             }
            },
            "type": "scattergl"
           }
          ],
          "scattermap": [
           {
            "marker": {
             "colorbar": {
              "outlinewidth": 0,
              "ticks": ""
             }
            },
            "type": "scattermap"
           }
          ],
          "scattermapbox": [
           {
            "marker": {
             "colorbar": {
              "outlinewidth": 0,
              "ticks": ""
             }
            },
            "type": "scattermapbox"
           }
          ],
          "scatterpolar": [
           {
            "marker": {
             "colorbar": {
              "outlinewidth": 0,
              "ticks": ""
             }
            },
            "type": "scatterpolar"
           }
          ],
          "scatterpolargl": [
           {
            "marker": {
             "colorbar": {
              "outlinewidth": 0,
              "ticks": ""
             }
            },
            "type": "scatterpolargl"
           }
          ],
          "scatterternary": [
           {
            "marker": {
             "colorbar": {
              "outlinewidth": 0,
              "ticks": ""
             }
            },
            "type": "scatterternary"
           }
          ],
          "surface": [
           {
            "colorbar": {
             "outlinewidth": 0,
             "ticks": ""
            },
            "colorscale": [
             [
              0,
              "#0d0887"
             ],
             [
              0.1111111111111111,
              "#46039f"
             ],
             [
              0.2222222222222222,
              "#7201a8"
             ],
             [
              0.3333333333333333,
              "#9c179e"
             ],
             [
              0.4444444444444444,
              "#bd3786"
             ],
             [
              0.5555555555555556,
              "#d8576b"
             ],
             [
              0.6666666666666666,
              "#ed7953"
             ],
             [
              0.7777777777777778,
              "#fb9f3a"
             ],
             [
              0.8888888888888888,
              "#fdca26"
             ],
             [
              1,
              "#f0f921"
             ]
            ],
            "type": "surface"
           }
          ],
          "table": [
           {
            "cells": {
             "fill": {
              "color": "#EBF0F8"
             },
             "line": {
              "color": "white"
             }
            },
            "header": {
             "fill": {
              "color": "#C8D4E3"
             },
             "line": {
              "color": "white"
             }
            },
            "type": "table"
           }
          ]
         },
         "layout": {
          "annotationdefaults": {
           "arrowcolor": "#2a3f5f",
           "arrowhead": 0,
           "arrowwidth": 1
          },
          "autotypenumbers": "strict",
          "coloraxis": {
           "colorbar": {
            "outlinewidth": 0,
            "ticks": ""
           }
          },
          "colorscale": {
           "diverging": [
            [
             0,
             "#8e0152"
            ],
            [
             0.1,
             "#c51b7d"
            ],
            [
             0.2,
             "#de77ae"
            ],
            [
             0.3,
             "#f1b6da"
            ],
            [
             0.4,
             "#fde0ef"
            ],
            [
             0.5,
             "#f7f7f7"
            ],
            [
             0.6,
             "#e6f5d0"
            ],
            [
             0.7,
             "#b8e186"
            ],
            [
             0.8,
             "#7fbc41"
            ],
            [
             0.9,
             "#4d9221"
            ],
            [
             1,
             "#276419"
            ]
           ],
           "sequential": [
            [
             0,
             "#0d0887"
            ],
            [
             0.1111111111111111,
             "#46039f"
            ],
            [
             0.2222222222222222,
             "#7201a8"
            ],
            [
             0.3333333333333333,
             "#9c179e"
            ],
            [
             0.4444444444444444,
             "#bd3786"
            ],
            [
             0.5555555555555556,
             "#d8576b"
            ],
            [
             0.6666666666666666,
             "#ed7953"
            ],
            [
             0.7777777777777778,
             "#fb9f3a"
            ],
            [
             0.8888888888888888,
             "#fdca26"
            ],
            [
             1,
             "#f0f921"
            ]
           ],
           "sequentialminus": [
            [
             0,
             "#0d0887"
            ],
            [
             0.1111111111111111,
             "#46039f"
            ],
            [
             0.2222222222222222,
             "#7201a8"
            ],
            [
             0.3333333333333333,
             "#9c179e"
            ],
            [
             0.4444444444444444,
             "#bd3786"
            ],
            [
             0.5555555555555556,
             "#d8576b"
            ],
            [
             0.6666666666666666,
             "#ed7953"
            ],
            [
             0.7777777777777778,
             "#fb9f3a"
            ],
            [
             0.8888888888888888,
             "#fdca26"
            ],
            [
             1,
             "#f0f921"
            ]
           ]
          },
          "colorway": [
           "#636efa",
           "#EF553B",
           "#00cc96",
           "#ab63fa",
           "#FFA15A",
           "#19d3f3",
           "#FF6692",
           "#B6E880",
           "#FF97FF",
           "#FECB52"
          ],
          "font": {
           "color": "#2a3f5f"
          },
          "geo": {
           "bgcolor": "white",
           "lakecolor": "white",
           "landcolor": "#E5ECF6",
           "showlakes": true,
           "showland": true,
           "subunitcolor": "white"
          },
          "hoverlabel": {
           "align": "left"
          },
          "hovermode": "closest",
          "mapbox": {
           "style": "light"
          },
          "paper_bgcolor": "white",
          "plot_bgcolor": "#E5ECF6",
          "polar": {
           "angularaxis": {
            "gridcolor": "white",
            "linecolor": "white",
            "ticks": ""
           },
           "bgcolor": "#E5ECF6",
           "radialaxis": {
            "gridcolor": "white",
            "linecolor": "white",
            "ticks": ""
           }
          },
          "scene": {
           "xaxis": {
            "backgroundcolor": "#E5ECF6",
            "gridcolor": "white",
            "gridwidth": 2,
            "linecolor": "white",
            "showbackground": true,
            "ticks": "",
            "zerolinecolor": "white"
           },
           "yaxis": {
            "backgroundcolor": "#E5ECF6",
            "gridcolor": "white",
            "gridwidth": 2,
            "linecolor": "white",
            "showbackground": true,
            "ticks": "",
            "zerolinecolor": "white"
           },
           "zaxis": {
            "backgroundcolor": "#E5ECF6",
            "gridcolor": "white",
            "gridwidth": 2,
            "linecolor": "white",
            "showbackground": true,
            "ticks": "",
            "zerolinecolor": "white"
           }
          },
          "shapedefaults": {
           "line": {
            "color": "#2a3f5f"
           }
          },
          "ternary": {
           "aaxis": {
            "gridcolor": "white",
            "linecolor": "white",
            "ticks": ""
           },
           "baxis": {
            "gridcolor": "white",
            "linecolor": "white",
            "ticks": ""
           },
           "bgcolor": "#E5ECF6",
           "caxis": {
            "gridcolor": "white",
            "linecolor": "white",
            "ticks": ""
           }
          },
          "title": {
           "x": 0.05
          },
          "xaxis": {
           "automargin": true,
           "gridcolor": "white",
           "linecolor": "white",
           "ticks": "",
           "title": {
            "standoff": 15
           },
           "zerolinecolor": "white",
           "zerolinewidth": 2
          },
          "yaxis": {
           "automargin": true,
           "gridcolor": "white",
           "linecolor": "white",
           "ticks": "",
           "title": {
            "standoff": 15
           },
           "zerolinecolor": "white",
           "zerolinewidth": 2
          }
         }
        },
        "title": {
         "text": "Total de Precipitaciones por Estación - 2020"
        }
       }
      }
     },
     "metadata": {},
     "output_type": "display_data"
    }
   ],
   "source": [
    "import plotly.express as px\n",
    "\n",
    "df_2020 = df_pandas[df_pandas['Año'] == 2020]\n",
    "total_prec_2020 = df_2020.groupby('NombreEstacion')['SumaDiaria'].sum().reset_index()\n",
    "\n",
    "fig_2020 = px.treemap(\n",
    "    total_prec_2020,\n",
    "    path=['NombreEstacion'],        # Cada estación como una \"hoja\" del árbol\n",
    "    values='SumaDiaria',    \t    # Área proporcional a la precipitación\n",
    "    color='SumaDiaria',        \t\t# Color también según el total\n",
    "    color_continuous_scale='Blues', # Escala de colores\n",
    "    title='Total de Precipitaciones por Estación - 2020'\n",
    ")\n",
    "\n",
    "fig_2020.show()\n",
    "\n",
    "# Comparar gráficamente el 2020 vs 2021\n"
   ]
  },
  {
   "cell_type": "code",
   "execution_count": 23,
   "id": "d866742c",
   "metadata": {},
   "outputs": [
    {
     "data": {
      "application/vnd.plotly.v1+json": {
       "config": {
        "plotlyServerURL": "https://plot.ly"
       },
       "data": [
        {
         "branchvalues": "total",
         "customdata": {
          "bdata": "AAAAAAB0gUAAAAAAAGBfQM3MzMzMfHtAZ2ZmZmZGbkCamZmZmXmBQJqZmZmZMYdAm5mZmZmZ2T8AAAAAAAD4P2ZmZmZmdmdAzczMzMzMEkAAAAAAAAAAQAAAAAAAABxAmZmZmZm9jEAAAAAAAGBjQAAAAAAAKH9AzczMzMwslEAzMzMzM0OBQDMzMzMzc3RAMzMzMzODg0AAAAAAAGiOQJqZmZmZmS9AzczMzMy0fEDNzMzMzFSGQGZmZmZmZnFAMzMzMzOLi0DNzMzMzKSNQJqZmZmZ+VJAZmZmZmZclECamZmZmXlcQM3MzMzM3GpAmpmZmZlpYkAzMzMzM+t9QGZmZmZmeoZA",
          "dtype": "f8",
          "shape": "33, 1"
         },
         "domain": {
          "x": [
           0,
           1
          ],
          "y": [
           0,
           1
          ]
         },
         "hovertemplate": "labels=%{label}<br>SumaDiaria_sum=%{value}<br>parent=%{parent}<br>id=%{id}<br>SumaDiaria=%{color}<extra></extra>",
         "ids": [
          "Alto Palena Ad.",
          "Balmaceda Ad.",
          "C.M.A. Eduardo Frei Montalva, Antártica ",
          "Carlos Ibañez, Punta Arenas Ap.",
          "Carriel Sur, Concepción Ap.",
          "Cañal Bajo,  Osorno Ad.",
          "Cerro Moreno  Antofagasta  Ap.",
          "Chacalluta, Arica Ap.",
          "Chile Chico Ad.",
          "Desierto de Atacama, Caldera  Ad.",
          "Diego Aracena Iquique Ap.",
          "El Loa, Calama Ad.",
          "El Tepual  Puerto Montt Ap.",
          "Eulogio Sánchez, Tobalaba Ad.",
          "Fuentes Martínez, Porvenir Ad.",
          "Futaleufú Ad.",
          "General Bernardo O'Higgins, Chillán Ad.",
          "General Freire, Curicó Ad.",
          "Guardiamarina Zañartu, Pto Williams Ad.",
          "Juan Fernández, Estación Meteorológica.",
          "La Florida, La Serena Ad.",
          "Lord Cochrane Ad.",
          "Maquehue, Temuco Ad.",
          "María Dolores, Los Angeles Ad.",
          "Mataveri  Isla de Pascua Ap.",
          "Pichoy, Valdivia Ad.",
          "Pudahuel Santiago ",
          "Puerto Aysén Ad.",
          "Quinta Normal, Santiago",
          "Rodelillo, Ad.",
          "Santo Domingo, Ad.",
          "Teniente Gallardo, Puerto Natales Ad.",
          "Teniente Vidal, Coyhaique Ad."
         ],
         "labels": [
          "Alto Palena Ad.",
          "Balmaceda Ad.",
          "C.M.A. Eduardo Frei Montalva, Antártica ",
          "Carlos Ibañez, Punta Arenas Ap.",
          "Carriel Sur, Concepción Ap.",
          "Cañal Bajo,  Osorno Ad.",
          "Cerro Moreno  Antofagasta  Ap.",
          "Chacalluta, Arica Ap.",
          "Chile Chico Ad.",
          "Desierto de Atacama, Caldera  Ad.",
          "Diego Aracena Iquique Ap.",
          "El Loa, Calama Ad.",
          "El Tepual  Puerto Montt Ap.",
          "Eulogio Sánchez, Tobalaba Ad.",
          "Fuentes Martínez, Porvenir Ad.",
          "Futaleufú Ad.",
          "General Bernardo O'Higgins, Chillán Ad.",
          "General Freire, Curicó Ad.",
          "Guardiamarina Zañartu, Pto Williams Ad.",
          "Juan Fernández, Estación Meteorológica.",
          "La Florida, La Serena Ad.",
          "Lord Cochrane Ad.",
          "Maquehue, Temuco Ad.",
          "María Dolores, Los Angeles Ad.",
          "Mataveri  Isla de Pascua Ap.",
          "Pichoy, Valdivia Ad.",
          "Pudahuel Santiago ",
          "Puerto Aysén Ad.",
          "Quinta Normal, Santiago",
          "Rodelillo, Ad.",
          "Santo Domingo, Ad.",
          "Teniente Gallardo, Puerto Natales Ad.",
          "Teniente Vidal, Coyhaique Ad."
         ],
         "marker": {
          "coloraxis": "coloraxis",
          "colors": {
           "bdata": "AAAAAAB0gUAAAAAAAGBfQM3MzMzMfHtAZ2ZmZmZGbkCamZmZmXmBQJqZmZmZMYdAm5mZmZmZ2T8AAAAAAAD4P2ZmZmZmdmdAzczMzMzMEkAAAAAAAAAAQAAAAAAAABxAmZmZmZm9jEAAAAAAAGBjQAAAAAAAKH9AzczMzMwslEAzMzMzM0OBQDMzMzMzc3RAMzMzMzODg0AAAAAAAGiOQJqZmZmZmS9AzczMzMy0fEDNzMzMzFSGQGZmZmZmZnFAMzMzMzOLi0DNzMzMzKSNQJqZmZmZ+VJAZmZmZmZclECamZmZmXlcQM3MzMzM3GpAmpmZmZlpYkAzMzMzM+t9QGZmZmZmeoZA",
           "dtype": "f8"
          }
         },
         "name": "",
         "parents": [
          "",
          "",
          "",
          "",
          "",
          "",
          "",
          "",
          "",
          "",
          "",
          "",
          "",
          "",
          "",
          "",
          "",
          "",
          "",
          "",
          "",
          "",
          "",
          "",
          "",
          "",
          "",
          "",
          "",
          "",
          "",
          "",
          ""
         ],
         "type": "treemap",
         "values": {
          "bdata": "AAAAAAB0gUAAAAAAAGBfQM3MzMzMfHtAZ2ZmZmZGbkCamZmZmXmBQJqZmZmZMYdAmpmZmZmZ2T8AAAAAAAD4P2ZmZmZmdmdAzczMzMzMEkAAAAAAAAAAQAAAAAAAABxAmZmZmZm9jEAAAAAAAGBjQAAAAAAAKH9AzczMzMwslEAzMzMzM0OBQDMzMzMzc3RAMzMzMzODg0AAAAAAAGiOQJqZmZmZmS9AzczMzMy0fEDNzMzMzFSGQGZmZmZmZnFAMzMzMzOLi0DNzMzMzKSNQJqZmZmZ+VJAZmZmZmZclECamZmZmXlcQM3MzMzM3GpAmpmZmZlpYkAzMzMzM+t9QGZmZmZmeoZA",
          "dtype": "f8"
         }
        }
       ],
       "layout": {
        "coloraxis": {
         "colorbar": {
          "title": {
           "text": "SumaDiaria"
          }
         },
         "colorscale": [
          [
           0,
           "rgb(247,251,255)"
          ],
          [
           0.125,
           "rgb(222,235,247)"
          ],
          [
           0.25,
           "rgb(198,219,239)"
          ],
          [
           0.375,
           "rgb(158,202,225)"
          ],
          [
           0.5,
           "rgb(107,174,214)"
          ],
          [
           0.625,
           "rgb(66,146,198)"
          ],
          [
           0.75,
           "rgb(33,113,181)"
          ],
          [
           0.875,
           "rgb(8,81,156)"
          ],
          [
           1,
           "rgb(8,48,107)"
          ]
         ]
        },
        "legend": {
         "tracegroupgap": 0
        },
        "template": {
         "data": {
          "bar": [
           {
            "error_x": {
             "color": "#2a3f5f"
            },
            "error_y": {
             "color": "#2a3f5f"
            },
            "marker": {
             "line": {
              "color": "#E5ECF6",
              "width": 0.5
             },
             "pattern": {
              "fillmode": "overlay",
              "size": 10,
              "solidity": 0.2
             }
            },
            "type": "bar"
           }
          ],
          "barpolar": [
           {
            "marker": {
             "line": {
              "color": "#E5ECF6",
              "width": 0.5
             },
             "pattern": {
              "fillmode": "overlay",
              "size": 10,
              "solidity": 0.2
             }
            },
            "type": "barpolar"
           }
          ],
          "carpet": [
           {
            "aaxis": {
             "endlinecolor": "#2a3f5f",
             "gridcolor": "white",
             "linecolor": "white",
             "minorgridcolor": "white",
             "startlinecolor": "#2a3f5f"
            },
            "baxis": {
             "endlinecolor": "#2a3f5f",
             "gridcolor": "white",
             "linecolor": "white",
             "minorgridcolor": "white",
             "startlinecolor": "#2a3f5f"
            },
            "type": "carpet"
           }
          ],
          "choropleth": [
           {
            "colorbar": {
             "outlinewidth": 0,
             "ticks": ""
            },
            "type": "choropleth"
           }
          ],
          "contour": [
           {
            "colorbar": {
             "outlinewidth": 0,
             "ticks": ""
            },
            "colorscale": [
             [
              0,
              "#0d0887"
             ],
             [
              0.1111111111111111,
              "#46039f"
             ],
             [
              0.2222222222222222,
              "#7201a8"
             ],
             [
              0.3333333333333333,
              "#9c179e"
             ],
             [
              0.4444444444444444,
              "#bd3786"
             ],
             [
              0.5555555555555556,
              "#d8576b"
             ],
             [
              0.6666666666666666,
              "#ed7953"
             ],
             [
              0.7777777777777778,
              "#fb9f3a"
             ],
             [
              0.8888888888888888,
              "#fdca26"
             ],
             [
              1,
              "#f0f921"
             ]
            ],
            "type": "contour"
           }
          ],
          "contourcarpet": [
           {
            "colorbar": {
             "outlinewidth": 0,
             "ticks": ""
            },
            "type": "contourcarpet"
           }
          ],
          "heatmap": [
           {
            "colorbar": {
             "outlinewidth": 0,
             "ticks": ""
            },
            "colorscale": [
             [
              0,
              "#0d0887"
             ],
             [
              0.1111111111111111,
              "#46039f"
             ],
             [
              0.2222222222222222,
              "#7201a8"
             ],
             [
              0.3333333333333333,
              "#9c179e"
             ],
             [
              0.4444444444444444,
              "#bd3786"
             ],
             [
              0.5555555555555556,
              "#d8576b"
             ],
             [
              0.6666666666666666,
              "#ed7953"
             ],
             [
              0.7777777777777778,
              "#fb9f3a"
             ],
             [
              0.8888888888888888,
              "#fdca26"
             ],
             [
              1,
              "#f0f921"
             ]
            ],
            "type": "heatmap"
           }
          ],
          "histogram": [
           {
            "marker": {
             "pattern": {
              "fillmode": "overlay",
              "size": 10,
              "solidity": 0.2
             }
            },
            "type": "histogram"
           }
          ],
          "histogram2d": [
           {
            "colorbar": {
             "outlinewidth": 0,
             "ticks": ""
            },
            "colorscale": [
             [
              0,
              "#0d0887"
             ],
             [
              0.1111111111111111,
              "#46039f"
             ],
             [
              0.2222222222222222,
              "#7201a8"
             ],
             [
              0.3333333333333333,
              "#9c179e"
             ],
             [
              0.4444444444444444,
              "#bd3786"
             ],
             [
              0.5555555555555556,
              "#d8576b"
             ],
             [
              0.6666666666666666,
              "#ed7953"
             ],
             [
              0.7777777777777778,
              "#fb9f3a"
             ],
             [
              0.8888888888888888,
              "#fdca26"
             ],
             [
              1,
              "#f0f921"
             ]
            ],
            "type": "histogram2d"
           }
          ],
          "histogram2dcontour": [
           {
            "colorbar": {
             "outlinewidth": 0,
             "ticks": ""
            },
            "colorscale": [
             [
              0,
              "#0d0887"
             ],
             [
              0.1111111111111111,
              "#46039f"
             ],
             [
              0.2222222222222222,
              "#7201a8"
             ],
             [
              0.3333333333333333,
              "#9c179e"
             ],
             [
              0.4444444444444444,
              "#bd3786"
             ],
             [
              0.5555555555555556,
              "#d8576b"
             ],
             [
              0.6666666666666666,
              "#ed7953"
             ],
             [
              0.7777777777777778,
              "#fb9f3a"
             ],
             [
              0.8888888888888888,
              "#fdca26"
             ],
             [
              1,
              "#f0f921"
             ]
            ],
            "type": "histogram2dcontour"
           }
          ],
          "mesh3d": [
           {
            "colorbar": {
             "outlinewidth": 0,
             "ticks": ""
            },
            "type": "mesh3d"
           }
          ],
          "parcoords": [
           {
            "line": {
             "colorbar": {
              "outlinewidth": 0,
              "ticks": ""
             }
            },
            "type": "parcoords"
           }
          ],
          "pie": [
           {
            "automargin": true,
            "type": "pie"
           }
          ],
          "scatter": [
           {
            "fillpattern": {
             "fillmode": "overlay",
             "size": 10,
             "solidity": 0.2
            },
            "type": "scatter"
           }
          ],
          "scatter3d": [
           {
            "line": {
             "colorbar": {
              "outlinewidth": 0,
              "ticks": ""
             }
            },
            "marker": {
             "colorbar": {
              "outlinewidth": 0,
              "ticks": ""
             }
            },
            "type": "scatter3d"
           }
          ],
          "scattercarpet": [
           {
            "marker": {
             "colorbar": {
              "outlinewidth": 0,
              "ticks": ""
             }
            },
            "type": "scattercarpet"
           }
          ],
          "scattergeo": [
           {
            "marker": {
             "colorbar": {
              "outlinewidth": 0,
              "ticks": ""
             }
            },
            "type": "scattergeo"
           }
          ],
          "scattergl": [
           {
            "marker": {
             "colorbar": {
              "outlinewidth": 0,
              "ticks": ""
             }
            },
            "type": "scattergl"
           }
          ],
          "scattermap": [
           {
            "marker": {
             "colorbar": {
              "outlinewidth": 0,
              "ticks": ""
             }
            },
            "type": "scattermap"
           }
          ],
          "scattermapbox": [
           {
            "marker": {
             "colorbar": {
              "outlinewidth": 0,
              "ticks": ""
             }
            },
            "type": "scattermapbox"
           }
          ],
          "scatterpolar": [
           {
            "marker": {
             "colorbar": {
              "outlinewidth": 0,
              "ticks": ""
             }
            },
            "type": "scatterpolar"
           }
          ],
          "scatterpolargl": [
           {
            "marker": {
             "colorbar": {
              "outlinewidth": 0,
              "ticks": ""
             }
            },
            "type": "scatterpolargl"
           }
          ],
          "scatterternary": [
           {
            "marker": {
             "colorbar": {
              "outlinewidth": 0,
              "ticks": ""
             }
            },
            "type": "scatterternary"
           }
          ],
          "surface": [
           {
            "colorbar": {
             "outlinewidth": 0,
             "ticks": ""
            },
            "colorscale": [
             [
              0,
              "#0d0887"
             ],
             [
              0.1111111111111111,
              "#46039f"
             ],
             [
              0.2222222222222222,
              "#7201a8"
             ],
             [
              0.3333333333333333,
              "#9c179e"
             ],
             [
              0.4444444444444444,
              "#bd3786"
             ],
             [
              0.5555555555555556,
              "#d8576b"
             ],
             [
              0.6666666666666666,
              "#ed7953"
             ],
             [
              0.7777777777777778,
              "#fb9f3a"
             ],
             [
              0.8888888888888888,
              "#fdca26"
             ],
             [
              1,
              "#f0f921"
             ]
            ],
            "type": "surface"
           }
          ],
          "table": [
           {
            "cells": {
             "fill": {
              "color": "#EBF0F8"
             },
             "line": {
              "color": "white"
             }
            },
            "header": {
             "fill": {
              "color": "#C8D4E3"
             },
             "line": {
              "color": "white"
             }
            },
            "type": "table"
           }
          ]
         },
         "layout": {
          "annotationdefaults": {
           "arrowcolor": "#2a3f5f",
           "arrowhead": 0,
           "arrowwidth": 1
          },
          "autotypenumbers": "strict",
          "coloraxis": {
           "colorbar": {
            "outlinewidth": 0,
            "ticks": ""
           }
          },
          "colorscale": {
           "diverging": [
            [
             0,
             "#8e0152"
            ],
            [
             0.1,
             "#c51b7d"
            ],
            [
             0.2,
             "#de77ae"
            ],
            [
             0.3,
             "#f1b6da"
            ],
            [
             0.4,
             "#fde0ef"
            ],
            [
             0.5,
             "#f7f7f7"
            ],
            [
             0.6,
             "#e6f5d0"
            ],
            [
             0.7,
             "#b8e186"
            ],
            [
             0.8,
             "#7fbc41"
            ],
            [
             0.9,
             "#4d9221"
            ],
            [
             1,
             "#276419"
            ]
           ],
           "sequential": [
            [
             0,
             "#0d0887"
            ],
            [
             0.1111111111111111,
             "#46039f"
            ],
            [
             0.2222222222222222,
             "#7201a8"
            ],
            [
             0.3333333333333333,
             "#9c179e"
            ],
            [
             0.4444444444444444,
             "#bd3786"
            ],
            [
             0.5555555555555556,
             "#d8576b"
            ],
            [
             0.6666666666666666,
             "#ed7953"
            ],
            [
             0.7777777777777778,
             "#fb9f3a"
            ],
            [
             0.8888888888888888,
             "#fdca26"
            ],
            [
             1,
             "#f0f921"
            ]
           ],
           "sequentialminus": [
            [
             0,
             "#0d0887"
            ],
            [
             0.1111111111111111,
             "#46039f"
            ],
            [
             0.2222222222222222,
             "#7201a8"
            ],
            [
             0.3333333333333333,
             "#9c179e"
            ],
            [
             0.4444444444444444,
             "#bd3786"
            ],
            [
             0.5555555555555556,
             "#d8576b"
            ],
            [
             0.6666666666666666,
             "#ed7953"
            ],
            [
             0.7777777777777778,
             "#fb9f3a"
            ],
            [
             0.8888888888888888,
             "#fdca26"
            ],
            [
             1,
             "#f0f921"
            ]
           ]
          },
          "colorway": [
           "#636efa",
           "#EF553B",
           "#00cc96",
           "#ab63fa",
           "#FFA15A",
           "#19d3f3",
           "#FF6692",
           "#B6E880",
           "#FF97FF",
           "#FECB52"
          ],
          "font": {
           "color": "#2a3f5f"
          },
          "geo": {
           "bgcolor": "white",
           "lakecolor": "white",
           "landcolor": "#E5ECF6",
           "showlakes": true,
           "showland": true,
           "subunitcolor": "white"
          },
          "hoverlabel": {
           "align": "left"
          },
          "hovermode": "closest",
          "mapbox": {
           "style": "light"
          },
          "paper_bgcolor": "white",
          "plot_bgcolor": "#E5ECF6",
          "polar": {
           "angularaxis": {
            "gridcolor": "white",
            "linecolor": "white",
            "ticks": ""
           },
           "bgcolor": "#E5ECF6",
           "radialaxis": {
            "gridcolor": "white",
            "linecolor": "white",
            "ticks": ""
           }
          },
          "scene": {
           "xaxis": {
            "backgroundcolor": "#E5ECF6",
            "gridcolor": "white",
            "gridwidth": 2,
            "linecolor": "white",
            "showbackground": true,
            "ticks": "",
            "zerolinecolor": "white"
           },
           "yaxis": {
            "backgroundcolor": "#E5ECF6",
            "gridcolor": "white",
            "gridwidth": 2,
            "linecolor": "white",
            "showbackground": true,
            "ticks": "",
            "zerolinecolor": "white"
           },
           "zaxis": {
            "backgroundcolor": "#E5ECF6",
            "gridcolor": "white",
            "gridwidth": 2,
            "linecolor": "white",
            "showbackground": true,
            "ticks": "",
            "zerolinecolor": "white"
           }
          },
          "shapedefaults": {
           "line": {
            "color": "#2a3f5f"
           }
          },
          "ternary": {
           "aaxis": {
            "gridcolor": "white",
            "linecolor": "white",
            "ticks": ""
           },
           "baxis": {
            "gridcolor": "white",
            "linecolor": "white",
            "ticks": ""
           },
           "bgcolor": "#E5ECF6",
           "caxis": {
            "gridcolor": "white",
            "linecolor": "white",
            "ticks": ""
           }
          },
          "title": {
           "x": 0.05
          },
          "xaxis": {
           "automargin": true,
           "gridcolor": "white",
           "linecolor": "white",
           "ticks": "",
           "title": {
            "standoff": 15
           },
           "zerolinecolor": "white",
           "zerolinewidth": 2
          },
          "yaxis": {
           "automargin": true,
           "gridcolor": "white",
           "linecolor": "white",
           "ticks": "",
           "title": {
            "standoff": 15
           },
           "zerolinecolor": "white",
           "zerolinewidth": 2
          }
         }
        },
        "title": {
         "text": "Total de Precipitaciones por Estación - 2021"
        }
       }
      }
     },
     "metadata": {},
     "output_type": "display_data"
    }
   ],
   "source": [
    "df_2021 = df_pandas[df_pandas['Año'] == 2021]\n",
    "total_prec_2021 = df_2021.groupby('NombreEstacion')['SumaDiaria'].sum().reset_index()\n",
    "\n",
    "fig_2021 = px.treemap(\n",
    "    total_prec_2021,\n",
    "    path=['NombreEstacion'],        # Cada estación como una \"hoja\" del árbol\n",
    "    values='SumaDiaria',    \t    # Área proporcional a la precipitación\n",
    "    color='SumaDiaria',        \t\t# Color también según el total\n",
    "    color_continuous_scale='Blues', # Escala de colores\n",
    "    title='Total de Precipitaciones por Estación - 2021'\n",
    ")\n",
    "\n",
    "fig_2021.show()\n",
    "\n",
    "# Comparar gráficamente el 2020 vs 2021\n"
   ]
  },
  {
   "cell_type": "markdown",
   "id": "17aca65c",
   "metadata": {},
   "source": [
    "##### 6. Calcule la variación porcentual de cada estación de monitoreo con respecto a su año previo. Luego, proponga un barplot que represente las 5 principales variaciones porcentajes."
   ]
  },
  {
   "cell_type": "code",
   "execution_count": 24,
   "id": "5fa247f2",
   "metadata": {},
   "outputs": [],
   "source": [
    "# Tu código aquí"
   ]
  },
  {
   "cell_type": "markdown",
   "id": "44f1ed2b",
   "metadata": {},
   "source": [
    "###### Solución"
   ]
  },
  {
   "cell_type": "code",
   "execution_count": 25,
   "id": "eef8bd09",
   "metadata": {},
   "outputs": [
    {
     "data": {
      "text/html": [
       "<div>\n",
       "<style scoped>\n",
       "    .dataframe tbody tr th:only-of-type {\n",
       "        vertical-align: middle;\n",
       "    }\n",
       "\n",
       "    .dataframe tbody tr th {\n",
       "        vertical-align: top;\n",
       "    }\n",
       "\n",
       "    .dataframe thead th {\n",
       "        text-align: right;\n",
       "    }\n",
       "</style>\n",
       "<table border=\"1\" class=\"dataframe\">\n",
       "  <thead>\n",
       "    <tr style=\"text-align: right;\">\n",
       "      <th></th>\n",
       "      <th>Estación</th>\n",
       "      <th>2020</th>\n",
       "      <th>2021</th>\n",
       "      <th>Variación</th>\n",
       "    </tr>\n",
       "  </thead>\n",
       "  <tbody>\n",
       "    <tr>\n",
       "      <th>0</th>\n",
       "      <td>Alto Palena Ad.</td>\n",
       "      <td>652.0</td>\n",
       "      <td>558.5</td>\n",
       "      <td>-14.340491</td>\n",
       "    </tr>\n",
       "    <tr>\n",
       "      <th>1</th>\n",
       "      <td>Balmaceda Ad.</td>\n",
       "      <td>416.3</td>\n",
       "      <td>125.5</td>\n",
       "      <td>-69.853471</td>\n",
       "    </tr>\n",
       "    <tr>\n",
       "      <th>2</th>\n",
       "      <td>C.M.A. Eduardo Frei Montalva, Antártica</td>\n",
       "      <td>851.1</td>\n",
       "      <td>439.8</td>\n",
       "      <td>-48.325696</td>\n",
       "    </tr>\n",
       "    <tr>\n",
       "      <th>3</th>\n",
       "      <td>Carlos Ibañez, Punta Arenas Ap.</td>\n",
       "      <td>300.4</td>\n",
       "      <td>242.2</td>\n",
       "      <td>-19.374168</td>\n",
       "    </tr>\n",
       "    <tr>\n",
       "      <th>4</th>\n",
       "      <td>Carriel Sur, Concepción Ap.</td>\n",
       "      <td>808.8</td>\n",
       "      <td>559.2</td>\n",
       "      <td>-30.860534</td>\n",
       "    </tr>\n",
       "    <tr>\n",
       "      <th>5</th>\n",
       "      <td>Cañal Bajo,  Osorno Ad.</td>\n",
       "      <td>1136.6</td>\n",
       "      <td>742.2</td>\n",
       "      <td>-34.699982</td>\n",
       "    </tr>\n",
       "    <tr>\n",
       "      <th>6</th>\n",
       "      <td>Cerro Moreno  Antofagasta  Ap.</td>\n",
       "      <td>3.2</td>\n",
       "      <td>0.4</td>\n",
       "      <td>-87.500000</td>\n",
       "    </tr>\n",
       "    <tr>\n",
       "      <th>7</th>\n",
       "      <td>Chacalluta, Arica Ap.</td>\n",
       "      <td>7.8</td>\n",
       "      <td>1.5</td>\n",
       "      <td>-80.769231</td>\n",
       "    </tr>\n",
       "    <tr>\n",
       "      <th>8</th>\n",
       "      <td>Chile Chico Ad.</td>\n",
       "      <td>245.1</td>\n",
       "      <td>187.7</td>\n",
       "      <td>-23.419013</td>\n",
       "    </tr>\n",
       "    <tr>\n",
       "      <th>9</th>\n",
       "      <td>Desierto de Atacama, Caldera  Ad.</td>\n",
       "      <td>0.2</td>\n",
       "      <td>4.7</td>\n",
       "      <td>2250.000000</td>\n",
       "    </tr>\n",
       "    <tr>\n",
       "      <th>10</th>\n",
       "      <td>Diego Aracena Iquique Ap.</td>\n",
       "      <td>2.6</td>\n",
       "      <td>2.0</td>\n",
       "      <td>-23.076923</td>\n",
       "    </tr>\n",
       "    <tr>\n",
       "      <th>11</th>\n",
       "      <td>El Loa, Calama Ad.</td>\n",
       "      <td>16.6</td>\n",
       "      <td>7.0</td>\n",
       "      <td>-57.831325</td>\n",
       "    </tr>\n",
       "    <tr>\n",
       "      <th>12</th>\n",
       "      <td>El Tepual  Puerto Montt Ap.</td>\n",
       "      <td>1352.0</td>\n",
       "      <td>919.7</td>\n",
       "      <td>-31.974852</td>\n",
       "    </tr>\n",
       "    <tr>\n",
       "      <th>13</th>\n",
       "      <td>Eulogio Sánchez, Tobalaba Ad.</td>\n",
       "      <td>198.6</td>\n",
       "      <td>155.0</td>\n",
       "      <td>-21.953676</td>\n",
       "    </tr>\n",
       "    <tr>\n",
       "      <th>14</th>\n",
       "      <td>Fuentes Martínez, Porvenir Ad.</td>\n",
       "      <td>470.0</td>\n",
       "      <td>498.5</td>\n",
       "      <td>6.063830</td>\n",
       "    </tr>\n",
       "    <tr>\n",
       "      <th>15</th>\n",
       "      <td>Futaleufú Ad.</td>\n",
       "      <td>1708.0</td>\n",
       "      <td>1291.2</td>\n",
       "      <td>-24.402810</td>\n",
       "    </tr>\n",
       "    <tr>\n",
       "      <th>16</th>\n",
       "      <td>General Bernardo O'Higgins, Chillán Ad.</td>\n",
       "      <td>572.5</td>\n",
       "      <td>552.4</td>\n",
       "      <td>-3.510917</td>\n",
       "    </tr>\n",
       "    <tr>\n",
       "      <th>17</th>\n",
       "      <td>General Freire, Curicó Ad.</td>\n",
       "      <td>438.0</td>\n",
       "      <td>327.2</td>\n",
       "      <td>-25.296804</td>\n",
       "    </tr>\n",
       "    <tr>\n",
       "      <th>18</th>\n",
       "      <td>Guardiamarina Zañartu, Pto Williams Ad.</td>\n",
       "      <td>589.1</td>\n",
       "      <td>624.4</td>\n",
       "      <td>5.992191</td>\n",
       "    </tr>\n",
       "    <tr>\n",
       "      <th>19</th>\n",
       "      <td>Juan Fernández, Estación Meteorológica.</td>\n",
       "      <td>840.7</td>\n",
       "      <td>973.0</td>\n",
       "      <td>15.736886</td>\n",
       "    </tr>\n",
       "    <tr>\n",
       "      <th>20</th>\n",
       "      <td>La Florida, La Serena Ad.</td>\n",
       "      <td>50.0</td>\n",
       "      <td>15.8</td>\n",
       "      <td>-68.400000</td>\n",
       "    </tr>\n",
       "    <tr>\n",
       "      <th>21</th>\n",
       "      <td>Lord Cochrane Ad.</td>\n",
       "      <td>432.2</td>\n",
       "      <td>459.3</td>\n",
       "      <td>6.270245</td>\n",
       "    </tr>\n",
       "    <tr>\n",
       "      <th>22</th>\n",
       "      <td>Maquehue, Temuco Ad.</td>\n",
       "      <td>823.7</td>\n",
       "      <td>714.6</td>\n",
       "      <td>-13.245114</td>\n",
       "    </tr>\n",
       "    <tr>\n",
       "      <th>23</th>\n",
       "      <td>María Dolores, Los Angeles Ad.</td>\n",
       "      <td>754.7</td>\n",
       "      <td>278.4</td>\n",
       "      <td>-63.111170</td>\n",
       "    </tr>\n",
       "    <tr>\n",
       "      <th>24</th>\n",
       "      <td>Mataveri  Isla de Pascua Ap.</td>\n",
       "      <td>991.6</td>\n",
       "      <td>881.4</td>\n",
       "      <td>-11.113352</td>\n",
       "    </tr>\n",
       "    <tr>\n",
       "      <th>25</th>\n",
       "      <td>Pichoy, Valdivia Ad.</td>\n",
       "      <td>1400.9</td>\n",
       "      <td>948.6</td>\n",
       "      <td>-32.286387</td>\n",
       "    </tr>\n",
       "    <tr>\n",
       "      <th>26</th>\n",
       "      <td>Pudahuel Santiago</td>\n",
       "      <td>150.1</td>\n",
       "      <td>75.9</td>\n",
       "      <td>-49.433711</td>\n",
       "    </tr>\n",
       "    <tr>\n",
       "      <th>27</th>\n",
       "      <td>Puerto Aysén Ad.</td>\n",
       "      <td>1740.1</td>\n",
       "      <td>1303.1</td>\n",
       "      <td>-25.113499</td>\n",
       "    </tr>\n",
       "    <tr>\n",
       "      <th>28</th>\n",
       "      <td>Quinta Normal, Santiago</td>\n",
       "      <td>187.7</td>\n",
       "      <td>113.9</td>\n",
       "      <td>-39.318061</td>\n",
       "    </tr>\n",
       "    <tr>\n",
       "      <th>29</th>\n",
       "      <td>Rodelillo, Ad.</td>\n",
       "      <td>398.6</td>\n",
       "      <td>214.9</td>\n",
       "      <td>-46.086302</td>\n",
       "    </tr>\n",
       "    <tr>\n",
       "      <th>30</th>\n",
       "      <td>Santo Domingo, Ad.</td>\n",
       "      <td>283.1</td>\n",
       "      <td>147.3</td>\n",
       "      <td>-47.968916</td>\n",
       "    </tr>\n",
       "    <tr>\n",
       "      <th>31</th>\n",
       "      <td>Teniente Gallardo, Puerto Natales Ad.</td>\n",
       "      <td>747.8</td>\n",
       "      <td>478.7</td>\n",
       "      <td>-35.985558</td>\n",
       "    </tr>\n",
       "    <tr>\n",
       "      <th>32</th>\n",
       "      <td>Teniente Vidal, Coyhaique Ad.</td>\n",
       "      <td>1039.2</td>\n",
       "      <td>719.3</td>\n",
       "      <td>-30.783295</td>\n",
       "    </tr>\n",
       "  </tbody>\n",
       "</table>\n",
       "</div>"
      ],
      "text/plain": [
       "                                    Estación    2020    2021    Variación\n",
       "0                            Alto Palena Ad.   652.0   558.5   -14.340491\n",
       "1                              Balmaceda Ad.   416.3   125.5   -69.853471\n",
       "2   C.M.A. Eduardo Frei Montalva, Antártica    851.1   439.8   -48.325696\n",
       "3            Carlos Ibañez, Punta Arenas Ap.   300.4   242.2   -19.374168\n",
       "4                Carriel Sur, Concepción Ap.   808.8   559.2   -30.860534\n",
       "5                    Cañal Bajo,  Osorno Ad.  1136.6   742.2   -34.699982\n",
       "6             Cerro Moreno  Antofagasta  Ap.     3.2     0.4   -87.500000\n",
       "7                      Chacalluta, Arica Ap.     7.8     1.5   -80.769231\n",
       "8                            Chile Chico Ad.   245.1   187.7   -23.419013\n",
       "9          Desierto de Atacama, Caldera  Ad.     0.2     4.7  2250.000000\n",
       "10                 Diego Aracena Iquique Ap.     2.6     2.0   -23.076923\n",
       "11                        El Loa, Calama Ad.    16.6     7.0   -57.831325\n",
       "12               El Tepual  Puerto Montt Ap.  1352.0   919.7   -31.974852\n",
       "13             Eulogio Sánchez, Tobalaba Ad.   198.6   155.0   -21.953676\n",
       "14            Fuentes Martínez, Porvenir Ad.   470.0   498.5     6.063830\n",
       "15                             Futaleufú Ad.  1708.0  1291.2   -24.402810\n",
       "16   General Bernardo O'Higgins, Chillán Ad.   572.5   552.4    -3.510917\n",
       "17                General Freire, Curicó Ad.   438.0   327.2   -25.296804\n",
       "18   Guardiamarina Zañartu, Pto Williams Ad.   589.1   624.4     5.992191\n",
       "19   Juan Fernández, Estación Meteorológica.   840.7   973.0    15.736886\n",
       "20                 La Florida, La Serena Ad.    50.0    15.8   -68.400000\n",
       "21                         Lord Cochrane Ad.   432.2   459.3     6.270245\n",
       "22                      Maquehue, Temuco Ad.   823.7   714.6   -13.245114\n",
       "23            María Dolores, Los Angeles Ad.   754.7   278.4   -63.111170\n",
       "24              Mataveri  Isla de Pascua Ap.   991.6   881.4   -11.113352\n",
       "25                      Pichoy, Valdivia Ad.  1400.9   948.6   -32.286387\n",
       "26                        Pudahuel Santiago    150.1    75.9   -49.433711\n",
       "27                          Puerto Aysén Ad.  1740.1  1303.1   -25.113499\n",
       "28                   Quinta Normal, Santiago   187.7   113.9   -39.318061\n",
       "29                            Rodelillo, Ad.   398.6   214.9   -46.086302\n",
       "30                        Santo Domingo, Ad.   283.1   147.3   -47.968916\n",
       "31     Teniente Gallardo, Puerto Natales Ad.   747.8   478.7   -35.985558\n",
       "32             Teniente Vidal, Coyhaique Ad.  1039.2   719.3   -30.783295"
      ]
     },
     "execution_count": 25,
     "metadata": {},
     "output_type": "execute_result"
    }
   ],
   "source": [
    "total_prec = pd.DataFrame({'Estación':total_prec_2020['NombreEstacion'], \n",
    "                           '2020': total_prec_2020['SumaDiaria'],\n",
    "                           '2021': total_prec_2021['SumaDiaria']\n",
    "                           })\n",
    "\n",
    "total_prec['Variación'] = ((total_prec['2021'] - total_prec['2020']) / total_prec['2020']) * 100\n",
    "total_prec"
   ]
  },
  {
   "cell_type": "code",
   "execution_count": 29,
   "id": "b32a86c6",
   "metadata": {},
   "outputs": [
    {
     "data": {
      "image/png": "[encoded data removed]",
      "text/plain": [
       "<Figure size 1200x800 with 1 Axes>"
      ]
     },
     "metadata": {},
     "output_type": "display_data"
    }
   ],
   "source": [
    "top5 = total_prec.sort_values(by='Variación', ascending=False).head(5)\n",
    "\n",
    "top5 = top5[-1::-1]\n",
    "\n",
    "top5.plot(kind='barh', color='skyblue', x='Estación', y='Variación', legend=False, figsize=(12,8))\n",
    "plt.title('Top 5 Variaciones Porcentuales de Precipitaciones')\n",
    "plt.xlabel('Variación porcentual')\n",
    "plt.show()"
   ]
  },
  {
   "cell_type": "code",
   "execution_count": 30,
   "id": "99c4a13f",
   "metadata": {},
   "outputs": [
    {
     "data": {
      "image/png": "[encoded data removed]",
      "text/plain": [
       "<Figure size 1200x800 with 1 Axes>"
      ]
     },
     "metadata": {},
     "output_type": "display_data"
    }
   ],
   "source": [
    "top5 = total_prec.sort_values(by='Variación', ascending=False).head(5)\n",
    "\n",
    "top5 = top5[-1::-1]\n",
    "\n",
    "top5[:-1].plot(kind='barh', color='skyblue', x='Estación', y='Variación', legend=False, figsize=(12,8))\n",
    "plt.title('Top 4 Variaciones Porcentuales de Precipitaciones (sin contar Desierto de Atacama)')\n",
    "plt.xlabel('Variación porcentual')\n",
    "plt.show()"
   ]
  },
  {
   "cell_type": "markdown",
   "id": "24926ecd",
   "metadata": {},
   "source": [
    "##### 7. Realice un gráfico que enfatice la distribución de precipitaciones diarias el mes de Junio de 2021, y lo compare con el mes de Junio de 2022."
   ]
  },
  {
   "cell_type": "code",
   "execution_count": null,
   "id": "2ff7c0fc",
   "metadata": {},
   "outputs": [],
   "source": [
    "# Tu código aquí"
   ]
  },
  {
   "cell_type": "markdown",
   "id": "8b927a6a",
   "metadata": {},
   "source": [
    "###### Solución"
   ]
  },
  {
   "cell_type": "code",
   "execution_count": 34,
   "id": "4023b9a1",
   "metadata": {},
   "outputs": [
    {
     "data": {
      "image/png": "[encoded data removed]",
      "text/plain": [
       "<Figure size 1200x800 with 1 Axes>"
      ]
     },
     "metadata": {},
     "output_type": "display_data"
    }
   ],
   "source": [
    "# Sub tablas de Junio\n",
    "junio_2021 = df[pd.to_datetime(df['Fecha']).between('2021-06-01', '2021-06-30')] # Entre fechas\n",
    "junio_2022 = df[pd.to_datetime(df['Fecha']).between('2022-06-01', '2022-06-30')]\n",
    "\n",
    "\n",
    "# Gráficos\n",
    "plt.figure(figsize=(12,8))\n",
    "sns.kdeplot(junio_2021['SumaDiaria'], label='Junio 2021', fill=True) # Gráficos de densidades\n",
    "sns.kdeplot(junio_2022['SumaDiaria'], label='Junio 2022', fill=True)\n",
    "\n",
    "plt.legend()\n",
    "plt.title('Distribución de Precipitaciones - Junio')\n",
    "plt.show()"
   ]
  },
  {
   "cell_type": "markdown",
   "id": "4b6e26d3",
   "metadata": {},
   "source": [
    "##### 8. Calcule las precipitaciones semanales por cada estación de monitoreo en 2021. Luego, repita la visualización del ejercicio 3."
   ]
  },
  {
   "cell_type": "code",
   "execution_count": 35,
   "id": "03d26fda",
   "metadata": {},
   "outputs": [],
   "source": [
    "# Tu código aquí"
   ]
  },
  {
   "cell_type": "markdown",
   "id": "31bef647",
   "metadata": {},
   "source": [
    "###### Solución"
   ]
  },
  {
   "cell_type": "code",
   "execution_count": null,
   "id": "faf87163",
   "metadata": {},
   "outputs": [],
   "source": []
  },
  {
   "cell_type": "markdown",
   "id": "8cd5a161",
   "metadata": {},
   "source": [
    "##### 9. Visualice el promedio de precipitaciones según estación del año (verano, otoño, invierno y primavera) en 2022 y 2023."
   ]
  },
  {
   "cell_type": "code",
   "execution_count": 36,
   "id": "3121eadd",
   "metadata": {},
   "outputs": [],
   "source": [
    "# Tu código aquí"
   ]
  },
  {
   "cell_type": "markdown",
   "id": "9a19060d",
   "metadata": {},
   "source": [
    "###### Solución"
   ]
  },
  {
   "cell_type": "code",
   "execution_count": 37,
   "id": "4fe7a334",
   "metadata": {},
   "outputs": [
    {
     "name": "stderr",
     "output_type": "stream",
     "text": [
      "C:\\Users\\gabri\\AppData\\Local\\Temp\\ipykernel_25392\\480005753.py:9: SettingWithCopyWarning:\n",
      "\n",
      "\n",
      "A value is trying to be set on a copy of a slice from a DataFrame.\n",
      "Try using .loc[row_indexer,col_indexer] = value instead\n",
      "\n",
      "See the caveats in the documentation: https://pandas.pydata.org/pandas-docs/stable/user_guide/indexing.html#returning-a-view-versus-a-copy\n",
      "\n"
     ]
    },
    {
     "data": {
      "text/html": [
       "<div>\n",
       "<style scoped>\n",
       "    .dataframe tbody tr th:only-of-type {\n",
       "        vertical-align: middle;\n",
       "    }\n",
       "\n",
       "    .dataframe tbody tr th {\n",
       "        vertical-align: top;\n",
       "    }\n",
       "\n",
       "    .dataframe thead th {\n",
       "        text-align: right;\n",
       "    }\n",
       "</style>\n",
       "<table border=\"1\" class=\"dataframe\">\n",
       "  <thead>\n",
       "    <tr style=\"text-align: right;\">\n",
       "      <th></th>\n",
       "      <th>CodigoNacional</th>\n",
       "      <th>NombreEstacion</th>\n",
       "      <th>Latitud</th>\n",
       "      <th>Altura</th>\n",
       "      <th>Año</th>\n",
       "      <th>Mes</th>\n",
       "      <th>Dia</th>\n",
       "      <th>SumaDiaria</th>\n",
       "      <th>Fecha</th>\n",
       "      <th>Estacion</th>\n",
       "    </tr>\n",
       "  </thead>\n",
       "  <tbody>\n",
       "    <tr>\n",
       "      <th>8323</th>\n",
       "      <td>400009</td>\n",
       "      <td>Cañal Bajo,  Osorno Ad.</td>\n",
       "      <td>40&amp;deg 36' 52'' S</td>\n",
       "      <td>61</td>\n",
       "      <td>2023</td>\n",
       "      <td>2</td>\n",
       "      <td>1</td>\n",
       "      <td>0.0</td>\n",
       "      <td>2023-02-01</td>\n",
       "      <td>Verano</td>\n",
       "    </tr>\n",
       "    <tr>\n",
       "      <th>7806</th>\n",
       "      <td>180005</td>\n",
       "      <td>Chacalluta, Arica Ap.</td>\n",
       "      <td>18&amp;deg 21' 20'' S</td>\n",
       "      <td>50</td>\n",
       "      <td>2023</td>\n",
       "      <td>2</td>\n",
       "      <td>16</td>\n",
       "      <td>0.0</td>\n",
       "      <td>2023-02-16</td>\n",
       "      <td>Verano</td>\n",
       "    </tr>\n",
       "    <tr>\n",
       "      <th>30178</th>\n",
       "      <td>360019</td>\n",
       "      <td>Carriel Sur, Concepción Ap.</td>\n",
       "      <td>36&amp;deg 46' 50'' S</td>\n",
       "      <td>13</td>\n",
       "      <td>2020</td>\n",
       "      <td>7</td>\n",
       "      <td>25</td>\n",
       "      <td>17.0</td>\n",
       "      <td>2020-07-25</td>\n",
       "      <td>Invierno</td>\n",
       "    </tr>\n",
       "    <tr>\n",
       "      <th>52123</th>\n",
       "      <td>340031</td>\n",
       "      <td>General Freire, Curic Ad.</td>\n",
       "      <td>34&amp;deg 58' 10'' S</td>\n",
       "      <td>229</td>\n",
       "      <td>2022</td>\n",
       "      <td>11</td>\n",
       "      <td>11</td>\n",
       "      <td>0.0</td>\n",
       "      <td>2022-11-11</td>\n",
       "      <td>Primavera</td>\n",
       "    </tr>\n",
       "    <tr>\n",
       "      <th>49742</th>\n",
       "      <td>550001</td>\n",
       "      <td>Guardiamarina Zañartu, Pto Williams Ad.</td>\n",
       "      <td>54&amp;deg 55' 54'' S</td>\n",
       "      <td>12</td>\n",
       "      <td>2024</td>\n",
       "      <td>10</td>\n",
       "      <td>19</td>\n",
       "      <td>0.0</td>\n",
       "      <td>2024-10-19</td>\n",
       "      <td>Primavera</td>\n",
       "    </tr>\n",
       "    <tr>\n",
       "      <th>24253</th>\n",
       "      <td>370033</td>\n",
       "      <td>María Dolores, Los Angeles Ad.</td>\n",
       "      <td>37&amp;deg 23' 49'' S</td>\n",
       "      <td>118</td>\n",
       "      <td>2024</td>\n",
       "      <td>5</td>\n",
       "      <td>7</td>\n",
       "      <td>0.0</td>\n",
       "      <td>2024-05-07</td>\n",
       "      <td>Otoño</td>\n",
       "    </tr>\n",
       "    <tr>\n",
       "      <th>55828</th>\n",
       "      <td>270001</td>\n",
       "      <td>Mataveri  Isla de Pascua Ap.</td>\n",
       "      <td>27&amp;deg 9' 32'' S</td>\n",
       "      <td>44</td>\n",
       "      <td>2021</td>\n",
       "      <td>12</td>\n",
       "      <td>12</td>\n",
       "      <td>0.0</td>\n",
       "      <td>2021-12-12</td>\n",
       "      <td>Verano</td>\n",
       "    </tr>\n",
       "    <tr>\n",
       "      <th>42275</th>\n",
       "      <td>380013</td>\n",
       "      <td>Maquehue, Temuco Ad.</td>\n",
       "      <td>38&amp;deg 46' 4'' S</td>\n",
       "      <td>86</td>\n",
       "      <td>2022</td>\n",
       "      <td>9</td>\n",
       "      <td>12</td>\n",
       "      <td>0.0</td>\n",
       "      <td>2022-09-12</td>\n",
       "      <td>Primavera</td>\n",
       "    </tr>\n",
       "    <tr>\n",
       "      <th>13065</th>\n",
       "      <td>330030</td>\n",
       "      <td>Santo Domingo, Ad.</td>\n",
       "      <td>33&amp;deg 39' 22'' S</td>\n",
       "      <td>77</td>\n",
       "      <td>2023</td>\n",
       "      <td>3</td>\n",
       "      <td>2</td>\n",
       "      <td>0.0</td>\n",
       "      <td>2023-03-02</td>\n",
       "      <td>Otoño</td>\n",
       "    </tr>\n",
       "    <tr>\n",
       "      <th>25021</th>\n",
       "      <td>330019</td>\n",
       "      <td>Eulogio Sánchez, Tobalaba Ad.</td>\n",
       "      <td>33&amp;deg 27' 19'' S</td>\n",
       "      <td>650</td>\n",
       "      <td>2020</td>\n",
       "      <td>6</td>\n",
       "      <td>8</td>\n",
       "      <td>0.0</td>\n",
       "      <td>2020-06-08</td>\n",
       "      <td>Invierno</td>\n",
       "    </tr>\n",
       "  </tbody>\n",
       "</table>\n",
       "</div>"
      ],
      "text/plain": [
       "      CodigoNacional                           NombreEstacion  \\\n",
       "8323          400009                  Cañal Bajo,  Osorno Ad.   \n",
       "7806          180005                    Chacalluta, Arica Ap.   \n",
       "30178         360019              Carriel Sur, Concepción Ap.   \n",
       "52123         340031                General Freire, Curic Ad.   \n",
       "49742         550001  Guardiamarina Zañartu, Pto Williams Ad.   \n",
       "24253         370033           María Dolores, Los Angeles Ad.   \n",
       "55828         270001             Mataveri  Isla de Pascua Ap.   \n",
       "42275         380013                     Maquehue, Temuco Ad.   \n",
       "13065         330030                       Santo Domingo, Ad.   \n",
       "25021         330019            Eulogio Sánchez, Tobalaba Ad.   \n",
       "\n",
       "                 Latitud Altura   Año  Mes  Dia  SumaDiaria      Fecha  \\\n",
       "8323   40&deg 36' 52'' S     61  2023    2    1         0.0 2023-02-01   \n",
       "7806   18&deg 21' 20'' S     50  2023    2   16         0.0 2023-02-16   \n",
       "30178  36&deg 46' 50'' S     13  2020    7   25        17.0 2020-07-25   \n",
       "52123  34&deg 58' 10'' S    229  2022   11   11         0.0 2022-11-11   \n",
       "49742  54&deg 55' 54'' S     12  2024   10   19         0.0 2024-10-19   \n",
       "24253  37&deg 23' 49'' S    118  2024    5    7         0.0 2024-05-07   \n",
       "55828   27&deg 9' 32'' S     44  2021   12   12         0.0 2021-12-12   \n",
       "42275   38&deg 46' 4'' S     86  2022    9   12         0.0 2022-09-12   \n",
       "13065  33&deg 39' 22'' S     77  2023    3    2         0.0 2023-03-02   \n",
       "25021  33&deg 27' 19'' S    650  2020    6    8         0.0 2020-06-08   \n",
       "\n",
       "        Estacion  \n",
       "8323      Verano  \n",
       "7806      Verano  \n",
       "30178   Invierno  \n",
       "52123  Primavera  \n",
       "49742  Primavera  \n",
       "24253      Otoño  \n",
       "55828     Verano  \n",
       "42275  Primavera  \n",
       "13065      Otoño  \n",
       "25021   Invierno  "
      ]
     },
     "execution_count": 37,
     "metadata": {},
     "output_type": "execute_result"
    }
   ],
   "source": [
    "# Función para mapear estaciones\n",
    "def estacion_año(mes):\n",
    "\tif mes in [12, 1, 2]: return 'Verano'\n",
    "\telif mes in [3, 4, 5]: return 'Otoño'\n",
    "\telif mes in [6, 7, 8]: return 'Invierno'\n",
    "\telse: return 'Primavera'\n",
    "\n",
    "# Se añade la columna estación\n",
    "df['Estacion'] = df['Mes'].apply(estacion_año)\n",
    "df.sample(10)"
   ]
  },
  {
   "cell_type": "code",
   "execution_count": 44,
   "id": "7f098d07",
   "metadata": {},
   "outputs": [
    {
     "data": {
      "image/png": "[encoded data removed]",
      "text/plain": [
       "<Figure size 600x400 with 1 Axes>"
      ]
     },
     "metadata": {},
     "output_type": "display_data"
    }
   ],
   "source": [
    "# Promedios por estación\n",
    "promedio_2022 = df[df['Año'] == 2022].groupby('Estacion')['SumaDiaria'].mean()\n",
    "promedio_2023 = df[df['Año'] == 2023].groupby('Estacion')['SumaDiaria'].mean()\n",
    "promedios = pd.DataFrame({'2022' : promedio_2022,\n",
    "                          '2023' : promedio_2023})\n",
    "\n",
    "# Gráficos\n",
    "promedios.plot(kind='bar', stacked=True, figsize=(6,4))\n",
    "plt.title('Promedio Precipitaciones por Estación del Año (2022-2023)')\n",
    "plt.xticks(rotation=0)\n",
    "plt.show()\n"
   ]
  },
  {
   "cell_type": "code",
   "execution_count": 45,
   "id": "c01b8cbc",
   "metadata": {},
   "outputs": [
    {
     "data": {
      "image/png": "[encoded data removed]",
      "text/plain": [
       "<Figure size 600x400 with 1 Axes>"
      ]
     },
     "metadata": {},
     "output_type": "display_data"
    }
   ],
   "source": [
    "# Pasamos a tidy\n",
    "tidy_promedios = promedios.reset_index().melt(id_vars='Estacion',var_name='Año', value_name='Precipitaciones')\n",
    "\n",
    "# Gráfico\n",
    "plt.figure(figsize=(6,4))\n",
    "\n",
    "# Gráfico de barras mejorado\n",
    "sns.barplot(data=tidy_promedios,\n",
    "\t\t\tx='Estacion',\n",
    "\t\t\ty='Precipitaciones',\n",
    "            # color='black',\n",
    "            # alpha=0.5,\n",
    "            hue='Año',\n",
    "            palette=['#4A90E2','#50E3C2'], # Colores en hexadecimal\n",
    "            legend=True,\n",
    "\t\t\t)\n",
    "\n",
    "\n",
    "plt.show()"
   ]
  },
  {
   "cell_type": "markdown",
   "id": "2ae2423c",
   "metadata": {},
   "source": [
    "##### 10. ¿Qué visualizaciones permiten comparar las precipitaciones de 2 años de calendario?"
   ]
  },
  {
   "cell_type": "code",
   "execution_count": null,
   "id": "3116d1f0",
   "metadata": {},
   "outputs": [],
   "source": [
    "# Tu código aquí"
   ]
  },
  {
   "cell_type": "markdown",
   "id": "1d63aeee",
   "metadata": {},
   "source": [
    "###### Solución"
   ]
  },
  {
   "cell_type": "code",
   "execution_count": null,
   "id": "5263464c",
   "metadata": {},
   "outputs": [],
   "source": []
  },
  {
   "cell_type": "markdown",
   "id": "8cf8a72f",
   "metadata": {},
   "source": [
    "##### 11. ¿Cuál fue la primavera más lluviosa en el periodo en estudio? Realice una visualización que sustente su respuesta."
   ]
  },
  {
   "cell_type": "code",
   "execution_count": null,
   "id": "c32751ee",
   "metadata": {},
   "outputs": [],
   "source": [
    "# Tu código aquí"
   ]
  },
  {
   "cell_type": "markdown",
   "id": "275c94d3",
   "metadata": {},
   "source": [
    "###### Solución"
   ]
  },
  {
   "cell_type": "code",
   "execution_count": 46,
   "id": "252eb8c9",
   "metadata": {},
   "outputs": [
    {
     "data": {
      "image/png": "[encoded data removed]",
      "text/plain": [
       "<Figure size 600x400 with 1 Axes>"
      ]
     },
     "metadata": {},
     "output_type": "display_data"
    }
   ],
   "source": [
    "primaveras = df[df['Estacion'] == 'Primavera'].groupby('Año').agg({'SumaDiaria':'sum'})\n",
    "\n",
    "primaveras.plot(kind='bar', color='#4A90E2', legend=False, figsize=(6,4))\n",
    "# Agregar otros elementos\n",
    "\n",
    "plt.xticks(rotation=45)\n",
    "plt.show()"
   ]
  },
  {
   "cell_type": "markdown",
   "id": "99984170",
   "metadata": {},
   "source": [
    "##### 12. Calcule la mediana y media de precipitaciones en agosto de cada estación de monitoreo."
   ]
  },
  {
   "cell_type": "code",
   "execution_count": null,
   "id": "78d15a83",
   "metadata": {},
   "outputs": [],
   "source": [
    "# Tu código aquí"
   ]
  },
  {
   "cell_type": "markdown",
   "id": "6dd32696",
   "metadata": {},
   "source": [
    "###### Solución"
   ]
  },
  {
   "cell_type": "code",
   "execution_count": null,
   "id": "37f2bb84",
   "metadata": {},
   "outputs": [],
   "source": []
  },
  {
   "cell_type": "markdown",
   "id": "1c28b55a",
   "metadata": {},
   "source": [
    "##### 13. Realice un Scatter Plot, que represente en el eje X el total de precipitaciones en 2022 y en el eje Y el total de precipitaciones en 2021. Luego, calcule la correlación de Pearson de ambas variables y visualice dicho valor en la esquina superior izquierda."
   ]
  },
  {
   "cell_type": "code",
   "execution_count": null,
   "id": "60803a85",
   "metadata": {},
   "outputs": [],
   "source": [
    "# Tu código aquí"
   ]
  },
  {
   "cell_type": "markdown",
   "id": "34bff30a",
   "metadata": {},
   "source": [
    "###### Solución"
   ]
  },
  {
   "cell_type": "code",
   "execution_count": 73,
   "id": "6ada0461",
   "metadata": {},
   "outputs": [
    {
     "data": {
      "text/html": [
       "<div>\n",
       "<style scoped>\n",
       "    .dataframe tbody tr th:only-of-type {\n",
       "        vertical-align: middle;\n",
       "    }\n",
       "\n",
       "    .dataframe tbody tr th {\n",
       "        vertical-align: top;\n",
       "    }\n",
       "\n",
       "    .dataframe thead th {\n",
       "        text-align: right;\n",
       "    }\n",
       "</style>\n",
       "<table border=\"1\" class=\"dataframe\">\n",
       "  <thead>\n",
       "    <tr style=\"text-align: right;\">\n",
       "      <th></th>\n",
       "      <th>NombreEstacion</th>\n",
       "      <th>2021</th>\n",
       "      <th>2022</th>\n",
       "    </tr>\n",
       "  </thead>\n",
       "  <tbody>\n",
       "    <tr>\n",
       "      <th>0</th>\n",
       "      <td>Alto Palena Ad.</td>\n",
       "      <td>558.5</td>\n",
       "      <td>704.4</td>\n",
       "    </tr>\n",
       "    <tr>\n",
       "      <th>1</th>\n",
       "      <td>Balmaceda Ad.</td>\n",
       "      <td>125.5</td>\n",
       "      <td>485.5</td>\n",
       "    </tr>\n",
       "    <tr>\n",
       "      <th>3</th>\n",
       "      <td>C.M.A. Eduardo Frei Montalva, Antártica</td>\n",
       "      <td>439.8</td>\n",
       "      <td>230.3</td>\n",
       "    </tr>\n",
       "    <tr>\n",
       "      <th>6</th>\n",
       "      <td>Carlos Ibañez, Punta Arenas Ap.</td>\n",
       "      <td>242.2</td>\n",
       "      <td>110.2</td>\n",
       "    </tr>\n",
       "    <tr>\n",
       "      <th>8</th>\n",
       "      <td>Carriel Sur, Concepción Ap.</td>\n",
       "      <td>559.2</td>\n",
       "      <td>427.2</td>\n",
       "    </tr>\n",
       "    <tr>\n",
       "      <th>9</th>\n",
       "      <td>Cañal Bajo,  Osorno Ad.</td>\n",
       "      <td>742.2</td>\n",
       "      <td>537.6</td>\n",
       "    </tr>\n",
       "    <tr>\n",
       "      <th>10</th>\n",
       "      <td>Cerro Moreno  Antofagasta  Ap.</td>\n",
       "      <td>0.4</td>\n",
       "      <td>0.2</td>\n",
       "    </tr>\n",
       "    <tr>\n",
       "      <th>11</th>\n",
       "      <td>Chacalluta, Arica Ap.</td>\n",
       "      <td>1.5</td>\n",
       "      <td>0.9</td>\n",
       "    </tr>\n",
       "    <tr>\n",
       "      <th>12</th>\n",
       "      <td>Chile Chico Ad.</td>\n",
       "      <td>187.7</td>\n",
       "      <td>165.7</td>\n",
       "    </tr>\n",
       "    <tr>\n",
       "      <th>13</th>\n",
       "      <td>Desierto de Atacama, Caldera  Ad.</td>\n",
       "      <td>4.7</td>\n",
       "      <td>37.3</td>\n",
       "    </tr>\n",
       "    <tr>\n",
       "      <th>14</th>\n",
       "      <td>Diego Aracena Iquique Ap.</td>\n",
       "      <td>2.0</td>\n",
       "      <td>0.0</td>\n",
       "    </tr>\n",
       "    <tr>\n",
       "      <th>15</th>\n",
       "      <td>El Loa, Calama Ad.</td>\n",
       "      <td>7.0</td>\n",
       "      <td>1.2</td>\n",
       "    </tr>\n",
       "    <tr>\n",
       "      <th>16</th>\n",
       "      <td>El Tepual  Puerto Montt Ap.</td>\n",
       "      <td>919.7</td>\n",
       "      <td>1266.0</td>\n",
       "    </tr>\n",
       "    <tr>\n",
       "      <th>18</th>\n",
       "      <td>Eulogio Sánchez, Tobalaba Ad.</td>\n",
       "      <td>155.0</td>\n",
       "      <td>66.0</td>\n",
       "    </tr>\n",
       "    <tr>\n",
       "      <th>20</th>\n",
       "      <td>Fuentes Martínez, Porvenir Ad.</td>\n",
       "      <td>498.5</td>\n",
       "      <td>260.4</td>\n",
       "    </tr>\n",
       "    <tr>\n",
       "      <th>22</th>\n",
       "      <td>Futaleufú Ad.</td>\n",
       "      <td>1291.2</td>\n",
       "      <td>1069.6</td>\n",
       "    </tr>\n",
       "    <tr>\n",
       "      <th>24</th>\n",
       "      <td>General Bernardo O'Higgins, Chillán Ad.</td>\n",
       "      <td>552.4</td>\n",
       "      <td>314.6</td>\n",
       "    </tr>\n",
       "    <tr>\n",
       "      <th>26</th>\n",
       "      <td>General Freire, Curicó Ad.</td>\n",
       "      <td>327.2</td>\n",
       "      <td>154.1</td>\n",
       "    </tr>\n",
       "    <tr>\n",
       "      <th>28</th>\n",
       "      <td>Guardiamarina Zañartu, Pto Williams Ad.</td>\n",
       "      <td>624.4</td>\n",
       "      <td>405.0</td>\n",
       "    </tr>\n",
       "    <tr>\n",
       "      <th>30</th>\n",
       "      <td>Juan Fernández, Estación Meteorológica.</td>\n",
       "      <td>973.0</td>\n",
       "      <td>439.1</td>\n",
       "    </tr>\n",
       "    <tr>\n",
       "      <th>31</th>\n",
       "      <td>La Florida, La Serena Ad.</td>\n",
       "      <td>15.8</td>\n",
       "      <td>87.7</td>\n",
       "    </tr>\n",
       "    <tr>\n",
       "      <th>32</th>\n",
       "      <td>Lord Cochrane Ad.</td>\n",
       "      <td>459.3</td>\n",
       "      <td>553.7</td>\n",
       "    </tr>\n",
       "    <tr>\n",
       "      <th>33</th>\n",
       "      <td>Maquehue, Temuco Ad.</td>\n",
       "      <td>714.6</td>\n",
       "      <td>1027.4</td>\n",
       "    </tr>\n",
       "    <tr>\n",
       "      <th>35</th>\n",
       "      <td>María Dolores, Los Angeles Ad.</td>\n",
       "      <td>278.4</td>\n",
       "      <td>406.8</td>\n",
       "    </tr>\n",
       "    <tr>\n",
       "      <th>36</th>\n",
       "      <td>Mataveri  Isla de Pascua Ap.</td>\n",
       "      <td>881.4</td>\n",
       "      <td>595.0</td>\n",
       "    </tr>\n",
       "    <tr>\n",
       "      <th>37</th>\n",
       "      <td>Pichoy, Valdivia Ad.</td>\n",
       "      <td>948.6</td>\n",
       "      <td>1359.0</td>\n",
       "    </tr>\n",
       "    <tr>\n",
       "      <th>38</th>\n",
       "      <td>Pudahuel Santiago</td>\n",
       "      <td>75.9</td>\n",
       "      <td>116.6</td>\n",
       "    </tr>\n",
       "    <tr>\n",
       "      <th>40</th>\n",
       "      <td>Puerto Aysén Ad.</td>\n",
       "      <td>1303.1</td>\n",
       "      <td>831.9</td>\n",
       "    </tr>\n",
       "    <tr>\n",
       "      <th>41</th>\n",
       "      <td>Quinta Normal, Santiago</td>\n",
       "      <td>113.9</td>\n",
       "      <td>156.1</td>\n",
       "    </tr>\n",
       "    <tr>\n",
       "      <th>42</th>\n",
       "      <td>Rodelillo, Ad.</td>\n",
       "      <td>214.9</td>\n",
       "      <td>342.5</td>\n",
       "    </tr>\n",
       "    <tr>\n",
       "      <th>43</th>\n",
       "      <td>Santo Domingo, Ad.</td>\n",
       "      <td>147.3</td>\n",
       "      <td>234.7</td>\n",
       "    </tr>\n",
       "    <tr>\n",
       "      <th>44</th>\n",
       "      <td>Teniente Gallardo, Puerto Natales Ad.</td>\n",
       "      <td>478.7</td>\n",
       "      <td>522.2</td>\n",
       "    </tr>\n",
       "    <tr>\n",
       "      <th>45</th>\n",
       "      <td>Teniente Vidal, Coyhaique Ad.</td>\n",
       "      <td>719.3</td>\n",
       "      <td>1027.0</td>\n",
       "    </tr>\n",
       "  </tbody>\n",
       "</table>\n",
       "</div>"
      ],
      "text/plain": [
       "                              NombreEstacion    2021    2022\n",
       "0                            Alto Palena Ad.   558.5   704.4\n",
       "1                              Balmaceda Ad.   125.5   485.5\n",
       "3   C.M.A. Eduardo Frei Montalva, Antártica    439.8   230.3\n",
       "6            Carlos Ibañez, Punta Arenas Ap.   242.2   110.2\n",
       "8                Carriel Sur, Concepción Ap.   559.2   427.2\n",
       "9                    Cañal Bajo,  Osorno Ad.   742.2   537.6\n",
       "10            Cerro Moreno  Antofagasta  Ap.     0.4     0.2\n",
       "11                     Chacalluta, Arica Ap.     1.5     0.9\n",
       "12                           Chile Chico Ad.   187.7   165.7\n",
       "13         Desierto de Atacama, Caldera  Ad.     4.7    37.3\n",
       "14                 Diego Aracena Iquique Ap.     2.0     0.0\n",
       "15                        El Loa, Calama Ad.     7.0     1.2\n",
       "16               El Tepual  Puerto Montt Ap.   919.7  1266.0\n",
       "18             Eulogio Sánchez, Tobalaba Ad.   155.0    66.0\n",
       "20            Fuentes Martínez, Porvenir Ad.   498.5   260.4\n",
       "22                             Futaleufú Ad.  1291.2  1069.6\n",
       "24   General Bernardo O'Higgins, Chillán Ad.   552.4   314.6\n",
       "26                General Freire, Curicó Ad.   327.2   154.1\n",
       "28   Guardiamarina Zañartu, Pto Williams Ad.   624.4   405.0\n",
       "30   Juan Fernández, Estación Meteorológica.   973.0   439.1\n",
       "31                 La Florida, La Serena Ad.    15.8    87.7\n",
       "32                         Lord Cochrane Ad.   459.3   553.7\n",
       "33                      Maquehue, Temuco Ad.   714.6  1027.4\n",
       "35            María Dolores, Los Angeles Ad.   278.4   406.8\n",
       "36              Mataveri  Isla de Pascua Ap.   881.4   595.0\n",
       "37                      Pichoy, Valdivia Ad.   948.6  1359.0\n",
       "38                        Pudahuel Santiago     75.9   116.6\n",
       "40                          Puerto Aysén Ad.  1303.1   831.9\n",
       "41                   Quinta Normal, Santiago   113.9   156.1\n",
       "42                            Rodelillo, Ad.   214.9   342.5\n",
       "43                        Santo Domingo, Ad.   147.3   234.7\n",
       "44     Teniente Gallardo, Puerto Natales Ad.   478.7   522.2\n",
       "45             Teniente Vidal, Coyhaique Ad.   719.3  1027.0"
      ]
     },
     "execution_count": 73,
     "metadata": {},
     "output_type": "execute_result"
    }
   ],
   "source": [
    "total_prec_2021 = df[df['Año'] == 2021].groupby('NombreEstacion').agg({'SumaDiaria':'sum'}).reset_index()\n",
    "total_prec_2022 = df[df['Año'] == 2022].groupby('NombreEstacion').agg({'SumaDiaria':'sum'}).reset_index()\n",
    "total_prec_2021 = total_prec_2021.rename(columns={'SumaDiaria':'2021'})\n",
    "total_prec_2022 = total_prec_2022.rename(columns={'SumaDiaria':'2022'})\n",
    "total_prec_2021_2022 = pd.merge(total_prec_2021, total_prec_2022, on='NombreEstacion', how='outer').dropna()\n",
    "total_prec_2021_2022"
   ]
  },
  {
   "cell_type": "code",
   "execution_count": 74,
   "id": "14f86007",
   "metadata": {},
   "outputs": [],
   "source": [
    "# pip install scipy"
   ]
  },
  {
   "cell_type": "code",
   "execution_count": 82,
   "id": "d1080fc8",
   "metadata": {},
   "outputs": [
    {
     "data": {
      "image/png": "[encoded data removed]",
      "text/plain": [
       "<Figure size 800x600 with 1 Axes>"
      ]
     },
     "metadata": {},
     "output_type": "display_data"
    }
   ],
   "source": [
    "import scipy.stats as stats\n",
    "\n",
    "plt.figure(figsize=(8,6))\n",
    "plt.scatter(total_prec_2021_2022['2021'], total_prec_2021_2022['2022'])\n",
    "corr, _ = stats.pearsonr(total_prec_2021_2022['2021'], total_prec_2021_2022['2022'])\n",
    "plt.text(0.05, 0.92, f'Corr Pearson: {corr:.2f}', transform=plt.gca().transAxes, fontsize=11)\n",
    "plt.xlabel('Total Precipitaciones 2022')\n",
    "plt.ylabel('Total Precipitaciones 2021')\n",
    "plt.title('Scatter Plot Precipitaciones 2022 vs 2021')\n",
    "plt.show()"
   ]
  },
  {
   "cell_type": "markdown",
   "id": "968e4a80",
   "metadata": {},
   "source": [
    "##### 14. Realice un histograma que compare las precipitaciones anuales. El eje X debe corresponder a cada día del año."
   ]
  },
  {
   "cell_type": "code",
   "execution_count": null,
   "id": "367c2066",
   "metadata": {},
   "outputs": [],
   "source": [
    "# Tu código aquí"
   ]
  },
  {
   "cell_type": "markdown",
   "id": "5baae9e9",
   "metadata": {},
   "source": [
    "###### Solución"
   ]
  },
  {
   "cell_type": "code",
   "execution_count": null,
   "id": "bf2fc471",
   "metadata": {},
   "outputs": [],
   "source": []
  }
 ],
 "metadata": {
  "kernelspec": {
   "display_name": ".venv",
   "language": "python",
   "name": "python3"
  },
  "language_info": {
   "codemirror_mode": {
    "name": "ipython",
    "version": 3
   },
   "file_extension": ".py",
   "mimetype": "text/x-python",
   "name": "python",
   "nbconvert_exporter": "python",
   "pygments_lexer": "ipython3",
   "version": "3.13.3"
  }
 },
 "nbformat": 4,
 "nbformat_minor": 5
}
