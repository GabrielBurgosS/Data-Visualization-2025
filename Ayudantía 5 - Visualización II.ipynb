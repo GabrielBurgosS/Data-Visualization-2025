{
 "cells": [
  {
   "cell_type": "markdown",
   "id": "7a42bee3",
   "metadata": {},
   "source": [
    "# **Ayudantía 5 - Visualización de Datos II**\n",
    "## Data Visualization\n",
    "**Ayudante:** Gabriel Burgos  \n",
    "**Fecha:** Abril 2025  \n",
    " _Universidad de Concepción_\n",
    "\n",
    "---\n",
    "__Este workshop se enfoca en la creación de visualizaciones relevantes utilizando datos de precipitaciones en Chile.__"
   ]
  },
  {
   "cell_type": "markdown",
   "id": "343b294a",
   "metadata": {},
   "source": [
    "## __📝 Conceptos Relevantes__"
   ]
  },
  {
   "cell_type": "code",
   "execution_count": null,
   "id": "d5262513",
   "metadata": {},
   "outputs": [],
   "source": [
    "# Bibliotecas necesarias\n",
    "# pip install matplotlib seaborn plotly"
   ]
  },
  {
   "cell_type": "code",
   "execution_count": null,
   "id": "cab6c0c3",
   "metadata": {},
   "outputs": [],
   "source": []
  },
  {
   "cell_type": "markdown",
   "id": "975dd374",
   "metadata": {},
   "source": [
    "# 💻 __Workshop 4__\n",
    "\n",
    "### [Datos sobre precipitaciones](https://datos.gob.cl/dataset/?q=precipitaciones%20OR%20res_name:precipitaciones%20OR%20res_description:precipitaciones)"
   ]
  },
  {
   "cell_type": "markdown",
   "id": "bfee36fe",
   "metadata": {},
   "source": [
    "##### 1. Descargue los archivos necesarios para realizar análisis de precipitaciones para los años 2020 a 2024. Dichos archivos se entregan semestralmente. Realice este pipeline en pandas y polars."
   ]
  },
  {
   "cell_type": "code",
   "execution_count": null,
   "id": "c2bad6d9",
   "metadata": {},
   "outputs": [],
   "source": [
    "# Tu código aquí"
   ]
  },
  {
   "cell_type": "markdown",
   "id": "ee0c01cf",
   "metadata": {},
   "source": [
    "##### 2. Genere un único dataframe, que concatene todos los conjuntos de datos."
   ]
  },
  {
   "cell_type": "code",
   "execution_count": null,
   "id": "87f9195d",
   "metadata": {},
   "outputs": [],
   "source": [
    "# Tu código aquí"
   ]
  },
  {
   "cell_type": "markdown",
   "id": "6b1dc23f",
   "metadata": {},
   "source": [
    "##### 3. Visualice la evolución diaria de precipitaciones en 2021 de todas las estaciones y destaque con un color diferente la estación El Tepual."
   ]
  },
  {
   "cell_type": "code",
   "execution_count": null,
   "id": "a2170583",
   "metadata": {},
   "outputs": [],
   "source": [
    "# Tu código aquí"
   ]
  },
  {
   "cell_type": "markdown",
   "id": "eb25faac",
   "metadata": {},
   "source": [
    "##### 4. Realice un heatmap que visualice las precipitaciones, donde el eje X representa el mes del año, y el eje Y cada estación, ordenadas de Norte a Sur para el primer semestre de 2022."
   ]
  },
  {
   "cell_type": "code",
   "execution_count": null,
   "id": "1754611d",
   "metadata": {},
   "outputs": [],
   "source": [
    "# Tu código aquí"
   ]
  },
  {
   "cell_type": "markdown",
   "id": "1820ce1a",
   "metadata": {},
   "source": [
    "##### 5. Visualice un Treemap que muestre el total de precipitaciones, divididos por estación de monitoreo en 2020. ¿Hay diferencias significativas con respecto a 2021?"
   ]
  },
  {
   "cell_type": "code",
   "execution_count": null,
   "id": "f53e1d6c",
   "metadata": {},
   "outputs": [],
   "source": [
    "# Tu código aquí"
   ]
  },
  {
   "cell_type": "markdown",
   "id": "17aca65c",
   "metadata": {},
   "source": [
    "##### 6. Calcule la variación porcentual de cada estación de monitoreo con respecto a su año previo. Luego, proponga un barplot que represente las 5 principales variaciones porcentajes."
   ]
  },
  {
   "cell_type": "code",
   "execution_count": null,
   "id": "5fa247f2",
   "metadata": {},
   "outputs": [],
   "source": [
    "# Tu código aquí"
   ]
  },
  {
   "cell_type": "markdown",
   "id": "24926ecd",
   "metadata": {},
   "source": [
    "##### 7. Realice un gráfico que enfatice la distribución de precipitaciones diarias el mes de Junio de 2021, y lo compare con el mes de Junio de 2022."
   ]
  },
  {
   "cell_type": "code",
   "execution_count": null,
   "id": "2ff7c0fc",
   "metadata": {},
   "outputs": [],
   "source": [
    "# Tu código aquí"
   ]
  },
  {
   "cell_type": "markdown",
   "id": "4b6e26d3",
   "metadata": {},
   "source": [
    "##### 8. Calcule las precipitaciones semanales por cada estación de monitoreo en 2021. Luego, repita la visualización del ejercicio 3."
   ]
  },
  {
   "cell_type": "code",
   "execution_count": null,
   "id": "03d26fda",
   "metadata": {},
   "outputs": [],
   "source": [
    "# Tu código aquí"
   ]
  },
  {
   "cell_type": "markdown",
   "id": "8cd5a161",
   "metadata": {},
   "source": [
    "##### 9. Visualice el promedio de precipitaciones según estación del año (verano, otoño, invierno y primavera) en 2022 y 2023."
   ]
  },
  {
   "cell_type": "code",
   "execution_count": null,
   "id": "3121eadd",
   "metadata": {},
   "outputs": [],
   "source": [
    "# Tu código aquí"
   ]
  },
  {
   "cell_type": "markdown",
   "id": "2ae2423c",
   "metadata": {},
   "source": [
    "##### 10. ¿Qué visualizaciones permiten comparar las precipitaciones de 2 años de calendario?"
   ]
  },
  {
   "cell_type": "code",
   "execution_count": null,
   "id": "3116d1f0",
   "metadata": {},
   "outputs": [],
   "source": [
    "# Tu código aquí"
   ]
  },
  {
   "cell_type": "markdown",
   "id": "8cf8a72f",
   "metadata": {},
   "source": [
    "##### 11. ¿Cuál fue la primavera más lluviosa en el periodo en estudio? Realice una visualización que sustente su respuesta."
   ]
  },
  {
   "cell_type": "code",
   "execution_count": null,
   "id": "c32751ee",
   "metadata": {},
   "outputs": [],
   "source": [
    "# Tu código aquí"
   ]
  },
  {
   "cell_type": "markdown",
   "id": "99984170",
   "metadata": {},
   "source": [
    "##### 12. Calcule la mediana y media de precipitaciones en agosto de cada estación de monitoreo."
   ]
  },
  {
   "cell_type": "code",
   "execution_count": null,
   "id": "78d15a83",
   "metadata": {},
   "outputs": [],
   "source": [
    "# Tu código aquí"
   ]
  },
  {
   "cell_type": "markdown",
   "id": "1c28b55a",
   "metadata": {},
   "source": [
    "##### 13. Realice un Scatter Plot, que represente en el eje X el total de precipitaciones en 2022 y en el eje Y el total de precipitaciones en 2021. Luego, calcule la correlación de Pearson de ambas variables y visualice dicho valor en la esquina superior izquierda."
   ]
  },
  {
   "cell_type": "code",
   "execution_count": null,
   "id": "60803a85",
   "metadata": {},
   "outputs": [],
   "source": [
    "# Tu código aquí"
   ]
  },
  {
   "cell_type": "markdown",
   "id": "968e4a80",
   "metadata": {},
   "source": [
    "##### 14. Realice un histograma que compare las precipitaciones anuales. El eje X debe corresponder a cada día del año."
   ]
  },
  {
   "cell_type": "code",
   "execution_count": null,
   "id": "367c2066",
   "metadata": {},
   "outputs": [],
   "source": [
    "# Tu código aquí"
   ]
  }
 ],
 "metadata": {
  "language_info": {
   "name": "python"
  }
 },
 "nbformat": 4,
 "nbformat_minor": 5
}
