{
 "cells": [
  {
   "cell_type": "markdown",
   "metadata": {},
   "source": [
    "# Programación Intermedia Utilizando Python\n",
    "__Autor__: Gabriel Burgos S."
   ]
  },
  {
   "cell_type": "markdown",
   "metadata": {},
   "source": [
    "__En este _jupyter notebook_ se repasaran conceptos de complejidad intermedia para comprender trabajos avanzados que utilizan _python_.__\n",
    "\n",
    "[*] ___Nota__: Este es un repaso muy resumido. Para un aprendizaje más integral recomiendo complementar este material con ejercicio y estudio personal más extensivo y en mayor profundidad._"
   ]
  },
  {
   "cell_type": "markdown",
   "metadata": {},
   "source": [
    "## Contenidos:\n",
    "- __Capítulo 1 - Objetos Contenedores:__\n",
    "\t- 1.1- Listas (`list`)\n",
    "\t- 1.2- Tuplas (`tuple`)\n",
    "\t- 1.3- Conjuntos (`set`)\n",
    "\t- 1.3- Diccionarios (`dict`)\n",
    "- __Capítulo 2 - Clases y Objetos en Python:__\n",
    "\t- 2.1- Definición de una Clase\n",
    "\t- 2.2- Métodos en Clases\n",
    "- __Capítulo 3 - Bibliotecas Externas:__\n",
    "\t- 3.1- Instalando bibliotecas\n",
    "\t- 3.2- Importando y utilizando bibliotecas"
   ]
  },
  {
   "cell_type": "markdown",
   "metadata": {},
   "source": [
    "## __Capítulo 1 - Objetos Contenedores__"
   ]
  },
  {
   "cell_type": "markdown",
   "metadata": {
    "vscode": {
     "languageId": "plaintext"
    }
   },
   "source": [
    "Los **objetos contenedores** son estructuras que almacenan múltiples elementos en una sola variable. Se diferencian en cómo manejan el orden, la mutabilidad y la unicidad de los datos."
   ]
  },
  {
   "cell_type": "markdown",
   "metadata": {
    "vscode": {
     "languageId": "plaintext"
    }
   },
   "source": [
    "### **1.1- Listas (`list`)**  "
   ]
  },
  {
   "cell_type": "markdown",
   "metadata": {},
   "source": [
    "- **Ordenadas** (mantienen el orden de inserción).  \n",
    "- **Mutables** (se pueden modificar).  \n",
    "- **Permiten duplicados**.  \n",
    "- Se accede a los elementos por índice.  \n",
    "- Útiles para colecciones dinámicas de datos.  "
   ]
  },
  {
   "cell_type": "code",
   "execution_count": 1,
   "metadata": {},
   "outputs": [
    {
     "name": "stdout",
     "output_type": "stream",
     "text": [
      "[10, 2, 3, 4, 5]\n"
     ]
    }
   ],
   "source": [
    "lista = [1, 2, 3, 4]  \n",
    "lista.append(5)  # Agregar un elemento  \n",
    "lista[0] = 10  # Modificar un elemento  \n",
    "print(lista)  # [10, 2, 3, 4, 5]"
   ]
  },
  {
   "cell_type": "code",
   "execution_count": 2,
   "metadata": {},
   "outputs": [
    {
     "name": "stdout",
     "output_type": "stream",
     "text": [
      "10\n",
      "2\n",
      "3\n",
      "4\n",
      "5\n"
     ]
    }
   ],
   "source": [
    "for elemento in lista:\n",
    "    print(elemento)"
   ]
  },
  {
   "cell_type": "markdown",
   "metadata": {},
   "source": [
    "### **1.2- Tuplas (`tuple`)**  "
   ]
  },
  {
   "cell_type": "markdown",
   "metadata": {},
   "source": [
    "- **Ordenadas** y **inmutables** (no se pueden modificar después de su creación).  \n",
    "- **Permiten duplicados**.  \n",
    "- Útiles para datos fijos que no deben cambiar.  "
   ]
  },
  {
   "cell_type": "code",
   "execution_count": 6,
   "metadata": {},
   "outputs": [
    {
     "name": "stdout",
     "output_type": "stream",
     "text": [
      "1\n"
     ]
    }
   ],
   "source": [
    "tupla = (1, 2, 3, 4)  \n",
    "print(tupla[0])  # Acceder al primer elemento  "
   ]
  },
  {
   "cell_type": "code",
   "execution_count": 7,
   "metadata": {},
   "outputs": [
    {
     "ename": "TypeError",
     "evalue": "'tuple' object does not support item assignment",
     "output_type": "error",
     "traceback": [
      "\u001b[1;31m---------------------------------------------------------------------------\u001b[0m",
      "\u001b[1;31mTypeError\u001b[0m                                 Traceback (most recent call last)",
      "Cell \u001b[1;32mIn[7], line 1\u001b[0m\n\u001b[1;32m----> 1\u001b[0m \u001b[43mtupla\u001b[49m\u001b[43m[\u001b[49m\u001b[38;5;241;43m0\u001b[39;49m\u001b[43m]\u001b[49m \u001b[38;5;241m=\u001b[39m \u001b[38;5;241m10\u001b[39m  \u001b[38;5;66;03m# Esto genera un error porque las tuplas son inmutables\u001b[39;00m\n",
      "\u001b[1;31mTypeError\u001b[0m: 'tuple' object does not support item assignment"
     ]
    }
   ],
   "source": [
    "tupla[0] = 10  # Esto genera un error porque las tuplas son inmutables"
   ]
  },
  {
   "cell_type": "markdown",
   "metadata": {},
   "source": [
    "### **1.3- Conjuntos (`set`)**  "
   ]
  },
  {
   "cell_type": "markdown",
   "metadata": {},
   "source": [
    "- **No ordenados** (el orden de los elementos no está garantizado).  \n",
    "- **No permiten duplicados**.  \n",
    "- **Mutables**, pero los elementos deben ser inmutables.  \n",
    "- Útiles para eliminar duplicados y realizar operaciones de conjuntos.  "
   ]
  },
  {
   "cell_type": "code",
   "execution_count": 9,
   "metadata": {},
   "outputs": [
    {
     "name": "stdout",
     "output_type": "stream",
     "text": [
      "{1, 2, 3, 4, 5}\n"
     ]
    }
   ],
   "source": [
    "conjunto = {1, 2, 3, 3, 4}  \n",
    "conjunto.add(5)  # Agregar un elemento  \n",
    "print(conjunto)  # {1, 2, 3, 4, 5} (sin duplicados)"
   ]
  },
  {
   "cell_type": "markdown",
   "metadata": {},
   "source": [
    "### **1.4- Diccionarios (`dict`)**  "
   ]
  },
  {
   "cell_type": "markdown",
   "metadata": {},
   "source": [
    "- **Colección de pares clave-valor**.  \n",
    "- **No permiten claves duplicadas** (pero sí valores repetidos).  \n",
    "- **Mutables** y eficientes para búsqueda de datos.  \n",
    "- Útiles cuando se necesita acceso rápido por clave.  "
   ]
  },
  {
   "cell_type": "code",
   "execution_count": 10,
   "metadata": {},
   "outputs": [
    {
     "name": "stdout",
     "output_type": "stream",
     "text": [
      "1\n"
     ]
    }
   ],
   "source": [
    "diccionario = {\"a\": 1, \"b\": 2}  \n",
    "diccionario[\"c\"] = 3  # Agregar una nueva clave-valor  \n",
    "print(diccionario[\"a\"])  # 1 (acceso rápido por clave)"
   ]
  },
  {
   "cell_type": "markdown",
   "metadata": {
    "vscode": {
     "languageId": "plaintext"
    }
   },
   "source": [
    "### **Resumen Comparativo**\n",
    "| Tipo        | Ordenado | Mutable  | Permite Duplicados | Acceso |\n",
    "|------------|---------|---------|------------------|--------|\n",
    "| **Lista** (`list`) | ✅ Sí | ✅ Sí | ✅ Sí | Índice |\n",
    "| **Tupla** (`tuple`) | ✅ Sí | ❌ No | ✅ Sí | Índice |\n",
    "| **Conjunto** (`set`) | ❌ No | ✅ Sí | ❌ No | No aplica |\n",
    "| **Diccionario** (`dict`) | ✅ Sí (desde Python 3.7) | ✅ Sí | ❌ No (en claves) | Clave |"
   ]
  },
  {
   "cell_type": "markdown",
   "metadata": {},
   "source": [
    "## __Capítulo 2 - Clases y Objetos en Python__"
   ]
  },
  {
   "cell_type": "markdown",
   "metadata": {},
   "source": [
    "En Python, las **clases** son plantillas para crear objetos. Los **objetos** son instancias de una clase, con atributos (datos) y métodos (funciones).  "
   ]
  },
  {
   "cell_type": "markdown",
   "metadata": {},
   "source": [
    "### **2.1- Definición de una Clase**"
   ]
  },
  {
   "cell_type": "markdown",
   "metadata": {},
   "source": [
    "- Se define con `class NombreClase:`  \n",
    "- Se usa el **método especial `__init__`** para inicializar atributos.  \n",
    "- Los atributos son variables dentro del objeto.  "
   ]
  },
  {
   "cell_type": "code",
   "execution_count": 11,
   "metadata": {},
   "outputs": [],
   "source": [
    "class Persona:\n",
    "    def __init__(self, nombre, edad):\n",
    "        self.nombre = nombre  # Atributo de instancia\n",
    "        self.edad = edad\n",
    "    \n",
    "    def saludar(self):\n",
    "        return f\"Hola, soy {self.nombre} y tengo {self.edad} años.\""
   ]
  },
  {
   "cell_type": "code",
   "execution_count": 13,
   "metadata": {},
   "outputs": [
    {
     "data": {
      "text/plain": [
       "'Hola, soy Juan y tengo 30 años.'"
      ]
     },
     "execution_count": 13,
     "metadata": {},
     "output_type": "execute_result"
    }
   ],
   "source": [
    "p1 = Persona(\"Juan\", 30)\n",
    "p1.saludar()"
   ]
  },
  {
   "cell_type": "markdown",
   "metadata": {},
   "source": [
    "### **2.2- Métodos en Clases**  "
   ]
  },
  {
   "cell_type": "markdown",
   "metadata": {},
   "source": [
    "Los métodos son funciones dentro de una clase que operan sobre sus atributos."
   ]
  },
  {
   "cell_type": "code",
   "execution_count": 15,
   "metadata": {},
   "outputs": [],
   "source": [
    "class Coche:\n",
    "    def __init__(self, marca, modelo):\n",
    "        self.marca = marca\n",
    "        self.modelo = modelo\n",
    "        self.encendido = False  # Estado inicial\n",
    "\n",
    "    def encender(self):\n",
    "        self.encendido = True\n",
    "        return f\"{self.marca} {self.modelo} encendido.\"\n",
    "\n",
    "    def apagar(self):\n",
    "        self.encendido = False\n",
    "        return f\"{self.marca} {self.modelo} apagado.\""
   ]
  },
  {
   "cell_type": "markdown",
   "metadata": {},
   "source": [
    "**Uso del objeto:**"
   ]
  },
  {
   "cell_type": "code",
   "execution_count": 16,
   "metadata": {},
   "outputs": [
    {
     "name": "stdout",
     "output_type": "stream",
     "text": [
      "Toyota Corolla encendido.\n"
     ]
    }
   ],
   "source": [
    "mi_auto = Coche(\"Toyota\", \"Corolla\")\n",
    "print(mi_auto.encender())  # \"Toyota Corolla encendido.\""
   ]
  },
  {
   "cell_type": "code",
   "execution_count": 17,
   "metadata": {},
   "outputs": [
    {
     "data": {
      "text/plain": [
       "True"
      ]
     },
     "execution_count": 17,
     "metadata": {},
     "output_type": "execute_result"
    }
   ],
   "source": [
    "mi_auto.encendido"
   ]
  },
  {
   "cell_type": "markdown",
   "metadata": {},
   "source": [
    "## __Capítulo 3 - Bibliotecas Externas__"
   ]
  },
  {
   "cell_type": "markdown",
   "metadata": {},
   "source": [
    "Python tiene la particularidad de poseer la capacidad de importar una gran variedad de _bibliotecas_ las cuales añaden una diversa posibilidad de nuevos objetos, funcionalidades, métodos, etc."
   ]
  },
  {
   "cell_type": "markdown",
   "metadata": {},
   "source": [
    "Para poder utilizarse se deben:\n",
    "1. __Instalar__\n",
    "2. __Importar__\n",
    "3. __Utilizar en el código__"
   ]
  },
  {
   "cell_type": "markdown",
   "metadata": {},
   "source": [
    "### __3.1- Instalando bibliotecas__"
   ]
  },
  {
   "cell_type": "markdown",
   "metadata": {},
   "source": [
    "Para instalar una biblioteca se utiliza ```pip``` de python, tal que:\n",
    "\n",
    "```python\n",
    "pip install numpy\n",
    "```"
   ]
  },
  {
   "cell_type": "markdown",
   "metadata": {},
   "source": [
    "Ese comando puede ser ejecutado tanto en un bloque como en la terminal.\n",
    "\n",
    "Una vez instalado una vez, puede ser utilizado en cualquier momento _siempre que se trabaje en el mismo __ambiente__ (concepto no revisado en este apunte)_."
   ]
  },
  {
   "cell_type": "markdown",
   "metadata": {},
   "source": [
    "### __3.2- Importando y utilizando bibliotecas__"
   ]
  },
  {
   "cell_type": "markdown",
   "metadata": {},
   "source": [
    "Para importar bibliotecas puede hacerse de diversas maneras:\n",
    "- Importar la biblioteca completa (con o sin abreviación)\n",
    "- Importar algún módulo de la biblioteca\n",
    "- Importar funciones específicas"
   ]
  },
  {
   "cell_type": "code",
   "execution_count": 18,
   "metadata": {},
   "outputs": [
    {
     "data": {
      "text/plain": [
       "array([1, 2, 3])"
      ]
     },
     "execution_count": 18,
     "metadata": {},
     "output_type": "execute_result"
    }
   ],
   "source": [
    "# Importando la biblioteca numpy\n",
    "import numpy\n",
    "\n",
    "numpy.array([1, 2, 3])"
   ]
  },
  {
   "cell_type": "code",
   "execution_count": 19,
   "metadata": {},
   "outputs": [
    {
     "data": {
      "text/plain": [
       "array([1, 2, 3])"
      ]
     },
     "execution_count": 19,
     "metadata": {},
     "output_type": "execute_result"
    }
   ],
   "source": [
    "# Importando con abreviamiento\n",
    "import numpy as np\n",
    "\n",
    "np.array([1, 2, 3])"
   ]
  },
  {
   "cell_type": "code",
   "execution_count": 20,
   "metadata": {},
   "outputs": [
    {
     "data": {
      "text/plain": [
       "array({1, 2, 3}, dtype=object)"
      ]
     },
     "execution_count": 20,
     "metadata": {},
     "output_type": "execute_result"
    }
   ],
   "source": [
    "# Importando sólo el objeto\n",
    "from numpy import array\n",
    "\n",
    "array({1,2,3})"
   ]
  }
 ],
 "metadata": {
  "kernelspec": {
   "display_name": "Python 3",
   "language": "python",
   "name": "python3"
  },
  "language_info": {
   "codemirror_mode": {
    "name": "ipython",
    "version": 3
   },
   "file_extension": ".py",
   "mimetype": "text/x-python",
   "name": "python",
   "nbconvert_exporter": "python",
   "pygments_lexer": "ipython3",
   "version": "3.13.2"
  }
 },
 "nbformat": 4,
 "nbformat_minor": 2
}
